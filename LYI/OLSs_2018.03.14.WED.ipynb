{
 "cells": [
  {
   "cell_type": "code",
   "execution_count": 1,
   "metadata": {},
   "outputs": [
    {
     "name": "stderr",
     "output_type": "stream",
     "text": [
      "C:\\Users\\LG\\Anaconda3\\lib\\site-packages\\statsmodels\\compat\\pandas.py:56: FutureWarning: The pandas.core.datetools module is deprecated and will be removed in a future version. Please use the pandas.tseries module instead.\n",
      "  from pandas.core import datetools\n"
     ]
    }
   ],
   "source": [
    "import numpy as np\n",
    "import pandas as pd\n",
    "import datetime as dt\n",
    "import scipy as sp\n",
    "import statsmodels.api as sm\n",
    "import statsmodels.formula.api as smf\n",
    "import statsmodels.stats.api as sms \n",
    "import sklearn as sk\n",
    "\n",
    "from patsy import dmatrix\n",
    "\n",
    "import matplotlib.pyplot as plt\n",
    "\n",
    "import seaborn as sns\n",
    "sns.set()\n",
    "\n",
    "%matplotlib inline\n",
    "%config InlineBackend.figure_formats = {'png', 'retina'}\n",
    "\n",
    "from matplotlib import font_manager, rc\n",
    "plt.rcParams['axes.unicode_minus'] = False\n",
    "\n",
    "import platform\n",
    "if platform.system() == 'Darwin':\n",
    "    rc('font', family='AppleGothic')\n",
    "elif platform.system() == 'Windows':\n",
    "    path = \"c:/Windows/Fonts/malgun.ttf\"\n",
    "    font_name = font_manager.FontProperties(fname=path).get_name()\n",
    "    rc('font', family=font_name)"
   ]
  },
  {
   "cell_type": "code",
   "execution_count": 2,
   "metadata": {
    "collapsed": true
   },
   "outputs": [],
   "source": [
    "train = pd.read_csv(\"train_trans.csv\", parse_dates=[\"pickup_datetime\", \"dropoff_datetime\"])\n",
    "test = pd.read_csv(\"test_trans.csv\", parse_dates=[\"pickup_datetime\"])"
   ]
  },
  {
   "cell_type": "code",
   "execution_count": 3,
   "metadata": {},
   "outputs": [
    {
     "data": {
      "text/html": [
       "<div>\n",
       "<style>\n",
       "    .dataframe thead tr:only-child th {\n",
       "        text-align: right;\n",
       "    }\n",
       "\n",
       "    .dataframe thead th {\n",
       "        text-align: left;\n",
       "    }\n",
       "\n",
       "    .dataframe tbody tr th {\n",
       "        vertical-align: top;\n",
       "    }\n",
       "</style>\n",
       "<table border=\"1\" class=\"dataframe\">\n",
       "  <thead>\n",
       "    <tr style=\"text-align: right;\">\n",
       "      <th></th>\n",
       "      <th>id</th>\n",
       "      <th>vendor_id</th>\n",
       "      <th>pickup_datetime</th>\n",
       "      <th>dropoff_datetime</th>\n",
       "      <th>passenger_count</th>\n",
       "      <th>pickup_longitude</th>\n",
       "      <th>pickup_latitude</th>\n",
       "      <th>dropoff_longitude</th>\n",
       "      <th>dropoff_latitude</th>\n",
       "      <th>store_and_fwd_flag</th>\n",
       "      <th>trip_duration</th>\n",
       "      <th>pickup_month</th>\n",
       "      <th>pickup_weekday</th>\n",
       "      <th>pickup_hour</th>\n",
       "      <th>working_day</th>\n",
       "      <th>distance</th>\n",
       "      <th>bearing</th>\n",
       "      <th>avg_speed_km_h</th>\n",
       "    </tr>\n",
       "  </thead>\n",
       "  <tbody>\n",
       "    <tr>\n",
       "      <th>1458639</th>\n",
       "      <td>id2376096</td>\n",
       "      <td>2</td>\n",
       "      <td>2016-04-08 13:31:04</td>\n",
       "      <td>2016-04-08 13:44:02</td>\n",
       "      <td>4</td>\n",
       "      <td>-73.982201</td>\n",
       "      <td>40.745522</td>\n",
       "      <td>-73.994911</td>\n",
       "      <td>40.740170</td>\n",
       "      <td>0</td>\n",
       "      <td>778</td>\n",
       "      <td>4</td>\n",
       "      <td>4</td>\n",
       "      <td>13</td>\n",
       "      <td>1</td>\n",
       "      <td>1.225080</td>\n",
       "      <td>240.940662</td>\n",
       "      <td>5.668751</td>\n",
       "    </tr>\n",
       "    <tr>\n",
       "      <th>1458640</th>\n",
       "      <td>id1049543</td>\n",
       "      <td>1</td>\n",
       "      <td>2016-01-10 07:35:15</td>\n",
       "      <td>2016-01-10 07:46:10</td>\n",
       "      <td>1</td>\n",
       "      <td>-74.000946</td>\n",
       "      <td>40.747379</td>\n",
       "      <td>-73.970184</td>\n",
       "      <td>40.796547</td>\n",
       "      <td>0</td>\n",
       "      <td>655</td>\n",
       "      <td>1</td>\n",
       "      <td>6</td>\n",
       "      <td>7</td>\n",
       "      <td>0</td>\n",
       "      <td>6.049836</td>\n",
       "      <td>25.342196</td>\n",
       "      <td>33.251005</td>\n",
       "    </tr>\n",
       "    <tr>\n",
       "      <th>1458641</th>\n",
       "      <td>id2304944</td>\n",
       "      <td>2</td>\n",
       "      <td>2016-04-22 06:57:41</td>\n",
       "      <td>2016-04-22 07:10:25</td>\n",
       "      <td>1</td>\n",
       "      <td>-73.959129</td>\n",
       "      <td>40.768799</td>\n",
       "      <td>-74.004433</td>\n",
       "      <td>40.707371</td>\n",
       "      <td>0</td>\n",
       "      <td>764</td>\n",
       "      <td>4</td>\n",
       "      <td>4</td>\n",
       "      <td>6</td>\n",
       "      <td>1</td>\n",
       "      <td>7.824606</td>\n",
       "      <td>209.211508</td>\n",
       "      <td>36.869870</td>\n",
       "    </tr>\n",
       "    <tr>\n",
       "      <th>1458642</th>\n",
       "      <td>id2714485</td>\n",
       "      <td>1</td>\n",
       "      <td>2016-01-05 15:56:26</td>\n",
       "      <td>2016-01-05 16:02:39</td>\n",
       "      <td>1</td>\n",
       "      <td>-73.982079</td>\n",
       "      <td>40.749062</td>\n",
       "      <td>-73.974632</td>\n",
       "      <td>40.757107</td>\n",
       "      <td>0</td>\n",
       "      <td>373</td>\n",
       "      <td>1</td>\n",
       "      <td>1</td>\n",
       "      <td>15</td>\n",
       "      <td>1</td>\n",
       "      <td>1.092564</td>\n",
       "      <td>35.033294</td>\n",
       "      <td>10.544853</td>\n",
       "    </tr>\n",
       "    <tr>\n",
       "      <th>1458643</th>\n",
       "      <td>id1209952</td>\n",
       "      <td>1</td>\n",
       "      <td>2016-04-05 14:44:25</td>\n",
       "      <td>2016-04-05 14:47:43</td>\n",
       "      <td>1</td>\n",
       "      <td>-73.979538</td>\n",
       "      <td>40.781750</td>\n",
       "      <td>-73.972809</td>\n",
       "      <td>40.790585</td>\n",
       "      <td>0</td>\n",
       "      <td>198</td>\n",
       "      <td>4</td>\n",
       "      <td>1</td>\n",
       "      <td>14</td>\n",
       "      <td>1</td>\n",
       "      <td>1.134042</td>\n",
       "      <td>29.969486</td>\n",
       "      <td>20.618945</td>\n",
       "    </tr>\n",
       "  </tbody>\n",
       "</table>\n",
       "</div>"
      ],
      "text/plain": [
       "                id  vendor_id     pickup_datetime    dropoff_datetime  \\\n",
       "1458639  id2376096          2 2016-04-08 13:31:04 2016-04-08 13:44:02   \n",
       "1458640  id1049543          1 2016-01-10 07:35:15 2016-01-10 07:46:10   \n",
       "1458641  id2304944          2 2016-04-22 06:57:41 2016-04-22 07:10:25   \n",
       "1458642  id2714485          1 2016-01-05 15:56:26 2016-01-05 16:02:39   \n",
       "1458643  id1209952          1 2016-04-05 14:44:25 2016-04-05 14:47:43   \n",
       "\n",
       "         passenger_count  pickup_longitude  pickup_latitude  \\\n",
       "1458639                4        -73.982201        40.745522   \n",
       "1458640                1        -74.000946        40.747379   \n",
       "1458641                1        -73.959129        40.768799   \n",
       "1458642                1        -73.982079        40.749062   \n",
       "1458643                1        -73.979538        40.781750   \n",
       "\n",
       "         dropoff_longitude  dropoff_latitude  store_and_fwd_flag  \\\n",
       "1458639         -73.994911         40.740170                   0   \n",
       "1458640         -73.970184         40.796547                   0   \n",
       "1458641         -74.004433         40.707371                   0   \n",
       "1458642         -73.974632         40.757107                   0   \n",
       "1458643         -73.972809         40.790585                   0   \n",
       "\n",
       "         trip_duration  pickup_month  pickup_weekday  pickup_hour  \\\n",
       "1458639            778             4               4           13   \n",
       "1458640            655             1               6            7   \n",
       "1458641            764             4               4            6   \n",
       "1458642            373             1               1           15   \n",
       "1458643            198             4               1           14   \n",
       "\n",
       "         working_day  distance     bearing  avg_speed_km_h  \n",
       "1458639            1  1.225080  240.940662        5.668751  \n",
       "1458640            0  6.049836   25.342196       33.251005  \n",
       "1458641            1  7.824606  209.211508       36.869870  \n",
       "1458642            1  1.092564   35.033294       10.544853  \n",
       "1458643            1  1.134042   29.969486       20.618945  "
      ]
     },
     "execution_count": 3,
     "metadata": {},
     "output_type": "execute_result"
    }
   ],
   "source": [
    "train.tail()"
   ]
  },
  {
   "cell_type": "markdown",
   "metadata": {},
   "source": [
    "3-17. 모든변수 - C(store_and_fwd_flag) & 실수값 스케일링 & pickup_hour 2차 다항회귀 & distance 2, 3, 4차 다항회귀 & speed 추가 & speed 3차 다항회귀 & C(vendor_id) 제거 & pickup_hour 3차 제거 & distance 4차 제거"
   ]
  },
  {
   "cell_type": "code",
   "execution_count": 4,
   "metadata": {},
   "outputs": [
    {
     "name": "stdout",
     "output_type": "stream",
     "text": [
      "                               OLS Regression Results                              \n",
      "===================================================================================\n",
      "Dep. Variable:     np.log1p(trip_duration)   R-squared:                       0.584\n",
      "Model:                                 OLS   Adj. R-squared:                  0.584\n",
      "Method:                      Least Squares   F-statistic:                 1.205e+05\n",
      "Date:                     Wed, 14 Mar 2018   Prob (F-statistic):               0.00\n",
      "Time:                             13:57:13   Log-Likelihood:            -1.0965e+06\n",
      "No. Observations:                  1458644   AIC:                         2.193e+06\n",
      "Df Residuals:                      1458626   BIC:                         2.193e+06\n",
      "Df Model:                               17                                         \n",
      "Covariance Type:                 nonrobust                                         \n",
      "=================================================================================================\n",
      "                                    coef    std err          t      P>|t|      [0.025      0.975]\n",
      "-------------------------------------------------------------------------------------------------\n",
      "C(working_day)[0]                 6.4366      0.001   5522.146      0.000       6.434       6.439\n",
      "C(working_day)[1]                 6.4791      0.001   1.07e+04      0.000       6.478       6.480\n",
      "scale(passenger_count)            0.0080      0.000     18.867      0.000       0.007       0.009\n",
      "scale(distance)                   0.8383      0.001   1351.300      0.000       0.837       0.840\n",
      "scale(I(distance ** 2))          -0.7079      0.002   -287.488      0.000      -0.713      -0.703\n",
      "scale(I(distance ** 3))           0.3875      0.002    182.689      0.000       0.383       0.392\n",
      "scale(bearing)                   -0.0312      0.001    -61.241      0.000      -0.032      -0.030\n",
      "scale(pickup_month)               0.0136      0.000     31.965      0.000       0.013       0.014\n",
      "scale(pickup_weekday)             0.0125      0.001     18.264      0.000       0.011       0.014\n",
      "scale(pickup_hour)                0.0124      0.002      7.291      0.000       0.009       0.016\n",
      "scale(I(pickup_hour ** 2))       -0.0067      0.002     -3.959      0.000      -0.010      -0.003\n",
      "scale(pickup_latitude)            0.0493      0.001     89.817      0.000       0.048       0.050\n",
      "scale(pickup_longitude)          -0.0469      0.001    -56.888      0.000      -0.048      -0.045\n",
      "scale(dropoff_latitude)          -0.0107      0.001    -20.589      0.000      -0.012      -0.010\n",
      "scale(dropoff_longitude)         -0.0046      0.001     -5.677      0.000      -0.006      -0.003\n",
      "scale(avg_speed_km_h)            -0.7216      0.001   -756.942      0.000      -0.723      -0.720\n",
      "scale(I(avg_speed_km_h ** 2))     1.4621      0.004    358.054      0.000       1.454       1.470\n",
      "scale(I(avg_speed_km_h ** 3))    -0.9108      0.004   -255.888      0.000      -0.918      -0.904\n",
      "==============================================================================\n",
      "Omnibus:                   639323.006   Durbin-Watson:                   2.000\n",
      "Prob(Omnibus):                  0.000   Jarque-Bera (JB):       2320120867.888\n",
      "Skew:                          -0.020   Prob(JB):                         0.00\n",
      "Kurtosis:                     198.383   Cond. No.                         25.1\n",
      "==============================================================================\n",
      "\n",
      "Warnings:\n",
      "[1] Standard Errors assume that the covariance matrix of the errors is correctly specified.\n"
     ]
    }
   ],
   "source": [
    "model17 = sm.OLS.from_formula(\"np.log1p(trip_duration) ~  C(working_day) + scale(passenger_count) + scale(distance) + scale(I(distance**2)) + scale(I(distance**3)) + scale(bearing) + scale(pickup_month) + scale(pickup_weekday) + scale(pickup_hour) + scale(I(pickup_hour**2)) + scale(pickup_latitude) + scale(pickup_longitude) + scale(dropoff_latitude) + scale(dropoff_longitude) + scale(avg_speed_km_h) + scale(I(avg_speed_km_h**2)) + scale(I(avg_speed_km_h**3)) - 1\", train)\n",
    "result17 = model17.fit()\n",
    "print(result17.summary())"
   ]
  },
  {
   "cell_type": "code",
   "execution_count": 5,
   "metadata": {},
   "outputs": [
    {
     "data": {
      "image/png": "[encoded data removed]",
      "text/plain": [
       "<matplotlib.figure.Figure at 0x14e98ef7588>"
      ]
     },
     "metadata": {
      "image/png": {
       "height": 279,
       "width": 386
      }
     },
     "output_type": "display_data"
    }
   ],
   "source": [
    "sp.stats.probplot(result17.resid, plot=plt)\n",
    "plt.show()"
   ]
  },
  {
   "cell_type": "markdown",
   "metadata": {},
   "source": [
    "3-21. 모든변수 - C(store_and_fwd_flag) & 실수값 스케일링 & pickup_hour 2차 다항회귀 & distance 2, 3, 4차 다항회귀 & speed 추가 & speed 3차 다항회귀 & C(vendor_id) 제거 & pickup_hour 3차 제거 & distance 4차 제거 & pickup_longitude 2차 다항회귀"
   ]
  },
  {
   "cell_type": "code",
   "execution_count": 6,
   "metadata": {},
   "outputs": [
    {
     "name": "stdout",
     "output_type": "stream",
     "text": [
      "                               OLS Regression Results                              \n",
      "===================================================================================\n",
      "Dep. Variable:     np.log1p(trip_duration)   R-squared:                       0.591\n",
      "Model:                                 OLS   Adj. R-squared:                  0.591\n",
      "Method:                      Least Squares   F-statistic:                 1.173e+05\n",
      "Date:                     Wed, 14 Mar 2018   Prob (F-statistic):               0.00\n",
      "Time:                             14:01:30   Log-Likelihood:            -1.0837e+06\n",
      "No. Observations:                  1458644   AIC:                         2.167e+06\n",
      "Df Residuals:                      1458625   BIC:                         2.168e+06\n",
      "Df Model:                               18                                         \n",
      "Covariance Type:                 nonrobust                                         \n",
      "===================================================================================================\n",
      "                                      coef    std err          t      P>|t|      [0.025      0.975]\n",
      "---------------------------------------------------------------------------------------------------\n",
      "C(working_day)[0]                   6.4348      0.001   5568.917      0.000       6.432       6.437\n",
      "C(working_day)[1]                   6.4798      0.001   1.08e+04      0.000       6.479       6.481\n",
      "scale(passenger_count)              0.0080      0.000     18.935      0.000       0.007       0.009\n",
      "scale(distance)                     0.8700      0.001   1347.102      0.000       0.869       0.871\n",
      "scale(I(distance ** 2))            -0.7705      0.002   -311.736      0.000      -0.775      -0.766\n",
      "scale(I(distance ** 3))             0.4359      0.002    205.244      0.000       0.432       0.440\n",
      "scale(bearing)                     -0.0246      0.001    -48.578      0.000      -0.026      -0.024\n",
      "scale(pickup_month)                 0.0136      0.000     32.296      0.000       0.013       0.014\n",
      "scale(pickup_weekday)               0.0121      0.001     17.869      0.000       0.011       0.013\n",
      "scale(pickup_hour)                  0.0246      0.002     14.595      0.000       0.021       0.028\n",
      "scale(I(pickup_hour ** 2))         -0.0192      0.002    -11.465      0.000      -0.022      -0.016\n",
      "scale(pickup_latitude)              0.0423      0.001     77.555      0.000       0.041       0.043\n",
      "scale(pickup_longitude)            -0.6256      0.004   -169.411      0.000      -0.633      -0.618\n",
      "scale(I(pickup_longitude ** 2))    -0.6162      0.004   -160.697      0.000      -0.624      -0.609\n",
      "scale(dropoff_latitude)            -0.0043      0.001     -8.299      0.000      -0.005      -0.003\n",
      "scale(dropoff_longitude)           -0.0573      0.001    -66.298      0.000      -0.059      -0.056\n",
      "scale(avg_speed_km_h)              -0.7164      0.001   -757.624      0.000      -0.718      -0.715\n",
      "scale(I(avg_speed_km_h ** 2))       1.4707      0.004    363.304      0.000       1.463       1.479\n",
      "scale(I(avg_speed_km_h ** 3))      -0.9200      0.004   -260.715      0.000      -0.927      -0.913\n",
      "==============================================================================\n",
      "Omnibus:                   800537.612   Durbin-Watson:                   1.999\n",
      "Prob(Omnibus):                  0.000   Jarque-Bera (JB):       2578414890.584\n",
      "Skew:                           0.936   Prob(JB):                         0.00\n",
      "Kurtosis:                     208.963   Cond. No.                         25.3\n",
      "==============================================================================\n",
      "\n",
      "Warnings:\n",
      "[1] Standard Errors assume that the covariance matrix of the errors is correctly specified.\n"
     ]
    }
   ],
   "source": [
    "model21 = sm.OLS.from_formula(\"np.log1p(trip_duration) ~  C(working_day) + scale(passenger_count) + scale(distance) + scale(I(distance**2)) + scale(I(distance**3)) + scale(bearing) + scale(pickup_month) + scale(pickup_weekday) + scale(pickup_hour) + scale(I(pickup_hour**2)) + scale(pickup_latitude) + scale(pickup_longitude) + scale(I(pickup_longitude**2)) + scale(dropoff_latitude) + scale(dropoff_longitude) + scale(avg_speed_km_h) + scale(I(avg_speed_km_h**2)) + scale(I(avg_speed_km_h**3)) - 1\", train)\n",
    "result21 = model21.fit()\n",
    "print(result21.summary())"
   ]
  },
  {
   "cell_type": "code",
   "execution_count": 7,
   "metadata": {},
   "outputs": [
    {
     "data": {
      "image/png": "[encoded data removed]",
      "text/plain": [
       "<matplotlib.figure.Figure at 0x14e8626b9e8>"
      ]
     },
     "metadata": {
      "image/png": {
       "height": 279,
       "width": 386
      }
     },
     "output_type": "display_data"
    }
   ],
   "source": [
    "sp.stats.probplot(result21.resid, plot=plt)\n",
    "plt.show()"
   ]
  },
  {
   "cell_type": "code",
   "execution_count": 9,
   "metadata": {},
   "outputs": [
    {
     "name": "stdout",
     "output_type": "stream",
     "text": [
      "320 outliers are omitted from the data.\n"
     ]
    }
   ],
   "source": [
    "# 레버리지 구하기\n",
    "influence21 = result21.get_influence()\n",
    "hat21 = influence21.hat_matrix_diag\n",
    "# 레버리지의 평균 구하기(n = 1458644, n은 데이터의 개수)\n",
    "hat21_mean = hat21.sum() / 1458644\n",
    "# 표준화 잔차 구하기\n",
    "rs_p21 = result21.resid_pearson\n",
    "# 레버리지와 표준화 잔차로 이루어진 data frame 만들기(index는 train data의 index와 동일)\n",
    "d21 = {\"hat21\" : hat21, \"rs_p21\" : rs_p21}\n",
    "hat_rs_p_21_df = pd.DataFrame(data = d21, index = train.index.values)\n",
    "# 레버리지와 표준화 잔차가 각각 일정수준 이상으로 큰 value들은 True로 나오는 data frame 만들기(index는 train data의 index와 동일)\n",
    "d21_3h3r = {\"hat21\" : hat21 > (3 * hat21_mean), \"rs_p21\" : rs_p21 > 3}\n",
    "hat_rs_p_out_3h3r_21_df = pd.DataFrame(data = d21_3h3r, index = train.index.values)\n",
    "# 아웃라이어 data(레버리지와 표준화 잔차 둘 다 큰것. 따라서 any를 씀)의 표준화 잔차와 레버리지(index는 재정렬되지 않은 상태)\n",
    "outlier21_3h3r = hat_rs_p_21_df[hat_rs_p_out_3h3r_21_df]\n",
    "outlier21_3h3r.dropna(how = \"any\", inplace = True)\n",
    "# outlier의 index 뽑기\n",
    "outlier21_3h3r_index = outlier21_3h3r.index\n",
    "# 뽑은 index로 train data에서 outlier 제거하기\n",
    "train_out_rm_21_3h3r = train.drop(labels = outlier21_3h3r_index)\n",
    "train_out_rm_21_3h3r.reset_index(drop=True, inplace=True)\n",
    "# 몇개의 outlier들이 제거되었는지 print하기\n",
    "print(\"{} outliers are omitted from the data.\".format(len(outlier21_3h3r_index)))"
   ]
  },
  {
   "cell_type": "markdown",
   "metadata": {},
   "source": [
    "3-21_2. 모든변수 - C(store_and_fwd_flag) & 실수값 스케일링 & pickup_hour 2차 다항회귀 & distance 2, 3, 4차 다항회귀 & speed 추가 & speed 3차 다항회귀 & C(vendor_id) 제거 & pickup_hour 3차 제거 & distance 4차 제거 & pickup_longitude 2차 다항회귀 & 레버리지와 표준화 잔차가 모두 큰것 제거(평균의 3배이상, 3이상)"
   ]
  },
  {
   "cell_type": "code",
   "execution_count": 10,
   "metadata": {},
   "outputs": [
    {
     "name": "stdout",
     "output_type": "stream",
     "text": [
      "                               OLS Regression Results                              \n",
      "===================================================================================\n",
      "Dep. Variable:     np.log1p(trip_duration)   R-squared:                       0.689\n",
      "Model:                                 OLS   Adj. R-squared:                  0.689\n",
      "Method:                      Least Squares   F-statistic:                 1.794e+05\n",
      "Date:                     Wed, 14 Mar 2018   Prob (F-statistic):               0.00\n",
      "Time:                             14:07:34   Log-Likelihood:            -8.8245e+05\n",
      "No. Observations:                  1458324   AIC:                         1.765e+06\n",
      "Df Residuals:                      1458305   BIC:                         1.765e+06\n",
      "Df Model:                               18                                         \n",
      "Covariance Type:                 nonrobust                                         \n",
      "===================================================================================================\n",
      "                                      coef    std err          t      P>|t|      [0.025      0.975]\n",
      "---------------------------------------------------------------------------------------------------\n",
      "C(working_day)[0]                   6.4529      0.001   6402.471      0.000       6.451       6.455\n",
      "C(working_day)[1]                   6.4728      0.001   1.23e+04      0.000       6.472       6.474\n",
      "scale(passenger_count)              0.0065      0.000     17.571      0.000       0.006       0.007\n",
      "scale(distance)                     1.2336      0.001   1495.639      0.000       1.232       1.235\n",
      "scale(I(distance ** 2))            -6.0944      0.010   -620.235      0.000      -6.114      -6.075\n",
      "scale(I(distance ** 3))             5.1943      0.009    598.764      0.000       5.177       5.211\n",
      "scale(bearing)                     -0.0051      0.000    -11.340      0.000      -0.006      -0.004\n",
      "scale(pickup_month)                 0.0083      0.000     22.703      0.000       0.008       0.009\n",
      "scale(pickup_weekday)               0.0046      0.001      7.819      0.000       0.003       0.006\n",
      "scale(pickup_hour)                 -0.0071      0.001     -4.803      0.000      -0.010      -0.004\n",
      "scale(I(pickup_hour ** 2))          0.0077      0.001      5.272      0.000       0.005       0.011\n",
      "scale(pickup_latitude)              0.0381      0.000     80.217      0.000       0.037       0.039\n",
      "scale(pickup_longitude)            -0.9302      0.004   -242.042      0.000      -0.938      -0.923\n",
      "scale(I(pickup_longitude ** 2))    -0.9233      0.004   -228.782      0.000      -0.931      -0.915\n",
      "scale(dropoff_latitude)             0.0318      0.000     70.746      0.000       0.031       0.033\n",
      "scale(dropoff_longitude)           -0.0765      0.001    -96.878      0.000      -0.078      -0.075\n",
      "scale(avg_speed_km_h)              -0.6822      0.001   -974.741      0.000      -0.684      -0.681\n",
      "scale(I(avg_speed_km_h ** 2))       1.9845      0.004    489.239      0.000       1.977       1.992\n",
      "scale(I(avg_speed_km_h ** 3))      -0.7044      0.003   -215.787      0.000      -0.711      -0.698\n",
      "==============================================================================\n",
      "Omnibus:                  2429886.996   Durbin-Watson:                   1.997\n",
      "Prob(Omnibus):                  0.000   Jarque-Bera (JB):     260622087501.211\n",
      "Skew:                           9.607   Prob(JB):                         0.00\n",
      "Kurtosis:                    2073.931   Cond. No.                         72.8\n",
      "==============================================================================\n",
      "\n",
      "Warnings:\n",
      "[1] Standard Errors assume that the covariance matrix of the errors is correctly specified.\n"
     ]
    }
   ],
   "source": [
    "model21_rm = sm.OLS.from_formula(\"np.log1p(trip_duration) ~  C(working_day) + scale(passenger_count) + scale(distance) + scale(I(distance**2)) + scale(I(distance**3)) + scale(bearing) + scale(pickup_month) + scale(pickup_weekday) + scale(pickup_hour) + scale(I(pickup_hour**2)) + scale(pickup_latitude) + scale(pickup_longitude) + scale(I(pickup_longitude**2)) + scale(dropoff_latitude) + scale(dropoff_longitude) + scale(avg_speed_km_h) + scale(I(avg_speed_km_h**2)) + scale(I(avg_speed_km_h**3)) - 1\", train_out_rm_21_3h3r)\n",
    "result21_rm = model21_rm.fit()\n",
    "print(result21_rm.summary())"
   ]
  },
  {
   "cell_type": "code",
   "execution_count": 11,
   "metadata": {},
   "outputs": [
    {
     "data": {
      "image/png": "[encoded data removed]",
      "text/plain": [
       "<matplotlib.figure.Figure at 0x14e9b91a9b0>"
      ]
     },
     "metadata": {
      "image/png": {
       "height": 279,
       "width": 387
      }
     },
     "output_type": "display_data"
    }
   ],
   "source": [
    "sp.stats.probplot(result21_rm.resid, plot=plt)\n",
    "plt.show()"
   ]
  },
  {
   "cell_type": "code",
   "execution_count": 13,
   "metadata": {
    "scrolled": true
   },
   "outputs": [
    {
     "name": "stdout",
     "output_type": "stream",
     "text": [
      "C(working_day)[0]                  6.444575\n",
      "C(working_day)[1]                  6.473274\n",
      "scale(passenger_count)             0.006440\n",
      "scale(distance)                    0.833450\n",
      "scale(I(distance ** 2))           -0.460831\n",
      "scale(I(distance ** 3))            0.266140\n",
      "scale(bearing)                    -0.034253\n",
      "scale(pickup_month)                0.010730\n",
      "scale(pickup_weekday)              0.008989\n",
      "scale(pickup_hour)                 0.000000\n",
      "scale(I(pickup_hour ** 2))         0.003039\n",
      "scale(pickup_latitude)             0.065812\n",
      "scale(pickup_longitude)           -0.270683\n",
      "scale(I(pickup_longitude ** 2))   -0.238961\n",
      "scale(dropoff_latitude)           -0.008307\n",
      "scale(dropoff_longitude)          -0.024073\n",
      "scale(avg_speed_km_h)             -0.605189\n",
      "scale(I(avg_speed_km_h ** 2))      0.502129\n",
      "scale(I(avg_speed_km_h ** 3))     -0.128616\n",
      "dtype: float64\n"
     ]
    }
   ],
   "source": [
    "result21_rm_lasso4 = model21_rm.fit_regularized(alpha=0.001, L1_wt=1)\n",
    "print(result21_rm_lasso4.params)"
   ]
  },
  {
   "cell_type": "markdown",
   "metadata": {},
   "source": [
    "3-21_2_8. 3-21_2에서 scale(pickup_hour)제거(alpha=0.001인 Lasso결과에서 0이어서 제거)"
   ]
  },
  {
   "cell_type": "code",
   "execution_count": 14,
   "metadata": {},
   "outputs": [
    {
     "name": "stdout",
     "output_type": "stream",
     "text": [
      "                               OLS Regression Results                              \n",
      "===================================================================================\n",
      "Dep. Variable:     np.log1p(trip_duration)   R-squared:                       0.689\n",
      "Model:                                 OLS   Adj. R-squared:                  0.689\n",
      "Method:                      Least Squares   F-statistic:                 1.900e+05\n",
      "Date:                     Wed, 14 Mar 2018   Prob (F-statistic):               0.00\n",
      "Time:                             14:28:26   Log-Likelihood:            -8.8246e+05\n",
      "No. Observations:                  1458324   AIC:                         1.765e+06\n",
      "Df Residuals:                      1458306   BIC:                         1.765e+06\n",
      "Df Model:                               17                                         \n",
      "Covariance Type:                 nonrobust                                         \n",
      "===================================================================================================\n",
      "                                      coef    std err          t      P>|t|      [0.025      0.975]\n",
      "---------------------------------------------------------------------------------------------------\n",
      "C(working_day)[0]                   6.4529      0.001   6402.421      0.000       6.451       6.455\n",
      "C(working_day)[1]                   6.4728      0.001   1.23e+04      0.000       6.472       6.474\n",
      "scale(passenger_count)              0.0065      0.000     17.616      0.000       0.006       0.007\n",
      "scale(distance)                     1.2334      0.001   1496.233      0.000       1.232       1.235\n",
      "scale(I(distance ** 2))            -6.0962      0.010   -620.844      0.000      -6.115      -6.077\n",
      "scale(I(distance ** 3))             5.1960      0.009    599.459      0.000       5.179       5.213\n",
      "scale(bearing)                     -0.0050      0.000    -11.218      0.000      -0.006      -0.004\n",
      "scale(pickup_month)                 0.0084      0.000     22.824      0.000       0.008       0.009\n",
      "scale(pickup_weekday)               0.0048      0.001      8.133      0.000       0.004       0.006\n",
      "scale(I(pickup_hour ** 2))          0.0009      0.000      2.482      0.013       0.000       0.002\n",
      "scale(pickup_latitude)              0.0379      0.000     80.168      0.000       0.037       0.039\n",
      "scale(pickup_longitude)            -0.9312      0.004   -242.712      0.000      -0.939      -0.924\n",
      "scale(I(pickup_longitude ** 2))    -0.9241      0.004   -229.217      0.000      -0.932      -0.916\n",
      "scale(dropoff_latitude)             0.0318      0.000     70.640      0.000       0.031       0.033\n",
      "scale(dropoff_longitude)           -0.0763      0.001    -96.759      0.000      -0.078      -0.075\n",
      "scale(avg_speed_km_h)              -0.6813      0.001  -1009.964      0.000      -0.683      -0.680\n",
      "scale(I(avg_speed_km_h ** 2))       1.9834      0.004    489.719      0.000       1.975       1.991\n",
      "scale(I(avg_speed_km_h ** 3))      -0.7037      0.003   -215.787      0.000      -0.710      -0.697\n",
      "==============================================================================\n",
      "Omnibus:                  2431737.827   Durbin-Watson:                   1.997\n",
      "Prob(Omnibus):                  0.000   Jarque-Bera (JB):     261551640305.367\n",
      "Skew:                           9.624   Prob(JB):                         0.00\n",
      "Kurtosis:                    2077.620   Cond. No.                         72.8\n",
      "==============================================================================\n",
      "\n",
      "Warnings:\n",
      "[1] Standard Errors assume that the covariance matrix of the errors is correctly specified.\n"
     ]
    }
   ],
   "source": [
    "model21_rm_8 = sm.OLS.from_formula(\"np.log1p(trip_duration) ~  C(working_day) + scale(passenger_count) + scale(distance) + scale(I(distance**2)) + scale(I(distance**3)) + scale(bearing) + scale(pickup_month) + scale(pickup_weekday) + scale(I(pickup_hour**2)) + scale(pickup_latitude) + scale(pickup_longitude) + scale(I(pickup_longitude**2)) + scale(dropoff_latitude) + scale(dropoff_longitude) + scale(avg_speed_km_h) + scale(I(avg_speed_km_h**2)) + scale(I(avg_speed_km_h**3)) - 1\", train_out_rm_21_3h3r)\n",
    "result21_rm_8 = model21_rm_8.fit()\n",
    "print(result21_rm_8.summary())    "
   ]
  },
  {
   "cell_type": "code",
   "execution_count": 15,
   "metadata": {},
   "outputs": [
    {
     "name": "stdout",
     "output_type": "stream",
     "text": [
      "C(working_day)[0]                  6.437544\n",
      "C(working_day)[1]                  6.470484\n",
      "scale(passenger_count)             0.004686\n",
      "scale(distance)                    0.805253\n",
      "scale(I(distance ** 2))           -0.245998\n",
      "scale(I(distance ** 3))            0.086358\n",
      "scale(bearing)                    -0.030340\n",
      "scale(pickup_month)                0.009132\n",
      "scale(pickup_weekday)              0.008183\n",
      "scale(pickup_hour)                 0.000000\n",
      "scale(I(pickup_hour ** 2))         0.000000\n",
      "scale(pickup_latitude)             0.061048\n",
      "scale(pickup_longitude)           -0.122528\n",
      "scale(I(pickup_longitude ** 2))   -0.072376\n",
      "scale(dropoff_latitude)           -0.007626\n",
      "scale(dropoff_longitude)           0.000000\n",
      "scale(avg_speed_km_h)             -0.591966\n",
      "scale(I(avg_speed_km_h ** 2))      0.331365\n",
      "scale(I(avg_speed_km_h ** 3))      0.000000\n",
      "dtype: float64\n"
     ]
    }
   ],
   "source": [
    "result21_rm_lasso5 = model21_rm.fit_regularized(alpha=0.003, L1_wt=1)\n",
    "print(result21_rm_lasso5.params)"
   ]
  },
  {
   "cell_type": "code",
   "execution_count": 16,
   "metadata": {
    "collapsed": true
   },
   "outputs": [],
   "source": [
    "train_pll_big = train.loc[(train[\"pickup_latitude\"]>45) | (train[\"pickup_longitude\"]<-100)]\n",
    "train_dll_big = train.loc[(train[\"dropoff_latitude\"]<36) | (train[\"dropoff_longitude\"]<-120)]"
   ]
  },
  {
   "cell_type": "code",
   "execution_count": 19,
   "metadata": {
    "scrolled": true
   },
   "outputs": [
    {
     "data": {
      "text/plain": [
       "Int64Index([184925, 1068810, 1184454], dtype='int64')"
      ]
     },
     "execution_count": 19,
     "metadata": {},
     "output_type": "execute_result"
    }
   ],
   "source": [
    "train_pll_big.index"
   ]
  },
  {
   "cell_type": "code",
   "execution_count": 21,
   "metadata": {},
   "outputs": [
    {
     "data": {
      "text/plain": [
       "Int64Index([275644, 775976, 782256, 1068810, 1184454], dtype='int64')"
      ]
     },
     "execution_count": 21,
     "metadata": {},
     "output_type": "execute_result"
    }
   ],
   "source": [
    "train_dll_big.index"
   ]
  },
  {
   "cell_type": "code",
   "execution_count": 23,
   "metadata": {
    "scrolled": true
   },
   "outputs": [
    {
     "data": {
      "text/plain": [
       "Int64Index([1068810, 1184454], dtype='int64')"
      ]
     },
     "execution_count": 23,
     "metadata": {},
     "output_type": "execute_result"
    }
   ],
   "source": [
    "train_pll_big.index.intersection(train_dll_big.index)"
   ]
  },
  {
   "cell_type": "code",
   "execution_count": 24,
   "metadata": {},
   "outputs": [],
   "source": [
    "train_big_loc_idx = train_pll_big.index.union(train_dll_big.index)"
   ]
  },
  {
   "cell_type": "code",
   "execution_count": 25,
   "metadata": {
    "collapsed": true
   },
   "outputs": [],
   "source": [
    "train_big_loc_rm = train.drop(labels = train_big_loc_idx)"
   ]
  },
  {
   "cell_type": "code",
   "execution_count": 26,
   "metadata": {
    "collapsed": true
   },
   "outputs": [],
   "source": [
    "train_big_loc_dur_rm = train_big_loc_rm[train_big_loc_rm[\"trip_duration\"]<80000]"
   ]
  },
  {
   "cell_type": "markdown",
   "metadata": {},
   "source": [
    "3-23_big_loc_dur_rm. 모든변수 - C(store_and_fwd_flag) & 실수값 스케일링 & pickup_hour 2차 다항회귀 & distance 2, 3, 4차 다항회귀 & speed 추가 & speed 3차 다항회귀 & C(vendor_id) 제거 & pickup_hour 3차 제거 & distance 4차 제거 & pickup_longitude 2차 다항회귀 & pickup이랑 dropoff 좌표 중 많이 튀는것들 제거, trip duration이 80000이상인것 제거"
   ]
  },
  {
   "cell_type": "code",
   "execution_count": 27,
   "metadata": {
    "scrolled": true
   },
   "outputs": [
    {
     "name": "stdout",
     "output_type": "stream",
     "text": [
      "                               OLS Regression Results                              \n",
      "===================================================================================\n",
      "Dep. Variable:     np.log1p(trip_duration)   R-squared:                       0.619\n",
      "Model:                                 OLS   Adj. R-squared:                  0.619\n",
      "Method:                      Least Squares   F-statistic:                 1.313e+05\n",
      "Date:                     Wed, 14 Mar 2018   Prob (F-statistic):               0.00\n",
      "Time:                             14:52:01   Log-Likelihood:            -9.9593e+05\n",
      "No. Observations:                  1456739   AIC:                         1.992e+06\n",
      "Df Residuals:                      1456720   BIC:                         1.992e+06\n",
      "Df Model:                               18                                         \n",
      "Covariance Type:                 nonrobust                                         \n",
      "===================================================================================================\n",
      "                                      coef    std err          t      P>|t|      [0.025      0.975]\n",
      "---------------------------------------------------------------------------------------------------\n",
      "C(working_day)[0]                   6.4262      0.001   5895.887      0.000       6.424       6.428\n",
      "C(working_day)[1]                   6.4743      0.001   1.14e+04      0.000       6.473       6.475\n",
      "scale(passenger_count)              0.0063      0.000     15.745      0.000       0.005       0.007\n",
      "scale(distance)                     0.8824      0.001   1384.385      0.000       0.881       0.884\n",
      "scale(I(distance ** 2))            -0.6461      0.002   -333.350      0.000      -0.650      -0.642\n",
      "scale(I(distance ** 3))             0.3901      0.002    218.759      0.000       0.387       0.394\n",
      "scale(bearing)                     -0.0194      0.000    -40.540      0.000      -0.020      -0.018\n",
      "scale(pickup_month)                 0.0140      0.000     35.145      0.000       0.013       0.015\n",
      "scale(pickup_weekday)               0.0118      0.001     18.522      0.000       0.011       0.013\n",
      "scale(pickup_hour)                  0.0316      0.002     19.905      0.000       0.029       0.035\n",
      "scale(I(pickup_hour ** 2))         -0.0260      0.002    -16.470      0.000      -0.029      -0.023\n",
      "scale(pickup_latitude)              0.0630      0.000    128.020      0.000       0.062       0.064\n",
      "scale(pickup_longitude)             1.6520      0.017     96.798      0.000       1.619       1.685\n",
      "scale(I(pickup_longitude ** 2))     1.7354      0.017    101.645      0.000       1.702       1.769\n",
      "scale(dropoff_latitude)             0.0037      0.000      7.731      0.000       0.003       0.005\n",
      "scale(dropoff_longitude)           -0.0546      0.001   -107.797      0.000      -0.056      -0.054\n",
      "scale(avg_speed_km_h)              -0.6585      0.001   -771.051      0.000      -0.660      -0.657\n",
      "scale(I(avg_speed_km_h ** 2))       1.3163      0.004    353.179      0.000       1.309       1.324\n",
      "scale(I(avg_speed_km_h ** 3))      -0.8278      0.003   -249.100      0.000      -0.834      -0.821\n",
      "==============================================================================\n",
      "Omnibus:                   668957.480   Durbin-Watson:                   1.999\n",
      "Prob(Omnibus):                  0.000   Jarque-Bera (JB):       3002921435.129\n",
      "Skew:                           0.277   Prob(JB):                         0.00\n",
      "Kurtosis:                     225.426   Cond. No.                         114.\n",
      "==============================================================================\n",
      "\n",
      "Warnings:\n",
      "[1] Standard Errors assume that the covariance matrix of the errors is correctly specified.\n"
     ]
    }
   ],
   "source": [
    "model21_big_loc_dur_rm = sm.OLS.from_formula(\"np.log1p(trip_duration) ~  C(working_day) + scale(passenger_count) + scale(distance) + scale(I(distance**2)) + scale(I(distance**3)) + scale(bearing) + scale(pickup_month) + scale(pickup_weekday) + scale(pickup_hour) + scale(I(pickup_hour**2)) + scale(pickup_latitude) + scale(pickup_longitude) + scale(I(pickup_longitude**2)) + scale(dropoff_latitude) + scale(dropoff_longitude) + scale(avg_speed_km_h) + scale(I(avg_speed_km_h**2)) + scale(I(avg_speed_km_h**ㅠ3)) - 1\", train_big_loc_dur_rm)\n",
    "result21_big_loc_dur_rm = model21_big_loc_dur_rm.fit()\n",
    "print(result21_big_loc_dur_rm.summary())"
   ]
  },
  {
   "cell_type": "code",
   "execution_count": 30,
   "metadata": {},
   "outputs": [
    {
     "data": {
      "text/html": [
       "<div>\n",
       "<style>\n",
       "    .dataframe thead tr:only-child th {\n",
       "        text-align: right;\n",
       "    }\n",
       "\n",
       "    .dataframe thead th {\n",
       "        text-align: left;\n",
       "    }\n",
       "\n",
       "    .dataframe tbody tr th {\n",
       "        vertical-align: top;\n",
       "    }\n",
       "</style>\n",
       "<table border=\"1\" class=\"dataframe\">\n",
       "  <thead>\n",
       "    <tr style=\"text-align: right;\">\n",
       "      <th></th>\n",
       "      <th>vendor_id</th>\n",
       "      <th>passenger_count</th>\n",
       "      <th>pickup_longitude</th>\n",
       "      <th>pickup_latitude</th>\n",
       "      <th>dropoff_longitude</th>\n",
       "      <th>dropoff_latitude</th>\n",
       "      <th>store_and_fwd_flag</th>\n",
       "      <th>trip_duration</th>\n",
       "      <th>pickup_month</th>\n",
       "      <th>pickup_weekday</th>\n",
       "      <th>pickup_hour</th>\n",
       "      <th>working_day</th>\n",
       "      <th>distance</th>\n",
       "      <th>bearing</th>\n",
       "      <th>avg_speed_km_h</th>\n",
       "    </tr>\n",
       "  </thead>\n",
       "  <tbody>\n",
       "    <tr>\n",
       "      <th>count</th>\n",
       "      <td>1.458644e+06</td>\n",
       "      <td>1.458644e+06</td>\n",
       "      <td>1.458644e+06</td>\n",
       "      <td>1.458644e+06</td>\n",
       "      <td>1.458644e+06</td>\n",
       "      <td>1.458644e+06</td>\n",
       "      <td>1.458644e+06</td>\n",
       "      <td>1.458644e+06</td>\n",
       "      <td>1.458644e+06</td>\n",
       "      <td>1.458644e+06</td>\n",
       "      <td>1.458644e+06</td>\n",
       "      <td>1.458644e+06</td>\n",
       "      <td>1.458644e+06</td>\n",
       "      <td>1.458644e+06</td>\n",
       "      <td>1.458644e+06</td>\n",
       "    </tr>\n",
       "    <tr>\n",
       "      <th>mean</th>\n",
       "      <td>1.534950e+00</td>\n",
       "      <td>1.664530e+00</td>\n",
       "      <td>-7.397349e+01</td>\n",
       "      <td>4.075092e+01</td>\n",
       "      <td>-7.397342e+01</td>\n",
       "      <td>4.075180e+01</td>\n",
       "      <td>5.515396e-03</td>\n",
       "      <td>9.594923e+02</td>\n",
       "      <td>3.516818e+00</td>\n",
       "      <td>3.050375e+00</td>\n",
       "      <td>1.360648e+01</td>\n",
       "      <td>7.146432e-01</td>\n",
       "      <td>3.440864e+00</td>\n",
       "      <td>1.534063e+02</td>\n",
       "      <td>1.442321e+01</td>\n",
       "    </tr>\n",
       "    <tr>\n",
       "      <th>std</th>\n",
       "      <td>4.987772e-01</td>\n",
       "      <td>1.314242e+00</td>\n",
       "      <td>7.090186e-02</td>\n",
       "      <td>3.288119e-02</td>\n",
       "      <td>7.064327e-02</td>\n",
       "      <td>3.589056e-02</td>\n",
       "      <td>7.406066e-02</td>\n",
       "      <td>5.237432e+03</td>\n",
       "      <td>1.681038e+00</td>\n",
       "      <td>1.954039e+00</td>\n",
       "      <td>6.399693e+00</td>\n",
       "      <td>4.515844e-01</td>\n",
       "      <td>4.296538e+00</td>\n",
       "      <td>1.042202e+02</td>\n",
       "      <td>1.497752e+01</td>\n",
       "    </tr>\n",
       "    <tr>\n",
       "      <th>min</th>\n",
       "      <td>1.000000e+00</td>\n",
       "      <td>0.000000e+00</td>\n",
       "      <td>-1.219333e+02</td>\n",
       "      <td>3.435970e+01</td>\n",
       "      <td>-1.219333e+02</td>\n",
       "      <td>3.218114e+01</td>\n",
       "      <td>0.000000e+00</td>\n",
       "      <td>1.000000e+00</td>\n",
       "      <td>1.000000e+00</td>\n",
       "      <td>0.000000e+00</td>\n",
       "      <td>0.000000e+00</td>\n",
       "      <td>0.000000e+00</td>\n",
       "      <td>0.000000e+00</td>\n",
       "      <td>0.000000e+00</td>\n",
       "      <td>0.000000e+00</td>\n",
       "    </tr>\n",
       "    <tr>\n",
       "      <th>25%</th>\n",
       "      <td>1.000000e+00</td>\n",
       "      <td>1.000000e+00</td>\n",
       "      <td>-7.399187e+01</td>\n",
       "      <td>4.073735e+01</td>\n",
       "      <td>-7.399133e+01</td>\n",
       "      <td>4.073588e+01</td>\n",
       "      <td>0.000000e+00</td>\n",
       "      <td>3.970000e+02</td>\n",
       "      <td>2.000000e+00</td>\n",
       "      <td>1.000000e+00</td>\n",
       "      <td>9.000000e+00</td>\n",
       "      <td>0.000000e+00</td>\n",
       "      <td>1.231837e+00</td>\n",
       "      <td>4.430475e+01</td>\n",
       "      <td>9.121275e+00</td>\n",
       "    </tr>\n",
       "    <tr>\n",
       "      <th>50%</th>\n",
       "      <td>2.000000e+00</td>\n",
       "      <td>1.000000e+00</td>\n",
       "      <td>-7.398174e+01</td>\n",
       "      <td>4.075410e+01</td>\n",
       "      <td>-7.397975e+01</td>\n",
       "      <td>4.075452e+01</td>\n",
       "      <td>0.000000e+00</td>\n",
       "      <td>6.620000e+02</td>\n",
       "      <td>4.000000e+00</td>\n",
       "      <td>3.000000e+00</td>\n",
       "      <td>1.400000e+01</td>\n",
       "      <td>1.000000e+00</td>\n",
       "      <td>2.093717e+00</td>\n",
       "      <td>1.685168e+02</td>\n",
       "      <td>1.279198e+01</td>\n",
       "    </tr>\n",
       "    <tr>\n",
       "      <th>75%</th>\n",
       "      <td>2.000000e+00</td>\n",
       "      <td>2.000000e+00</td>\n",
       "      <td>-7.396733e+01</td>\n",
       "      <td>4.076836e+01</td>\n",
       "      <td>-7.396301e+01</td>\n",
       "      <td>4.076981e+01</td>\n",
       "      <td>0.000000e+00</td>\n",
       "      <td>1.075000e+03</td>\n",
       "      <td>5.000000e+00</td>\n",
       "      <td>5.000000e+00</td>\n",
       "      <td>1.900000e+01</td>\n",
       "      <td>1.000000e+00</td>\n",
       "      <td>3.875337e+00</td>\n",
       "      <td>2.243612e+02</td>\n",
       "      <td>1.784491e+01</td>\n",
       "    </tr>\n",
       "    <tr>\n",
       "      <th>max</th>\n",
       "      <td>2.000000e+00</td>\n",
       "      <td>9.000000e+00</td>\n",
       "      <td>-6.133553e+01</td>\n",
       "      <td>5.188108e+01</td>\n",
       "      <td>-6.133553e+01</td>\n",
       "      <td>4.392103e+01</td>\n",
       "      <td>1.000000e+00</td>\n",
       "      <td>3.526282e+06</td>\n",
       "      <td>6.000000e+00</td>\n",
       "      <td>6.000000e+00</td>\n",
       "      <td>2.300000e+01</td>\n",
       "      <td>1.000000e+00</td>\n",
       "      <td>1.240909e+03</td>\n",
       "      <td>3.599935e+02</td>\n",
       "      <td>9.274837e+03</td>\n",
       "    </tr>\n",
       "  </tbody>\n",
       "</table>\n",
       "</div>"
      ],
      "text/plain": [
       "          vendor_id  passenger_count  pickup_longitude  pickup_latitude  \\\n",
       "count  1.458644e+06     1.458644e+06      1.458644e+06     1.458644e+06   \n",
       "mean   1.534950e+00     1.664530e+00     -7.397349e+01     4.075092e+01   \n",
       "std    4.987772e-01     1.314242e+00      7.090186e-02     3.288119e-02   \n",
       "min    1.000000e+00     0.000000e+00     -1.219333e+02     3.435970e+01   \n",
       "25%    1.000000e+00     1.000000e+00     -7.399187e+01     4.073735e+01   \n",
       "50%    2.000000e+00     1.000000e+00     -7.398174e+01     4.075410e+01   \n",
       "75%    2.000000e+00     2.000000e+00     -7.396733e+01     4.076836e+01   \n",
       "max    2.000000e+00     9.000000e+00     -6.133553e+01     5.188108e+01   \n",
       "\n",
       "       dropoff_longitude  dropoff_latitude  store_and_fwd_flag  trip_duration  \\\n",
       "count       1.458644e+06      1.458644e+06        1.458644e+06   1.458644e+06   \n",
       "mean       -7.397342e+01      4.075180e+01        5.515396e-03   9.594923e+02   \n",
       "std         7.064327e-02      3.589056e-02        7.406066e-02   5.237432e+03   \n",
       "min        -1.219333e+02      3.218114e+01        0.000000e+00   1.000000e+00   \n",
       "25%        -7.399133e+01      4.073588e+01        0.000000e+00   3.970000e+02   \n",
       "50%        -7.397975e+01      4.075452e+01        0.000000e+00   6.620000e+02   \n",
       "75%        -7.396301e+01      4.076981e+01        0.000000e+00   1.075000e+03   \n",
       "max        -6.133553e+01      4.392103e+01        1.000000e+00   3.526282e+06   \n",
       "\n",
       "       pickup_month  pickup_weekday   pickup_hour   working_day      distance  \\\n",
       "count  1.458644e+06    1.458644e+06  1.458644e+06  1.458644e+06  1.458644e+06   \n",
       "mean   3.516818e+00    3.050375e+00  1.360648e+01  7.146432e-01  3.440864e+00   \n",
       "std    1.681038e+00    1.954039e+00  6.399693e+00  4.515844e-01  4.296538e+00   \n",
       "min    1.000000e+00    0.000000e+00  0.000000e+00  0.000000e+00  0.000000e+00   \n",
       "25%    2.000000e+00    1.000000e+00  9.000000e+00  0.000000e+00  1.231837e+00   \n",
       "50%    4.000000e+00    3.000000e+00  1.400000e+01  1.000000e+00  2.093717e+00   \n",
       "75%    5.000000e+00    5.000000e+00  1.900000e+01  1.000000e+00  3.875337e+00   \n",
       "max    6.000000e+00    6.000000e+00  2.300000e+01  1.000000e+00  1.240909e+03   \n",
       "\n",
       "            bearing  avg_speed_km_h  \n",
       "count  1.458644e+06    1.458644e+06  \n",
       "mean   1.534063e+02    1.442321e+01  \n",
       "std    1.042202e+02    1.497752e+01  \n",
       "min    0.000000e+00    0.000000e+00  \n",
       "25%    4.430475e+01    9.121275e+00  \n",
       "50%    1.685168e+02    1.279198e+01  \n",
       "75%    2.243612e+02    1.784491e+01  \n",
       "max    3.599935e+02    9.274837e+03  "
      ]
     },
     "execution_count": 30,
     "metadata": {},
     "output_type": "execute_result"
    }
   ],
   "source": [
    "train.describe()"
   ]
  },
  {
   "cell_type": "code",
   "execution_count": 33,
   "metadata": {
    "scrolled": true
   },
   "outputs": [
    {
     "data": {
      "text/plain": [
       "Int64Index([    246,     291,     407,     702,    1620,    1728,    1769,\n",
       "               2087,    2441,    2609,\n",
       "            ...\n",
       "            1455164, 1455304, 1455996, 1456135, 1456302, 1456399, 1456627,\n",
       "            1456989, 1457114, 1457136],\n",
       "           dtype='int64', length=5897)"
      ]
     },
     "execution_count": 33,
     "metadata": {},
     "output_type": "execute_result"
    }
   ],
   "source": [
    "train[train[\"distance\"] == 0].index"
   ]
  },
  {
   "cell_type": "code",
   "execution_count": 34,
   "metadata": {
    "collapsed": true
   },
   "outputs": [],
   "source": [
    "train_dis_0_big_loc_dur_rm = train_big_loc_dur_rm.drop(labels = train_big_loc_dur_rm[train_big_loc_dur_rm[\"distance\"] == 0].index)"
   ]
  },
  {
   "cell_type": "markdown",
   "metadata": {},
   "source": [
    "3-23_dis_0_big_loc_dur_rm. 모든변수 - C(store_and_fwd_flag) & 실수값 스케일링 & pickup_hour 2차 다항회귀 & distance 2, 3, 4차 다항회귀 & speed 추가 & speed 3차 다항회귀 & C(vendor_id) 제거 & pickup_hour 3차 제거 & distance 4차 제거 & pickup_longitude 2차 다항회귀 & pickup이랑 dropoff 좌표 중 많이 튀는것들 제거, trip duration이 80000이상인것 제거  & distance 0인것 제거& distance 다항회귀 다 지우고 로그씌우기 "
   ]
  },
  {
   "cell_type": "code",
   "execution_count": 35,
   "metadata": {
    "scrolled": true
   },
   "outputs": [
    {
     "name": "stdout",
     "output_type": "stream",
     "text": [
      "                               OLS Regression Results                              \n",
      "===================================================================================\n",
      "Dep. Variable:     np.log1p(trip_duration)   R-squared:                       0.854\n",
      "Model:                                 OLS   Adj. R-squared:                  0.854\n",
      "Method:                      Least Squares   F-statistic:                 5.322e+05\n",
      "Date:                     Wed, 14 Mar 2018   Prob (F-statistic):               0.00\n",
      "Time:                             15:16:50   Log-Likelihood:            -2.7213e+05\n",
      "No. Observations:                  1450845   AIC:                         5.443e+05\n",
      "Df Residuals:                      1450828   BIC:                         5.445e+05\n",
      "Df Model:                               16                                         \n",
      "Covariance Type:                 nonrobust                                         \n",
      "===================================================================================================\n",
      "                                      coef    std err          t      P>|t|      [0.025      0.975]\n",
      "---------------------------------------------------------------------------------------------------\n",
      "C(working_day)[0]                   5.7558      0.001   8191.558      0.000       5.754       5.757\n",
      "C(working_day)[1]                   5.8133      0.000   1.36e+04      0.000       5.812       5.814\n",
      "scale(passenger_count)              0.0024      0.000      9.698      0.000       0.002       0.003\n",
      "np.log(distance)                    0.8324      0.000   2718.529      0.000       0.832       0.833\n",
      "scale(bearing)                      0.0162      0.000     54.831      0.000       0.016       0.017\n",
      "scale(pickup_month)                 0.0117      0.000     48.356      0.000       0.011       0.012\n",
      "scale(pickup_weekday)               0.0114      0.000     29.185      0.000       0.011       0.012\n",
      "scale(pickup_hour)                  0.1029      0.001    106.014      0.000       0.101       0.105\n",
      "scale(I(pickup_hour ** 2))         -0.1084      0.001   -112.567      0.000      -0.110      -0.107\n",
      "scale(pickup_latitude)             -0.0287      0.000   -101.348      0.000      -0.029      -0.028\n",
      "scale(pickup_longitude)             4.0497      0.028    146.828      0.000       3.996       4.104\n",
      "scale(I(pickup_longitude ** 2))     4.0304      0.028    146.128      0.000       3.976       4.084\n",
      "scale(dropoff_latitude)            -0.0033      0.000    -11.565      0.000      -0.004      -0.003\n",
      "scale(dropoff_longitude)            0.0100      0.000     36.001      0.000       0.009       0.011\n",
      "scale(avg_speed_km_h)              -0.6957      0.001  -1367.806      0.000      -0.697      -0.695\n",
      "scale(I(avg_speed_km_h ** 2))       1.3680      0.002    794.342      0.000       1.365       1.371\n",
      "scale(I(avg_speed_km_h ** 3))      -0.8575      0.002   -566.192      0.000      -0.860      -0.855\n",
      "==============================================================================\n",
      "Omnibus:                  3135005.448   Durbin-Watson:                   2.000\n",
      "Prob(Omnibus):                  0.000   Jarque-Bera (JB):     251147487358.406\n",
      "Skew:                          18.247   Prob(JB):                         0.00\n",
      "Kurtosis:                    2040.933   Cond. No.                         271.\n",
      "==============================================================================\n",
      "\n",
      "Warnings:\n",
      "[1] Standard Errors assume that the covariance matrix of the errors is correctly specified.\n"
     ]
    }
   ],
   "source": [
    "model23_dis_0_big_loc_dur_rm = sm.OLS.from_formula(\"np.log1p(trip_duration) ~  C(working_day) + scale(passenger_count) + np.log(distance) + scale(bearing) + scale(pickup_month) + scale(pickup_weekday) + scale(pickup_hour) + scale(I(pickup_hour**2)) + scale(pickup_latitude) + scale(pickup_longitude) + scale(I(pickup_longitude**2)) + scale(dropoff_latitude) + scale(dropoff_longitude) + scale(avg_speed_km_h) + scale(I(avg_speed_km_h**2)) + scale(I(avg_speed_km_h**3)) - 1\", train_dis_0_big_loc_dur_rm)\n",
    "result23_dis_0_big_loc_dur_rm = model23_dis_0_big_loc_dur_rm.fit()\n",
    "print(result23_dis_0_big_loc_dur_rm.summary())"
   ]
  },
  {
   "cell_type": "code",
   "execution_count": 37,
   "metadata": {},
   "outputs": [
    {
     "name": "stdout",
     "output_type": "stream",
     "text": [
      "C(working_day)[0]                  5.759235\n",
      "C(working_day)[1]                  5.831743\n",
      "scale(passenger_count)             0.001944\n",
      "np.log(distance)                   0.812634\n",
      "scale(bearing)                     0.017889\n",
      "scale(pickup_month)                0.012556\n",
      "scale(pickup_weekday)              0.013303\n",
      "scale(pickup_hour)                 0.118532\n",
      "scale(I(pickup_hour ** 2))        -0.121078\n",
      "scale(pickup_latitude)            -0.028313\n",
      "scale(pickup_longitude)            0.014165\n",
      "scale(I(pickup_longitude ** 2))    0.000000\n",
      "scale(dropoff_latitude)           -0.006246\n",
      "scale(dropoff_longitude)           0.000000\n",
      "scale(avg_speed_km_h)             -0.610143\n",
      "scale(I(avg_speed_km_h ** 2))      0.958209\n",
      "scale(I(avg_speed_km_h ** 3))     -0.514087\n",
      "dtype: float64\n"
     ]
    }
   ],
   "source": [
    "result23_dis_0_big_loc_dur_rm_lasso = model23_dis_0_big_loc_dur_rm.fit_regularized(alpha=0.001, L1_wt=1)\n",
    "print(result23_dis_0_big_loc_dur_rm_lasso.params)"
   ]
  },
  {
   "cell_type": "markdown",
   "metadata": {},
   "source": [
    "3-23_dis_0_big_loc_dur_rm에서 pickup_longitude의 2차 다항회귀 제거"
   ]
  },
  {
   "cell_type": "code",
   "execution_count": 38,
   "metadata": {
    "scrolled": true
   },
   "outputs": [
    {
     "name": "stdout",
     "output_type": "stream",
     "text": [
      "                               OLS Regression Results                              \n",
      "===================================================================================\n",
      "Dep. Variable:     np.log1p(trip_duration)   R-squared:                       0.852\n",
      "Model:                                 OLS   Adj. R-squared:                  0.852\n",
      "Method:                      Least Squares   F-statistic:                 5.581e+05\n",
      "Date:                     Wed, 14 Mar 2018   Prob (F-statistic):               0.00\n",
      "Time:                             15:34:43   Log-Likelihood:            -2.8273e+05\n",
      "No. Observations:                  1450845   AIC:                         5.655e+05\n",
      "Df Residuals:                      1450829   BIC:                         5.657e+05\n",
      "Df Model:                               15                                         \n",
      "Covariance Type:                 nonrobust                                         \n",
      "=================================================================================================\n",
      "                                    coef    std err          t      P>|t|      [0.025      0.975]\n",
      "-------------------------------------------------------------------------------------------------\n",
      "C(working_day)[0]                 5.7556      0.001   8131.745      0.000       5.754       5.757\n",
      "C(working_day)[1]                 5.8143      0.000   1.35e+04      0.000       5.813       5.815\n",
      "scale(passenger_count)            0.0024      0.000      9.718      0.000       0.002       0.003\n",
      "np.log(distance)                  0.8316      0.000   2696.611      0.000       0.831       0.832\n",
      "scale(bearing)                    0.0156      0.000     52.572      0.000       0.015       0.016\n",
      "scale(pickup_month)               0.0119      0.000     48.594      0.000       0.011       0.012\n",
      "scale(pickup_weekday)             0.0117      0.000     29.883      0.000       0.011       0.013\n",
      "scale(pickup_hour)                0.1042      0.001    106.634      0.000       0.102       0.106\n",
      "scale(I(pickup_hour ** 2))       -0.1096      0.001   -112.897      0.000      -0.111      -0.108\n",
      "scale(pickup_latitude)           -0.0269      0.000    -94.318      0.000      -0.027      -0.026\n",
      "scale(pickup_longitude)           0.0195      0.000     62.756      0.000       0.019       0.020\n",
      "scale(dropoff_latitude)          -0.0021      0.000     -7.291      0.000      -0.003      -0.002\n",
      "scale(dropoff_longitude)          0.0074      0.000     26.363      0.000       0.007       0.008\n",
      "scale(avg_speed_km_h)            -0.6886      0.001  -1350.174      0.000      -0.690      -0.688\n",
      "scale(I(avg_speed_km_h ** 2))     1.3717      0.002    790.790      0.000       1.368       1.375\n",
      "scale(I(avg_speed_km_h ** 3))    -0.8656      0.002   -567.767      0.000      -0.869      -0.863\n",
      "==============================================================================\n",
      "Omnibus:                  3154476.590   Durbin-Watson:                   2.000\n",
      "Prob(Omnibus):                  0.000   Jarque-Bera (JB):     261086080341.558\n",
      "Skew:                          18.524   Prob(JB):                         0.00\n",
      "Kurtosis:                    2080.868   Cond. No.                         15.7\n",
      "==============================================================================\n",
      "\n",
      "Warnings:\n",
      "[1] Standard Errors assume that the covariance matrix of the errors is correctly specified.\n"
     ]
    }
   ],
   "source": [
    "model23_dis_0_big_loc_dur_rm2 = sm.OLS.from_formula(\"np.log1p(trip_duration) ~  C(working_day) + scale(passenger_count) + np.log(distance) + scale(bearing) + scale(pickup_month) + scale(pickup_weekday) + scale(pickup_hour) + scale(I(pickup_hour**2)) + scale(pickup_latitude) + scale(pickup_longitude) + scale(dropoff_latitude) + scale(dropoff_longitude) + scale(avg_speed_km_h) + scale(I(avg_speed_km_h**2)) + scale(I(avg_speed_km_h**3)) - 1\", train_dis_0_big_loc_dur_rm)\n",
    "result23_dis_0_big_loc_dur_rm2 = model23_dis_0_big_loc_dur_rm2.fit()\n",
    "print(result23_dis_0_big_loc_dur_rm2.summary())"
   ]
  },
  {
   "cell_type": "markdown",
   "metadata": {},
   "source": [
    "3-23_dis_0_big_loc_dur_rm에서 pickup_longitude의 2차 다항회귀 제거 & scale(dropoff_longitude) 제거"
   ]
  },
  {
   "cell_type": "code",
   "execution_count": 39,
   "metadata": {
    "scrolled": true
   },
   "outputs": [
    {
     "name": "stdout",
     "output_type": "stream",
     "text": [
      "                               OLS Regression Results                              \n",
      "===================================================================================\n",
      "Dep. Variable:     np.log1p(trip_duration)   R-squared:                       0.852\n",
      "Model:                                 OLS   Adj. R-squared:                  0.852\n",
      "Method:                      Least Squares   F-statistic:                 5.976e+05\n",
      "Date:                     Wed, 14 Mar 2018   Prob (F-statistic):               0.00\n",
      "Time:                             15:37:45   Log-Likelihood:            -2.8308e+05\n",
      "No. Observations:                  1450845   AIC:                         5.662e+05\n",
      "Df Residuals:                      1450830   BIC:                         5.664e+05\n",
      "Df Model:                               14                                         \n",
      "Covariance Type:                 nonrobust                                         \n",
      "=================================================================================================\n",
      "                                    coef    std err          t      P>|t|      [0.025      0.975]\n",
      "-------------------------------------------------------------------------------------------------\n",
      "C(working_day)[0]                 5.7548      0.001   8136.317      0.000       5.753       5.756\n",
      "C(working_day)[1]                 5.8136      0.000   1.35e+04      0.000       5.813       5.814\n",
      "scale(passenger_count)            0.0024      0.000      9.650      0.000       0.002       0.003\n",
      "np.log(distance)                  0.8324      0.000   2714.624      0.000       0.832       0.833\n",
      "scale(bearing)                    0.0129      0.000     46.361      0.000       0.012       0.013\n",
      "scale(pickup_month)               0.0119      0.000     48.627      0.000       0.011       0.012\n",
      "scale(pickup_weekday)             0.0118      0.000     30.031      0.000       0.011       0.013\n",
      "scale(pickup_hour)                0.1031      0.001    105.571      0.000       0.101       0.105\n",
      "scale(I(pickup_hour ** 2))       -0.1087      0.001   -112.082      0.000      -0.111      -0.107\n",
      "scale(pickup_latitude)           -0.0256      0.000    -91.106      0.000      -0.026      -0.025\n",
      "scale(pickup_longitude)           0.0225      0.000     77.129      0.000       0.022       0.023\n",
      "scale(dropoff_latitude)          -0.0025      0.000     -8.665      0.000      -0.003      -0.002\n",
      "scale(avg_speed_km_h)            -0.6884      0.001  -1349.594      0.000      -0.689      -0.687\n",
      "scale(I(avg_speed_km_h ** 2))     1.3674      0.002    791.605      0.000       1.364       1.371\n",
      "scale(I(avg_speed_km_h ** 3))    -0.8615      0.002   -567.875      0.000      -0.865      -0.859\n",
      "==============================================================================\n",
      "Omnibus:                  3135804.175   Durbin-Watson:                   2.000\n",
      "Prob(Omnibus):                  0.000   Jarque-Bera (JB):     240577583161.650\n",
      "Skew:                          18.276   Prob(JB):                         0.00\n",
      "Kurtosis:                    1997.572   Cond. No.                         15.6\n",
      "==============================================================================\n",
      "\n",
      "Warnings:\n",
      "[1] Standard Errors assume that the covariance matrix of the errors is correctly specified.\n"
     ]
    }
   ],
   "source": [
    "model23_dis_0_big_loc_dur_rm3 = sm.OLS.from_formula(\"np.log1p(trip_duration) ~  C(working_day) + scale(passenger_count) + np.log(distance) + scale(bearing) + scale(pickup_month) + scale(pickup_weekday) + scale(pickup_hour) + scale(I(pickup_hour**2)) + scale(pickup_latitude) + scale(pickup_longitude) + scale(dropoff_latitude) + scale(avg_speed_km_h) + scale(I(avg_speed_km_h**2)) + scale(I(avg_speed_km_h**3)) - 1\", train_dis_0_big_loc_dur_rm)\n",
    "result23_dis_0_big_loc_dur_rm3 = model23_dis_0_big_loc_dur_rm3.fit()\n",
    "print(result23_dis_0_big_loc_dur_rm3.summary())"
   ]
  },
  {
   "cell_type": "markdown",
   "metadata": {},
   "source": [
    "# *"
   ]
  },
  {
   "cell_type": "markdown",
   "metadata": {},
   "source": [
    "3-23_dis_0_big_loc_dur_rm에서 pickup_longitude의 2차 다항회귀 제거 & scale(dropoff_longitude) 제거 & np.log(distance)에서 np.log1p(distance)로 변경"
   ]
  },
  {
   "cell_type": "code",
   "execution_count": 42,
   "metadata": {
    "scrolled": false
   },
   "outputs": [
    {
     "name": "stdout",
     "output_type": "stream",
     "text": [
      "                               OLS Regression Results                              \n",
      "===================================================================================\n",
      "Dep. Variable:     np.log1p(trip_duration)   R-squared:                       0.856\n",
      "Model:                                 OLS   Adj. R-squared:                  0.856\n",
      "Method:                      Least Squares   F-statistic:                 6.164e+05\n",
      "Date:                     Wed, 14 Mar 2018   Prob (F-statistic):               0.00\n",
      "Time:                             15:48:23   Log-Likelihood:            -2.6387e+05\n",
      "No. Observations:                  1450845   AIC:                         5.278e+05\n",
      "Df Residuals:                      1450830   BIC:                         5.280e+05\n",
      "Df Model:                               14                                         \n",
      "Covariance Type:                 nonrobust                                         \n",
      "=================================================================================================\n",
      "                                    coef    std err          t      P>|t|      [0.025      0.975]\n",
      "-------------------------------------------------------------------------------------------------\n",
      "C(working_day)[0]                 4.7219      0.001   5294.908      0.000       4.720       4.724\n",
      "C(working_day)[1]                 4.7720      0.001   6668.304      0.000       4.771       4.773\n",
      "scale(passenger_count)            0.0039      0.000     16.021      0.000       0.003       0.004\n",
      "np.log1p(distance)                1.3560      0.000   2757.871      0.000       1.355       1.357\n",
      "scale(bearing)                    0.0311      0.000    112.722      0.000       0.031       0.032\n",
      "scale(pickup_month)               0.0093      0.000     38.443      0.000       0.009       0.010\n",
      "scale(pickup_weekday)             0.0090      0.000     23.217      0.000       0.008       0.010\n",
      "scale(pickup_hour)                0.1185      0.001    122.987      0.000       0.117       0.120\n",
      "scale(I(pickup_hour ** 2))       -0.1196      0.001   -124.932      0.000      -0.121      -0.118\n",
      "scale(pickup_latitude)           -0.0015      0.000     -5.286      0.000      -0.002      -0.001\n",
      "scale(pickup_longitude)          -0.0592      0.000   -200.390      0.000      -0.060      -0.059\n",
      "scale(dropoff_latitude)           0.0235      0.000     83.016      0.000       0.023       0.024\n",
      "scale(avg_speed_km_h)            -0.7393      0.001  -1446.681      0.000      -0.740      -0.738\n",
      "scale(I(avg_speed_km_h ** 2))     1.4830      0.002    864.273      0.000       1.480       1.486\n",
      "scale(I(avg_speed_km_h ** 3))    -0.9380      0.002   -624.195      0.000      -0.941      -0.935\n",
      "==============================================================================\n",
      "Omnibus:                  2943570.952   Durbin-Watson:                   1.998\n",
      "Prob(Omnibus):                  0.000   Jarque-Bera (JB):     366759245272.851\n",
      "Skew:                          15.429   Prob(JB):                         0.00\n",
      "Kurtosis:                    2465.927   Cond. No.                         15.9\n",
      "==============================================================================\n",
      "\n",
      "Warnings:\n",
      "[1] Standard Errors assume that the covariance matrix of the errors is correctly specified.\n"
     ]
    }
   ],
   "source": [
    "model23_dis_0_big_loc_dur_rm3_2 = sm.OLS.from_formula(\"np.log1p(trip_duration) ~  C(working_day) + scale(passenger_count) + np.log1p(distance) + scale(bearing) + scale(pickup_month) + scale(pickup_weekday) + scale(pickup_hour) + scale(I(pickup_hour**2)) + scale(pickup_latitude) + scale(pickup_longitude) + scale(dropoff_latitude) + scale(avg_speed_km_h) + scale(I(avg_speed_km_h**2)) + scale(I(avg_speed_km_h**3)) - 1\", train_dis_0_big_loc_dur_rm)\n",
    "result23_dis_0_big_loc_dur_rm3_2 = model23_dis_0_big_loc_dur_rm3_2.fit()\n",
    "print(result23_dis_0_big_loc_dur_rm3_2.summary())"
   ]
  },
  {
   "cell_type": "code",
   "execution_count": 49,
   "metadata": {
    "scrolled": true
   },
   "outputs": [
    {
     "data": {
      "image/png": "[encoded data removed]",
      "text/plain": [
       "<matplotlib.figure.Figure at 0x14e92062e48>"
      ]
     },
     "metadata": {
      "image/png": {
       "height": 279,
       "width": 386
      }
     },
     "output_type": "display_data"
    }
   ],
   "source": [
    "sp.stats.probplot(result23_dis_0_big_loc_dur_rm3_2.resid, plot=plt)\n",
    "plt.show()"
   ]
  },
  {
   "cell_type": "code",
   "execution_count": 44,
   "metadata": {
    "scrolled": false
   },
   "outputs": [
    {
     "name": "stdout",
     "output_type": "stream",
     "text": [
      "C(working_day)[0]                4.813700\n",
      "C(working_day)[1]                4.877494\n",
      "scale(passenger_count)           0.003431\n",
      "np.log1p(distance)               1.274797\n",
      "scale(bearing)                   0.009201\n",
      "scale(pickup_month)              0.010108\n",
      "scale(pickup_weekday)            0.011993\n",
      "scale(pickup_hour)               0.123225\n",
      "scale(I(pickup_hour ** 2))      -0.121759\n",
      "scale(pickup_latitude)           0.000000\n",
      "scale(pickup_longitude)          0.000000\n",
      "scale(dropoff_latitude)          0.000000\n",
      "scale(avg_speed_km_h)           -0.655090\n",
      "scale(I(avg_speed_km_h ** 2))    1.002200\n",
      "scale(I(avg_speed_km_h ** 3))   -0.525493\n",
      "dtype: float64\n"
     ]
    }
   ],
   "source": [
    "result23_dis_0_big_loc_dur_rm3_2_lasso = model23_dis_0_big_loc_dur_rm3_2.fit_regularized(alpha=0.001, L1_wt=1)\n",
    "print(result23_dis_0_big_loc_dur_rm3_2_lasso.params)"
   ]
  },
  {
   "cell_type": "markdown",
   "metadata": {},
   "source": [
    "속도 다시 구하기"
   ]
  },
  {
   "cell_type": "code",
   "execution_count": 76,
   "metadata": {
    "collapsed": true
   },
   "outputs": [],
   "source": [
    "train_dis_0_big_loc_dur_rm2 = pd.DataFrame(train_dis_0_big_loc_dur_rm)"
   ]
  },
  {
   "cell_type": "code",
   "execution_count": null,
   "metadata": {
    "collapsed": true
   },
   "outputs": [],
   "source": [
    "train[\"avg_speed_km_h\"] = train[\"distance\"] / (train[\"trip_duration\"] / 3600)\n",
    "train[\"avg_speed_km_h\"].tail()\n",
    "taxi_speed = train.loc[:, [\"pickup_hour\", \"avg_speed_km_h\"]]\n",
    "taxi_speed = taxi_speed.groupby(\"pickup_hour\").mean()\n",
    "taxi_speed.reset_index(level=0, inplace=True)\n",
    "train_speed = pd.merge(train, taxi_speed, on = [\"pickup_hour\"])\n",
    "train_speed.rename(columns = {\"avg_speed_km_h_y\": \"avg_speed_km_h\"}, inplace = True)\n",
    "train_speed.drop(labels = [\"avg_speed_km_h_x\"], axis = 1, inplace = True)"
   ]
  },
  {
   "cell_type": "code",
   "execution_count": 69,
   "metadata": {
    "collapsed": true
   },
   "outputs": [
    {
     "data": {
      "text/html": [
       "<div>\n",
       "<style>\n",
       "    .dataframe thead tr:only-child th {\n",
       "        text-align: right;\n",
       "    }\n",
       "\n",
       "    .dataframe thead th {\n",
       "        text-align: left;\n",
       "    }\n",
       "\n",
       "    .dataframe tbody tr th {\n",
       "        vertical-align: top;\n",
       "    }\n",
       "</style>\n",
       "<table border=\"1\" class=\"dataframe\">\n",
       "  <thead>\n",
       "    <tr style=\"text-align: right;\">\n",
       "      <th></th>\n",
       "      <th>id</th>\n",
       "      <th>vendor_id</th>\n",
       "      <th>pickup_datetime</th>\n",
       "      <th>dropoff_datetime</th>\n",
       "      <th>passenger_count</th>\n",
       "      <th>pickup_longitude</th>\n",
       "      <th>pickup_latitude</th>\n",
       "      <th>dropoff_longitude</th>\n",
       "      <th>dropoff_latitude</th>\n",
       "      <th>store_and_fwd_flag</th>\n",
       "      <th>trip_duration</th>\n",
       "      <th>pickup_month</th>\n",
       "      <th>pickup_weekday</th>\n",
       "      <th>pickup_hour</th>\n",
       "      <th>working_day</th>\n",
       "      <th>distance</th>\n",
       "      <th>bearing</th>\n",
       "      <th>avg_speed_km_h</th>\n",
       "    </tr>\n",
       "  </thead>\n",
       "  <tbody>\n",
       "    <tr>\n",
       "      <th>1458639</th>\n",
       "      <td>id2376096</td>\n",
       "      <td>2</td>\n",
       "      <td>2016-04-08 13:31:04</td>\n",
       "      <td>2016-04-08 13:44:02</td>\n",
       "      <td>4</td>\n",
       "      <td>-73.982201</td>\n",
       "      <td>40.745522</td>\n",
       "      <td>-73.994911</td>\n",
       "      <td>40.740170</td>\n",
       "      <td>0</td>\n",
       "      <td>778</td>\n",
       "      <td>4</td>\n",
       "      <td>4</td>\n",
       "      <td>13</td>\n",
       "      <td>1</td>\n",
       "      <td>1.225080</td>\n",
       "      <td>240.940662</td>\n",
       "      <td>5.668751</td>\n",
       "    </tr>\n",
       "    <tr>\n",
       "      <th>1458640</th>\n",
       "      <td>id1049543</td>\n",
       "      <td>1</td>\n",
       "      <td>2016-01-10 07:35:15</td>\n",
       "      <td>2016-01-10 07:46:10</td>\n",
       "      <td>1</td>\n",
       "      <td>-74.000946</td>\n",
       "      <td>40.747379</td>\n",
       "      <td>-73.970184</td>\n",
       "      <td>40.796547</td>\n",
       "      <td>0</td>\n",
       "      <td>655</td>\n",
       "      <td>1</td>\n",
       "      <td>6</td>\n",
       "      <td>7</td>\n",
       "      <td>0</td>\n",
       "      <td>6.049836</td>\n",
       "      <td>25.342196</td>\n",
       "      <td>33.251005</td>\n",
       "    </tr>\n",
       "    <tr>\n",
       "      <th>1458641</th>\n",
       "      <td>id2304944</td>\n",
       "      <td>2</td>\n",
       "      <td>2016-04-22 06:57:41</td>\n",
       "      <td>2016-04-22 07:10:25</td>\n",
       "      <td>1</td>\n",
       "      <td>-73.959129</td>\n",
       "      <td>40.768799</td>\n",
       "      <td>-74.004433</td>\n",
       "      <td>40.707371</td>\n",
       "      <td>0</td>\n",
       "      <td>764</td>\n",
       "      <td>4</td>\n",
       "      <td>4</td>\n",
       "      <td>6</td>\n",
       "      <td>1</td>\n",
       "      <td>7.824606</td>\n",
       "      <td>209.211508</td>\n",
       "      <td>36.869870</td>\n",
       "    </tr>\n",
       "    <tr>\n",
       "      <th>1458642</th>\n",
       "      <td>id2714485</td>\n",
       "      <td>1</td>\n",
       "      <td>2016-01-05 15:56:26</td>\n",
       "      <td>2016-01-05 16:02:39</td>\n",
       "      <td>1</td>\n",
       "      <td>-73.982079</td>\n",
       "      <td>40.749062</td>\n",
       "      <td>-73.974632</td>\n",
       "      <td>40.757107</td>\n",
       "      <td>0</td>\n",
       "      <td>373</td>\n",
       "      <td>1</td>\n",
       "      <td>1</td>\n",
       "      <td>15</td>\n",
       "      <td>1</td>\n",
       "      <td>1.092564</td>\n",
       "      <td>35.033294</td>\n",
       "      <td>10.544853</td>\n",
       "    </tr>\n",
       "    <tr>\n",
       "      <th>1458643</th>\n",
       "      <td>id1209952</td>\n",
       "      <td>1</td>\n",
       "      <td>2016-04-05 14:44:25</td>\n",
       "      <td>2016-04-05 14:47:43</td>\n",
       "      <td>1</td>\n",
       "      <td>-73.979538</td>\n",
       "      <td>40.781750</td>\n",
       "      <td>-73.972809</td>\n",
       "      <td>40.790585</td>\n",
       "      <td>0</td>\n",
       "      <td>198</td>\n",
       "      <td>4</td>\n",
       "      <td>1</td>\n",
       "      <td>14</td>\n",
       "      <td>1</td>\n",
       "      <td>1.134042</td>\n",
       "      <td>29.969486</td>\n",
       "      <td>20.618945</td>\n",
       "    </tr>\n",
       "  </tbody>\n",
       "</table>\n",
       "</div>"
      ],
      "text/plain": [
       "                id  vendor_id     pickup_datetime    dropoff_datetime  \\\n",
       "1458639  id2376096          2 2016-04-08 13:31:04 2016-04-08 13:44:02   \n",
       "1458640  id1049543          1 2016-01-10 07:35:15 2016-01-10 07:46:10   \n",
       "1458641  id2304944          2 2016-04-22 06:57:41 2016-04-22 07:10:25   \n",
       "1458642  id2714485          1 2016-01-05 15:56:26 2016-01-05 16:02:39   \n",
       "1458643  id1209952          1 2016-04-05 14:44:25 2016-04-05 14:47:43   \n",
       "\n",
       "         passenger_count  pickup_longitude  pickup_latitude  \\\n",
       "1458639                4        -73.982201        40.745522   \n",
       "1458640                1        -74.000946        40.747379   \n",
       "1458641                1        -73.959129        40.768799   \n",
       "1458642                1        -73.982079        40.749062   \n",
       "1458643                1        -73.979538        40.781750   \n",
       "\n",
       "         dropoff_longitude  dropoff_latitude  store_and_fwd_flag  \\\n",
       "1458639         -73.994911         40.740170                   0   \n",
       "1458640         -73.970184         40.796547                   0   \n",
       "1458641         -74.004433         40.707371                   0   \n",
       "1458642         -73.974632         40.757107                   0   \n",
       "1458643         -73.972809         40.790585                   0   \n",
       "\n",
       "         trip_duration  pickup_month  pickup_weekday  pickup_hour  \\\n",
       "1458639            778             4               4           13   \n",
       "1458640            655             1               6            7   \n",
       "1458641            764             4               4            6   \n",
       "1458642            373             1               1           15   \n",
       "1458643            198             4               1           14   \n",
       "\n",
       "         working_day  distance     bearing  avg_speed_km_h  \n",
       "1458639            1  1.225080  240.940662        5.668751  \n",
       "1458640            0  6.049836   25.342196       33.251005  \n",
       "1458641            1  7.824606  209.211508       36.869870  \n",
       "1458642            1  1.092564   35.033294       10.544853  \n",
       "1458643            1  1.134042   29.969486       20.618945  "
      ]
     },
     "execution_count": 69,
     "metadata": {},
     "output_type": "execute_result"
    }
   ],
   "source": [
    "train_dis_0_big_loc_dur_rm2.tail()"
   ]
  },
  {
   "cell_type": "code",
   "execution_count": 77,
   "metadata": {},
   "outputs": [],
   "source": [
    "train_dis_0_big_loc_dur_rm2[\"avg_speed_km_h\"] = train_dis_0_big_loc_dur_rm2[\"distance\"] / (train_dis_0_big_loc_dur_rm2[\"trip_duration\"] / 3600)\n",
    "train_dis_0_big_loc_dur_rm2[\"avg_speed_km_h\"].tail()\n",
    "taxi_speed_dis_0_big_loc_dur_rm = train_dis_0_big_loc_dur_rm2.loc[:, [\"pickup_hour\", \"avg_speed_km_h\"]]\n",
    "taxi_speed_dis_0_big_loc_dur_rm = taxi_speed_dis_0_big_loc_dur_rm.groupby(\"pickup_hour\").mean()\n",
    "taxi_speed_dis_0_big_loc_dur_rm.reset_index(level=0, inplace=True)\n",
    "train_dis_0_big_loc_dur_rm2 = pd.merge(train_dis_0_big_loc_dur_rm2, taxi_speed_dis_0_big_loc_dur_rm, on = [\"pickup_hour\"])\n",
    "train_dis_0_big_loc_dur_rm2.rename(columns = {\"avg_speed_km_h_y\": \"avg_speed_km_h\"}, inplace = True)\n",
    "train_dis_0_big_loc_dur_rm2.drop(labels = [\"avg_speed_km_h_x\"], axis = 1, inplace = True)"
   ]
  },
  {
   "cell_type": "code",
   "execution_count": 71,
   "metadata": {
    "scrolled": true
   },
   "outputs": [
    {
     "data": {
      "text/html": [
       "<div>\n",
       "<style>\n",
       "    .dataframe thead tr:only-child th {\n",
       "        text-align: right;\n",
       "    }\n",
       "\n",
       "    .dataframe thead th {\n",
       "        text-align: left;\n",
       "    }\n",
       "\n",
       "    .dataframe tbody tr th {\n",
       "        vertical-align: top;\n",
       "    }\n",
       "</style>\n",
       "<table border=\"1\" class=\"dataframe\">\n",
       "  <thead>\n",
       "    <tr style=\"text-align: right;\">\n",
       "      <th></th>\n",
       "      <th>id</th>\n",
       "      <th>vendor_id</th>\n",
       "      <th>pickup_datetime</th>\n",
       "      <th>dropoff_datetime</th>\n",
       "      <th>passenger_count</th>\n",
       "      <th>pickup_longitude</th>\n",
       "      <th>pickup_latitude</th>\n",
       "      <th>dropoff_longitude</th>\n",
       "      <th>dropoff_latitude</th>\n",
       "      <th>store_and_fwd_flag</th>\n",
       "      <th>trip_duration</th>\n",
       "      <th>pickup_month</th>\n",
       "      <th>pickup_weekday</th>\n",
       "      <th>pickup_hour</th>\n",
       "      <th>working_day</th>\n",
       "      <th>distance</th>\n",
       "      <th>bearing</th>\n",
       "      <th>avg_speed_km_h</th>\n",
       "    </tr>\n",
       "  </thead>\n",
       "  <tbody>\n",
       "    <tr>\n",
       "      <th>1450840</th>\n",
       "      <td>id0150694</td>\n",
       "      <td>2</td>\n",
       "      <td>2016-05-28 04:37:41</td>\n",
       "      <td>2016-05-28 04:53:12</td>\n",
       "      <td>1</td>\n",
       "      <td>-73.984749</td>\n",
       "      <td>40.696651</td>\n",
       "      <td>-73.987717</td>\n",
       "      <td>40.759769</td>\n",
       "      <td>0</td>\n",
       "      <td>931</td>\n",
       "      <td>5</td>\n",
       "      <td>5</td>\n",
       "      <td>4</td>\n",
       "      <td>0</td>\n",
       "      <td>7.022853</td>\n",
       "      <td>357.960228</td>\n",
       "      <td>22.165394</td>\n",
       "    </tr>\n",
       "    <tr>\n",
       "      <th>1450841</th>\n",
       "      <td>id2444084</td>\n",
       "      <td>1</td>\n",
       "      <td>2016-05-01 04:48:55</td>\n",
       "      <td>2016-05-01 04:58:45</td>\n",
       "      <td>1</td>\n",
       "      <td>-73.978012</td>\n",
       "      <td>40.741982</td>\n",
       "      <td>-73.998810</td>\n",
       "      <td>40.714375</td>\n",
       "      <td>0</td>\n",
       "      <td>590</td>\n",
       "      <td>5</td>\n",
       "      <td>6</td>\n",
       "      <td>4</td>\n",
       "      <td>0</td>\n",
       "      <td>3.534787</td>\n",
       "      <td>209.728808</td>\n",
       "      <td>22.165394</td>\n",
       "    </tr>\n",
       "    <tr>\n",
       "      <th>1450842</th>\n",
       "      <td>id0238076</td>\n",
       "      <td>1</td>\n",
       "      <td>2016-05-24 04:41:25</td>\n",
       "      <td>2016-05-24 04:48:24</td>\n",
       "      <td>1</td>\n",
       "      <td>-73.997971</td>\n",
       "      <td>40.760773</td>\n",
       "      <td>-73.987144</td>\n",
       "      <td>40.755196</td>\n",
       "      <td>0</td>\n",
       "      <td>419</td>\n",
       "      <td>5</td>\n",
       "      <td>1</td>\n",
       "      <td>4</td>\n",
       "      <td>1</td>\n",
       "      <td>1.102749</td>\n",
       "      <td>124.215746</td>\n",
       "      <td>22.165394</td>\n",
       "    </tr>\n",
       "    <tr>\n",
       "      <th>1450843</th>\n",
       "      <td>id3423195</td>\n",
       "      <td>2</td>\n",
       "      <td>2016-04-09 04:29:43</td>\n",
       "      <td>2016-04-09 04:57:47</td>\n",
       "      <td>2</td>\n",
       "      <td>-73.985168</td>\n",
       "      <td>40.727493</td>\n",
       "      <td>-73.907326</td>\n",
       "      <td>40.683338</td>\n",
       "      <td>0</td>\n",
       "      <td>1684</td>\n",
       "      <td>4</td>\n",
       "      <td>5</td>\n",
       "      <td>4</td>\n",
       "      <td>0</td>\n",
       "      <td>8.195229</td>\n",
       "      <td>126.780635</td>\n",
       "      <td>22.165394</td>\n",
       "    </tr>\n",
       "    <tr>\n",
       "      <th>1450844</th>\n",
       "      <td>id2085200</td>\n",
       "      <td>1</td>\n",
       "      <td>2016-03-25 04:12:04</td>\n",
       "      <td>2016-03-25 04:41:55</td>\n",
       "      <td>1</td>\n",
       "      <td>-73.995178</td>\n",
       "      <td>40.749668</td>\n",
       "      <td>-73.960800</td>\n",
       "      <td>40.688099</td>\n",
       "      <td>0</td>\n",
       "      <td>1791</td>\n",
       "      <td>3</td>\n",
       "      <td>4</td>\n",
       "      <td>4</td>\n",
       "      <td>1</td>\n",
       "      <td>7.434004</td>\n",
       "      <td>157.050940</td>\n",
       "      <td>22.165394</td>\n",
       "    </tr>\n",
       "  </tbody>\n",
       "</table>\n",
       "</div>"
      ],
      "text/plain": [
       "                id  vendor_id     pickup_datetime    dropoff_datetime  \\\n",
       "1450840  id0150694          2 2016-05-28 04:37:41 2016-05-28 04:53:12   \n",
       "1450841  id2444084          1 2016-05-01 04:48:55 2016-05-01 04:58:45   \n",
       "1450842  id0238076          1 2016-05-24 04:41:25 2016-05-24 04:48:24   \n",
       "1450843  id3423195          2 2016-04-09 04:29:43 2016-04-09 04:57:47   \n",
       "1450844  id2085200          1 2016-03-25 04:12:04 2016-03-25 04:41:55   \n",
       "\n",
       "         passenger_count  pickup_longitude  pickup_latitude  \\\n",
       "1450840                1        -73.984749        40.696651   \n",
       "1450841                1        -73.978012        40.741982   \n",
       "1450842                1        -73.997971        40.760773   \n",
       "1450843                2        -73.985168        40.727493   \n",
       "1450844                1        -73.995178        40.749668   \n",
       "\n",
       "         dropoff_longitude  dropoff_latitude  store_and_fwd_flag  \\\n",
       "1450840         -73.987717         40.759769                   0   \n",
       "1450841         -73.998810         40.714375                   0   \n",
       "1450842         -73.987144         40.755196                   0   \n",
       "1450843         -73.907326         40.683338                   0   \n",
       "1450844         -73.960800         40.688099                   0   \n",
       "\n",
       "         trip_duration  pickup_month  pickup_weekday  pickup_hour  \\\n",
       "1450840            931             5               5            4   \n",
       "1450841            590             5               6            4   \n",
       "1450842            419             5               1            4   \n",
       "1450843           1684             4               5            4   \n",
       "1450844           1791             3               4            4   \n",
       "\n",
       "         working_day  distance     bearing  avg_speed_km_h  \n",
       "1450840            0  7.022853  357.960228       22.165394  \n",
       "1450841            0  3.534787  209.728808       22.165394  \n",
       "1450842            1  1.102749  124.215746       22.165394  \n",
       "1450843            0  8.195229  126.780635       22.165394  \n",
       "1450844            1  7.434004  157.050940       22.165394  "
      ]
     },
     "execution_count": 71,
     "metadata": {},
     "output_type": "execute_result"
    }
   ],
   "source": [
    "train_speed_dis_0_big_loc_dur_rm2.tail()"
   ]
  },
  {
   "cell_type": "code",
   "execution_count": 74,
   "metadata": {},
   "outputs": [
    {
     "data": {
      "text/html": [
       "<div>\n",
       "<style>\n",
       "    .dataframe thead tr:only-child th {\n",
       "        text-align: right;\n",
       "    }\n",
       "\n",
       "    .dataframe thead th {\n",
       "        text-align: left;\n",
       "    }\n",
       "\n",
       "    .dataframe tbody tr th {\n",
       "        vertical-align: top;\n",
       "    }\n",
       "</style>\n",
       "<table border=\"1\" class=\"dataframe\">\n",
       "  <thead>\n",
       "    <tr style=\"text-align: right;\">\n",
       "      <th></th>\n",
       "      <th>id</th>\n",
       "      <th>vendor_id</th>\n",
       "      <th>pickup_datetime</th>\n",
       "      <th>dropoff_datetime</th>\n",
       "      <th>passenger_count</th>\n",
       "      <th>pickup_longitude</th>\n",
       "      <th>pickup_latitude</th>\n",
       "      <th>dropoff_longitude</th>\n",
       "      <th>dropoff_latitude</th>\n",
       "      <th>store_and_fwd_flag</th>\n",
       "      <th>trip_duration</th>\n",
       "      <th>pickup_month</th>\n",
       "      <th>pickup_weekday</th>\n",
       "      <th>pickup_hour</th>\n",
       "      <th>working_day</th>\n",
       "      <th>distance</th>\n",
       "      <th>bearing</th>\n",
       "      <th>avg_speed_km_h</th>\n",
       "    </tr>\n",
       "  </thead>\n",
       "  <tbody>\n",
       "    <tr>\n",
       "      <th>1458639</th>\n",
       "      <td>id2376096</td>\n",
       "      <td>2</td>\n",
       "      <td>2016-04-08 13:31:04</td>\n",
       "      <td>2016-04-08 13:44:02</td>\n",
       "      <td>4</td>\n",
       "      <td>-73.982201</td>\n",
       "      <td>40.745522</td>\n",
       "      <td>-73.994911</td>\n",
       "      <td>40.740170</td>\n",
       "      <td>0</td>\n",
       "      <td>778</td>\n",
       "      <td>4</td>\n",
       "      <td>4</td>\n",
       "      <td>13</td>\n",
       "      <td>1</td>\n",
       "      <td>1.225080</td>\n",
       "      <td>240.940662</td>\n",
       "      <td>5.668751</td>\n",
       "    </tr>\n",
       "    <tr>\n",
       "      <th>1458640</th>\n",
       "      <td>id1049543</td>\n",
       "      <td>1</td>\n",
       "      <td>2016-01-10 07:35:15</td>\n",
       "      <td>2016-01-10 07:46:10</td>\n",
       "      <td>1</td>\n",
       "      <td>-74.000946</td>\n",
       "      <td>40.747379</td>\n",
       "      <td>-73.970184</td>\n",
       "      <td>40.796547</td>\n",
       "      <td>0</td>\n",
       "      <td>655</td>\n",
       "      <td>1</td>\n",
       "      <td>6</td>\n",
       "      <td>7</td>\n",
       "      <td>0</td>\n",
       "      <td>6.049836</td>\n",
       "      <td>25.342196</td>\n",
       "      <td>33.251005</td>\n",
       "    </tr>\n",
       "    <tr>\n",
       "      <th>1458641</th>\n",
       "      <td>id2304944</td>\n",
       "      <td>2</td>\n",
       "      <td>2016-04-22 06:57:41</td>\n",
       "      <td>2016-04-22 07:10:25</td>\n",
       "      <td>1</td>\n",
       "      <td>-73.959129</td>\n",
       "      <td>40.768799</td>\n",
       "      <td>-74.004433</td>\n",
       "      <td>40.707371</td>\n",
       "      <td>0</td>\n",
       "      <td>764</td>\n",
       "      <td>4</td>\n",
       "      <td>4</td>\n",
       "      <td>6</td>\n",
       "      <td>1</td>\n",
       "      <td>7.824606</td>\n",
       "      <td>209.211508</td>\n",
       "      <td>36.869870</td>\n",
       "    </tr>\n",
       "    <tr>\n",
       "      <th>1458642</th>\n",
       "      <td>id2714485</td>\n",
       "      <td>1</td>\n",
       "      <td>2016-01-05 15:56:26</td>\n",
       "      <td>2016-01-05 16:02:39</td>\n",
       "      <td>1</td>\n",
       "      <td>-73.982079</td>\n",
       "      <td>40.749062</td>\n",
       "      <td>-73.974632</td>\n",
       "      <td>40.757107</td>\n",
       "      <td>0</td>\n",
       "      <td>373</td>\n",
       "      <td>1</td>\n",
       "      <td>1</td>\n",
       "      <td>15</td>\n",
       "      <td>1</td>\n",
       "      <td>1.092564</td>\n",
       "      <td>35.033294</td>\n",
       "      <td>10.544853</td>\n",
       "    </tr>\n",
       "    <tr>\n",
       "      <th>1458643</th>\n",
       "      <td>id1209952</td>\n",
       "      <td>1</td>\n",
       "      <td>2016-04-05 14:44:25</td>\n",
       "      <td>2016-04-05 14:47:43</td>\n",
       "      <td>1</td>\n",
       "      <td>-73.979538</td>\n",
       "      <td>40.781750</td>\n",
       "      <td>-73.972809</td>\n",
       "      <td>40.790585</td>\n",
       "      <td>0</td>\n",
       "      <td>198</td>\n",
       "      <td>4</td>\n",
       "      <td>1</td>\n",
       "      <td>14</td>\n",
       "      <td>1</td>\n",
       "      <td>1.134042</td>\n",
       "      <td>29.969486</td>\n",
       "      <td>20.618945</td>\n",
       "    </tr>\n",
       "  </tbody>\n",
       "</table>\n",
       "</div>"
      ],
      "text/plain": [
       "                id  vendor_id     pickup_datetime    dropoff_datetime  \\\n",
       "1458639  id2376096          2 2016-04-08 13:31:04 2016-04-08 13:44:02   \n",
       "1458640  id1049543          1 2016-01-10 07:35:15 2016-01-10 07:46:10   \n",
       "1458641  id2304944          2 2016-04-22 06:57:41 2016-04-22 07:10:25   \n",
       "1458642  id2714485          1 2016-01-05 15:56:26 2016-01-05 16:02:39   \n",
       "1458643  id1209952          1 2016-04-05 14:44:25 2016-04-05 14:47:43   \n",
       "\n",
       "         passenger_count  pickup_longitude  pickup_latitude  \\\n",
       "1458639                4        -73.982201        40.745522   \n",
       "1458640                1        -74.000946        40.747379   \n",
       "1458641                1        -73.959129        40.768799   \n",
       "1458642                1        -73.982079        40.749062   \n",
       "1458643                1        -73.979538        40.781750   \n",
       "\n",
       "         dropoff_longitude  dropoff_latitude  store_and_fwd_flag  \\\n",
       "1458639         -73.994911         40.740170                   0   \n",
       "1458640         -73.970184         40.796547                   0   \n",
       "1458641         -74.004433         40.707371                   0   \n",
       "1458642         -73.974632         40.757107                   0   \n",
       "1458643         -73.972809         40.790585                   0   \n",
       "\n",
       "         trip_duration  pickup_month  pickup_weekday  pickup_hour  \\\n",
       "1458639            778             4               4           13   \n",
       "1458640            655             1               6            7   \n",
       "1458641            764             4               4            6   \n",
       "1458642            373             1               1           15   \n",
       "1458643            198             4               1           14   \n",
       "\n",
       "         working_day  distance     bearing  avg_speed_km_h  \n",
       "1458639            1  1.225080  240.940662        5.668751  \n",
       "1458640            0  6.049836   25.342196       33.251005  \n",
       "1458641            1  7.824606  209.211508       36.869870  \n",
       "1458642            1  1.092564   35.033294       10.544853  \n",
       "1458643            1  1.134042   29.969486       20.618945  "
      ]
     },
     "execution_count": 74,
     "metadata": {},
     "output_type": "execute_result"
    }
   ],
   "source": [
    "train_dis_0_big_loc_dur_rm.tail()"
   ]
  },
  {
   "cell_type": "code",
   "execution_count": 72,
   "metadata": {},
   "outputs": [
    {
     "name": "stdout",
     "output_type": "stream",
     "text": [
      "                               OLS Regression Results                              \n",
      "===================================================================================\n",
      "Dep. Variable:     np.log1p(trip_duration)   R-squared:                       0.662\n",
      "Model:                                 OLS   Adj. R-squared:                  0.662\n",
      "Method:                      Least Squares   F-statistic:                 2.031e+05\n",
      "Date:                     Wed, 14 Mar 2018   Prob (F-statistic):               0.00\n",
      "Time:                             17:26:12   Log-Likelihood:            -8.8299e+05\n",
      "No. Observations:                  1450845   AIC:                         1.766e+06\n",
      "Df Residuals:                      1450830   BIC:                         1.766e+06\n",
      "Df Model:                               14                                         \n",
      "Covariance Type:                 nonrobust                                         \n",
      "=================================================================================================\n",
      "                                    coef    std err          t      P>|t|      [0.025      0.975]\n",
      "-------------------------------------------------------------------------------------------------\n",
      "C(working_day)[0]                 5.0188      0.001   3781.110      0.000       5.016       5.021\n",
      "C(working_day)[1]                 5.1913      0.001   5193.088      0.000       5.189       5.193\n",
      "scale(passenger_count)            0.0077      0.000     20.843      0.000       0.007       0.008\n",
      "np.log1p(distance)                1.0508      0.001   1552.423      0.000       1.049       1.052\n",
      "scale(bearing)                    0.0793      0.000    188.710      0.000       0.078       0.080\n",
      "scale(pickup_month)               0.0267      0.000     72.165      0.000       0.026       0.027\n",
      "scale(pickup_weekday)             0.0332      0.001     55.922      0.000       0.032       0.034\n",
      "scale(pickup_hour)               -0.0692      0.003    -22.519      0.000      -0.075      -0.063\n",
      "scale(I(pickup_hour ** 2))        0.0725      0.003     23.632      0.000       0.066       0.079\n",
      "scale(pickup_latitude)           -0.0137      0.000    -32.251      0.000      -0.015      -0.013\n",
      "scale(pickup_longitude)          -0.1189      0.000   -265.303      0.000      -0.120      -0.118\n",
      "scale(dropoff_latitude)          -0.0058      0.000    -13.331      0.000      -0.007      -0.005\n",
      "scale(avg_speed_km_h)            -0.8750      0.037    -23.917      0.000      -0.947      -0.803\n",
      "scale(I(avg_speed_km_h ** 2))     1.1726      0.070     16.839      0.000       1.036       1.309\n",
      "scale(I(avg_speed_km_h ** 3))    -0.4635      0.034    -13.800      0.000      -0.529      -0.398\n",
      "==============================================================================\n",
      "Omnibus:                   342245.826   Durbin-Watson:                   1.999\n",
      "Prob(Omnibus):                  0.000   Jarque-Bera (JB):         11608138.283\n",
      "Skew:                          -0.446   Prob(JB):                         0.00\n",
      "Kurtosis:                      16.828   Cond. No.                         421.\n",
      "==============================================================================\n",
      "\n",
      "Warnings:\n",
      "[1] Standard Errors assume that the covariance matrix of the errors is correctly specified.\n"
     ]
    }
   ],
   "source": [
    "model23_dis_0_big_loc_dur_rm3_2_new = sm.OLS.from_formula(\"np.log1p(trip_duration) ~  C(working_day) + scale(passenger_count) + np.log1p(distance) + scale(bearing) + scale(pickup_month) + scale(pickup_weekday) + scale(pickup_hour) + scale(I(pickup_hour**2)) + scale(pickup_latitude) + scale(pickup_longitude) + scale(dropoff_latitude) + scale(avg_speed_km_h) + scale(I(avg_speed_km_h**2)) + scale(I(avg_speed_km_h**3)) - 1\", train_speed_dis_0_big_loc_dur_rm2)\n",
    "result23_dis_0_big_loc_dur_rm3_2_new = model23_dis_0_big_loc_dur_rm3_2_new.fit()\n",
    "print(result23_dis_0_big_loc_dur_rm3_2_new.summary())"
   ]
  },
  {
   "cell_type": "code",
   "execution_count": 78,
   "metadata": {},
   "outputs": [
    {
     "name": "stdout",
     "output_type": "stream",
     "text": [
      "                               OLS Regression Results                              \n",
      "===================================================================================\n",
      "Dep. Variable:     np.log1p(trip_duration)   R-squared:                       0.662\n",
      "Model:                                 OLS   Adj. R-squared:                  0.662\n",
      "Method:                      Least Squares   F-statistic:                 2.031e+05\n",
      "Date:                     Wed, 14 Mar 2018   Prob (F-statistic):               0.00\n",
      "Time:                             17:33:51   Log-Likelihood:            -8.8299e+05\n",
      "No. Observations:                  1450845   AIC:                         1.766e+06\n",
      "Df Residuals:                      1450830   BIC:                         1.766e+06\n",
      "Df Model:                               14                                         \n",
      "Covariance Type:                 nonrobust                                         \n",
      "=================================================================================================\n",
      "                                    coef    std err          t      P>|t|      [0.025      0.975]\n",
      "-------------------------------------------------------------------------------------------------\n",
      "C(working_day)[0]                 5.0188      0.001   3781.110      0.000       5.016       5.021\n",
      "C(working_day)[1]                 5.1913      0.001   5193.088      0.000       5.189       5.193\n",
      "scale(passenger_count)            0.0077      0.000     20.843      0.000       0.007       0.008\n",
      "np.log1p(distance)                1.0508      0.001   1552.423      0.000       1.049       1.052\n",
      "scale(bearing)                    0.0793      0.000    188.710      0.000       0.078       0.080\n",
      "scale(pickup_month)               0.0267      0.000     72.165      0.000       0.026       0.027\n",
      "scale(pickup_weekday)             0.0332      0.001     55.922      0.000       0.032       0.034\n",
      "scale(pickup_hour)               -0.0692      0.003    -22.519      0.000      -0.075      -0.063\n",
      "scale(I(pickup_hour ** 2))        0.0725      0.003     23.632      0.000       0.066       0.079\n",
      "scale(pickup_latitude)           -0.0137      0.000    -32.251      0.000      -0.015      -0.013\n",
      "scale(pickup_longitude)          -0.1189      0.000   -265.303      0.000      -0.120      -0.118\n",
      "scale(dropoff_latitude)          -0.0058      0.000    -13.331      0.000      -0.007      -0.005\n",
      "scale(avg_speed_km_h)            -0.8750      0.037    -23.917      0.000      -0.947      -0.803\n",
      "scale(I(avg_speed_km_h ** 2))     1.1726      0.070     16.839      0.000       1.036       1.309\n",
      "scale(I(avg_speed_km_h ** 3))    -0.4635      0.034    -13.800      0.000      -0.529      -0.398\n",
      "==============================================================================\n",
      "Omnibus:                   342245.826   Durbin-Watson:                   1.999\n",
      "Prob(Omnibus):                  0.000   Jarque-Bera (JB):         11608138.283\n",
      "Skew:                          -0.446   Prob(JB):                         0.00\n",
      "Kurtosis:                      16.828   Cond. No.                         421.\n",
      "==============================================================================\n",
      "\n",
      "Warnings:\n",
      "[1] Standard Errors assume that the covariance matrix of the errors is correctly specified.\n"
     ]
    }
   ],
   "source": [
    "model23_dis_0_big_loc_dur_rm3_2_new2 = sm.OLS.from_formula(\"np.log1p(trip_duration) ~  C(working_day) + scale(passenger_count) + np.log1p(distance) + scale(bearing) + scale(pickup_month) + scale(pickup_weekday) + scale(pickup_hour) + scale(I(pickup_hour**2)) + scale(pickup_latitude) + scale(pickup_longitude) + scale(dropoff_latitude) + scale(avg_speed_km_h) + scale(I(avg_speed_km_h**2)) + scale(I(avg_speed_km_h**3)) - 1\", train_dis_0_big_loc_dur_rm2)\n",
    "result23_dis_0_big_loc_dur_rm3_2_new2 = model23_dis_0_big_loc_dur_rm3_2_new2.fit()\n",
    "print(result23_dis_0_big_loc_dur_rm3_2_new2.summary())"
   ]
  },
  {
   "cell_type": "code",
   "execution_count": 78,
   "metadata": {
    "scrolled": true
   },
   "outputs": [
    {
     "name": "stdout",
     "output_type": "stream",
     "text": [
      "                               OLS Regression Results                              \n",
      "===================================================================================\n",
      "Dep. Variable:     np.log1p(trip_duration)   R-squared:                       0.662\n",
      "Model:                                 OLS   Adj. R-squared:                  0.662\n",
      "Method:                      Least Squares   F-statistic:                 2.031e+05\n",
      "Date:                     Wed, 14 Mar 2018   Prob (F-statistic):               0.00\n",
      "Time:                             17:33:51   Log-Likelihood:            -8.8299e+05\n",
      "No. Observations:                  1450845   AIC:                         1.766e+06\n",
      "Df Residuals:                      1450830   BIC:                         1.766e+06\n",
      "Df Model:                               14                                         \n",
      "Covariance Type:                 nonrobust                                         \n",
      "=================================================================================================\n",
      "                                    coef    std err          t      P>|t|      [0.025      0.975]\n",
      "-------------------------------------------------------------------------------------------------\n",
      "C(working_day)[0]                 5.0188      0.001   3781.110      0.000       5.016       5.021\n",
      "C(working_day)[1]                 5.1913      0.001   5193.088      0.000       5.189       5.193\n",
      "scale(passenger_count)            0.0077      0.000     20.843      0.000       0.007       0.008\n",
      "np.log1p(distance)                1.0508      0.001   1552.423      0.000       1.049       1.052\n",
      "scale(bearing)                    0.0793      0.000    188.710      0.000       0.078       0.080\n",
      "scale(pickup_month)               0.0267      0.000     72.165      0.000       0.026       0.027\n",
      "scale(pickup_weekday)             0.0332      0.001     55.922      0.000       0.032       0.034\n",
      "scale(pickup_hour)               -0.0692      0.003    -22.519      0.000      -0.075      -0.063\n",
      "scale(I(pickup_hour ** 2))        0.0725      0.003     23.632      0.000       0.066       0.079\n",
      "scale(pickup_latitude)           -0.0137      0.000    -32.251      0.000      -0.015      -0.013\n",
      "scale(pickup_longitude)          -0.1189      0.000   -265.303      0.000      -0.120      -0.118\n",
      "scale(dropoff_latitude)          -0.0058      0.000    -13.331      0.000      -0.007      -0.005\n",
      "scale(avg_speed_km_h)            -0.8750      0.037    -23.917      0.000      -0.947      -0.803\n",
      "scale(I(avg_speed_km_h ** 2))     1.1726      0.070     16.839      0.000       1.036       1.309\n",
      "scale(I(avg_speed_km_h ** 3))    -0.4635      0.034    -13.800      0.000      -0.529      -0.398\n",
      "==============================================================================\n",
      "Omnibus:                   342245.826   Durbin-Watson:                   1.999\n",
      "Prob(Omnibus):                  0.000   Jarque-Bera (JB):         11608138.283\n",
      "Skew:                          -0.446   Prob(JB):                         0.00\n",
      "Kurtosis:                      16.828   Cond. No.                         421.\n",
      "==============================================================================\n",
      "\n",
      "Warnings:\n",
      "[1] Standard Errors assume that the covariance matrix of the errors is correctly specified.\n"
     ]
    }
   ],
   "source": [
    "model23_dis_0_big_loc_dur_rm3_2_new2 = sm.OLS.from_formula(\"np.log1p(trip_duration) ~  C(working_day) + scale(passenger_count) + np.log1p(distance) + scale(bearing) + scale(pickup_month) + scale(pickup_weekday) + scale(pickup_hour) + scale(I(pickup_hour**2)) + scale(pickup_latitude) + scale(pickup_longitude) + scale(dropoff_latitude) + scale(avg_speed_km_h) + scale(I(avg_speed_km_h**2)) + scale(I(avg_speed_km_h**3)) - 1\", train_dis_0_big_loc_dur_rm2)\n",
    "result23_dis_0_big_loc_dur_rm3_2_new2 = model23_dis_0_big_loc_dur_rm3_2_new2.fit()\n",
    "print(result23_dis_0_big_loc_dur_rm3_2_new2.summary())"
   ]
  },
  {
   "cell_type": "code",
   "execution_count": 79,
   "metadata": {
    "scrolled": false
   },
   "outputs": [
    {
     "name": "stdout",
     "output_type": "stream",
     "text": [
      "C(working_day)[0]                5.114988\n",
      "C(working_day)[1]                5.282858\n",
      "scale(passenger_count)           0.006795\n",
      "np.log1p(distance)               0.975521\n",
      "scale(bearing)                   0.000000\n",
      "scale(pickup_month)              0.025337\n",
      "scale(pickup_weekday)            0.034866\n",
      "scale(pickup_hour)               0.000000\n",
      "scale(I(pickup_hour ** 2))      -0.004339\n",
      "scale(pickup_latitude)           0.000000\n",
      "scale(pickup_longitude)          0.000000\n",
      "scale(dropoff_latitude)         -0.038328\n",
      "scale(avg_speed_km_h)           -0.143751\n",
      "scale(I(avg_speed_km_h ** 2))    0.000000\n",
      "scale(I(avg_speed_km_h ** 3))    0.000600\n",
      "dtype: float64\n"
     ]
    }
   ],
   "source": [
    "result23_dis_0_big_loc_dur_rm3_2_new2_lasso = model23_dis_0_big_loc_dur_rm3_2_new2.fit_regularized(alpha=0.001, L1_wt=1)\n",
    "print(result23_dis_0_big_loc_dur_rm3_2_new2_lasso.params)"
   ]
  },
  {
   "cell_type": "code",
   "execution_count": 80,
   "metadata": {
    "scrolled": false
   },
   "outputs": [
    {
     "name": "stdout",
     "output_type": "stream",
     "text": [
      "C(working_day)[0]                5.115764\n",
      "C(working_day)[1]                5.283569\n",
      "scale(passenger_count)           0.006899\n",
      "np.log1p(distance)               0.975101\n",
      "scale(bearing)                   0.000000\n",
      "scale(pickup_month)              0.025448\n",
      "scale(pickup_weekday)            0.034960\n",
      "scale(pickup_hour)               0.000000\n",
      "scale(I(pickup_hour ** 2))      -0.004054\n",
      "scale(pickup_latitude)           0.000000\n",
      "scale(pickup_longitude)          0.000000\n",
      "scale(dropoff_latitude)         -0.038475\n",
      "scale(avg_speed_km_h)           -0.147943\n",
      "scale(I(avg_speed_km_h ** 2))    0.000000\n",
      "scale(I(avg_speed_km_h ** 3))    0.004858\n",
      "dtype: float64\n"
     ]
    }
   ],
   "source": [
    "result23_dis_0_big_loc_dur_rm3_2_new2_lasso2 = model23_dis_0_big_loc_dur_rm3_2_new2.fit_regularized(alpha=0.0009, L1_wt=1)\n",
    "print(result23_dis_0_big_loc_dur_rm3_2_new2_lasso2.params)"
   ]
  },
  {
   "cell_type": "code",
   "execution_count": 81,
   "metadata": {},
   "outputs": [
    {
     "name": "stdout",
     "output_type": "stream",
     "text": [
      "                               OLS Regression Results                              \n",
      "===================================================================================\n",
      "Dep. Variable:     np.log1p(trip_duration)   R-squared:                       0.662\n",
      "Model:                                 OLS   Adj. R-squared:                  0.662\n",
      "Method:                      Least Squares   F-statistic:                 2.365e+05\n",
      "Date:                     Wed, 14 Mar 2018   Prob (F-statistic):               0.00\n",
      "Time:                             17:43:47   Log-Likelihood:            -8.8379e+05\n",
      "No. Observations:                  1450845   AIC:                         1.768e+06\n",
      "Df Residuals:                      1450832   BIC:                         1.768e+06\n",
      "Df Model:                               12                                         \n",
      "Covariance Type:                 nonrobust                                         \n",
      "=================================================================================================\n",
      "                                    coef    std err          t      P>|t|      [0.025      0.975]\n",
      "-------------------------------------------------------------------------------------------------\n",
      "C(working_day)[0]                 5.0172      0.001   3783.009      0.000       5.015       5.020\n",
      "C(working_day)[1]                 5.1876      0.001   5210.264      0.000       5.186       5.190\n",
      "scale(passenger_count)            0.0078      0.000     21.118      0.000       0.007       0.009\n",
      "np.log1p(distance)                1.0533      0.001   1562.858      0.000       1.052       1.055\n",
      "scale(bearing)                    0.0770      0.000    185.560      0.000       0.076       0.078\n",
      "scale(pickup_month)               0.0266      0.000     72.060      0.000       0.026       0.027\n",
      "scale(pickup_weekday)             0.0336      0.001     56.550      0.000       0.032       0.035\n",
      "scale(I(pickup_hour ** 2))        0.0045      0.000      9.723      0.000       0.004       0.005\n",
      "scale(pickup_longitude)          -0.1167      0.000   -264.051      0.000      -0.118      -0.116\n",
      "scale(dropoff_latitude)          -0.0121      0.000    -30.939      0.000      -0.013      -0.011\n",
      "scale(avg_speed_km_h)            -0.9182      0.037    -25.094      0.000      -0.990      -0.846\n",
      "scale(I(avg_speed_km_h ** 2))     1.3569      0.069     19.543      0.000       1.221       1.493\n",
      "scale(I(avg_speed_km_h ** 3))    -0.5917      0.033    -17.762      0.000      -0.657      -0.526\n",
      "==============================================================================\n",
      "Omnibus:                   332412.946   Durbin-Watson:                   1.998\n",
      "Prob(Omnibus):                  0.000   Jarque-Bera (JB):         10000851.232\n",
      "Skew:                          -0.452   Prob(JB):                         0.00\n",
      "Kurtosis:                      15.830   Cond. No.                         403.\n",
      "==============================================================================\n",
      "\n",
      "Warnings:\n",
      "[1] Standard Errors assume that the covariance matrix of the errors is correctly specified.\n"
     ]
    }
   ],
   "source": [
    "model23_dis_0_big_loc_dur_rm3_2_new3 = sm.OLS.from_formula(\"np.log1p(trip_duration) ~  C(working_day) + scale(passenger_count) + np.log1p(distance) + scale(bearing) + scale(pickup_month) + scale(pickup_weekday) + scale(I(pickup_hour**2)) + scale(pickup_longitude) + scale(dropoff_latitude) + scale(avg_speed_km_h) + scale(I(avg_speed_km_h**2)) + scale(I(avg_speed_km_h**3)) - 1\", train_dis_0_big_loc_dur_rm2)\n",
    "result23_dis_0_big_loc_dur_rm3_2_new3 = model23_dis_0_big_loc_dur_rm3_2_new3.fit()\n",
    "print(result23_dis_0_big_loc_dur_rm3_2_new3.summary())"
   ]
  },
  {
   "cell_type": "code",
   "execution_count": 82,
   "metadata": {},
   "outputs": [
    {
     "name": "stdout",
     "output_type": "stream",
     "text": [
      "                               OLS Regression Results                              \n",
      "===================================================================================\n",
      "Dep. Variable:     np.log1p(trip_duration)   R-squared:                       0.662\n",
      "Model:                                 OLS   Adj. R-squared:                  0.662\n",
      "Method:                      Least Squares   F-statistic:                 2.579e+05\n",
      "Date:                     Wed, 14 Mar 2018   Prob (F-statistic):               0.00\n",
      "Time:                             17:47:16   Log-Likelihood:            -8.8398e+05\n",
      "No. Observations:                  1450845   AIC:                         1.768e+06\n",
      "Df Residuals:                      1450833   BIC:                         1.768e+06\n",
      "Df Model:                               11                                         \n",
      "Covariance Type:                 nonrobust                                         \n",
      "=================================================================================================\n",
      "                                    coef    std err          t      P>|t|      [0.025      0.975]\n",
      "-------------------------------------------------------------------------------------------------\n",
      "C(working_day)[0]                 5.0179      0.001   3784.394      0.000       5.015       5.020\n",
      "C(working_day)[1]                 5.1870      0.001   5211.678      0.000       5.185       5.189\n",
      "scale(passenger_count)            0.0079      0.000     21.247      0.000       0.007       0.009\n",
      "np.log1p(distance)                1.0535      0.001   1563.130      0.000       1.052       1.055\n",
      "scale(bearing)                    0.0768      0.000    185.252      0.000       0.076       0.078\n",
      "scale(pickup_month)               0.0266      0.000     72.018      0.000       0.026       0.027\n",
      "scale(pickup_weekday)             0.0338      0.001     56.851      0.000       0.033       0.035\n",
      "scale(I(pickup_hour ** 2))        0.0002      0.000      0.393      0.694      -0.001       0.001\n",
      "scale(pickup_longitude)          -0.1168      0.000   -264.207      0.000      -0.118      -0.116\n",
      "scale(dropoff_latitude)          -0.0121      0.000    -31.079      0.000      -0.013      -0.011\n",
      "scale(avg_speed_km_h)            -0.2040      0.002   -108.319      0.000      -0.208      -0.200\n",
      "scale(I(avg_speed_km_h ** 3))     0.0583      0.002     30.579      0.000       0.055       0.062\n",
      "==============================================================================\n",
      "Omnibus:                   332313.634   Durbin-Watson:                   1.998\n",
      "Prob(Omnibus):                  0.000   Jarque-Bera (JB):         10004998.462\n",
      "Skew:                          -0.451   Prob(JB):                         0.00\n",
      "Kurtosis:                      15.833   Cond. No.                         11.5\n",
      "==============================================================================\n",
      "\n",
      "Warnings:\n",
      "[1] Standard Errors assume that the covariance matrix of the errors is correctly specified.\n"
     ]
    }
   ],
   "source": [
    "model23_dis_0_big_loc_dur_rm3_2_new4 = sm.OLS.from_formula(\"np.log1p(trip_duration) ~  C(working_day) + scale(passenger_count) + np.log1p(distance) + scale(bearing) + scale(pickup_month) + scale(pickup_weekday) + scale(I(pickup_hour**2)) + scale(pickup_longitude) + scale(dropoff_latitude) + scale(avg_speed_km_h) + scale(I(avg_speed_km_h**3)) - 1\", train_dis_0_big_loc_dur_rm2)\n",
    "result23_dis_0_big_loc_dur_rm3_2_new4 = model23_dis_0_big_loc_dur_rm3_2_new4.fit()\n",
    "print(result23_dis_0_big_loc_dur_rm3_2_new4.summary())"
   ]
  },
  {
   "cell_type": "code",
   "execution_count": 84,
   "metadata": {},
   "outputs": [
    {
     "data": {
      "image/png": "[encoded data removed]",
      "text/plain": [
       "<matplotlib.figure.Figure at 0x14ea3135400>"
      ]
     },
     "metadata": {
      "image/png": {
       "height": 279,
       "width": 386
      }
     },
     "output_type": "display_data"
    }
   ],
   "source": [
    "sp.stats.probplot(result23_dis_0_big_loc_dur_rm3_2_new4.resid, plot=plt)\n",
    "plt.show()"
   ]
  },
  {
   "cell_type": "code",
   "execution_count": null,
   "metadata": {
    "collapsed": true
   },
   "outputs": [],
   "source": []
  },
  {
   "cell_type": "code",
   "execution_count": 46,
   "metadata": {},
   "outputs": [
    {
     "name": "stdout",
     "output_type": "stream",
     "text": [
      "599 outliers are omitted from the data.\n"
     ]
    }
   ],
   "source": [
    "# 레버리지 구하기\n",
    "influence = result23_dis_0_big_loc_dur_rm3_2.get_influence()\n",
    "hat = influence.hat_matrix_diag\n",
    "# 레버리지의 평균 구하기(n = 1458644, n은 데이터의 개수)\n",
    "hat_mean = hat.sum() / 1458644\n",
    "# 표준화 잔차 구하기\n",
    "rs_p = result23_dis_0_big_loc_dur_rm3_2.resid_pearson\n",
    "# 레버리지와 표준화 잔차로 이루어진 data frame 만들기(index는 train data의 index와 동일)\n",
    "d = {\"hat\" : hat, \"rs_p\" : rs_p}\n",
    "hat_rs_p_df = pd.DataFrame(data = d, index = train_dis_0_big_loc_dur_rm.index.values)\n",
    "# 레버리지와 표준화 잔차가 각각 일정수준 이상으로 큰 value들은 True로 나오는 data frame 만들기(index는 train data의 index와 동일)\n",
    "d_3h3r = {\"hat\" : hat > (3 * hat_mean), \"rs_p\" : rs_p > 3}\n",
    "hat_rs_p_out_3h3r_df = pd.DataFrame(data = d_3h3r, index = train_dis_0_big_loc_dur_rm.index.values)\n",
    "# 아웃라이어 data(레버리지와 표준화 잔차 둘 다 큰것. 따라서 any를 씀)의 표준화 잔차와 레버리지(index는 재정렬되지 않은 상태)\n",
    "outlier_3h3r = hat_rs_p_df[hat_rs_p_out_3h3r_df]\n",
    "outlier_3h3r.dropna(how = \"any\", inplace = True)\n",
    "# outlier의 index 뽑기\n",
    "outlier_3h3r_index = outlier_3h3r.index\n",
    "# 뽑은 index로 train data에서 outlier 제거하기\n",
    "train_out_rm_3h3r_result23_dis_0_big_loc_dur_rm3_2 = train.drop(labels = outlier_3h3r_index)\n",
    "train_out_rm_3h3r_result23_dis_0_big_loc_dur_rm3_2.reset_index(drop=True, inplace=True)\n",
    "# 몇개의 outlier들이 제거되었는지 print하기\n",
    "print(\"{} outliers are omitted from the data.\".format(len(outlier_3h3r_index)))"
   ]
  },
  {
   "cell_type": "markdown",
   "metadata": {},
   "source": [
    "3-23_dis_0_big_loc_dur_rm에서 pickup_longitude의 2차 다항회귀 제거 & scale(dropoff_longitude) 제거 & np.log(distance)에서 np.log1p(distance)로 변경"
   ]
  },
  {
   "cell_type": "markdown",
   "metadata": {},
   "source": [
    "- a : 위의 model에서 data를 3h3r data로 변경"
   ]
  },
  {
   "cell_type": "code",
   "execution_count": 48,
   "metadata": {
    "scrolled": true
   },
   "outputs": [
    {
     "name": "stdout",
     "output_type": "stream",
     "text": [
      "                               OLS Regression Results                              \n",
      "===================================================================================\n",
      "Dep. Variable:     np.log1p(trip_duration)   R-squared:                       0.849\n",
      "Model:                                 OLS   Adj. R-squared:                  0.849\n",
      "Method:                      Least Squares   F-statistic:                 5.840e+05\n",
      "Date:                     Wed, 14 Mar 2018   Prob (F-statistic):               0.00\n",
      "Time:                             16:18:57   Log-Likelihood:            -3.5616e+05\n",
      "No. Observations:                  1458045   AIC:                         7.123e+05\n",
      "Df Residuals:                      1458030   BIC:                         7.125e+05\n",
      "Df Model:                               14                                         \n",
      "Covariance Type:                 nonrobust                                         \n",
      "=================================================================================================\n",
      "                                    coef    std err          t      P>|t|      [0.025      0.975]\n",
      "-------------------------------------------------------------------------------------------------\n",
      "C(working_day)[0]                 4.6721      0.001   5019.608      0.000       4.670       4.674\n",
      "C(working_day)[1]                 4.6914      0.001   6251.227      0.000       4.690       4.693\n",
      "scale(passenger_count)            0.0056      0.000     21.753      0.000       0.005       0.006\n",
      "np.log1p(distance)                1.4200      0.001   2770.357      0.000       1.419       1.421\n",
      "scale(bearing)                    0.0041      0.000     15.245      0.000       0.004       0.005\n",
      "scale(pickup_month)               0.0041      0.000     16.179      0.000       0.004       0.005\n",
      "scale(pickup_weekday)             0.0030      0.000      7.241      0.000       0.002       0.004\n",
      "scale(pickup_hour)                0.0294      0.001     28.777      0.000       0.027       0.031\n",
      "scale(I(pickup_hour ** 2))       -0.0368      0.001    -36.300      0.000      -0.039      -0.035\n",
      "scale(pickup_latitude)           -0.0010      0.000     -3.216      0.001      -0.002      -0.000\n",
      "scale(pickup_longitude)          -0.0212      0.000    -77.935      0.000      -0.022      -0.021\n",
      "scale(dropoff_latitude)           0.0108      0.000     34.820      0.000       0.010       0.011\n",
      "scale(avg_speed_km_h)            -0.7679      0.000  -1556.263      0.000      -0.769      -0.767\n",
      "scale(I(avg_speed_km_h ** 2))     1.1951      0.002    499.413      0.000       1.190       1.200\n",
      "scale(I(avg_speed_km_h ** 3))    -0.6446      0.002   -281.622      0.000      -0.649      -0.640\n",
      "==============================================================================\n",
      "Omnibus:                  1307960.033   Durbin-Watson:                   2.000\n",
      "Prob(Omnibus):                  0.000   Jarque-Bera (JB):      12362387210.295\n",
      "Skew:                           2.713   Prob(JB):                         0.00\n",
      "Kurtosis:                     454.066   Cond. No.                         21.4\n",
      "==============================================================================\n",
      "\n",
      "Warnings:\n",
      "[1] Standard Errors assume that the covariance matrix of the errors is correctly specified.\n"
     ]
    }
   ],
   "source": [
    "model23_dis_0_big_loc_dur_rm3_2_3h3r = sm.OLS.from_formula(\"np.log1p(trip_duration) ~  C(working_day) + scale(passenger_count) + np.log1p(distance) + scale(bearing) + scale(pickup_month) + scale(pickup_weekday) + scale(pickup_hour) + scale(I(pickup_hour**2)) + scale(pickup_latitude) + scale(pickup_longitude) + scale(dropoff_latitude) + scale(avg_speed_km_h) + scale(I(avg_speed_km_h**2)) + scale(I(avg_speed_km_h**3)) - 1\", train_out_rm_3h3r_result23_dis_0_big_loc_dur_rm3_2)\n",
    "result23_dis_0_big_loc_dur_rm3_2_3h3r = model23_dis_0_big_loc_dur_rm3_2_3h3r.fit()\n",
    "print(result23_dis_0_big_loc_dur_rm3_2_3h3r.summary())"
   ]
  },
  {
   "cell_type": "markdown",
   "metadata": {},
   "source": [
    "속도 다시 구하기"
   ]
  },
  {
   "cell_type": "code",
   "execution_count": null,
   "metadata": {
    "collapsed": true
   },
   "outputs": [],
   "source": [
    "train_out_rm_3h3r_result23_dis_0_big_loc_dur_rm3_2"
   ]
  },
  {
   "cell_type": "code",
   "execution_count": null,
   "metadata": {
    "collapsed": true
   },
   "outputs": [],
   "source": [
    "train[\"avg_speed_km_h\"] = train[\"distance\"] / (train[\"trip_duration\"] / 3600)\n",
    "train[\"avg_speed_km_h\"].tail()\n",
    "taxi_speed = train.loc[:, [\"pickup_hour\", \"avg_speed_km_h\"]]\n",
    "taxi_speed = taxi_speed.groupby(\"pickup_hour\").mean()\n",
    "taxi_speed.reset_index(level=0, inplace=True)\n",
    "train_speed = pd.merge(train, taxi_speed, on = [\"pickup_hour\"])\n",
    "train_speed.rename(columns = {\"avg_speed_km_h_y\": \"avg_speed_km_h\"}, inplace = True)\n",
    "train_speed.drop(labels = [\"avg_speed_km_h_x\"], axis = 1, inplace = True)"
   ]
  },
  {
   "cell_type": "code",
   "execution_count": null,
   "metadata": {
    "collapsed": true
   },
   "outputs": [],
   "source": []
  },
  {
   "cell_type": "code",
   "execution_count": null,
   "metadata": {
    "collapsed": true
   },
   "outputs": [],
   "source": [
    "2943570.952"
   ]
  },
  {
   "cell_type": "markdown",
   "metadata": {},
   "source": [
    "    - Lasso"
   ]
  },
  {
   "cell_type": "code",
   "execution_count": 50,
   "metadata": {},
   "outputs": [
    {
     "name": "stdout",
     "output_type": "stream",
     "text": [
      "C(working_day)[0]                4.700106\n",
      "C(working_day)[1]                4.725844\n",
      "scale(passenger_count)           0.005379\n",
      "np.log1p(distance)               1.393672\n",
      "scale(bearing)                   0.000000\n",
      "scale(pickup_month)              0.004491\n",
      "scale(pickup_weekday)            0.004180\n",
      "scale(pickup_hour)               0.038159\n",
      "scale(I(pickup_hour ** 2))      -0.044160\n",
      "scale(pickup_latitude)           0.000000\n",
      "scale(pickup_longitude)          0.000000\n",
      "scale(dropoff_latitude)          0.000000\n",
      "scale(avg_speed_km_h)           -0.734379\n",
      "scale(I(avg_speed_km_h ** 2))    0.739318\n",
      "scale(I(avg_speed_km_h ** 3))   -0.216581\n",
      "dtype: float64\n"
     ]
    }
   ],
   "source": [
    "result23_dis_0_big_loc_dur_rm3_2_3h3r_lasso = model23_dis_0_big_loc_dur_rm3_2_3h3r.fit_regularized(alpha=0.0005, L1_wt=1)\n",
    "print(result23_dis_0_big_loc_dur_rm3_2_3h3r_lasso.params)"
   ]
  },
  {
   "cell_type": "code",
   "execution_count": 51,
   "metadata": {},
   "outputs": [
    {
     "name": "stdout",
     "output_type": "stream",
     "text": [
      "C(working_day)[0]                4.693388\n",
      "C(working_day)[1]                4.718785\n",
      "scale(passenger_count)           0.005822\n",
      "np.log1p(distance)               1.399937\n",
      "scale(bearing)                   0.005525\n",
      "scale(pickup_month)              0.005026\n",
      "scale(pickup_weekday)            0.004592\n",
      "scale(pickup_hour)               0.051406\n",
      "scale(I(pickup_hour ** 2))      -0.057155\n",
      "scale(pickup_latitude)          -0.000300\n",
      "scale(pickup_longitude)         -0.021154\n",
      "scale(dropoff_latitude)          0.009352\n",
      "scale(avg_speed_km_h)           -0.732428\n",
      "scale(I(avg_speed_km_h ** 2))    0.767677\n",
      "scale(I(avg_speed_km_h ** 3))   -0.245451\n",
      "dtype: float64\n"
     ]
    }
   ],
   "source": [
    "result23_dis_0_big_loc_dur_rm3_2_3h3r_lasso2 = model23_dis_0_big_loc_dur_rm3_2_3h3r.fit_regularized(alpha=0.0001, L1_wt=1)\n",
    "print(result23_dis_0_big_loc_dur_rm3_2_3h3r_lasso2.params)"
   ]
  },
  {
   "cell_type": "code",
   "execution_count": 53,
   "metadata": {},
   "outputs": [
    {
     "name": "stdout",
     "output_type": "stream",
     "text": [
      "C(working_day)[0]                4.701585\n",
      "C(working_day)[1]                4.727008\n",
      "scale(passenger_count)           0.005587\n",
      "np.log1p(distance)               1.393001\n",
      "scale(bearing)                   0.000000\n",
      "scale(pickup_month)              0.004721\n",
      "scale(pickup_weekday)            0.004441\n",
      "scale(pickup_hour)               0.043852\n",
      "scale(I(pickup_hour ** 2))      -0.049822\n",
      "scale(pickup_latitude)           0.000000\n",
      "scale(pickup_longitude)          0.000000\n",
      "scale(dropoff_latitude)          0.000000\n",
      "scale(avg_speed_km_h)           -0.734363\n",
      "scale(I(avg_speed_km_h ** 2))    0.753663\n",
      "scale(I(avg_speed_km_h ** 3))   -0.231038\n",
      "dtype: float64\n"
     ]
    }
   ],
   "source": [
    "result23_dis_0_big_loc_dur_rm3_2_3h3r_lasso3 = model23_dis_0_big_loc_dur_rm3_2_3h3r.fit_regularized(alpha=0.0003, L1_wt=1)\n",
    "print(result23_dis_0_big_loc_dur_rm3_2_3h3r_lasso3.params)"
   ]
  },
  {
   "cell_type": "code",
   "execution_count": 56,
   "metadata": {},
   "outputs": [
    {
     "name": "stdout",
     "output_type": "stream",
     "text": [
      "C(working_day)[0]                4.692644\n",
      "C(working_day)[1]                4.718186\n",
      "scale(passenger_count)           0.005719\n",
      "np.log1p(distance)               1.400283\n",
      "scale(bearing)                   0.005399\n",
      "scale(pickup_month)              0.004910\n",
      "scale(pickup_weekday)            0.004461\n",
      "scale(pickup_hour)               0.048511\n",
      "scale(I(pickup_hour ** 2))      -0.054274\n",
      "scale(pickup_latitude)           0.000000\n",
      "scale(pickup_longitude)         -0.021020\n",
      "scale(dropoff_latitude)          0.009158\n",
      "scale(avg_speed_km_h)           -0.732436\n",
      "scale(I(avg_speed_km_h ** 2))    0.760361\n",
      "scale(I(avg_speed_km_h ** 3))   -0.238121\n",
      "dtype: float64\n"
     ]
    }
   ],
   "source": [
    "result23_dis_0_big_loc_dur_rm3_2_3h3r_lasso4 = model23_dis_0_big_loc_dur_rm3_2_3h3r.fit_regularized(alpha=0.0002, L1_wt=1)\n",
    "print(result23_dis_0_big_loc_dur_rm3_2_3h3r_lasso4.params)"
   ]
  },
  {
   "cell_type": "code",
   "execution_count": 58,
   "metadata": {},
   "outputs": [
    {
     "name": "stdout",
     "output_type": "stream",
     "text": [
      "C(working_day)[0]                4.701956\n",
      "C(working_day)[1]                4.727299\n",
      "scale(passenger_count)           0.005639\n",
      "np.log1p(distance)               1.392833\n",
      "scale(bearing)                   0.000000\n",
      "scale(pickup_month)              0.004779\n",
      "scale(pickup_weekday)            0.004506\n",
      "scale(pickup_hour)               0.045276\n",
      "scale(I(pickup_hour ** 2))      -0.051238\n",
      "scale(pickup_latitude)           0.000000\n",
      "scale(pickup_longitude)          0.000000\n",
      "scale(dropoff_latitude)          0.000000\n",
      "scale(avg_speed_km_h)           -0.734359\n",
      "scale(I(avg_speed_km_h ** 2))    0.757249\n",
      "scale(I(avg_speed_km_h ** 3))   -0.234652\n",
      "dtype: float64\n"
     ]
    }
   ],
   "source": [
    "result23_dis_0_big_loc_dur_rm3_2_3h3r_lasso5 = model23_dis_0_big_loc_dur_rm3_2_3h3r.fit_regularized(alpha=0.00025, L1_wt=1)\n",
    "print(result23_dis_0_big_loc_dur_rm3_2_3h3r_lasso5.params)"
   ]
  },
  {
   "cell_type": "code",
   "execution_count": 59,
   "metadata": {},
   "outputs": [
    {
     "name": "stdout",
     "output_type": "stream",
     "text": [
      "C(working_day)[0]                4.692427\n",
      "C(working_day)[1]                4.718016\n",
      "scale(passenger_count)           0.005687\n",
      "np.log1p(distance)               1.400379\n",
      "scale(bearing)                   0.005373\n",
      "scale(pickup_month)              0.004875\n",
      "scale(pickup_weekday)            0.004422\n",
      "scale(pickup_hour)               0.047646\n",
      "scale(I(pickup_hour ** 2))      -0.053414\n",
      "scale(pickup_latitude)           0.000000\n",
      "scale(pickup_longitude)         -0.020984\n",
      "scale(dropoff_latitude)          0.009147\n",
      "scale(avg_speed_km_h)           -0.732446\n",
      "scale(I(avg_speed_km_h ** 2))    0.758183\n",
      "scale(I(avg_speed_km_h ** 3))   -0.235921\n",
      "dtype: float64\n"
     ]
    }
   ],
   "source": [
    "result23_dis_0_big_loc_dur_rm3_2_3h3r_lasso6 = model23_dis_0_big_loc_dur_rm3_2_3h3r.fit_regularized(alpha=0.00023, L1_wt=1)\n",
    "print(result23_dis_0_big_loc_dur_rm3_2_3h3r_lasso6.params)"
   ]
  },
  {
   "cell_type": "markdown",
   "metadata": {},
   "source": [
    "- b : a에서 scale(pickup_latitude) 제거"
   ]
  },
  {
   "cell_type": "code",
   "execution_count": 54,
   "metadata": {
    "scrolled": true
   },
   "outputs": [
    {
     "name": "stdout",
     "output_type": "stream",
     "text": [
      "                               OLS Regression Results                              \n",
      "===================================================================================\n",
      "Dep. Variable:     np.log1p(trip_duration)   R-squared:                       0.849\n",
      "Model:                                 OLS   Adj. R-squared:                  0.849\n",
      "Method:                      Least Squares   F-statistic:                 6.289e+05\n",
      "Date:                     Wed, 14 Mar 2018   Prob (F-statistic):               0.00\n",
      "Time:                             16:35:30   Log-Likelihood:            -3.5616e+05\n",
      "No. Observations:                  1458045   AIC:                         7.123e+05\n",
      "Df Residuals:                      1458031   BIC:                         7.125e+05\n",
      "Df Model:                               13                                         \n",
      "Covariance Type:                 nonrobust                                         \n",
      "=================================================================================================\n",
      "                                    coef    std err          t      P>|t|      [0.025      0.975]\n",
      "-------------------------------------------------------------------------------------------------\n",
      "C(working_day)[0]                 4.6719      0.001   5030.638      0.000       4.670       4.674\n",
      "C(working_day)[1]                 4.6912      0.001   6280.279      0.000       4.690       4.693\n",
      "scale(passenger_count)            0.0056      0.000     21.759      0.000       0.005       0.006\n",
      "np.log1p(distance)                1.4202      0.001   2787.061      0.000       1.419       1.421\n",
      "scale(bearing)                    0.0040      0.000     14.955      0.000       0.003       0.005\n",
      "scale(pickup_month)               0.0041      0.000     16.172      0.000       0.004       0.005\n",
      "scale(pickup_weekday)             0.0030      0.000      7.233      0.000       0.002       0.004\n",
      "scale(pickup_hour)                0.0292      0.001     28.640      0.000       0.027       0.031\n",
      "scale(I(pickup_hour ** 2))       -0.0366      0.001    -36.172      0.000      -0.039      -0.035\n",
      "scale(pickup_longitude)          -0.0212      0.000    -77.870      0.000      -0.022      -0.021\n",
      "scale(dropoff_latitude)           0.0103      0.000     38.393      0.000       0.010       0.011\n",
      "scale(avg_speed_km_h)            -0.7679      0.000  -1556.461      0.000      -0.769      -0.767\n",
      "scale(I(avg_speed_km_h ** 2))     1.1950      0.002    499.411      0.000       1.190       1.200\n",
      "scale(I(avg_speed_km_h ** 3))    -0.6446      0.002   -281.643      0.000      -0.649      -0.640\n",
      "==============================================================================\n",
      "Omnibus:                  1311071.133   Durbin-Watson:                   2.000\n",
      "Prob(Omnibus):                  0.000   Jarque-Bera (JB):      12463699443.506\n",
      "Skew:                           2.726   Prob(JB):                         0.00\n",
      "Kurtosis:                     455.910   Cond. No.                         21.3\n",
      "==============================================================================\n",
      "\n",
      "Warnings:\n",
      "[1] Standard Errors assume that the covariance matrix of the errors is correctly specified.\n"
     ]
    }
   ],
   "source": [
    "model23_dis_0_big_loc_dur_rm3_2_3h3r_2 = sm.OLS.from_formula(\"np.log1p(trip_duration) ~  C(working_day) + scale(passenger_count) + np.log1p(distance) + scale(bearing) + scale(pickup_month) + scale(pickup_weekday) + scale(pickup_hour) + scale(I(pickup_hour**2)) + scale(pickup_longitude) + scale(dropoff_latitude) + scale(avg_speed_km_h) + scale(I(avg_speed_km_h**2)) + scale(I(avg_speed_km_h**3)) - 1\", train_out_rm_3h3r_result23_dis_0_big_loc_dur_rm3_2)\n",
    "result23_dis_0_big_loc_dur_rm3_2_3h3r_2 = model23_dis_0_big_loc_dur_rm3_2_3h3r_2.fit()\n",
    "print(result23_dis_0_big_loc_dur_rm3_2_3h3r_2.summary())"
   ]
  },
  {
   "cell_type": "markdown",
   "metadata": {},
   "source": [
    "- c : b에서 scale(bearing) 제거"
   ]
  },
  {
   "cell_type": "code",
   "execution_count": 55,
   "metadata": {
    "scrolled": true
   },
   "outputs": [
    {
     "name": "stdout",
     "output_type": "stream",
     "text": [
      "                               OLS Regression Results                              \n",
      "===================================================================================\n",
      "Dep. Variable:     np.log1p(trip_duration)   R-squared:                       0.849\n",
      "Model:                                 OLS   Adj. R-squared:                  0.849\n",
      "Method:                      Least Squares   F-statistic:                 6.812e+05\n",
      "Date:                     Wed, 14 Mar 2018   Prob (F-statistic):               0.00\n",
      "Time:                             16:41:53   Log-Likelihood:            -3.5627e+05\n",
      "No. Observations:                  1458045   AIC:                         7.126e+05\n",
      "Df Residuals:                      1458032   BIC:                         7.127e+05\n",
      "Df Model:                               12                                         \n",
      "Covariance Type:                 nonrobust                                         \n",
      "=================================================================================================\n",
      "                                    coef    std err          t      P>|t|      [0.025      0.975]\n",
      "-------------------------------------------------------------------------------------------------\n",
      "C(working_day)[0]                 4.6722      0.001   5031.632      0.000       4.670       4.674\n",
      "C(working_day)[1]                 4.6913      0.001   6280.374      0.000       4.690       4.693\n",
      "scale(passenger_count)            0.0056      0.000     21.750      0.000       0.005       0.006\n",
      "np.log1p(distance)                1.4200      0.001   2787.032      0.000       1.419       1.421\n",
      "scale(pickup_month)               0.0041      0.000     16.032      0.000       0.004       0.005\n",
      "scale(pickup_weekday)             0.0029      0.000      7.117      0.000       0.002       0.004\n",
      "scale(pickup_hour)                0.0297      0.001     29.153      0.000       0.028       0.032\n",
      "scale(I(pickup_hour ** 2))       -0.0372      0.001    -36.719      0.000      -0.039      -0.035\n",
      "scale(pickup_longitude)          -0.0202      0.000    -76.463      0.000      -0.021      -0.020\n",
      "scale(dropoff_latitude)           0.0095      0.000     36.019      0.000       0.009       0.010\n",
      "scale(avg_speed_km_h)            -0.7686      0.000  -1565.693      0.000      -0.770      -0.768\n",
      "scale(I(avg_speed_km_h ** 2))     1.1962      0.002    500.148      0.000       1.191       1.201\n",
      "scale(I(avg_speed_km_h ** 3))    -0.6454      0.002   -282.010      0.000      -0.650      -0.641\n",
      "==============================================================================\n",
      "Omnibus:                  1304406.703   Durbin-Watson:                   2.000\n",
      "Prob(Omnibus):                  0.000   Jarque-Bera (JB):      12184134758.244\n",
      "Skew:                           2.699   Prob(JB):                         0.00\n",
      "Kurtosis:                     450.802   Cond. No.                         21.3\n",
      "==============================================================================\n",
      "\n",
      "Warnings:\n",
      "[1] Standard Errors assume that the covariance matrix of the errors is correctly specified.\n"
     ]
    }
   ],
   "source": [
    "model23_dis_0_big_loc_dur_rm3_2_3h3r_3 = sm.OLS.from_formula(\"np.log1p(trip_duration) ~  C(working_day) + scale(passenger_count) + np.log1p(distance) + scale(pickup_month) + scale(pickup_weekday) + scale(pickup_hour) + scale(I(pickup_hour**2)) + scale(pickup_longitude) + scale(dropoff_latitude) + scale(avg_speed_km_h) + scale(I(avg_speed_km_h**2)) + scale(I(avg_speed_km_h**3)) - 1\", train_out_rm_3h3r_result23_dis_0_big_loc_dur_rm3_2)\n",
    "result23_dis_0_big_loc_dur_rm3_2_3h3r_3 = model23_dis_0_big_loc_dur_rm3_2_3h3r_3.fit()\n",
    "print(result23_dis_0_big_loc_dur_rm3_2_3h3r_3.summary())"
   ]
  },
  {
   "cell_type": "markdown",
   "metadata": {},
   "source": [
    "- d : c에서 avg_speed_km_h 4차항 추가"
   ]
  },
  {
   "cell_type": "code",
   "execution_count": 60,
   "metadata": {},
   "outputs": [
    {
     "name": "stdout",
     "output_type": "stream",
     "text": [
      "                               OLS Regression Results                              \n",
      "===================================================================================\n",
      "Dep. Variable:     np.log1p(trip_duration)   R-squared:                       0.853\n",
      "Model:                                 OLS   Adj. R-squared:                  0.853\n",
      "Method:                      Least Squares   F-statistic:                 6.526e+05\n",
      "Date:                     Wed, 14 Mar 2018   Prob (F-statistic):               0.00\n",
      "Time:                             17:03:09   Log-Likelihood:            -3.3320e+05\n",
      "No. Observations:                  1458045   AIC:                         6.664e+05\n",
      "Df Residuals:                      1458031   BIC:                         6.666e+05\n",
      "Df Model:                               13                                         \n",
      "Covariance Type:                 nonrobust                                         \n",
      "=================================================================================================\n",
      "                                    coef    std err          t      P>|t|      [0.025      0.975]\n",
      "-------------------------------------------------------------------------------------------------\n",
      "C(working_day)[0]                 4.6614      0.001   5092.459      0.000       4.660       4.663\n",
      "C(working_day)[1]                 4.6766      0.001   6333.587      0.000       4.675       4.678\n",
      "scale(passenger_count)            0.0053      0.000     21.144      0.000       0.005       0.006\n",
      "np.log1p(distance)                1.4309      0.001   2838.998      0.000       1.430       1.432\n",
      "scale(pickup_month)               0.0036      0.000     14.388      0.000       0.003       0.004\n",
      "scale(pickup_weekday)             0.0023      0.000      5.604      0.000       0.001       0.003\n",
      "scale(pickup_hour)                0.0188      0.001     18.760      0.000       0.017       0.021\n",
      "scale(I(pickup_hour ** 2))       -0.0266      0.001    -26.647      0.000      -0.029      -0.025\n",
      "scale(pickup_longitude)          -0.0208      0.000    -79.764      0.000      -0.021      -0.020\n",
      "scale(dropoff_latitude)           0.0220      0.000     83.049      0.000       0.021       0.023\n",
      "scale(avg_speed_km_h)            -0.8115      0.001  -1553.944      0.000      -0.813      -0.810\n",
      "scale(I(avg_speed_km_h ** 2))     4.5933      0.016    289.546      0.000       4.562       4.624\n",
      "scale(I(avg_speed_km_h ** 3))    -7.7020      0.033   -235.783      0.000      -7.766      -7.638\n",
      "scale(I(avg_speed_km_h ** 4))     3.7337      0.017    216.542      0.000       3.700       3.767\n",
      "==============================================================================\n",
      "Omnibus:                   562738.818   Durbin-Watson:                   2.000\n",
      "Prob(Omnibus):                  0.000   Jarque-Bera (JB):        501762496.505\n",
      "Skew:                           0.166   Prob(JB):                         0.00\n",
      "Kurtosis:                      93.880   Cond. No.                         303.\n",
      "==============================================================================\n",
      "\n",
      "Warnings:\n",
      "[1] Standard Errors assume that the covariance matrix of the errors is correctly specified.\n"
     ]
    }
   ],
   "source": [
    "model23_dis_0_big_loc_dur_rm3_2_3h3r_4 = sm.OLS.from_formula(\"np.log1p(trip_duration) ~  C(working_day) + scale(passenger_count) + np.log1p(distance) + scale(pickup_month) + scale(pickup_weekday) + scale(pickup_hour) + scale(I(pickup_hour**2)) + scale(pickup_longitude) + scale(dropoff_latitude) + scale(avg_speed_km_h) + scale(I(avg_speed_km_h**2)) + scale(I(avg_speed_km_h**3)) + scale(I(avg_speed_km_h**4)) - 1\", train_out_rm_3h3r_result23_dis_0_big_loc_dur_rm3_2)\n",
    "result23_dis_0_big_loc_dur_rm3_2_3h3r_4 = model23_dis_0_big_loc_dur_rm3_2_3h3r_4.fit()\n",
    "print(result23_dis_0_big_loc_dur_rm3_2_3h3r_4.summary())"
   ]
  },
  {
   "cell_type": "markdown",
   "metadata": {},
   "source": [
    "- e : b에서 C(working_day), scale(pickup_month), scale(pickup_weekday) 제거(따라서 상수항 제거 안하고 추가)"
   ]
  },
  {
   "cell_type": "code",
   "execution_count": 62,
   "metadata": {
    "scrolled": true
   },
   "outputs": [
    {
     "name": "stdout",
     "output_type": "stream",
     "text": [
      "                               OLS Regression Results                              \n",
      "===================================================================================\n",
      "Dep. Variable:     np.log1p(trip_duration)   R-squared:                       0.849\n",
      "Model:                                 OLS   Adj. R-squared:                  0.849\n",
      "Method:                      Least Squares   F-statistic:                 8.170e+05\n",
      "Date:                     Wed, 14 Mar 2018   Prob (F-statistic):               0.00\n",
      "Time:                             17:07:59   Log-Likelihood:            -3.5662e+05\n",
      "No. Observations:                  1458045   AIC:                         7.133e+05\n",
      "Df Residuals:                      1458034   BIC:                         7.134e+05\n",
      "Df Model:                               10                                         \n",
      "Covariance Type:                 nonrobust                                         \n",
      "=================================================================================================\n",
      "                                    coef    std err          t      P>|t|      [0.025      0.975]\n",
      "-------------------------------------------------------------------------------------------------\n",
      "Intercept                         4.6844      0.001   6814.456      0.000       4.683       4.686\n",
      "scale(passenger_count)            0.0054      0.000     21.014      0.000       0.005       0.006\n",
      "np.log1p(distance)                1.4212      0.001   2794.471      0.000       1.420       1.422\n",
      "scale(bearing)                    0.0039      0.000     14.527      0.000       0.003       0.004\n",
      "scale(pickup_hour)                0.0305      0.001     30.104      0.000       0.029       0.033\n",
      "scale(I(pickup_hour ** 2))       -0.0376      0.001    -37.251      0.000      -0.040      -0.036\n",
      "scale(pickup_longitude)          -0.0210      0.000    -77.396      0.000      -0.022      -0.020\n",
      "scale(dropoff_latitude)           0.0105      0.000     38.971      0.000       0.010       0.011\n",
      "scale(avg_speed_km_h)            -0.7696      0.000  -1570.952      0.000      -0.771      -0.769\n",
      "scale(I(avg_speed_km_h ** 2))     1.1977      0.002    500.789      0.000       1.193       1.202\n",
      "scale(I(avg_speed_km_h ** 3))    -0.6461      0.002   -282.268      0.000      -0.651      -0.642\n",
      "==============================================================================\n",
      "Omnibus:                  1315980.802   Durbin-Watson:                   2.000\n",
      "Prob(Omnibus):                  0.000   Jarque-Bera (JB):      12687646572.980\n",
      "Skew:                           2.745   Prob(JB):                         0.00\n",
      "Kurtosis:                     459.961   Cond. No.                         22.0\n",
      "==============================================================================\n",
      "\n",
      "Warnings:\n",
      "[1] Standard Errors assume that the covariance matrix of the errors is correctly specified.\n"
     ]
    }
   ],
   "source": [
    "model23_dis_0_big_loc_dur_rm3_2_3h3r_5 = sm.OLS.from_formula(\"np.log1p(trip_duration) ~  scale(passenger_count) + np.log1p(distance) + scale(bearing) + scale(pickup_hour) + scale(I(pickup_hour**2)) + scale(pickup_longitude) + scale(dropoff_latitude) + scale(avg_speed_km_h) + scale(I(avg_speed_km_h**2)) + scale(I(avg_speed_km_h**3))\", train_out_rm_3h3r_result23_dis_0_big_loc_dur_rm3_2)\n",
    "result23_dis_0_big_loc_dur_rm3_2_3h3r_5 = model23_dis_0_big_loc_dur_rm3_2_3h3r_5.fit()\n",
    "print(result23_dis_0_big_loc_dur_rm3_2_3h3r_5.summary())"
   ]
  },
  {
   "cell_type": "code",
   "execution_count": null,
   "metadata": {
    "collapsed": true
   },
   "outputs": [],
   "source": [
    "sp.stats.probplot(result23_dis_0_big_loc_dur_rm3_2_3h3r_5.resid, plot=plt)\n",
    "plt.show()"
   ]
  },
  {
   "cell_type": "markdown",
   "metadata": {},
   "source": [
    "- f : b에서 np.log1p(distance)을 scaling함"
   ]
  },
  {
   "cell_type": "code",
   "execution_count": 63,
   "metadata": {},
   "outputs": [
    {
     "name": "stdout",
     "output_type": "stream",
     "text": [
      "                               OLS Regression Results                              \n",
      "===================================================================================\n",
      "Dep. Variable:     np.log1p(trip_duration)   R-squared:                       0.849\n",
      "Model:                                 OLS   Adj. R-squared:                  0.849\n",
      "Method:                      Least Squares   F-statistic:                 6.289e+05\n",
      "Date:                     Wed, 14 Mar 2018   Prob (F-statistic):               0.00\n",
      "Time:                             17:13:37   Log-Likelihood:            -3.5616e+05\n",
      "No. Observations:                  1458045   AIC:                         7.123e+05\n",
      "Df Residuals:                      1458031   BIC:                         7.125e+05\n",
      "Df Model:                               13                                         \n",
      "Covariance Type:                 nonrobust                                         \n",
      "=================================================================================================\n",
      "                                    coef    std err          t      P>|t|      [0.025      0.975]\n",
      "-------------------------------------------------------------------------------------------------\n",
      "C(working_day)[0]                 6.4536      0.001   9190.350      0.000       6.452       6.455\n",
      "C(working_day)[1]                 6.4728      0.000   1.77e+04      0.000       6.472       6.474\n",
      "scale(passenger_count)            0.0056      0.000     21.759      0.000       0.005       0.006\n",
      "scale(np.log1p(distance))         0.8902      0.000   2787.061      0.000       0.890       0.891\n",
      "scale(bearing)                    0.0040      0.000     14.955      0.000       0.003       0.005\n",
      "scale(pickup_month)               0.0041      0.000     16.172      0.000       0.004       0.005\n",
      "scale(pickup_weekday)             0.0030      0.000      7.233      0.000       0.002       0.004\n",
      "scale(pickup_hour)                0.0292      0.001     28.640      0.000       0.027       0.031\n",
      "scale(I(pickup_hour ** 2))       -0.0366      0.001    -36.172      0.000      -0.039      -0.035\n",
      "scale(pickup_longitude)          -0.0212      0.000    -77.870      0.000      -0.022      -0.021\n",
      "scale(dropoff_latitude)           0.0103      0.000     38.393      0.000       0.010       0.011\n",
      "scale(avg_speed_km_h)            -0.7679      0.000  -1556.461      0.000      -0.769      -0.767\n",
      "scale(I(avg_speed_km_h ** 2))     1.1950      0.002    499.411      0.000       1.190       1.200\n",
      "scale(I(avg_speed_km_h ** 3))    -0.6446      0.002   -281.643      0.000      -0.649      -0.640\n",
      "==============================================================================\n",
      "Omnibus:                  1311071.133   Durbin-Watson:                   2.000\n",
      "Prob(Omnibus):                  0.000   Jarque-Bera (JB):      12463699443.507\n",
      "Skew:                           2.726   Prob(JB):                         0.00\n",
      "Kurtosis:                     455.910   Cond. No.                         21.2\n",
      "==============================================================================\n",
      "\n",
      "Warnings:\n",
      "[1] Standard Errors assume that the covariance matrix of the errors is correctly specified.\n"
     ]
    }
   ],
   "source": [
    "model23_dis_0_big_loc_dur_rm3_2_3h3r_6 = sm.OLS.from_formula(\"np.log1p(trip_duration) ~  C(working_day) + scale(passenger_count) + scale(np.log1p(distance)) + scale(bearing) + scale(pickup_month) + scale(pickup_weekday) + scale(pickup_hour) + scale(I(pickup_hour**2)) + scale(pickup_longitude) + scale(dropoff_latitude) + scale(avg_speed_km_h) + scale(I(avg_speed_km_h**2)) + scale(I(avg_speed_km_h**3)) - 1\", train_out_rm_3h3r_result23_dis_0_big_loc_dur_rm3_2)\n",
    "result23_dis_0_big_loc_dur_rm3_2_3h3r_6 = model23_dis_0_big_loc_dur_rm3_2_3h3r_6.fit()\n",
    "print(result23_dis_0_big_loc_dur_rm3_2_3h3r_6.summary())"
   ]
  },
  {
   "cell_type": "code",
   "execution_count": null,
   "metadata": {
    "collapsed": true
   },
   "outputs": [],
   "source": []
  },
  {
   "cell_type": "code",
   "execution_count": 40,
   "metadata": {},
   "outputs": [
    {
     "name": "stdout",
     "output_type": "stream",
     "text": [
      "                               OLS Regression Results                              \n",
      "===================================================================================\n",
      "Dep. Variable:     np.log1p(trip_duration)   R-squared:                       0.854\n",
      "Model:                                 OLS   Adj. R-squared:                  0.854\n",
      "Method:                      Least Squares   F-statistic:                 5.671e+05\n",
      "Date:                     Wed, 14 Mar 2018   Prob (F-statistic):               0.00\n",
      "Time:                             15:41:09   Log-Likelihood:            -2.7278e+05\n",
      "No. Observations:                  1450845   AIC:                         5.456e+05\n",
      "Df Residuals:                      1450829   BIC:                         5.458e+05\n",
      "Df Model:                               15                                         \n",
      "Covariance Type:                 nonrobust                                         \n",
      "===================================================================================================\n",
      "                                      coef    std err          t      P>|t|      [0.025      0.975]\n",
      "---------------------------------------------------------------------------------------------------\n",
      "C(working_day)[0]                   5.7547      0.001   8194.057      0.000       5.753       5.756\n",
      "C(working_day)[1]                   5.8125      0.000   1.36e+04      0.000       5.812       5.813\n",
      "scale(passenger_count)              0.0023      0.000      9.605      0.000       0.002       0.003\n",
      "np.log(distance)                    0.8335      0.000   2736.682      0.000       0.833       0.834\n",
      "scale(bearing)                      0.0126      0.000     45.268      0.000       0.012       0.013\n",
      "scale(pickup_month)                 0.0118      0.000     48.405      0.000       0.011       0.012\n",
      "scale(pickup_weekday)               0.0115      0.000     29.398      0.000       0.011       0.012\n",
      "scale(pickup_hour)                  0.1014      0.001    104.536      0.000       0.099       0.103\n",
      "scale(I(pickup_hour ** 2))         -0.1074      0.001   -111.440      0.000      -0.109      -0.105\n",
      "scale(pickup_latitude)             -0.0269      0.000    -96.484      0.000      -0.027      -0.026\n",
      "scale(pickup_longitude)             3.9890      0.028    144.836      0.000       3.935       4.043\n",
      "scale(I(pickup_longitude ** 2))     3.9659      0.028    144.028      0.000       3.912       4.020\n",
      "scale(dropoff_latitude)            -0.0038      0.000    -13.366      0.000      -0.004      -0.003\n",
      "scale(avg_speed_km_h)              -0.6952      0.001  -1366.723      0.000      -0.696      -0.694\n",
      "scale(I(avg_speed_km_h ** 2))       1.3623      0.002    794.058      0.000       1.359       1.366\n",
      "scale(I(avg_speed_km_h ** 3))      -0.8521      0.002   -565.141      0.000      -0.855      -0.849\n",
      "==============================================================================\n",
      "Omnibus:                  3113254.934   Durbin-Watson:                   2.000\n",
      "Prob(Omnibus):                  0.000   Jarque-Bera (JB):     227075241672.592\n",
      "Skew:                          17.963   Prob(JB):                         0.00\n",
      "Kurtosis:                    1940.784   Cond. No.                         269.\n",
      "==============================================================================\n",
      "\n",
      "Warnings:\n",
      "[1] Standard Errors assume that the covariance matrix of the errors is correctly specified.\n"
     ]
    }
   ],
   "source": [
    "model23_dis_0_big_loc_dur_rm4 = sm.OLS.from_formula(\"np.log1p(trip_duration) ~  C(working_day) + scale(passenger_count) + np.log(distance) + scale(bearing) + scale(pickup_month) + scale(pickup_weekday) + scale(pickup_hour) + scale(I(pickup_hour**2)) + scale(pickup_latitude) + scale(pickup_longitude) + scale(I(pickup_longitude ** 2)) + scale(dropoff_latitude) + scale(avg_speed_km_h) + scale(I(avg_speed_km_h**2)) + scale(I(avg_speed_km_h**3)) - 1\", train_dis_0_big_loc_dur_rm)\n",
    "result23_dis_0_big_loc_dur_rm4 = model23_dis_0_big_loc_dur_rm4.fit()\n",
    "print(result23_dis_0_big_loc_dur_rm4.summary())"
   ]
  },
  {
   "cell_type": "code",
   "execution_count": null,
   "metadata": {
    "collapsed": true
   },
   "outputs": [],
   "source": []
  },
  {
   "cell_type": "code",
   "execution_count": null,
   "metadata": {
    "collapsed": true
   },
   "outputs": [],
   "source": [
    "# 레버리지 구하기\n",
    "influence21 = result21.get_influence()\n",
    "hat21 = influence21.hat_matrix_diag\n",
    "# 레버리지의 평균 구하기(n = 1458644, n은 데이터의 개수)\n",
    "hat21_mean = hat21.sum() / 1458644\n",
    "# 표준화 잔차 구하기\n",
    "rs_p21 = result21.resid_pearson\n",
    "# 레버리지와 표준화 잔차로 이루어진 data frame 만들기(index는 train data의 index와 동일)\n",
    "d21 = {\"hat21\" : hat21, \"rs_p21\" : rs_p21}\n",
    "hat_rs_p_21_df = pd.DataFrame(data = d21, index = train.index.values)\n",
    "# 레버리지와 표준화 잔차가 각각 일정수준 이상으로 큰 value들은 True로 나오는 data frame 만들기(index는 train data의 index와 동일)\n",
    "d21_3h3r = {\"hat21\" : hat21 > (3 * hat21_mean), \"rs_p21\" : rs_p21 > 3}\n",
    "hat_rs_p_out_3h3r_21_df = pd.DataFrame(data = d21_3h3r, index = train.index.values)\n",
    "# 아웃라이어 data(레버리지와 표준화 잔차 둘 다 큰것. 따라서 any를 씀)의 표준화 잔차와 레버리지(index는 재정렬되지 않은 상태)\n",
    "outlier21_3h3r = hat_rs_p_21_df[hat_rs_p_out_3h3r_21_df]\n",
    "outlier21_3h3r.dropna(how = \"any\", inplace = True)\n",
    "# outlier의 index 뽑기\n",
    "outlier21_3h3r_index = outlier21_3h3r.index\n",
    "# 뽑은 index로 train data에서 outlier 제거하기\n",
    "train_out_rm_21_3h3r = train.drop(labels = outlier21_3h3r_index)\n",
    "train_out_rm_21_3h3r.reset_index(drop=True, inplace=True)\n",
    "# 몇개의 outlier들이 제거되었는지 print하기\n",
    "print(\"{} outliers are omitted from the data.\".format(len(outlier21_3h3r_index)))"
   ]
  },
  {
   "cell_type": "markdown",
   "metadata": {},
   "source": [
    "----------------------"
   ]
  },
  {
   "cell_type": "code",
   "execution_count": 83,
   "metadata": {},
   "outputs": [],
   "source": [
    "z_test = result23_dis_0_big_loc_dur_rm3_2_new4.predict(test)\n",
    "len(z_test)\n",
    "y_test = np.exp(z_test) - 1\n",
    "len(y_test)\n",
    "submission = pd.DataFrame({\"id\": test.id, \"trip_duration\": y_test})\n",
    "submission.to_csv(\"submission23_dis_0_big_loc_dur_rm3_2_new4.csv\", index = False)"
   ]
  },
  {
   "cell_type": "markdown",
   "metadata": {},
   "source": [
    "------------------------\n"
   ]
  }
 ],
 "metadata": {
  "kernelspec": {
   "display_name": "Python 3",
   "language": "python",
   "name": "python3"
  },
  "language_info": {
   "codemirror_mode": {
    "name": "ipython",
    "version": 3
   },
   "file_extension": ".py",
   "mimetype": "text/x-python",
   "name": "python",
   "nbconvert_exporter": "python",
   "pygments_lexer": "ipython3",
   "version": "3.6.3"
  }
 },
 "nbformat": 4,
 "nbformat_minor": 2
}

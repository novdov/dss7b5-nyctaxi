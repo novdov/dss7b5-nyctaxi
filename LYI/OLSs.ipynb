{
 "cells": [
  {
   "cell_type": "code",
   "execution_count": 1,
   "metadata": {},
   "outputs": [
    {
     "name": "stderr",
     "output_type": "stream",
     "text": [
      "C:\\Users\\LG\\Anaconda3\\lib\\site-packages\\statsmodels\\compat\\pandas.py:56: FutureWarning: The pandas.core.datetools module is deprecated and will be removed in a future version. Please use the pandas.tseries module instead.\n",
      "  from pandas.core import datetools\n"
     ]
    }
   ],
   "source": [
    "import numpy as np\n",
    "import pandas as pd\n",
    "import datetime as dt\n",
    "import scipy as sp\n",
    "import statsmodels.api as sm\n",
    "import statsmodels.formula.api as smf\n",
    "import statsmodels.stats.api as sms \n",
    "import sklearn as sk\n",
    "\n",
    "from patsy import dmatrix\n",
    "\n",
    "import matplotlib.pyplot as plt\n",
    "\n",
    "import seaborn as sns\n",
    "sns.set()\n",
    "\n",
    "%matplotlib inline\n",
    "%config InlineBackend.figure_formats = {'png', 'retina'}\n",
    "\n",
    "from matplotlib import font_manager, rc\n",
    "plt.rcParams['axes.unicode_minus'] = False\n",
    "\n",
    "import platform\n",
    "if platform.system() == 'Darwin':\n",
    "    rc('font', family='AppleGothic')\n",
    "elif platform.system() == 'Windows':\n",
    "    path = \"c:/Windows/Fonts/malgun.ttf\"\n",
    "    font_name = font_manager.FontProperties(fname=path).get_name()\n",
    "    rc('font', family=font_name)"
   ]
  },
  {
   "cell_type": "code",
   "execution_count": 2,
   "metadata": {
    "collapsed": true
   },
   "outputs": [],
   "source": [
    "train = pd.read_csv(\"train_trans.csv\", parse_dates=[\"pickup_datetime\", \"dropoff_datetime\"])\n",
    "test = pd.read_csv(\"test_trans.csv\", parse_dates=[\"pickup_datetime\"])"
   ]
  },
  {
   "cell_type": "code",
   "execution_count": 3,
   "metadata": {},
   "outputs": [
    {
     "data": {
      "text/html": [
       "<div>\n",
       "<style>\n",
       "    .dataframe thead tr:only-child th {\n",
       "        text-align: right;\n",
       "    }\n",
       "\n",
       "    .dataframe thead th {\n",
       "        text-align: left;\n",
       "    }\n",
       "\n",
       "    .dataframe tbody tr th {\n",
       "        vertical-align: top;\n",
       "    }\n",
       "</style>\n",
       "<table border=\"1\" class=\"dataframe\">\n",
       "  <thead>\n",
       "    <tr style=\"text-align: right;\">\n",
       "      <th></th>\n",
       "      <th>id</th>\n",
       "      <th>vendor_id</th>\n",
       "      <th>pickup_datetime</th>\n",
       "      <th>dropoff_datetime</th>\n",
       "      <th>passenger_count</th>\n",
       "      <th>pickup_longitude</th>\n",
       "      <th>pickup_latitude</th>\n",
       "      <th>dropoff_longitude</th>\n",
       "      <th>dropoff_latitude</th>\n",
       "      <th>store_and_fwd_flag</th>\n",
       "      <th>trip_duration</th>\n",
       "      <th>pickup_month</th>\n",
       "      <th>pickup_weekday</th>\n",
       "      <th>pickup_hour</th>\n",
       "      <th>working_day</th>\n",
       "      <th>distance</th>\n",
       "      <th>bearing</th>\n",
       "      <th>avg_speed_km_h</th>\n",
       "    </tr>\n",
       "  </thead>\n",
       "  <tbody>\n",
       "    <tr>\n",
       "      <th>1458639</th>\n",
       "      <td>id2376096</td>\n",
       "      <td>2</td>\n",
       "      <td>2016-04-08 13:31:04</td>\n",
       "      <td>2016-04-08 13:44:02</td>\n",
       "      <td>4</td>\n",
       "      <td>-73.982201</td>\n",
       "      <td>40.745522</td>\n",
       "      <td>-73.994911</td>\n",
       "      <td>40.740170</td>\n",
       "      <td>0</td>\n",
       "      <td>778</td>\n",
       "      <td>4</td>\n",
       "      <td>4</td>\n",
       "      <td>13</td>\n",
       "      <td>1</td>\n",
       "      <td>1.225080</td>\n",
       "      <td>240.940662</td>\n",
       "      <td>5.668751</td>\n",
       "    </tr>\n",
       "    <tr>\n",
       "      <th>1458640</th>\n",
       "      <td>id1049543</td>\n",
       "      <td>1</td>\n",
       "      <td>2016-01-10 07:35:15</td>\n",
       "      <td>2016-01-10 07:46:10</td>\n",
       "      <td>1</td>\n",
       "      <td>-74.000946</td>\n",
       "      <td>40.747379</td>\n",
       "      <td>-73.970184</td>\n",
       "      <td>40.796547</td>\n",
       "      <td>0</td>\n",
       "      <td>655</td>\n",
       "      <td>1</td>\n",
       "      <td>6</td>\n",
       "      <td>7</td>\n",
       "      <td>0</td>\n",
       "      <td>6.049836</td>\n",
       "      <td>25.342196</td>\n",
       "      <td>33.251005</td>\n",
       "    </tr>\n",
       "    <tr>\n",
       "      <th>1458641</th>\n",
       "      <td>id2304944</td>\n",
       "      <td>2</td>\n",
       "      <td>2016-04-22 06:57:41</td>\n",
       "      <td>2016-04-22 07:10:25</td>\n",
       "      <td>1</td>\n",
       "      <td>-73.959129</td>\n",
       "      <td>40.768799</td>\n",
       "      <td>-74.004433</td>\n",
       "      <td>40.707371</td>\n",
       "      <td>0</td>\n",
       "      <td>764</td>\n",
       "      <td>4</td>\n",
       "      <td>4</td>\n",
       "      <td>6</td>\n",
       "      <td>1</td>\n",
       "      <td>7.824606</td>\n",
       "      <td>209.211508</td>\n",
       "      <td>36.869870</td>\n",
       "    </tr>\n",
       "    <tr>\n",
       "      <th>1458642</th>\n",
       "      <td>id2714485</td>\n",
       "      <td>1</td>\n",
       "      <td>2016-01-05 15:56:26</td>\n",
       "      <td>2016-01-05 16:02:39</td>\n",
       "      <td>1</td>\n",
       "      <td>-73.982079</td>\n",
       "      <td>40.749062</td>\n",
       "      <td>-73.974632</td>\n",
       "      <td>40.757107</td>\n",
       "      <td>0</td>\n",
       "      <td>373</td>\n",
       "      <td>1</td>\n",
       "      <td>1</td>\n",
       "      <td>15</td>\n",
       "      <td>1</td>\n",
       "      <td>1.092564</td>\n",
       "      <td>35.033294</td>\n",
       "      <td>10.544853</td>\n",
       "    </tr>\n",
       "    <tr>\n",
       "      <th>1458643</th>\n",
       "      <td>id1209952</td>\n",
       "      <td>1</td>\n",
       "      <td>2016-04-05 14:44:25</td>\n",
       "      <td>2016-04-05 14:47:43</td>\n",
       "      <td>1</td>\n",
       "      <td>-73.979538</td>\n",
       "      <td>40.781750</td>\n",
       "      <td>-73.972809</td>\n",
       "      <td>40.790585</td>\n",
       "      <td>0</td>\n",
       "      <td>198</td>\n",
       "      <td>4</td>\n",
       "      <td>1</td>\n",
       "      <td>14</td>\n",
       "      <td>1</td>\n",
       "      <td>1.134042</td>\n",
       "      <td>29.969486</td>\n",
       "      <td>20.618945</td>\n",
       "    </tr>\n",
       "  </tbody>\n",
       "</table>\n",
       "</div>"
      ],
      "text/plain": [
       "                id  vendor_id     pickup_datetime    dropoff_datetime  \\\n",
       "1458639  id2376096          2 2016-04-08 13:31:04 2016-04-08 13:44:02   \n",
       "1458640  id1049543          1 2016-01-10 07:35:15 2016-01-10 07:46:10   \n",
       "1458641  id2304944          2 2016-04-22 06:57:41 2016-04-22 07:10:25   \n",
       "1458642  id2714485          1 2016-01-05 15:56:26 2016-01-05 16:02:39   \n",
       "1458643  id1209952          1 2016-04-05 14:44:25 2016-04-05 14:47:43   \n",
       "\n",
       "         passenger_count  pickup_longitude  pickup_latitude  \\\n",
       "1458639                4        -73.982201        40.745522   \n",
       "1458640                1        -74.000946        40.747379   \n",
       "1458641                1        -73.959129        40.768799   \n",
       "1458642                1        -73.982079        40.749062   \n",
       "1458643                1        -73.979538        40.781750   \n",
       "\n",
       "         dropoff_longitude  dropoff_latitude  store_and_fwd_flag  \\\n",
       "1458639         -73.994911         40.740170                   0   \n",
       "1458640         -73.970184         40.796547                   0   \n",
       "1458641         -74.004433         40.707371                   0   \n",
       "1458642         -73.974632         40.757107                   0   \n",
       "1458643         -73.972809         40.790585                   0   \n",
       "\n",
       "         trip_duration  pickup_month  pickup_weekday  pickup_hour  \\\n",
       "1458639            778             4               4           13   \n",
       "1458640            655             1               6            7   \n",
       "1458641            764             4               4            6   \n",
       "1458642            373             1               1           15   \n",
       "1458643            198             4               1           14   \n",
       "\n",
       "         working_day  distance     bearing  avg_speed_km_h  \n",
       "1458639            1  1.225080  240.940662        5.668751  \n",
       "1458640            0  6.049836   25.342196       33.251005  \n",
       "1458641            1  7.824606  209.211508       36.869870  \n",
       "1458642            1  1.092564   35.033294       10.544853  \n",
       "1458643            1  1.134042   29.969486       20.618945  "
      ]
     },
     "execution_count": 3,
     "metadata": {},
     "output_type": "execute_result"
    }
   ],
   "source": [
    "train.tail()"
   ]
  },
  {
   "cell_type": "markdown",
   "metadata": {},
   "source": [
    "3-17. 모든변수 - C(store_and_fwd_flag) & 실수값 스케일링 & pickup_hour 2차 다항회귀 & distance 2, 3, 4차 다항회귀 & speed 추가 & speed 3차 다항회귀 & C(vendor_id) 제거 & pickup_hour 3차 제거 & distance 4차 제거"
   ]
  },
  {
   "cell_type": "code",
   "execution_count": 17,
   "metadata": {
    "scrolled": true
   },
   "outputs": [
    {
     "name": "stdout",
     "output_type": "stream",
     "text": [
      "                               OLS Regression Results                              \n",
      "===================================================================================\n",
      "Dep. Variable:     np.log1p(trip_duration)   R-squared:                       0.584\n",
      "Model:                                 OLS   Adj. R-squared:                  0.584\n",
      "Method:                      Least Squares   F-statistic:                 1.205e+05\n",
      "Date:                     Wed, 14 Mar 2018   Prob (F-statistic):               0.00\n",
      "Time:                             00:30:38   Log-Likelihood:            -1.0965e+06\n",
      "No. Observations:                  1458644   AIC:                         2.193e+06\n",
      "Df Residuals:                      1458626   BIC:                         2.193e+06\n",
      "Df Model:                               17                                         \n",
      "Covariance Type:                 nonrobust                                         \n",
      "=================================================================================================\n",
      "                                    coef    std err          t      P>|t|      [0.025      0.975]\n",
      "-------------------------------------------------------------------------------------------------\n",
      "C(working_day)[0]                 6.4366      0.001   5522.146      0.000       6.434       6.439\n",
      "C(working_day)[1]                 6.4791      0.001   1.07e+04      0.000       6.478       6.480\n",
      "scale(passenger_count)            0.0080      0.000     18.867      0.000       0.007       0.009\n",
      "scale(distance)                   0.8383      0.001   1351.300      0.000       0.837       0.840\n",
      "scale(I(distance ** 2))          -0.7079      0.002   -287.488      0.000      -0.713      -0.703\n",
      "scale(I(distance ** 3))           0.3875      0.002    182.689      0.000       0.383       0.392\n",
      "scale(bearing)                   -0.0312      0.001    -61.241      0.000      -0.032      -0.030\n",
      "scale(pickup_month)               0.0136      0.000     31.965      0.000       0.013       0.014\n",
      "scale(pickup_weekday)             0.0125      0.001     18.264      0.000       0.011       0.014\n",
      "scale(pickup_hour)                0.0124      0.002      7.291      0.000       0.009       0.016\n",
      "scale(I(pickup_hour ** 2))       -0.0067      0.002     -3.959      0.000      -0.010      -0.003\n",
      "scale(pickup_latitude)            0.0493      0.001     89.817      0.000       0.048       0.050\n",
      "scale(pickup_longitude)          -0.0469      0.001    -56.888      0.000      -0.048      -0.045\n",
      "scale(dropoff_latitude)          -0.0107      0.001    -20.589      0.000      -0.012      -0.010\n",
      "scale(dropoff_longitude)         -0.0046      0.001     -5.677      0.000      -0.006      -0.003\n",
      "scale(avg_speed_km_h)            -0.7216      0.001   -756.942      0.000      -0.723      -0.720\n",
      "scale(I(avg_speed_km_h ** 2))     1.4621      0.004    358.054      0.000       1.454       1.470\n",
      "scale(I(avg_speed_km_h ** 3))    -0.9108      0.004   -255.888      0.000      -0.918      -0.904\n",
      "==============================================================================\n",
      "Omnibus:                   639323.006   Durbin-Watson:                   2.000\n",
      "Prob(Omnibus):                  0.000   Jarque-Bera (JB):       2320120867.888\n",
      "Skew:                          -0.020   Prob(JB):                         0.00\n",
      "Kurtosis:                     198.383   Cond. No.                         25.1\n",
      "==============================================================================\n",
      "\n",
      "Warnings:\n",
      "[1] Standard Errors assume that the covariance matrix of the errors is correctly specified.\n"
     ]
    }
   ],
   "source": [
    "model17 = sm.OLS.from_formula(\"np.log1p(trip_duration) ~  C(working_day) + scale(passenger_count) + scale(distance) + scale(I(distance**2)) + scale(I(distance**3)) + scale(bearing) + scale(pickup_month) + scale(pickup_weekday) + scale(pickup_hour) + scale(I(pickup_hour**2)) + scale(pickup_latitude) + scale(pickup_longitude) + scale(dropoff_latitude) + scale(dropoff_longitude) + scale(avg_speed_km_h) + scale(I(avg_speed_km_h**2)) + scale(I(avg_speed_km_h**3)) - 1\", train)\n",
    "result17 = model17.fit()\n",
    "print(result17.summary())"
   ]
  },
  {
   "cell_type": "code",
   "execution_count": 18,
   "metadata": {},
   "outputs": [
    {
     "data": {
      "image/png": "[encoded data removed]",
      "text/plain": [
       "<matplotlib.figure.Figure at 0x1bb007928d0>"
      ]
     },
     "metadata": {
      "image/png": {
       "height": 279,
       "width": 386
      }
     },
     "output_type": "display_data"
    }
   ],
   "source": [
    "sp.stats.probplot(result17.resid, plot=plt)\n",
    "plt.show()"
   ]
  },
  {
   "cell_type": "markdown",
   "metadata": {},
   "source": [
    "3-21. 모든변수 - C(store_and_fwd_flag) & 실수값 스케일링 & pickup_hour 2차 다항회귀 & distance 2, 3, 4차 다항회귀 & speed 추가 & speed 3차 다항회귀 & C(vendor_id) 제거 & pickup_hour 3차 제거 & distance 4차 제거 & pickup_longitude 2차 다항회귀"
   ]
  },
  {
   "cell_type": "code",
   "execution_count": 5,
   "metadata": {
    "scrolled": true
   },
   "outputs": [
    {
     "name": "stdout",
     "output_type": "stream",
     "text": [
      "                               OLS Regression Results                              \n",
      "===================================================================================\n",
      "Dep. Variable:     np.log1p(trip_duration)   R-squared:                       0.591\n",
      "Model:                                 OLS   Adj. R-squared:                  0.591\n",
      "Method:                      Least Squares   F-statistic:                 1.173e+05\n",
      "Date:                     Wed, 14 Mar 2018   Prob (F-statistic):               0.00\n",
      "Time:                             13:45:40   Log-Likelihood:            -1.0837e+06\n",
      "No. Observations:                  1458644   AIC:                         2.167e+06\n",
      "Df Residuals:                      1458625   BIC:                         2.168e+06\n",
      "Df Model:                               18                                         \n",
      "Covariance Type:                 nonrobust                                         \n",
      "===================================================================================================\n",
      "                                      coef    std err          t      P>|t|      [0.025      0.975]\n",
      "---------------------------------------------------------------------------------------------------\n",
      "C(working_day)[0]                   6.4348      0.001   5568.917      0.000       6.432       6.437\n",
      "C(working_day)[1]                   6.4798      0.001   1.08e+04      0.000       6.479       6.481\n",
      "scale(passenger_count)              0.0080      0.000     18.935      0.000       0.007       0.009\n",
      "scale(distance)                     0.8700      0.001   1347.102      0.000       0.869       0.871\n",
      "scale(I(distance ** 2))            -0.7705      0.002   -311.736      0.000      -0.775      -0.766\n",
      "scale(I(distance ** 3))             0.4359      0.002    205.244      0.000       0.432       0.440\n",
      "scale(bearing)                     -0.0246      0.001    -48.578      0.000      -0.026      -0.024\n",
      "scale(pickup_month)                 0.0136      0.000     32.296      0.000       0.013       0.014\n",
      "scale(pickup_weekday)               0.0121      0.001     17.869      0.000       0.011       0.013\n",
      "scale(pickup_hour)                  0.0246      0.002     14.595      0.000       0.021       0.028\n",
      "scale(I(pickup_hour ** 2))         -0.0192      0.002    -11.465      0.000      -0.022      -0.016\n",
      "scale(pickup_latitude)              0.0423      0.001     77.555      0.000       0.041       0.043\n",
      "scale(pickup_longitude)            -0.6256      0.004   -169.411      0.000      -0.633      -0.618\n",
      "scale(I(pickup_longitude ** 2))    -0.6162      0.004   -160.697      0.000      -0.624      -0.609\n",
      "scale(dropoff_latitude)            -0.0043      0.001     -8.299      0.000      -0.005      -0.003\n",
      "scale(dropoff_longitude)           -0.0573      0.001    -66.298      0.000      -0.059      -0.056\n",
      "scale(avg_speed_km_h)              -0.7164      0.001   -757.624      0.000      -0.718      -0.715\n",
      "scale(I(avg_speed_km_h ** 2))       1.4707      0.004    363.304      0.000       1.463       1.479\n",
      "scale(I(avg_speed_km_h ** 3))      -0.9200      0.004   -260.715      0.000      -0.927      -0.913\n",
      "==============================================================================\n",
      "Omnibus:                   800537.612   Durbin-Watson:                   1.999\n",
      "Prob(Omnibus):                  0.000   Jarque-Bera (JB):       2578414890.584\n",
      "Skew:                           0.936   Prob(JB):                         0.00\n",
      "Kurtosis:                     208.963   Cond. No.                         25.3\n",
      "==============================================================================\n",
      "\n",
      "Warnings:\n",
      "[1] Standard Errors assume that the covariance matrix of the errors is correctly specified.\n"
     ]
    }
   ],
   "source": [
    "model21 = sm.OLS.from_formula(\"np.log1p(trip_duration) ~  C(working_day) + scale(passenger_count) + scale(distance) + scale(I(distance**2)) + scale(I(distance**3)) + scale(bearing) + scale(pickup_month) + scale(pickup_weekday) + scale(pickup_hour) + scale(I(pickup_hour**2)) + scale(pickup_latitude) + scale(pickup_longitude) + scale(I(pickup_longitude**2)) + scale(dropoff_latitude) + scale(dropoff_longitude) + scale(avg_speed_km_h) + scale(I(avg_speed_km_h**2)) + scale(I(avg_speed_km_h**3)) - 1\", train)\n",
    "result21 = model21.fit()\n",
    "print(result21.summary())"
   ]
  },
  {
   "cell_type": "code",
   "execution_count": 16,
   "metadata": {
    "scrolled": true
   },
   "outputs": [
    {
     "data": {
      "image/png": "[encoded data removed]",
      "text/plain": [
       "<matplotlib.figure.Figure at 0x1bb1f26ee80>"
      ]
     },
     "metadata": {
      "image/png": {
       "height": 279,
       "width": 386
      }
     },
     "output_type": "display_data"
    }
   ],
   "source": [
    "sp.stats.probplot(result21.resid, plot=plt)\n",
    "plt.show()"
   ]
  },
  {
   "cell_type": "code",
   "execution_count": 20,
   "metadata": {},
   "outputs": [
    {
     "name": "stdout",
     "output_type": "stream",
     "text": [
      "C(working_day)[0]                  6.393121\n",
      "C(working_day)[1]                  6.468484\n",
      "scale(passenger_count)             0.000000\n",
      "scale(distance)                    0.728328\n",
      "scale(I(distance ** 2))           -0.139477\n",
      "scale(I(distance ** 3))            0.000000\n",
      "scale(bearing)                     0.000000\n",
      "scale(pickup_month)                0.007108\n",
      "scale(pickup_weekday)              0.009246\n",
      "scale(pickup_hour)                 0.000394\n",
      "scale(I(pickup_hour ** 2))         0.000000\n",
      "scale(pickup_latitude)             0.027838\n",
      "scale(pickup_longitude)           -0.038670\n",
      "scale(I(pickup_longitude ** 2))    0.000000\n",
      "scale(dropoff_latitude)           -0.006396\n",
      "scale(dropoff_longitude)           0.000000\n",
      "scale(avg_speed_km_h)             -0.569946\n",
      "scale(I(avg_speed_km_h ** 2))      0.364457\n",
      "scale(I(avg_speed_km_h ** 3))      0.000000\n",
      "dtype: float64\n"
     ]
    }
   ],
   "source": [
    "result21_2_lasso = model21.fit_regularized(alpha=0.01, L1_wt=1)\n",
    "print(result21_2_lasso.params)"
   ]
  },
  {
   "cell_type": "code",
   "execution_count": 21,
   "metadata": {},
   "outputs": [
    {
     "name": "stdout",
     "output_type": "stream",
     "text": [
      "C(working_day)[0]                  6.411425\n",
      "C(working_day)[1]                  6.475168\n",
      "scale(passenger_count)             0.004015\n",
      "scale(distance)                    0.756600\n",
      "scale(I(distance ** 2))           -0.164717\n",
      "scale(I(distance ** 3))            0.012594\n",
      "scale(bearing)                     0.000000\n",
      "scale(pickup_month)                0.011219\n",
      "scale(pickup_weekday)              0.011504\n",
      "scale(pickup_hour)                 0.004982\n",
      "scale(I(pickup_hour ** 2))         0.000000\n",
      "scale(pickup_latitude)             0.040129\n",
      "scale(pickup_longitude)           -0.060274\n",
      "scale(I(pickup_longitude ** 2))    0.000000\n",
      "scale(dropoff_latitude)           -0.013687\n",
      "scale(dropoff_longitude)           0.017268\n",
      "scale(avg_speed_km_h)             -0.608947\n",
      "scale(I(avg_speed_km_h ** 2))      0.400639\n",
      "scale(I(avg_speed_km_h ** 3))      0.000000\n",
      "dtype: float64\n"
     ]
    }
   ],
   "source": [
    "result21_3_lasso = model21.fit_regularized(alpha=0.005, L1_wt=1)\n",
    "print(result21_3_lasso.params)"
   ]
  },
  {
   "cell_type": "code",
   "execution_count": 22,
   "metadata": {
    "scrolled": false
   },
   "outputs": [
    {
     "data": {
      "text/plain": [
       "19.000000000001098"
      ]
     },
     "execution_count": 22,
     "metadata": {},
     "output_type": "execute_result"
    }
   ],
   "source": [
    "influence21 = result21.get_influence()\n",
    "hat21 = influence21.hat_matrix_diag\n",
    "hat21.sum()"
   ]
  },
  {
   "cell_type": "code",
   "execution_count": 24,
   "metadata": {
    "collapsed": true
   },
   "outputs": [],
   "source": [
    "hat21_mean = hat21.sum() / 1458644"
   ]
  },
  {
   "cell_type": "code",
   "execution_count": 25,
   "metadata": {
    "scrolled": true
   },
   "outputs": [
    {
     "data": {
      "text/plain": [
       "1.3025796561738916e-05"
      ]
     },
     "execution_count": 25,
     "metadata": {},
     "output_type": "execute_result"
    }
   ],
   "source": [
    "hat21_mean"
   ]
  },
  {
   "cell_type": "code",
   "execution_count": 28,
   "metadata": {
    "collapsed": true
   },
   "outputs": [],
   "source": [
    "hat21_3big = hat21[hat21 > (3 * hat21_mean)]"
   ]
  },
  {
   "cell_type": "code",
   "execution_count": 29,
   "metadata": {
    "scrolled": true
   },
   "outputs": [
    {
     "data": {
      "text/plain": [
       "array([  4.43905875e-05,   8.84587045e-05,   4.78556994e-05, ...,\n",
       "         5.11131339e-05,   6.41908062e-05,   4.78573785e-05])"
      ]
     },
     "execution_count": 29,
     "metadata": {},
     "output_type": "execute_result"
    }
   ],
   "source": [
    "hat21_3big"
   ]
  },
  {
   "cell_type": "code",
   "execution_count": 30,
   "metadata": {},
   "outputs": [
    {
     "data": {
      "text/plain": [
       "22821"
      ]
     },
     "execution_count": 30,
     "metadata": {},
     "output_type": "execute_result"
    }
   ],
   "source": [
    "len(hat21_3big)"
   ]
  },
  {
   "cell_type": "code",
   "execution_count": 31,
   "metadata": {
    "collapsed": true
   },
   "outputs": [],
   "source": [
    "rs_p21 = result21.resid_pearson"
   ]
  },
  {
   "cell_type": "code",
   "execution_count": 32,
   "metadata": {
    "collapsed": true
   },
   "outputs": [],
   "source": [
    "rs_p21_3big = rs_p21[rs_p21 > 3]"
   ]
  },
  {
   "cell_type": "code",
   "execution_count": 33,
   "metadata": {},
   "outputs": [
    {
     "data": {
      "text/plain": [
       "2670"
      ]
     },
     "execution_count": 33,
     "metadata": {},
     "output_type": "execute_result"
    }
   ],
   "source": [
    "len(rs_p21_3big)"
   ]
  },
  {
   "cell_type": "code",
   "execution_count": 41,
   "metadata": {
    "collapsed": true
   },
   "outputs": [],
   "source": [
    "d21 = {\"hat21\" : hat21, \"rs_p21\" : rs_p21}\n",
    "hat_rs_p_21_df = pd.DataFrame(data = d21, index = train.index.values)"
   ]
  },
  {
   "cell_type": "code",
   "execution_count": 42,
   "metadata": {
    "scrolled": false
   },
   "outputs": [
    {
     "name": "stdout",
     "output_type": "stream",
     "text": [
      "(1458644, 2)\n"
     ]
    },
    {
     "data": {
      "text/html": [
       "<div>\n",
       "<style>\n",
       "    .dataframe thead tr:only-child th {\n",
       "        text-align: right;\n",
       "    }\n",
       "\n",
       "    .dataframe thead th {\n",
       "        text-align: left;\n",
       "    }\n",
       "\n",
       "    .dataframe tbody tr th {\n",
       "        vertical-align: top;\n",
       "    }\n",
       "</style>\n",
       "<table border=\"1\" class=\"dataframe\">\n",
       "  <thead>\n",
       "    <tr style=\"text-align: right;\">\n",
       "      <th></th>\n",
       "      <th>hat21</th>\n",
       "      <th>rs_p21</th>\n",
       "    </tr>\n",
       "  </thead>\n",
       "  <tbody>\n",
       "    <tr>\n",
       "      <th>1458639</th>\n",
       "      <td>0.000007</td>\n",
       "      <td>0.325389</td>\n",
       "    </tr>\n",
       "    <tr>\n",
       "      <th>1458640</th>\n",
       "      <td>0.000011</td>\n",
       "      <td>0.712673</td>\n",
       "    </tr>\n",
       "    <tr>\n",
       "      <th>1458641</th>\n",
       "      <td>0.000014</td>\n",
       "      <td>0.647741</td>\n",
       "    </tr>\n",
       "    <tr>\n",
       "      <th>1458642</th>\n",
       "      <td>0.000005</td>\n",
       "      <td>-0.558452</td>\n",
       "    </tr>\n",
       "    <tr>\n",
       "      <th>1458643</th>\n",
       "      <td>0.000005</td>\n",
       "      <td>-0.991132</td>\n",
       "    </tr>\n",
       "  </tbody>\n",
       "</table>\n",
       "</div>"
      ],
      "text/plain": [
       "            hat21    rs_p21\n",
       "1458639  0.000007  0.325389\n",
       "1458640  0.000011  0.712673\n",
       "1458641  0.000014  0.647741\n",
       "1458642  0.000005 -0.558452\n",
       "1458643  0.000005 -0.991132"
      ]
     },
     "execution_count": 42,
     "metadata": {},
     "output_type": "execute_result"
    }
   ],
   "source": [
    "print(hat_rs_p_21_df.shape)\n",
    "hat_rs_p_21_df.tail()"
   ]
  },
  {
   "cell_type": "code",
   "execution_count": 64,
   "metadata": {
    "collapsed": true
   },
   "outputs": [],
   "source": [
    "d21_3h3r = {\"hat21\" : hat21 > (3 * hat21_mean), \"rs_p21\" : rs_p21 > 3}\n",
    "hat_rs_p_out_3h3r_21_df = pd.DataFrame(data = d21_3h3r, index = train.index.values)"
   ]
  },
  {
   "cell_type": "code",
   "execution_count": 65,
   "metadata": {},
   "outputs": [
    {
     "name": "stdout",
     "output_type": "stream",
     "text": [
      "(1458644, 2)\n"
     ]
    },
    {
     "data": {
      "text/html": [
       "<div>\n",
       "<style>\n",
       "    .dataframe thead tr:only-child th {\n",
       "        text-align: right;\n",
       "    }\n",
       "\n",
       "    .dataframe thead th {\n",
       "        text-align: left;\n",
       "    }\n",
       "\n",
       "    .dataframe tbody tr th {\n",
       "        vertical-align: top;\n",
       "    }\n",
       "</style>\n",
       "<table border=\"1\" class=\"dataframe\">\n",
       "  <thead>\n",
       "    <tr style=\"text-align: right;\">\n",
       "      <th></th>\n",
       "      <th>hat21</th>\n",
       "      <th>rs_p21</th>\n",
       "    </tr>\n",
       "  </thead>\n",
       "  <tbody>\n",
       "    <tr>\n",
       "      <th>1458639</th>\n",
       "      <td>False</td>\n",
       "      <td>False</td>\n",
       "    </tr>\n",
       "    <tr>\n",
       "      <th>1458640</th>\n",
       "      <td>False</td>\n",
       "      <td>False</td>\n",
       "    </tr>\n",
       "    <tr>\n",
       "      <th>1458641</th>\n",
       "      <td>False</td>\n",
       "      <td>False</td>\n",
       "    </tr>\n",
       "    <tr>\n",
       "      <th>1458642</th>\n",
       "      <td>False</td>\n",
       "      <td>False</td>\n",
       "    </tr>\n",
       "    <tr>\n",
       "      <th>1458643</th>\n",
       "      <td>False</td>\n",
       "      <td>False</td>\n",
       "    </tr>\n",
       "  </tbody>\n",
       "</table>\n",
       "</div>"
      ],
      "text/plain": [
       "         hat21  rs_p21\n",
       "1458639  False   False\n",
       "1458640  False   False\n",
       "1458641  False   False\n",
       "1458642  False   False\n",
       "1458643  False   False"
      ]
     },
     "execution_count": 65,
     "metadata": {},
     "output_type": "execute_result"
    }
   ],
   "source": [
    "print(hat_rs_p_out_3h3r_21_df.shape)\n",
    "hat_rs_p_out_3h3r_21_df.tail()"
   ]
  },
  {
   "cell_type": "code",
   "execution_count": 66,
   "metadata": {
    "collapsed": true
   },
   "outputs": [],
   "source": [
    "outlier21_3h3r = hat_rs_p_21_df[hat_rs_p_out_3h3r_21_df]"
   ]
  },
  {
   "cell_type": "code",
   "execution_count": 67,
   "metadata": {},
   "outputs": [
    {
     "name": "stdout",
     "output_type": "stream",
     "text": [
      "(1458644, 2)\n"
     ]
    },
    {
     "data": {
      "text/html": [
       "<div>\n",
       "<style>\n",
       "    .dataframe thead tr:only-child th {\n",
       "        text-align: right;\n",
       "    }\n",
       "\n",
       "    .dataframe thead th {\n",
       "        text-align: left;\n",
       "    }\n",
       "\n",
       "    .dataframe tbody tr th {\n",
       "        vertical-align: top;\n",
       "    }\n",
       "</style>\n",
       "<table border=\"1\" class=\"dataframe\">\n",
       "  <thead>\n",
       "    <tr style=\"text-align: right;\">\n",
       "      <th></th>\n",
       "      <th>hat21</th>\n",
       "      <th>rs_p21</th>\n",
       "    </tr>\n",
       "  </thead>\n",
       "  <tbody>\n",
       "    <tr>\n",
       "      <th>1458639</th>\n",
       "      <td>NaN</td>\n",
       "      <td>NaN</td>\n",
       "    </tr>\n",
       "    <tr>\n",
       "      <th>1458640</th>\n",
       "      <td>NaN</td>\n",
       "      <td>NaN</td>\n",
       "    </tr>\n",
       "    <tr>\n",
       "      <th>1458641</th>\n",
       "      <td>NaN</td>\n",
       "      <td>NaN</td>\n",
       "    </tr>\n",
       "    <tr>\n",
       "      <th>1458642</th>\n",
       "      <td>NaN</td>\n",
       "      <td>NaN</td>\n",
       "    </tr>\n",
       "    <tr>\n",
       "      <th>1458643</th>\n",
       "      <td>NaN</td>\n",
       "      <td>NaN</td>\n",
       "    </tr>\n",
       "  </tbody>\n",
       "</table>\n",
       "</div>"
      ],
      "text/plain": [
       "         hat21  rs_p21\n",
       "1458639    NaN     NaN\n",
       "1458640    NaN     NaN\n",
       "1458641    NaN     NaN\n",
       "1458642    NaN     NaN\n",
       "1458643    NaN     NaN"
      ]
     },
     "execution_count": 67,
     "metadata": {},
     "output_type": "execute_result"
    }
   ],
   "source": [
    "print(outlier21_3h3r.shape)\n",
    "outlier21_3h3r.tail()"
   ]
  },
  {
   "cell_type": "code",
   "execution_count": 70,
   "metadata": {
    "collapsed": true
   },
   "outputs": [],
   "source": [
    "outlier21_3h3r.dropna(how = \"any\", inplace = True)"
   ]
  },
  {
   "cell_type": "code",
   "execution_count": 71,
   "metadata": {
    "scrolled": true
   },
   "outputs": [
    {
     "data": {
      "text/html": [
       "<div>\n",
       "<style>\n",
       "    .dataframe thead tr:only-child th {\n",
       "        text-align: right;\n",
       "    }\n",
       "\n",
       "    .dataframe thead th {\n",
       "        text-align: left;\n",
       "    }\n",
       "\n",
       "    .dataframe tbody tr th {\n",
       "        vertical-align: top;\n",
       "    }\n",
       "</style>\n",
       "<table border=\"1\" class=\"dataframe\">\n",
       "  <thead>\n",
       "    <tr style=\"text-align: right;\">\n",
       "      <th></th>\n",
       "      <th>hat21</th>\n",
       "      <th>rs_p21</th>\n",
       "    </tr>\n",
       "  </thead>\n",
       "  <tbody>\n",
       "    <tr>\n",
       "      <th>1107</th>\n",
       "      <td>0.020323</td>\n",
       "      <td>62.174098</td>\n",
       "    </tr>\n",
       "    <tr>\n",
       "      <th>12527</th>\n",
       "      <td>0.000230</td>\n",
       "      <td>5.686852</td>\n",
       "    </tr>\n",
       "    <tr>\n",
       "      <th>13046</th>\n",
       "      <td>0.000250</td>\n",
       "      <td>6.691365</td>\n",
       "    </tr>\n",
       "    <tr>\n",
       "      <th>24426</th>\n",
       "      <td>0.000042</td>\n",
       "      <td>4.738564</td>\n",
       "    </tr>\n",
       "    <tr>\n",
       "      <th>25397</th>\n",
       "      <td>0.000197</td>\n",
       "      <td>5.883289</td>\n",
       "    </tr>\n",
       "    <tr>\n",
       "      <th>29062</th>\n",
       "      <td>0.000048</td>\n",
       "      <td>9.101581</td>\n",
       "    </tr>\n",
       "    <tr>\n",
       "      <th>31208</th>\n",
       "      <td>0.000049</td>\n",
       "      <td>3.206456</td>\n",
       "    </tr>\n",
       "    <tr>\n",
       "      <th>34055</th>\n",
       "      <td>0.000088</td>\n",
       "      <td>3.212416</td>\n",
       "    </tr>\n",
       "    <tr>\n",
       "      <th>42950</th>\n",
       "      <td>0.000060</td>\n",
       "      <td>3.009023</td>\n",
       "    </tr>\n",
       "    <tr>\n",
       "      <th>47242</th>\n",
       "      <td>0.000051</td>\n",
       "      <td>3.077579</td>\n",
       "    </tr>\n",
       "    <tr>\n",
       "      <th>53207</th>\n",
       "      <td>0.000057</td>\n",
       "      <td>3.065192</td>\n",
       "    </tr>\n",
       "    <tr>\n",
       "      <th>56994</th>\n",
       "      <td>0.000046</td>\n",
       "      <td>5.603689</td>\n",
       "    </tr>\n",
       "    <tr>\n",
       "      <th>61378</th>\n",
       "      <td>0.000051</td>\n",
       "      <td>3.752107</td>\n",
       "    </tr>\n",
       "    <tr>\n",
       "      <th>62744</th>\n",
       "      <td>0.000053</td>\n",
       "      <td>10.737811</td>\n",
       "    </tr>\n",
       "    <tr>\n",
       "      <th>82007</th>\n",
       "      <td>0.000045</td>\n",
       "      <td>3.984820</td>\n",
       "    </tr>\n",
       "    <tr>\n",
       "      <th>87145</th>\n",
       "      <td>0.000042</td>\n",
       "      <td>3.430984</td>\n",
       "    </tr>\n",
       "    <tr>\n",
       "      <th>87582</th>\n",
       "      <td>0.000237</td>\n",
       "      <td>4.825336</td>\n",
       "    </tr>\n",
       "    <tr>\n",
       "      <th>94962</th>\n",
       "      <td>0.000066</td>\n",
       "      <td>3.223253</td>\n",
       "    </tr>\n",
       "    <tr>\n",
       "      <th>107171</th>\n",
       "      <td>0.000802</td>\n",
       "      <td>15.649392</td>\n",
       "    </tr>\n",
       "    <tr>\n",
       "      <th>112733</th>\n",
       "      <td>0.000044</td>\n",
       "      <td>3.671583</td>\n",
       "    </tr>\n",
       "    <tr>\n",
       "      <th>113098</th>\n",
       "      <td>0.000041</td>\n",
       "      <td>4.627017</td>\n",
       "    </tr>\n",
       "    <tr>\n",
       "      <th>116907</th>\n",
       "      <td>0.000043</td>\n",
       "      <td>4.359393</td>\n",
       "    </tr>\n",
       "    <tr>\n",
       "      <th>118124</th>\n",
       "      <td>0.000040</td>\n",
       "      <td>4.237237</td>\n",
       "    </tr>\n",
       "    <tr>\n",
       "      <th>119874</th>\n",
       "      <td>0.000044</td>\n",
       "      <td>4.810752</td>\n",
       "    </tr>\n",
       "    <tr>\n",
       "      <th>125668</th>\n",
       "      <td>0.000285</td>\n",
       "      <td>8.268747</td>\n",
       "    </tr>\n",
       "    <tr>\n",
       "      <th>127613</th>\n",
       "      <td>0.000424</td>\n",
       "      <td>8.134769</td>\n",
       "    </tr>\n",
       "    <tr>\n",
       "      <th>133641</th>\n",
       "      <td>0.003808</td>\n",
       "      <td>33.971698</td>\n",
       "    </tr>\n",
       "    <tr>\n",
       "      <th>137848</th>\n",
       "      <td>0.000048</td>\n",
       "      <td>6.374745</td>\n",
       "    </tr>\n",
       "    <tr>\n",
       "      <th>143582</th>\n",
       "      <td>0.000062</td>\n",
       "      <td>3.046498</td>\n",
       "    </tr>\n",
       "    <tr>\n",
       "      <th>149352</th>\n",
       "      <td>0.000046</td>\n",
       "      <td>4.914698</td>\n",
       "    </tr>\n",
       "    <tr>\n",
       "      <th>...</th>\n",
       "      <td>...</td>\n",
       "      <td>...</td>\n",
       "    </tr>\n",
       "    <tr>\n",
       "      <th>1304200</th>\n",
       "      <td>0.000050</td>\n",
       "      <td>4.806870</td>\n",
       "    </tr>\n",
       "    <tr>\n",
       "      <th>1306212</th>\n",
       "      <td>0.000511</td>\n",
       "      <td>9.233669</td>\n",
       "    </tr>\n",
       "    <tr>\n",
       "      <th>1306332</th>\n",
       "      <td>0.000048</td>\n",
       "      <td>3.655153</td>\n",
       "    </tr>\n",
       "    <tr>\n",
       "      <th>1307161</th>\n",
       "      <td>0.000043</td>\n",
       "      <td>5.614253</td>\n",
       "    </tr>\n",
       "    <tr>\n",
       "      <th>1313163</th>\n",
       "      <td>0.000048</td>\n",
       "      <td>4.221712</td>\n",
       "    </tr>\n",
       "    <tr>\n",
       "      <th>1319703</th>\n",
       "      <td>0.000668</td>\n",
       "      <td>12.503078</td>\n",
       "    </tr>\n",
       "    <tr>\n",
       "      <th>1322539</th>\n",
       "      <td>0.000040</td>\n",
       "      <td>3.891298</td>\n",
       "    </tr>\n",
       "    <tr>\n",
       "      <th>1322903</th>\n",
       "      <td>0.009863</td>\n",
       "      <td>51.454438</td>\n",
       "    </tr>\n",
       "    <tr>\n",
       "      <th>1327633</th>\n",
       "      <td>0.000400</td>\n",
       "      <td>10.626567</td>\n",
       "    </tr>\n",
       "    <tr>\n",
       "      <th>1328401</th>\n",
       "      <td>0.000711</td>\n",
       "      <td>14.516413</td>\n",
       "    </tr>\n",
       "    <tr>\n",
       "      <th>1334544</th>\n",
       "      <td>0.000209</td>\n",
       "      <td>3.132895</td>\n",
       "    </tr>\n",
       "    <tr>\n",
       "      <th>1341657</th>\n",
       "      <td>0.000063</td>\n",
       "      <td>3.155374</td>\n",
       "    </tr>\n",
       "    <tr>\n",
       "      <th>1342413</th>\n",
       "      <td>0.000045</td>\n",
       "      <td>5.402003</td>\n",
       "    </tr>\n",
       "    <tr>\n",
       "      <th>1343829</th>\n",
       "      <td>0.000040</td>\n",
       "      <td>3.212563</td>\n",
       "    </tr>\n",
       "    <tr>\n",
       "      <th>1348373</th>\n",
       "      <td>0.000878</td>\n",
       "      <td>4.440373</td>\n",
       "    </tr>\n",
       "    <tr>\n",
       "      <th>1369625</th>\n",
       "      <td>0.000044</td>\n",
       "      <td>3.266449</td>\n",
       "    </tr>\n",
       "    <tr>\n",
       "      <th>1370617</th>\n",
       "      <td>0.000392</td>\n",
       "      <td>7.034708</td>\n",
       "    </tr>\n",
       "    <tr>\n",
       "      <th>1383966</th>\n",
       "      <td>0.000097</td>\n",
       "      <td>3.993235</td>\n",
       "    </tr>\n",
       "    <tr>\n",
       "      <th>1387351</th>\n",
       "      <td>0.058128</td>\n",
       "      <td>46.895742</td>\n",
       "    </tr>\n",
       "    <tr>\n",
       "      <th>1390507</th>\n",
       "      <td>0.002657</td>\n",
       "      <td>28.795670</td>\n",
       "    </tr>\n",
       "    <tr>\n",
       "      <th>1390818</th>\n",
       "      <td>0.000041</td>\n",
       "      <td>3.234117</td>\n",
       "    </tr>\n",
       "    <tr>\n",
       "      <th>1395556</th>\n",
       "      <td>0.000041</td>\n",
       "      <td>5.301820</td>\n",
       "    </tr>\n",
       "    <tr>\n",
       "      <th>1398157</th>\n",
       "      <td>0.000429</td>\n",
       "      <td>6.831984</td>\n",
       "    </tr>\n",
       "    <tr>\n",
       "      <th>1401005</th>\n",
       "      <td>0.000090</td>\n",
       "      <td>4.503638</td>\n",
       "    </tr>\n",
       "    <tr>\n",
       "      <th>1401225</th>\n",
       "      <td>0.000048</td>\n",
       "      <td>3.382645</td>\n",
       "    </tr>\n",
       "    <tr>\n",
       "      <th>1410545</th>\n",
       "      <td>0.000043</td>\n",
       "      <td>3.775430</td>\n",
       "    </tr>\n",
       "    <tr>\n",
       "      <th>1414374</th>\n",
       "      <td>0.000041</td>\n",
       "      <td>3.699236</td>\n",
       "    </tr>\n",
       "    <tr>\n",
       "      <th>1433545</th>\n",
       "      <td>0.000055</td>\n",
       "      <td>3.125105</td>\n",
       "    </tr>\n",
       "    <tr>\n",
       "      <th>1439166</th>\n",
       "      <td>0.000776</td>\n",
       "      <td>10.295758</td>\n",
       "    </tr>\n",
       "    <tr>\n",
       "      <th>1450818</th>\n",
       "      <td>0.000047</td>\n",
       "      <td>4.979601</td>\n",
       "    </tr>\n",
       "  </tbody>\n",
       "</table>\n",
       "<p>320 rows × 2 columns</p>\n",
       "</div>"
      ],
      "text/plain": [
       "            hat21     rs_p21\n",
       "1107     0.020323  62.174098\n",
       "12527    0.000230   5.686852\n",
       "13046    0.000250   6.691365\n",
       "24426    0.000042   4.738564\n",
       "25397    0.000197   5.883289\n",
       "29062    0.000048   9.101581\n",
       "31208    0.000049   3.206456\n",
       "34055    0.000088   3.212416\n",
       "42950    0.000060   3.009023\n",
       "47242    0.000051   3.077579\n",
       "53207    0.000057   3.065192\n",
       "56994    0.000046   5.603689\n",
       "61378    0.000051   3.752107\n",
       "62744    0.000053  10.737811\n",
       "82007    0.000045   3.984820\n",
       "87145    0.000042   3.430984\n",
       "87582    0.000237   4.825336\n",
       "94962    0.000066   3.223253\n",
       "107171   0.000802  15.649392\n",
       "112733   0.000044   3.671583\n",
       "113098   0.000041   4.627017\n",
       "116907   0.000043   4.359393\n",
       "118124   0.000040   4.237237\n",
       "119874   0.000044   4.810752\n",
       "125668   0.000285   8.268747\n",
       "127613   0.000424   8.134769\n",
       "133641   0.003808  33.971698\n",
       "137848   0.000048   6.374745\n",
       "143582   0.000062   3.046498\n",
       "149352   0.000046   4.914698\n",
       "...           ...        ...\n",
       "1304200  0.000050   4.806870\n",
       "1306212  0.000511   9.233669\n",
       "1306332  0.000048   3.655153\n",
       "1307161  0.000043   5.614253\n",
       "1313163  0.000048   4.221712\n",
       "1319703  0.000668  12.503078\n",
       "1322539  0.000040   3.891298\n",
       "1322903  0.009863  51.454438\n",
       "1327633  0.000400  10.626567\n",
       "1328401  0.000711  14.516413\n",
       "1334544  0.000209   3.132895\n",
       "1341657  0.000063   3.155374\n",
       "1342413  0.000045   5.402003\n",
       "1343829  0.000040   3.212563\n",
       "1348373  0.000878   4.440373\n",
       "1369625  0.000044   3.266449\n",
       "1370617  0.000392   7.034708\n",
       "1383966  0.000097   3.993235\n",
       "1387351  0.058128  46.895742\n",
       "1390507  0.002657  28.795670\n",
       "1390818  0.000041   3.234117\n",
       "1395556  0.000041   5.301820\n",
       "1398157  0.000429   6.831984\n",
       "1401005  0.000090   4.503638\n",
       "1401225  0.000048   3.382645\n",
       "1410545  0.000043   3.775430\n",
       "1414374  0.000041   3.699236\n",
       "1433545  0.000055   3.125105\n",
       "1439166  0.000776  10.295758\n",
       "1450818  0.000047   4.979601\n",
       "\n",
       "[320 rows x 2 columns]"
      ]
     },
     "execution_count": 71,
     "metadata": {},
     "output_type": "execute_result"
    }
   ],
   "source": [
    "outlier21_3h3r"
   ]
  },
  {
   "cell_type": "code",
   "execution_count": 74,
   "metadata": {
    "collapsed": true,
    "scrolled": true
   },
   "outputs": [],
   "source": [
    "outlier21_3h3r_index = outlier21_3h3r.index"
   ]
  },
  {
   "cell_type": "code",
   "execution_count": 75,
   "metadata": {},
   "outputs": [
    {
     "data": {
      "text/plain": [
       "Int64Index([   1107,   12527,   13046,   24426,   25397,   29062,   31208,\n",
       "              34055,   42950,   47242,\n",
       "            ...\n",
       "            1390818, 1395556, 1398157, 1401005, 1401225, 1410545, 1414374,\n",
       "            1433545, 1439166, 1450818],\n",
       "           dtype='int64', length=320)"
      ]
     },
     "execution_count": 75,
     "metadata": {},
     "output_type": "execute_result"
    }
   ],
   "source": [
    "outlier21_3h3r_index"
   ]
  },
  {
   "cell_type": "code",
   "execution_count": 77,
   "metadata": {
    "collapsed": true
   },
   "outputs": [],
   "source": [
    "train_out_rm_21_3h3r = train.drop(labels = outlier21_3h3r_index)"
   ]
  },
  {
   "cell_type": "code",
   "execution_count": 78,
   "metadata": {
    "collapsed": true
   },
   "outputs": [],
   "source": [
    "train_out_rm_21_3h3r.reset_index(drop=True, inplace=True)"
   ]
  },
  {
   "cell_type": "code",
   "execution_count": 85,
   "metadata": {},
   "outputs": [
    {
     "name": "stdout",
     "output_type": "stream",
     "text": [
      "320 outliers are omitted from the data.\n"
     ]
    }
   ],
   "source": [
    "print(\"{} outliers are omitted from the data.\".format(len(outlier21_3h3r_index)))"
   ]
  },
  {
   "cell_type": "code",
   "execution_count": 7,
   "metadata": {
    "scrolled": true
   },
   "outputs": [
    {
     "name": "stdout",
     "output_type": "stream",
     "text": [
      "                               OLS Regression Results                              \n",
      "===================================================================================\n",
      "Dep. Variable:     np.log1p(trip_duration)   R-squared:                       0.689\n",
      "Model:                                 OLS   Adj. R-squared:                  0.689\n",
      "Method:                      Least Squares   F-statistic:                 1.794e+05\n",
      "Date:                     Wed, 14 Mar 2018   Prob (F-statistic):               0.00\n",
      "Time:                             13:53:24   Log-Likelihood:            -8.8245e+05\n",
      "No. Observations:                  1458324   AIC:                         1.765e+06\n",
      "Df Residuals:                      1458305   BIC:                         1.765e+06\n",
      "Df Model:                               18                                         \n",
      "Covariance Type:                 nonrobust                                         \n",
      "===================================================================================================\n",
      "                                      coef    std err          t      P>|t|      [0.025      0.975]\n",
      "---------------------------------------------------------------------------------------------------\n",
      "C(working_day)[0]                   6.4529      0.001   6402.471      0.000       6.451       6.455\n",
      "C(working_day)[1]                   6.4728      0.001   1.23e+04      0.000       6.472       6.474\n",
      "scale(passenger_count)              0.0065      0.000     17.571      0.000       0.006       0.007\n",
      "scale(distance)                     1.2336      0.001   1495.639      0.000       1.232       1.235\n",
      "scale(I(distance ** 2))            -6.0944      0.010   -620.235      0.000      -6.114      -6.075\n",
      "scale(I(distance ** 3))             5.1943      0.009    598.764      0.000       5.177       5.211\n",
      "scale(bearing)                     -0.0051      0.000    -11.340      0.000      -0.006      -0.004\n",
      "scale(pickup_month)                 0.0083      0.000     22.703      0.000       0.008       0.009\n",
      "scale(pickup_weekday)               0.0046      0.001      7.819      0.000       0.003       0.006\n",
      "scale(pickup_hour)                 -0.0071      0.001     -4.803      0.000      -0.010      -0.004\n",
      "scale(I(pickup_hour ** 2))          0.0077      0.001      5.272      0.000       0.005       0.011\n",
      "scale(pickup_latitude)              0.0381      0.000     80.217      0.000       0.037       0.039\n",
      "scale(pickup_longitude)            -0.9302      0.004   -242.042      0.000      -0.938      -0.923\n",
      "scale(I(pickup_longitude ** 2))    -0.9233      0.004   -228.782      0.000      -0.931      -0.915\n",
      "scale(dropoff_latitude)             0.0318      0.000     70.746      0.000       0.031       0.033\n",
      "scale(dropoff_longitude)           -0.0765      0.001    -96.878      0.000      -0.078      -0.075\n",
      "scale(avg_speed_km_h)              -0.6822      0.001   -974.741      0.000      -0.684      -0.681\n",
      "scale(I(avg_speed_km_h ** 2))       1.9845      0.004    489.239      0.000       1.977       1.992\n",
      "scale(I(avg_speed_km_h ** 3))      -0.7044      0.003   -215.787      0.000      -0.711      -0.698\n",
      "==============================================================================\n",
      "Omnibus:                  2429886.996   Durbin-Watson:                   1.997\n",
      "Prob(Omnibus):                  0.000   Jarque-Bera (JB):     260622087501.211\n",
      "Skew:                           9.607   Prob(JB):                         0.00\n",
      "Kurtosis:                    2073.931   Cond. No.                         72.8\n",
      "==============================================================================\n",
      "\n",
      "Warnings:\n",
      "[1] Standard Errors assume that the covariance matrix of the errors is correctly specified.\n"
     ]
    }
   ],
   "source": [
    "model21_rm = sm.OLS.from_formula(\"np.log1p(trip_duration) ~  C(working_day) + scale(passenger_count) + scale(distance) + scale(I(distance**2)) + scale(I(distance**3)) + scale(bearing) + scale(pickup_month) + scale(pickup_weekday) + scale(pickup_hour) + scale(I(pickup_hour**2)) + scale(pickup_latitude) + scale(pickup_longitude) + scale(I(pickup_longitude**2)) + scale(dropoff_latitude) + scale(dropoff_longitude) + scale(avg_speed_km_h) + scale(I(avg_speed_km_h**2)) + scale(I(avg_speed_km_h**3)) - 1\", train_out_rm_21_3h3r)\n",
    "result21_rm = model21_rm.fit()\n",
    "print(result21_rm.summary())"
   ]
  },
  {
   "cell_type": "code",
   "execution_count": 95,
   "metadata": {
    "scrolled": true
   },
   "outputs": [
    {
     "data": {
      "image/png": "[encoded data removed]",
      "text/plain": [
       "<matplotlib.figure.Figure at 0x1bb172ddd68>"
      ]
     },
     "metadata": {
      "image/png": {
       "height": 279,
       "width": 387
      }
     },
     "output_type": "display_data"
    }
   ],
   "source": [
    "sp.stats.probplot(result21_rm.resid, plot=plt)\n",
    "plt.show()"
   ]
  },
  {
   "cell_type": "code",
   "execution_count": 99,
   "metadata": {},
   "outputs": [
    {
     "name": "stdout",
     "output_type": "stream",
     "text": [
      "C(working_day)[0]                  6.410297\n",
      "C(working_day)[1]                  6.461773\n",
      "scale(passenger_count)             0.000000\n",
      "scale(distance)                    0.755717\n",
      "scale(I(distance ** 2))           -0.114010\n",
      "scale(I(distance ** 3))            0.000000\n",
      "scale(bearing)                     0.000000\n",
      "scale(pickup_month)                0.003855\n",
      "scale(pickup_weekday)              0.005687\n",
      "scale(pickup_hour)                 0.000000\n",
      "scale(I(pickup_hour ** 2))         0.000000\n",
      "scale(pickup_latitude)             0.038477\n",
      "scale(pickup_longitude)           -0.045275\n",
      "scale(I(pickup_longitude ** 2))    0.000000\n",
      "scale(dropoff_latitude)            0.000000\n",
      "scale(dropoff_longitude)           0.000000\n",
      "scale(avg_speed_km_h)             -0.538174\n",
      "scale(I(avg_speed_km_h ** 2))      0.262328\n",
      "scale(I(avg_speed_km_h ** 3))      0.000000\n",
      "dtype: float64\n"
     ]
    }
   ],
   "source": [
    "result21_rm_lasso = model21_rm.fit_regularized(alpha=0.01, L1_wt=1)\n",
    "print(result21_rm_lasso.params)"
   ]
  },
  {
   "cell_type": "code",
   "execution_count": 100,
   "metadata": {
    "scrolled": false
   },
   "outputs": [
    {
     "name": "stdout",
     "output_type": "stream",
     "text": [
      "C(working_day)[0]                  6.429142\n",
      "C(working_day)[1]                  6.468242\n",
      "scale(passenger_count)             0.002921\n",
      "scale(distance)                    0.783656\n",
      "scale(I(distance ** 2))           -0.140776\n",
      "scale(I(distance ** 3))            0.000000\n",
      "scale(bearing)                     0.000000\n",
      "scale(pickup_month)                0.007902\n",
      "scale(pickup_weekday)              0.007963\n",
      "scale(pickup_hour)                 0.000000\n",
      "scale(I(pickup_hour ** 2))         0.000000\n",
      "scale(pickup_latitude)             0.052783\n",
      "scale(pickup_longitude)           -0.054284\n",
      "scale(I(pickup_longitude ** 2))    0.000000\n",
      "scale(dropoff_latitude)            0.000000\n",
      "scale(dropoff_longitude)           0.000000\n",
      "scale(avg_speed_km_h)             -0.571857\n",
      "scale(I(avg_speed_km_h ** 2))      0.301219\n",
      "scale(I(avg_speed_km_h ** 3))      0.000000\n",
      "dtype: float64\n"
     ]
    }
   ],
   "source": [
    "result21_rm_lasso2 = model21_rm.fit_regularized(alpha=0.005, L1_wt=1)\n",
    "print(result21_rm_lasso2.params)"
   ]
  },
  {
   "cell_type": "code",
   "execution_count": 102,
   "metadata": {
    "scrolled": true
   },
   "outputs": [
    {
     "name": "stdout",
     "output_type": "stream",
     "text": [
      "C(working_day)[0]                  6.446288\n",
      "C(working_day)[1]                  6.473989\n",
      "scale(passenger_count)             0.006841\n",
      "scale(distance)                    0.841246\n",
      "scale(I(distance ** 2))           -0.514518\n",
      "scale(I(distance ** 3))            0.310581\n",
      "scale(bearing)                    -0.035428\n",
      "scale(pickup_month)                0.011020\n",
      "scale(pickup_weekday)              0.008739\n",
      "scale(pickup_hour)                -0.018317\n",
      "scale(I(pickup_hour ** 2))         0.020997\n",
      "scale(pickup_latitude)             0.067655\n",
      "scale(pickup_longitude)           -0.307304\n",
      "scale(I(pickup_longitude ** 2))   -0.281133\n",
      "scale(dropoff_latitude)           -0.008271\n",
      "scale(dropoff_longitude)          -0.031118\n",
      "scale(avg_speed_km_h)             -0.610833\n",
      "scale(I(avg_speed_km_h ** 2))      0.549249\n",
      "scale(I(avg_speed_km_h ** 3))     -0.163525\n",
      "dtype: float64\n"
     ]
    }
   ],
   "source": [
    "result21_rm_lasso3 = model21_rm.fit_regularized(alpha=0.0005, L1_wt=1)\n",
    "print(result21_rm_lasso3.params)"
   ]
  },
  {
   "cell_type": "code",
   "execution_count": 97,
   "metadata": {},
   "outputs": [
    {
     "name": "stdout",
     "output_type": "stream",
     "text": [
      "25171 outliers are omitted from the data.\n"
     ]
    }
   ],
   "source": [
    "# 레버리지 구하기\n",
    "influence21 = result21.get_influence()\n",
    "hat21 = influence21.hat_matrix_diag\n",
    "# 레버리지의 평균 구하기(n = 1458644, n은 데이터의 개수)\n",
    "hat21_mean = hat21.sum() / 1458644\n",
    "# 표준화 잔차 구하기\n",
    "rs_p21 = result21.resid_pearson\n",
    "# 레버리지와 표준화 잔차로 이루어진 data frame 만들기(index는 train data의 index와 동일)\n",
    "d21 = {\"hat21\" : hat21, \"rs_p21\" : rs_p21}\n",
    "hat_rs_p_21_df = pd.DataFrame(data = d21, index = train.index.values)\n",
    "# 레버리지와 표준화 잔차가 각각 일정수준 이상으로 큰 value들은 True로 나오는 data frame 만들기(index는 train data의 index와 동일)\n",
    "d21_3h3r = {\"hat21\" : hat21 > (3 * hat21_mean), \"rs_p21\" : rs_p21 > 3}\n",
    "hat_rs_p_out_3h3r_21_df = pd.DataFrame(data = d21_3h3r, index = train.index.values)\n",
    "# 아웃라이어 data(레버리지와 표준화 잔차 둘 다 또는 둘 중 하나가 큰것. 따라서 all을 씀)의 표준화 잔차와 레버리지(index는 재정렬되지 않은 상태)\n",
    "outlier21_3h3r_any = hat_rs_p_21_df[hat_rs_p_out_3h3r_21_df]\n",
    "outlier21_3h3r_any.dropna(how = \"all\", inplace = True)\n",
    "# outlier의 index 뽑기\n",
    "outlier21_3h3r_any_index = outlier21_3h3r_any.index\n",
    "# 뽑은 index로 train data에서 outlier 제거하기\n",
    "train_out_rm_21_3h3r_any = train.drop(labels = outlier21_3h3r_any_index)\n",
    "train_out_rm_21_3h3r_any.reset_index(drop=True, inplace=True)\n",
    "# 몇개의 outlier들이 제거되었는지 print하기\n",
    "print(\"{} outliers are omitted from the data.\".format(len(outlier21_3h3r_any_index)))"
   ]
  },
  {
   "cell_type": "code",
   "execution_count": 98,
   "metadata": {
    "scrolled": true
   },
   "outputs": [
    {
     "name": "stdout",
     "output_type": "stream",
     "text": [
      "                               OLS Regression Results                              \n",
      "===================================================================================\n",
      "Dep. Variable:     np.log1p(trip_duration)   R-squared:                       0.883\n",
      "Model:                                 OLS   Adj. R-squared:                  0.883\n",
      "Method:                      Least Squares   F-statistic:                 6.021e+05\n",
      "Date:                     Wed, 14 Mar 2018   Prob (F-statistic):               0.00\n",
      "Time:                             03:47:33   Log-Likelihood:                -89171.\n",
      "No. Observations:                  1433473   AIC:                         1.784e+05\n",
      "Df Residuals:                      1433454   BIC:                         1.786e+05\n",
      "Df Model:                               18                                         \n",
      "Covariance Type:                 nonrobust                                         \n",
      "===================================================================================================\n",
      "                                      coef    std err          t      P>|t|      [0.025      0.975]\n",
      "---------------------------------------------------------------------------------------------------\n",
      "C(working_day)[0]                   6.4345      0.001   1.09e+04      0.000       6.433       6.436\n",
      "C(working_day)[1]                   6.4493      0.000    2.1e+04      0.000       6.449       6.450\n",
      "scale(passenger_count)              0.0041      0.000     19.077      0.000       0.004       0.005\n",
      "scale(distance)                     2.5861      0.001   1944.349      0.000       2.583       2.589\n",
      "scale(I(distance ** 2))            -3.5971      0.003  -1129.765      0.000      -3.603      -3.591\n",
      "scale(I(distance ** 3))             1.8140      0.002    858.803      0.000       1.810       1.818\n",
      "scale(bearing)                      0.0140      0.000     51.536      0.000       0.014       0.015\n",
      "scale(pickup_month)                 0.0034      0.000     15.607      0.000       0.003       0.004\n",
      "scale(pickup_weekday)               0.0019      0.000      5.488      0.000       0.001       0.003\n",
      "scale(pickup_hour)                  0.0592      0.001     67.511      0.000       0.057       0.061\n",
      "scale(I(pickup_hour ** 2))         -0.0571      0.001    -65.590      0.000      -0.059      -0.055\n",
      "scale(pickup_latitude)             -0.0021      0.000     -5.646      0.000      -0.003      -0.001\n",
      "scale(pickup_longitude)           -14.5254      0.713    -20.365      0.000     -15.923     -13.127\n",
      "scale(I(pickup_longitude ** 2))   -14.5105      0.713    -20.346      0.000     -15.908     -13.113\n",
      "scale(dropoff_latitude)            -0.0015      0.000     -5.233      0.000      -0.002      -0.001\n",
      "scale(dropoff_longitude)            0.0025      0.000      8.925      0.000       0.002       0.003\n",
      "scale(avg_speed_km_h)              -0.9287      0.002   -567.156      0.000      -0.932      -0.926\n",
      "scale(I(avg_speed_km_h ** 2))       0.5980      0.003    182.420      0.000       0.592       0.604\n",
      "scale(I(avg_speed_km_h ** 3))      -0.1167      0.002    -62.429      0.000      -0.120      -0.113\n",
      "==============================================================================\n",
      "Omnibus:                  1962053.524   Durbin-Watson:                   2.002\n",
      "Prob(Omnibus):                  0.000   Jarque-Bera (JB):        760489573.416\n",
      "Skew:                          -7.827   Prob(JB):                         0.00\n",
      "Kurtosis:                     114.748   Cond. No.                     1.07e+04\n",
      "==============================================================================\n",
      "\n",
      "Warnings:\n",
      "[1] Standard Errors assume that the covariance matrix of the errors is correctly specified.\n",
      "[2] The condition number is large, 1.07e+04. This might indicate that there are\n",
      "strong multicollinearity or other numerical problems.\n"
     ]
    }
   ],
   "source": [
    "# 레버리지가 3보다 크거나 표준화 잔차가 3보다 큰것들을 outlier들로 봄.\n",
    "model21_rm_4 = sm.OLS.from_formula(\"np.log1p(trip_duration) ~  C(working_day) + scale(passenger_count) + scale(distance) + scale(I(distance**2)) + scale(I(distance**3)) + scale(bearing) + scale(pickup_month) + scale(pickup_weekday) + scale(pickup_hour) + scale(I(pickup_hour**2)) + scale(pickup_latitude) + scale(pickup_longitude) + scale(I(pickup_longitude**2)) + scale(dropoff_latitude) + scale(dropoff_longitude) + scale(avg_speed_km_h) + scale(I(avg_speed_km_h**2)) + scale(I(avg_speed_km_h**3)) - 1\", train_out_rm_21_3h3r_any)\n",
    "result21_rm_4 = model21_rm_4.fit()\n",
    "print(result21_rm_4.summary())"
   ]
  },
  {
   "cell_type": "code",
   "execution_count": 101,
   "metadata": {},
   "outputs": [
    {
     "name": "stdout",
     "output_type": "stream",
     "text": [
      "                               OLS Regression Results                              \n",
      "===================================================================================\n",
      "Dep. Variable:     np.log1p(trip_duration)   R-squared:                       0.883\n",
      "Model:                                 OLS   Adj. R-squared:                  0.883\n",
      "Method:                      Least Squares   F-statistic:                 6.375e+05\n",
      "Date:                     Wed, 14 Mar 2018   Prob (F-statistic):               0.00\n",
      "Time:                             04:03:12   Log-Likelihood:                -89184.\n",
      "No. Observations:                  1433473   AIC:                         1.784e+05\n",
      "Df Residuals:                      1433455   BIC:                         1.786e+05\n",
      "Df Model:                               17                                         \n",
      "Covariance Type:                 nonrobust                                         \n",
      "===================================================================================================\n",
      "                                      coef    std err          t      P>|t|      [0.025      0.975]\n",
      "---------------------------------------------------------------------------------------------------\n",
      "C(working_day)[0]                   6.4345      0.001   1.09e+04      0.000       6.433       6.436\n",
      "C(working_day)[1]                   6.4493      0.000    2.1e+04      0.000       6.449       6.450\n",
      "scale(passenger_count)              0.0041      0.000     19.052      0.000       0.004       0.005\n",
      "scale(distance)                     2.5857      0.001   1946.906      0.000       2.583       2.588\n",
      "scale(I(distance ** 2))            -3.5948      0.003  -1140.037      0.000      -3.601      -3.589\n",
      "scale(I(distance ** 3))             1.8120      0.002    872.677      0.000       1.808       1.816\n",
      "scale(bearing)                      0.0143      0.000     53.877      0.000       0.014       0.015\n",
      "scale(pickup_month)                 0.0034      0.000     15.580      0.000       0.003       0.004\n",
      "scale(pickup_weekday)               0.0019      0.000      5.475      0.000       0.001       0.003\n",
      "scale(pickup_hour)                  0.0589      0.001     67.318      0.000       0.057       0.061\n",
      "scale(I(pickup_hour ** 2))         -0.0568      0.001    -65.397      0.000      -0.059      -0.055\n",
      "scale(pickup_latitude)             -0.0029      0.000     -8.818      0.000      -0.004      -0.002\n",
      "scale(pickup_longitude)           -14.7968      0.711    -20.800      0.000     -16.191     -13.403\n",
      "scale(I(pickup_longitude ** 2))   -14.7819      0.711    -20.782      0.000     -16.176     -13.388\n",
      "scale(dropoff_longitude)            0.0021      0.000      7.817      0.000       0.002       0.003\n",
      "scale(avg_speed_km_h)              -0.9287      0.002   -567.128      0.000      -0.932      -0.925\n",
      "scale(I(avg_speed_km_h ** 2))       0.5978      0.003    182.385      0.000       0.591       0.604\n",
      "scale(I(avg_speed_km_h ** 3))      -0.1168      0.002    -62.478      0.000      -0.120      -0.113\n",
      "==============================================================================\n",
      "Omnibus:                  1961679.486   Durbin-Watson:                   2.002\n",
      "Prob(Omnibus):                  0.000   Jarque-Bera (JB):        759835483.383\n",
      "Skew:                          -7.824   Prob(JB):                         0.00\n",
      "Kurtosis:                     114.699   Cond. No.                     1.07e+04\n",
      "==============================================================================\n",
      "\n",
      "Warnings:\n",
      "[1] Standard Errors assume that the covariance matrix of the errors is correctly specified.\n",
      "[2] The condition number is large, 1.07e+04. This might indicate that there are\n",
      "strong multicollinearity or other numerical problems.\n"
     ]
    }
   ],
   "source": [
    "# 레버리지가 3보다 크거나 표준화 잔차가 3보다 큰것들을 outlier들로 봄. model21_rm_4에서 dropoff_latitude 뺌 \n",
    "model21_rm_5 = sm.OLS.from_formula(\"np.log1p(trip_duration) ~  C(working_day) + scale(passenger_count) + scale(distance) + scale(I(distance**2)) + scale(I(distance**3)) + scale(bearing) + scale(pickup_month) + scale(pickup_weekday) + scale(pickup_hour) + scale(I(pickup_hour**2)) + scale(pickup_latitude) + scale(pickup_longitude) + scale(I(pickup_longitude**2)) + scale(dropoff_longitude) + scale(avg_speed_km_h) + scale(I(avg_speed_km_h**2)) + scale(I(avg_speed_km_h**3)) - 1\", train_out_rm_21_3h3r_any)\n",
    "result21_rm_5 = model21_rm_5.fit()\n",
    "print(result21_rm_5.summary())"
   ]
  },
  {
   "cell_type": "code",
   "execution_count": 103,
   "metadata": {},
   "outputs": [
    {
     "name": "stdout",
     "output_type": "stream",
     "text": [
      "                               OLS Regression Results                              \n",
      "===================================================================================\n",
      "Dep. Variable:     np.log1p(trip_duration)   R-squared:                       0.883\n",
      "Model:                                 OLS   Adj. R-squared:                  0.883\n",
      "Method:                      Least Squares   F-statistic:                 6.773e+05\n",
      "Date:                     Wed, 14 Mar 2018   Prob (F-statistic):               0.00\n",
      "Time:                             04:16:17   Log-Likelihood:                -89215.\n",
      "No. Observations:                  1433473   AIC:                         1.785e+05\n",
      "Df Residuals:                      1433456   BIC:                         1.787e+05\n",
      "Df Model:                               16                                         \n",
      "Covariance Type:                 nonrobust                                         \n",
      "===================================================================================================\n",
      "                                      coef    std err          t      P>|t|      [0.025      0.975]\n",
      "---------------------------------------------------------------------------------------------------\n",
      "C(working_day)[0]                   6.4345      0.001   1.09e+04      0.000       6.433       6.436\n",
      "C(working_day)[1]                   6.4493      0.000    2.1e+04      0.000       6.449       6.450\n",
      "scale(passenger_count)              0.0041      0.000     19.009      0.000       0.004       0.005\n",
      "scale(distance)                     2.5847      0.001   1955.554      0.000       2.582       2.587\n",
      "scale(I(distance ** 2))            -3.5903      0.003  -1157.576      0.000      -3.596      -3.584\n",
      "scale(I(distance ** 3))             1.8087      0.002    888.740      0.000       1.805       1.813\n",
      "scale(bearing)                      0.0134      0.000     55.969      0.000       0.013       0.014\n",
      "scale(pickup_month)                 0.0034      0.000     15.569      0.000       0.003       0.004\n",
      "scale(pickup_weekday)               0.0019      0.000      5.511      0.000       0.001       0.003\n",
      "scale(pickup_hour)                  0.0586      0.001     66.980      0.000       0.057       0.060\n",
      "scale(I(pickup_hour ** 2))         -0.0565      0.001    -65.096      0.000      -0.058      -0.055\n",
      "scale(pickup_latitude)             -0.0029      0.000     -8.890      0.000      -0.004      -0.002\n",
      "scale(pickup_longitude)           -15.9871      0.695    -23.006      0.000     -17.349     -14.625\n",
      "scale(I(pickup_longitude ** 2))   -15.9728      0.695    -22.989      0.000     -17.335     -14.611\n",
      "scale(avg_speed_km_h)              -0.9288      0.002   -567.193      0.000      -0.932      -0.926\n",
      "scale(I(avg_speed_km_h ** 2))       0.5979      0.003    182.406      0.000       0.592       0.604\n",
      "scale(I(avg_speed_km_h ** 3))      -0.1168      0.002    -62.445      0.000      -0.120      -0.113\n",
      "==============================================================================\n",
      "Omnibus:                  1961813.207   Durbin-Watson:                   2.002\n",
      "Prob(Omnibus):                  0.000   Jarque-Bera (JB):        760061558.315\n",
      "Skew:                          -7.825   Prob(JB):                         0.00\n",
      "Kurtosis:                     114.716   Cond. No.                     1.03e+04\n",
      "==============================================================================\n",
      "\n",
      "Warnings:\n",
      "[1] Standard Errors assume that the covariance matrix of the errors is correctly specified.\n",
      "[2] The condition number is large, 1.03e+04. This might indicate that there are\n",
      "strong multicollinearity or other numerical problems.\n"
     ]
    }
   ],
   "source": [
    "# 레버리지가 3보다 크거나 표준화 잔차가 3보다 큰것들을 outlier들로 봄. model21_rm_4에서 dropoff_latitude 뺌. model21_rm_5에서 dropoff_longitude 뺌.\n",
    "model21_rm_6 = sm.OLS.from_formula(\"np.log1p(trip_duration) ~  C(working_day) + scale(passenger_count) + scale(distance) + scale(I(distance**2)) + scale(I(distance**3)) + scale(bearing) + scale(pickup_month) + scale(pickup_weekday) + scale(pickup_hour) + scale(I(pickup_hour**2)) + scale(pickup_latitude) + scale(pickup_longitude) + scale(I(pickup_longitude**2)) + scale(avg_speed_km_h) + scale(I(avg_speed_km_h**2)) + scale(I(avg_speed_km_h**3)) - 1\", train_out_rm_21_3h3r_any)\n",
    "result21_rm_6 = model21_rm_6.fit()\n",
    "print(result21_rm_6.summary())"
   ]
  },
  {
   "cell_type": "code",
   "execution_count": 104,
   "metadata": {
    "scrolled": true
   },
   "outputs": [
    {
     "name": "stdout",
     "output_type": "stream",
     "text": [
      "                               OLS Regression Results                              \n",
      "===================================================================================\n",
      "Dep. Variable:     np.log1p(trip_duration)   R-squared:                       0.883\n",
      "Model:                                 OLS   Adj. R-squared:                  0.883\n",
      "Method:                      Least Squares   F-statistic:                 7.206e+05\n",
      "Date:                     Wed, 14 Mar 2018   Prob (F-statistic):               0.00\n",
      "Time:                             04:22:50   Log-Likelihood:                -90779.\n",
      "No. Observations:                  1433473   AIC:                         1.816e+05\n",
      "Df Residuals:                      1433457   BIC:                         1.818e+05\n",
      "Df Model:                               15                                         \n",
      "Covariance Type:                 nonrobust                                         \n",
      "===================================================================================================\n",
      "                                      coef    std err          t      P>|t|      [0.025      0.975]\n",
      "---------------------------------------------------------------------------------------------------\n",
      "C(working_day)[0]                   6.4353      0.001   1.09e+04      0.000       6.434       6.436\n",
      "C(working_day)[1]                   6.4490      0.000    2.1e+04      0.000       6.448       6.450\n",
      "scale(passenger_count)              0.0041      0.000     18.876      0.000       0.004       0.004\n",
      "scale(distance)                     2.5811      0.001   1952.990      0.000       2.579       2.584\n",
      "scale(I(distance ** 2))            -3.5863      0.003  -1155.323      0.000      -3.592      -3.580\n",
      "scale(I(distance ** 3))             1.8079      0.002    887.389      0.000       1.804       1.812\n",
      "scale(pickup_month)                 0.0032      0.000     14.829      0.000       0.003       0.004\n",
      "scale(pickup_weekday)               0.0018      0.000      5.059      0.000       0.001       0.002\n",
      "scale(pickup_hour)                  0.0569      0.001     65.024      0.000       0.055       0.059\n",
      "scale(I(pickup_hour ** 2))         -0.0550      0.001    -63.324      0.000      -0.057      -0.053\n",
      "scale(pickup_latitude)             -0.0039      0.000    -11.940      0.000      -0.005      -0.003\n",
      "scale(pickup_longitude)           -20.5705      0.691    -29.777      0.000     -21.924     -19.216\n",
      "scale(I(pickup_longitude ** 2))   -20.5616      0.691    -29.769      0.000     -21.915     -19.208\n",
      "scale(avg_speed_km_h)              -0.9266      0.002   -565.406      0.000      -0.930      -0.923\n",
      "scale(I(avg_speed_km_h ** 2))       0.5864      0.003    179.059      0.000       0.580       0.593\n",
      "scale(I(avg_speed_km_h ** 3))      -0.1097      0.002    -58.744      0.000      -0.113      -0.106\n",
      "==============================================================================\n",
      "Omnibus:                  1967730.102   Durbin-Watson:                   2.002\n",
      "Prob(Omnibus):                  0.000   Jarque-Bera (JB):        770805776.419\n",
      "Skew:                          -7.868   Prob(JB):                         0.00\n",
      "Kurtosis:                     115.506   Cond. No.                     1.02e+04\n",
      "==============================================================================\n",
      "\n",
      "Warnings:\n",
      "[1] Standard Errors assume that the covariance matrix of the errors is correctly specified.\n",
      "[2] The condition number is large, 1.02e+04. This might indicate that there are\n",
      "strong multicollinearity or other numerical problems.\n"
     ]
    }
   ],
   "source": [
    "# 레버리지가 3보다 크거나 표준화 잔차가 3보다 큰것들을 outlier들로 봄. model21_rm_4에서 dropoff_latitude 뺌 & dropoff_longitude 뺌. &  + bearing 뺌\n",
    "model21_rm_7 = sm.OLS.from_formula(\"np.log1p(trip_duration) ~  C(working_day) + scale(passenger_count) + scale(distance) + scale(I(distance**2)) + scale(I(distance**3)) + scale(pickup_month) + scale(pickup_weekday) + scale(pickup_hour) + scale(I(pickup_hour**2)) + scale(pickup_latitude) + scale(pickup_longitude) + scale(I(pickup_longitude**2)) + scale(avg_speed_km_h) + scale(I(avg_speed_km_h**2)) + scale(I(avg_speed_km_h**3)) - 1\", train_out_rm_21_3h3r_any)\n",
    "result21_rm_7 = model21_rm_7.fit()\n",
    "print(result21_rm_7.summary())"
   ]
  },
  {
   "cell_type": "code",
   "execution_count": 6,
   "metadata": {},
   "outputs": [
    {
     "name": "stdout",
     "output_type": "stream",
     "text": [
      "320 outliers are omitted from the data.\n"
     ]
    }
   ],
   "source": [
    "# 레버리지 구하기\n",
    "influence21 = result21.get_influence()\n",
    "hat21 = influence21.hat_matrix_diag\n",
    "# 레버리지의 평균 구하기(n = 1458644, n은 데이터의 개수)\n",
    "hat21_mean = hat21.sum() / 1458644\n",
    "# 표준화 잔차 구하기\n",
    "rs_p21 = result21.resid_pearson\n",
    "# 레버리지와 표준화 잔차로 이루어진 data frame 만들기(index는 train data의 index와 동일)\n",
    "d21 = {\"hat21\" : hat21, \"rs_p21\" : rs_p21}\n",
    "hat_rs_p_21_df = pd.DataFrame(data = d21, index = train.index.values)\n",
    "# 레버리지와 표준화 잔차가 각각 일정수준 이상으로 큰 value들은 True로 나오는 data frame 만들기(index는 train data의 index와 동일)\n",
    "d21_3h3r = {\"hat21\" : hat21 > (3 * hat21_mean), \"rs_p21\" : rs_p21 > 3}\n",
    "hat_rs_p_out_3h3r_21_df = pd.DataFrame(data = d21_3h3r, index = train.index.values)\n",
    "# 아웃라이어 data(레버리지와 표준화 잔차 둘 다 큰것. 따라서 any를 씀)의 표준화 잔차와 레버리지(index는 재정렬되지 않은 상태)\n",
    "outlier21_3h3r = hat_rs_p_21_df[hat_rs_p_out_3h3r_21_df]\n",
    "outlier21_3h3r.dropna(how = \"any\", inplace = True)\n",
    "# outlier의 index 뽑기\n",
    "outlier21_3h3r_index = outlier21_3h3r.index\n",
    "# 뽑은 index로 train data에서 outlier 제거하기\n",
    "train_out_rm_21_3h3r = train.drop(labels = outlier21_3h3r_index)\n",
    "train_out_rm_21_3h3r.reset_index(drop=True, inplace=True)\n",
    "# 몇개의 outlier들이 제거되었는지 print하기\n",
    "print(\"{} outliers are omitted from the data.\".format(len(outlier21_3h3r_index)))"
   ]
  },
  {
   "cell_type": "markdown",
   "metadata": {},
   "source": [
    "# HERE !"
   ]
  },
  {
   "cell_type": "code",
   "execution_count": 86,
   "metadata": {},
   "outputs": [
    {
     "name": "stdout",
     "output_type": "stream",
     "text": [
      "147 outliers are omitted from the data.\n"
     ]
    }
   ],
   "source": [
    "# 레버리지 구하기\n",
    "influence21 = result21.get_influence()\n",
    "hat21 = influence21.hat_matrix_diag\n",
    "# 레버리지의 평균 구하기(n = 1458644, n은 데이터의 개수)\n",
    "hat21_mean = hat21.sum() / 1458644\n",
    "# 표준화 잔차 구하기\n",
    "rs_p21 = result21.resid_pearson\n",
    "# 레버리지와 표준화 잔차로 이루어진 data frame 만들기(index는 train data의 index와 동일)\n",
    "d21 = {\"hat21\" : hat21, \"rs_p21\" : rs_p21}\n",
    "hat_rs_p_21_df = pd.DataFrame(data = d21, index = train.index.values)\n",
    "# 레버리지와 표준화 잔차가 각각 일정수준 이상으로 큰 value들은 True로 나오는 data frame 만들기(index는 train data의 index와 동일)\n",
    "d21_4h4r = {\"hat21\" : hat21 > (4 * hat21_mean), \"rs_p21\" : rs_p21 > 4}\n",
    "hat_rs_p_out_4h4r_21_df = pd.DataFrame(data = d21_4h4r, index = train.index.values)\n",
    "# 아웃라이어 data(레버리지와 표준화 잔차 둘 다 큰것. 따라서 any를 씀)의 표준화 잔차와 레버리지(index는 재정렬되지 않은 상태)\n",
    "outlier21_4h4r = hat_rs_p_21_df[hat_rs_p_out_4h4r_21_df]\n",
    "outlier21_4h4r.dropna(how = \"any\", inplace = True)\n",
    "# outlier의 index 뽑기\n",
    "outlier21_4h4r_index = outlier21_4h4r.index\n",
    "# 뽑은 index로 train data에서 outlier 제거하기\n",
    "train_out_rm_21_4h4r = train.drop(labels = outlier21_4h4r_index)\n",
    "train_out_rm_21_4h4r.reset_index(drop=True, inplace=True)\n",
    "# 몇개의 outlier들이 제거되었는지 print하기\n",
    "print(\"{} outliers are omitted from the data.\".format(len(outlier21_4h4r_index)))"
   ]
  },
  {
   "cell_type": "code",
   "execution_count": 87,
   "metadata": {
    "scrolled": false
   },
   "outputs": [
    {
     "name": "stdout",
     "output_type": "stream",
     "text": [
      "                               OLS Regression Results                              \n",
      "===================================================================================\n",
      "Dep. Variable:     np.log1p(trip_duration)   R-squared:                       0.688\n",
      "Model:                                 OLS   Adj. R-squared:                  0.688\n",
      "Method:                      Least Squares   F-statistic:                 1.788e+05\n",
      "Date:                     Wed, 14 Mar 2018   Prob (F-statistic):               0.00\n",
      "Time:                             03:00:44   Log-Likelihood:            -8.8530e+05\n",
      "No. Observations:                  1458497   AIC:                         1.771e+06\n",
      "Df Residuals:                      1458478   BIC:                         1.771e+06\n",
      "Df Model:                               18                                         \n",
      "Covariance Type:                 nonrobust                                         \n",
      "===================================================================================================\n",
      "                                      coef    std err          t      P>|t|      [0.025      0.975]\n",
      "---------------------------------------------------------------------------------------------------\n",
      "C(working_day)[0]                   6.4529      0.001   6391.067      0.000       6.451       6.455\n",
      "C(working_day)[1]                   6.4730      0.001   1.23e+04      0.000       6.472       6.474\n",
      "scale(passenger_count)              0.0065      0.000     17.572      0.000       0.006       0.007\n",
      "scale(distance)                     1.2314      0.001   1491.750      0.000       1.230       1.233\n",
      "scale(I(distance ** 2))            -6.0915      0.010   -618.838      0.000      -6.111      -6.072\n",
      "scale(I(distance ** 3))             5.1924      0.009    597.472      0.000       5.175       5.209\n",
      "scale(bearing)                     -0.0052      0.000    -11.613      0.000      -0.006      -0.004\n",
      "scale(pickup_month)                 0.0084      0.000     22.810      0.000       0.008       0.009\n",
      "scale(pickup_weekday)               0.0047      0.001      7.921      0.000       0.004       0.006\n",
      "scale(pickup_hour)                 -0.0061      0.001     -4.104      0.000      -0.009      -0.003\n",
      "scale(I(pickup_hour ** 2))          0.0068      0.001      4.611      0.000       0.004       0.010\n",
      "scale(pickup_latitude)              0.0374      0.000     78.509      0.000       0.036       0.038\n",
      "scale(pickup_longitude)            -0.9132      0.004   -237.964      0.000      -0.921      -0.906\n",
      "scale(I(pickup_longitude ** 2))    -0.9054      0.004   -224.707      0.000      -0.913      -0.897\n",
      "scale(dropoff_latitude)             0.0311      0.000     68.755      0.000       0.030       0.032\n",
      "scale(dropoff_longitude)           -0.0742      0.001    -93.872      0.000      -0.076      -0.073\n",
      "scale(avg_speed_km_h)              -0.6816      0.001   -974.265      0.000      -0.683      -0.680\n",
      "scale(I(avg_speed_km_h ** 2))       1.9844      0.004    488.419      0.000       1.976       1.992\n",
      "scale(I(avg_speed_km_h ** 3))      -0.7055      0.003   -215.751      0.000      -0.712      -0.699\n",
      "==============================================================================\n",
      "Omnibus:                  2429993.678   Durbin-Watson:                   1.997\n",
      "Prob(Omnibus):                  0.000   Jarque-Bera (JB):     258686791476.429\n",
      "Skew:                           9.607   Prob(JB):                         0.00\n",
      "Kurtosis:                    2066.104   Cond. No.                         72.8\n",
      "==============================================================================\n",
      "\n",
      "Warnings:\n",
      "[1] Standard Errors assume that the covariance matrix of the errors is correctly specified.\n"
     ]
    }
   ],
   "source": [
    "model21_rm_2 = sm.OLS.from_formula(\"np.log1p(trip_duration) ~  C(working_day) + scale(passenger_count) + scale(distance) + scale(I(distance**2)) + scale(I(distance**3)) + scale(bearing) + scale(pickup_month) + scale(pickup_weekday) + scale(pickup_hour) + scale(I(pickup_hour**2)) + scale(pickup_latitude) + scale(pickup_longitude) + scale(I(pickup_longitude**2)) + scale(dropoff_latitude) + scale(dropoff_longitude) + scale(avg_speed_km_h) + scale(I(avg_speed_km_h**2)) + scale(I(avg_speed_km_h**3)) - 1\", train_out_rm_21_4h4r)\n",
    "result21_rm_2 = model21_rm_2.fit()\n",
    "print(result21_rm_2.summary())"
   ]
  },
  {
   "cell_type": "code",
   "execution_count": 88,
   "metadata": {
    "collapsed": true
   },
   "outputs": [],
   "source": [
    "# 레버리지 구하기\n",
    "influence21 = result21.get_influence()\n",
    "hat21 = influence21.hat_matrix_diag\n",
    "# 레버리지의 평균 구하기(n = 1458644, n은 데이터의 개수)\n",
    "hat21_mean = hat21.sum() / 1458644\n",
    "# 표준화 잔차 구하기\n",
    "rs_p21 = result21.resid_pearson\n",
    "# 레버리지와 표준화 잔차로 이루어진 data frame 만들기(index는 train data의 index와 동일)\n",
    "d21 = {\"hat21\" : hat21, \"rs_p21\" : rs_p21}\n",
    "hat_rs_p_21_df = pd.DataFrame(data = d21, index = train.index.values)\n",
    "# 레버리지와 표준화 잔차가 각각 일정수준 이상으로 큰 value들은 True로 나오는 data frame 만들기(index는 train data의 index와 동일)\n",
    "d21_2h2r = {\"hat21\" : hat21 > (2 * hat21_mean), \"rs_p21\" : rs_p21 > 2}\n",
    "hat_rs_p_out_2h2r_21_df = pd.DataFrame(data = d21_2h2r, index = train.index.values)\n",
    "# 아웃라이어 data(레버리지와 표준화 잔차 둘 다 큰것. 따라서 any를 씀)의 표준화 잔차와 레버리지(index는 재정렬되지 않은 상태)\n",
    "outlier21_2h2r = hat_rs_p_21_df[hat_rs_p_out_2h2r_21_df]\n",
    "outlier21_2h2r.dropna(how = \"any\", inplace = True)\n",
    "# outlier의 index 뽑기\n",
    "outlier21_2h2r_index = outlier21_2h2r.index\n",
    "# 뽑은 index로 train data에서 outlier 제거하기\n",
    "train_out_rm_21_2h2r = train.drop(labels = outlier21_2h2r_index)\n",
    "train_out_rm_21_2h2r.reset_index(drop=True, inplace=True)\n",
    "# 몇개의 outlier들이 제거되었는지 print하기"
   ]
  },
  {
   "cell_type": "code",
   "execution_count": 89,
   "metadata": {},
   "outputs": [
    {
     "name": "stdout",
     "output_type": "stream",
     "text": [
      "923 outliers are omitted from the data.\n"
     ]
    }
   ],
   "source": [
    "print(\"{} outliers are omitted from the data.\".format(len(outlier21_2h2r_index)))"
   ]
  },
  {
   "cell_type": "code",
   "execution_count": 90,
   "metadata": {
    "scrolled": true
   },
   "outputs": [
    {
     "name": "stdout",
     "output_type": "stream",
     "text": [
      "                               OLS Regression Results                              \n",
      "===================================================================================\n",
      "Dep. Variable:     np.log1p(trip_duration)   R-squared:                       0.690\n",
      "Model:                                 OLS   Adj. R-squared:                  0.690\n",
      "Method:                      Least Squares   F-statistic:                 1.799e+05\n",
      "Date:                     Wed, 14 Mar 2018   Prob (F-statistic):               0.00\n",
      "Time:                             03:14:07   Log-Likelihood:            -8.7810e+05\n",
      "No. Observations:                  1457721   AIC:                         1.756e+06\n",
      "Df Residuals:                      1457702   BIC:                         1.756e+06\n",
      "Df Model:                               18                                         \n",
      "Covariance Type:                 nonrobust                                         \n",
      "===================================================================================================\n",
      "                                      coef    std err          t      P>|t|      [0.025      0.975]\n",
      "---------------------------------------------------------------------------------------------------\n",
      "C(working_day)[0]                   6.4527      0.001   6418.204      0.000       6.451       6.455\n",
      "C(working_day)[1]                   6.4722      0.001   1.24e+04      0.000       6.471       6.473\n",
      "scale(passenger_count)              0.0064      0.000     17.439      0.000       0.006       0.007\n",
      "scale(distance)                     1.2363      0.001   1499.863      0.000       1.235       1.238\n",
      "scale(I(distance ** 2))            -6.0921      0.010   -621.487      0.000      -6.111      -6.073\n",
      "scale(I(distance ** 3))             5.1912      0.009    599.832      0.000       5.174       5.208\n",
      "scale(bearing)                     -0.0051      0.000    -11.395      0.000      -0.006      -0.004\n",
      "scale(pickup_month)                 0.0083      0.000     22.681      0.000       0.008       0.009\n",
      "scale(pickup_weekday)               0.0045      0.001      7.720      0.000       0.003       0.006\n",
      "scale(pickup_hour)                 -0.0075      0.001     -5.101      0.000      -0.010      -0.005\n",
      "scale(I(pickup_hour ** 2))          0.0082      0.001      5.588      0.000       0.005       0.011\n",
      "scale(pickup_latitude)              0.0400      0.000     84.331      0.000       0.039       0.041\n",
      "scale(pickup_longitude)            -0.9628      0.004   -249.521      0.000      -0.970      -0.955\n",
      "scale(I(pickup_longitude ** 2))    -0.9580      0.004   -236.343      0.000      -0.966      -0.950\n",
      "scale(dropoff_latitude)             0.0332      0.000     73.897      0.000       0.032       0.034\n",
      "scale(dropoff_longitude)           -0.0813      0.001   -102.978      0.000      -0.083      -0.080\n",
      "scale(avg_speed_km_h)              -0.6830      0.001   -974.940      0.000      -0.684      -0.682\n",
      "scale(I(avg_speed_km_h ** 2))       1.9831      0.004    489.966      0.000       1.975       1.991\n",
      "scale(I(avg_speed_km_h ** 3))      -0.7022      0.003   -215.623      0.000      -0.709      -0.696\n",
      "==============================================================================\n",
      "Omnibus:                  2422964.313   Durbin-Watson:                   1.997\n",
      "Prob(Omnibus):                  0.000   Jarque-Bera (JB):     259255077596.231\n",
      "Skew:                           9.553   Prob(JB):                         0.00\n",
      "Kurtosis:                    2068.920   Cond. No.                         72.9\n",
      "==============================================================================\n",
      "\n",
      "Warnings:\n",
      "[1] Standard Errors assume that the covariance matrix of the errors is correctly specified.\n"
     ]
    }
   ],
   "source": [
    "model21_rm_3 = sm.OLS.from_formula(\"np.log1p(trip_duration) ~  C(working_day) + scale(passenger_count) + scale(distance) + scale(I(distance**2)) + scale(I(distance**3)) + scale(bearing) + scale(pickup_month) + scale(pickup_weekday) + scale(pickup_hour) + scale(I(pickup_hour**2)) + scale(pickup_latitude) + scale(pickup_longitude) + scale(I(pickup_longitude**2)) + scale(dropoff_latitude) + scale(dropoff_longitude) + scale(avg_speed_km_h) + scale(I(avg_speed_km_h**2)) + scale(I(avg_speed_km_h**3)) - 1\", train_out_rm_21_2h2r)\n",
    "result21_rm_3 = model21_rm_3.fit()\n",
    "print(result21_rm_3.summary())"
   ]
  },
  {
   "cell_type": "markdown",
   "metadata": {},
   "source": [
    "------------------------"
   ]
  },
  {
   "cell_type": "markdown",
   "metadata": {},
   "source": [
    "### OLSs with Weather Data"
   ]
  },
  {
   "cell_type": "code",
   "execution_count": 6,
   "metadata": {
    "collapsed": true
   },
   "outputs": [],
   "source": [
    "train_trans_plus_weather = pd.read_csv(\"weather_imp_plus_train_trans.csv\", parse_dates=[\"pickup_datetime\", \"dropoff_datetime\"])\n",
    "test_trans_plus_weather = pd.read_csv(\"weather_imp_plus_test_trans.csv\", parse_dates=[\"pickup_datetime\"])"
   ]
  },
  {
   "cell_type": "markdown",
   "metadata": {},
   "source": [
    "3-18. 모든변수 - C(store_and_fwd_flag) & 실수값 스케일링 & pickup_hour 2차 다항회귀 & distance 2, 3, 4차 다항회귀 & speed 추가 & speed 3차 다항회귀 & C(vendor_id) 제거 & pickup_hour 3차 제거 & distance 4차 제거 & scaled_temp 추가"
   ]
  },
  {
   "cell_type": "code",
   "execution_count": 7,
   "metadata": {
    "scrolled": true
   },
   "outputs": [
    {
     "name": "stdout",
     "output_type": "stream",
     "text": [
      "                               OLS Regression Results                              \n",
      "===================================================================================\n",
      "Dep. Variable:     np.log1p(trip_duration)   R-squared:                       0.584\n",
      "Model:                                 OLS   Adj. R-squared:                  0.584\n",
      "Method:                      Least Squares   F-statistic:                 1.128e+05\n",
      "Date:                     Tue, 13 Mar 2018   Prob (F-statistic):               0.00\n",
      "Time:                             23:45:26   Log-Likelihood:            -1.0878e+06\n",
      "No. Observations:                  1446612   AIC:                         2.176e+06\n",
      "Df Residuals:                      1446593   BIC:                         2.176e+06\n",
      "Df Model:                               18                                         \n",
      "Covariance Type:                 nonrobust                                         \n",
      "=================================================================================================\n",
      "                                    coef    std err          t      P>|t|      [0.025      0.975]\n",
      "-------------------------------------------------------------------------------------------------\n",
      "C(working_day)[0]                 6.4392      0.001   5379.899      0.000       6.437       6.442\n",
      "C(working_day)[1]                 6.4813      0.001   1.01e+04      0.000       6.480       6.483\n",
      "scale(passenger_count)            0.0080      0.000     18.753      0.000       0.007       0.009\n",
      "scale(distance)                   0.8376      0.001   1344.617      0.000       0.836       0.839\n",
      "scale(I(distance ** 2))          -0.7062      0.002   -286.649      0.000      -0.711      -0.701\n",
      "scale(I(distance ** 3))           0.3863      0.002    182.029      0.000       0.382       0.390\n",
      "scale(bearing)                   -0.0312      0.001    -60.884      0.000      -0.032      -0.030\n",
      "scale(pickup_month)               0.0071      0.001     10.418      0.000       0.006       0.008\n",
      "scale(pickup_weekday)             0.0122      0.001     17.811      0.000       0.011       0.014\n",
      "scale(pickup_hour)                0.0118      0.002      6.821      0.000       0.008       0.015\n",
      "scale(I(pickup_hour ** 2))       -0.0068      0.002     -3.988      0.000      -0.010      -0.003\n",
      "scale(pickup_latitude)            0.0493      0.001     89.504      0.000       0.048       0.050\n",
      "scale(pickup_longitude)          -0.0465      0.001    -56.250      0.000      -0.048      -0.045\n",
      "scale(dropoff_latitude)          -0.0108      0.001    -20.679      0.000      -0.012      -0.010\n",
      "scale(dropoff_longitude)         -0.0047      0.001     -5.764      0.000      -0.006      -0.003\n",
      "scale(avg_speed_km_h)            -0.7204      0.001   -752.237      0.000      -0.722      -0.719\n",
      "scale(I(avg_speed_km_h ** 2))     1.4585      0.004    356.772      0.000       1.451       1.467\n",
      "scale(I(avg_speed_km_h ** 3))    -0.9082      0.004   -254.996      0.000      -0.915      -0.901\n",
      "scaled_temp                       0.0089      0.001     12.197      0.000       0.007       0.010\n",
      "==============================================================================\n",
      "Omnibus:                   633759.203   Durbin-Watson:                   1.987\n",
      "Prob(Omnibus):                  0.000   Jarque-Bera (JB):       2288831101.289\n",
      "Skew:                          -0.016   Prob(JB):                         0.00\n",
      "Kurtosis:                     197.866   Cond. No.                         25.1\n",
      "==============================================================================\n",
      "\n",
      "Warnings:\n",
      "[1] Standard Errors assume that the covariance matrix of the errors is correctly specified.\n"
     ]
    }
   ],
   "source": [
    "model18 = sm.OLS.from_formula(\"np.log1p(trip_duration) ~  C(working_day) + scale(passenger_count) + scale(distance) + scale(I(distance**2)) + scale(I(distance**3)) + scale(bearing) + scale(pickup_month) + scale(pickup_weekday) + scale(pickup_hour) + scale(I(pickup_hour**2)) + scale(pickup_latitude) + scale(pickup_longitude) + scale(dropoff_latitude) + scale(dropoff_longitude) + scale(avg_speed_km_h) + scale(I(avg_speed_km_h**2)) + scale(I(avg_speed_km_h**3)) + scaled_temp - 1\", train_trans_plus_weather)\n",
    "result18 = model18.fit()\n",
    "print(result18.summary())"
   ]
  },
  {
   "cell_type": "markdown",
   "metadata": {},
   "source": [
    "3-19. 모든변수 - C(store_and_fwd_flag) & 실수값 스케일링 & pickup_hour 2차 다항회귀 & distance 2, 3, 4차 다항회귀 & speed 추가 & speed 3차 다항회귀 & C(vendor_id) 제거 & pickup_hour 3차 제거 & distance 4차 제거 & scaled_temp 추가 & scaled_visibility추가"
   ]
  },
  {
   "cell_type": "code",
   "execution_count": 8,
   "metadata": {},
   "outputs": [
    {
     "name": "stdout",
     "output_type": "stream",
     "text": [
      "                               OLS Regression Results                              \n",
      "===================================================================================\n",
      "Dep. Variable:     np.log1p(trip_duration)   R-squared:                       0.584\n",
      "Model:                                 OLS   Adj. R-squared:                  0.584\n",
      "Method:                      Least Squares   F-statistic:                 1.036e+05\n",
      "Date:                     Tue, 13 Mar 2018   Prob (F-statistic):               0.00\n",
      "Time:                             23:54:45   Log-Likelihood:            -1.0514e+06\n",
      "No. Observations:                  1402047   AIC:                         2.103e+06\n",
      "Df Residuals:                      1402027   BIC:                         2.103e+06\n",
      "Df Model:                               19                                         \n",
      "Covariance Type:                 nonrobust                                         \n",
      "=================================================================================================\n",
      "                                    coef    std err          t      P>|t|      [0.025      0.975]\n",
      "-------------------------------------------------------------------------------------------------\n",
      "C(working_day)[0]                 6.4389      0.001   5303.273      0.000       6.437       6.441\n",
      "C(working_day)[1]                 6.4806      0.001   9966.734      0.000       6.479       6.482\n",
      "scale(passenger_count)            0.0080      0.000     18.460      0.000       0.007       0.009\n",
      "scale(distance)                   0.8376      0.001   1325.316      0.000       0.836       0.839\n",
      "scale(I(distance ** 2))          -0.6977      0.002   -283.252      0.000      -0.702      -0.693\n",
      "scale(I(distance ** 3))           0.3800      0.002    179.168      0.000       0.376       0.384\n",
      "scale(bearing)                   -0.0315      0.001    -60.757      0.000      -0.033      -0.031\n",
      "scale(pickup_month)               0.0069      0.001      9.985      0.000       0.006       0.008\n",
      "scale(pickup_weekday)             0.0124      0.001     17.669      0.000       0.011       0.014\n",
      "scale(pickup_hour)                0.0106      0.002      6.084      0.000       0.007       0.014\n",
      "scale(I(pickup_hour ** 2))       -0.0060      0.002     -3.478      0.001      -0.009      -0.003\n",
      "scale(pickup_latitude)            0.0494      0.001     88.699      0.000       0.048       0.051\n",
      "scale(pickup_longitude)          -0.0456      0.001    -54.351      0.000      -0.047      -0.044\n",
      "scale(dropoff_latitude)          -0.0115      0.001    -21.622      0.000      -0.013      -0.010\n",
      "scale(dropoff_longitude)         -0.0043      0.001     -5.256      0.000      -0.006      -0.003\n",
      "scale(avg_speed_km_h)            -0.7205      0.001   -740.769      0.000      -0.722      -0.719\n",
      "scale(I(avg_speed_km_h ** 2))     1.4451      0.004    353.047      0.000       1.437       1.453\n",
      "scale(I(avg_speed_km_h ** 3))    -0.8959      0.004   -251.590      0.000      -0.903      -0.889\n",
      "scaled_temp                       0.0086      0.001     11.763      0.000       0.007       0.010\n",
      "scaled_visibility                 0.0015      0.000      3.357      0.001       0.001       0.002\n",
      "==============================================================================\n",
      "Omnibus:                   613859.778   Durbin-Watson:                   1.987\n",
      "Prob(Omnibus):                  0.000   Jarque-Bera (JB):       2201643896.471\n",
      "Skew:                          -0.013   Prob(JB):                         0.00\n",
      "Kurtosis:                     197.132   Cond. No.                         25.1\n",
      "==============================================================================\n",
      "\n",
      "Warnings:\n",
      "[1] Standard Errors assume that the covariance matrix of the errors is correctly specified.\n"
     ]
    }
   ],
   "source": [
    "model19 = sm.OLS.from_formula(\"np.log1p(trip_duration) ~  C(working_day) + scale(passenger_count) + scale(distance) + scale(I(distance**2)) + scale(I(distance**3)) + scale(bearing) + scale(pickup_month) + scale(pickup_weekday) + scale(pickup_hour) + scale(I(pickup_hour**2)) + scale(pickup_latitude) + scale(pickup_longitude) + scale(dropoff_latitude) + scale(dropoff_longitude) + scale(avg_speed_km_h) + scale(I(avg_speed_km_h**2)) + scale(I(avg_speed_km_h**3)) + scaled_temp + scaled_visibility- 1\", train_trans_plus_weather)\n",
    "result19 = model19.fit()\n",
    "print(result19.summary())"
   ]
  },
  {
   "cell_type": "markdown",
   "metadata": {},
   "source": [
    "3-20. 모든변수 - C(store_and_fwd_flag) & 실수값 스케일링 & pickup_hour 2차 다항회귀 & distance 2, 3, 4차 다항회귀 & speed 추가 & speed 3차 다항회귀 & C(vendor_id) 제거 & pickup_hour 3차 제거 & distance 4차 제거 & scaled_temp 추가 & scaled_visibility 추가 & scaled_precip 추가"
   ]
  },
  {
   "cell_type": "code",
   "execution_count": 9,
   "metadata": {},
   "outputs": [
    {
     "name": "stdout",
     "output_type": "stream",
     "text": [
      "                               OLS Regression Results                              \n",
      "===================================================================================\n",
      "Dep. Variable:     np.log1p(trip_duration)   R-squared:                       0.584\n",
      "Model:                                 OLS   Adj. R-squared:                  0.584\n",
      "Method:                      Least Squares   F-statistic:                 9.837e+04\n",
      "Date:                     Wed, 14 Mar 2018   Prob (F-statistic):               0.00\n",
      "Time:                             00:09:02   Log-Likelihood:            -1.0514e+06\n",
      "No. Observations:                  1402047   AIC:                         2.103e+06\n",
      "Df Residuals:                      1402026   BIC:                         2.103e+06\n",
      "Df Model:                               20                                         \n",
      "Covariance Type:                 nonrobust                                         \n",
      "=================================================================================================\n",
      "                                    coef    std err          t      P>|t|      [0.025      0.975]\n",
      "-------------------------------------------------------------------------------------------------\n",
      "C(working_day)[0]                 6.4389      0.001   5303.292      0.000       6.437       6.441\n",
      "C(working_day)[1]                 6.4805      0.001   9958.801      0.000       6.479       6.482\n",
      "scale(passenger_count)            0.0080      0.000     18.460      0.000       0.007       0.009\n",
      "scale(distance)                   0.8376      0.001   1325.316      0.000       0.836       0.839\n",
      "scale(I(distance ** 2))          -0.6977      0.002   -283.250      0.000      -0.702      -0.693\n",
      "scale(I(distance ** 3))           0.3800      0.002    179.167      0.000       0.376       0.384\n",
      "scale(bearing)                   -0.0315      0.001    -60.747      0.000      -0.033      -0.031\n",
      "scale(pickup_month)               0.0068      0.001      9.822      0.000       0.005       0.008\n",
      "scale(pickup_weekday)             0.0124      0.001     17.690      0.000       0.011       0.014\n",
      "scale(pickup_hour)                0.0106      0.002      6.099      0.000       0.007       0.014\n",
      "scale(I(pickup_hour ** 2))       -0.0060      0.002     -3.492      0.000      -0.009      -0.003\n",
      "scale(pickup_latitude)            0.0495      0.001     88.703      0.000       0.048       0.051\n",
      "scale(pickup_longitude)          -0.0456      0.001    -54.358      0.000      -0.047      -0.044\n",
      "scale(dropoff_latitude)          -0.0115      0.001    -21.617      0.000      -0.013      -0.010\n",
      "scale(dropoff_longitude)         -0.0043      0.001     -5.250      0.000      -0.006      -0.003\n",
      "scale(avg_speed_km_h)            -0.7204      0.001   -740.751      0.000      -0.722      -0.719\n",
      "scale(I(avg_speed_km_h ** 2))     1.4450      0.004    353.038      0.000       1.437       1.453\n",
      "scale(I(avg_speed_km_h ** 3))    -0.8959      0.004   -251.584      0.000      -0.903      -0.889\n",
      "scaled_temp                       0.0086      0.001     11.744      0.000       0.007       0.010\n",
      "scaled_visibility                 0.0008      0.001      1.586      0.113      -0.000       0.002\n",
      "scaled_precip                    -0.0023      0.001     -3.267      0.001      -0.004      -0.001\n",
      "==============================================================================\n",
      "Omnibus:                   613859.466   Durbin-Watson:                   1.987\n",
      "Prob(Omnibus):                  0.000   Jarque-Bera (JB):       2201615713.080\n",
      "Skew:                          -0.013   Prob(JB):                         0.00\n",
      "Kurtosis:                     197.131   Cond. No.                         25.1\n",
      "==============================================================================\n",
      "\n",
      "Warnings:\n",
      "[1] Standard Errors assume that the covariance matrix of the errors is correctly specified.\n"
     ]
    }
   ],
   "source": [
    "model20 = sm.OLS.from_formula(\"np.log1p(trip_duration) ~  C(working_day) + scale(passenger_count) + scale(distance) + scale(I(distance**2)) + scale(I(distance**3)) + scale(bearing) + scale(pickup_month) + scale(pickup_weekday) + scale(pickup_hour) + scale(I(pickup_hour**2)) + scale(pickup_latitude) + scale(pickup_longitude) + scale(dropoff_latitude) + scale(dropoff_longitude) + scale(avg_speed_km_h) + scale(I(avg_speed_km_h**2)) + scale(I(avg_speed_km_h**3)) + scaled_temp + scaled_visibility + scaled_precip - 1\", train_trans_plus_weather)\n",
    "result20 = model20.fit()\n",
    "print(result20.summary())"
   ]
  },
  {
   "cell_type": "markdown",
   "metadata": {},
   "source": [
    "3-23. 모든변수 - C(store_and_fwd_flag) & 실수값 스케일링 & pickup_hour 2차 다항회귀 & distance 2, 3, 4차 다항회귀 & speed 추가 & speed 3차 다항회귀 & C(vendor_id) 제거 & pickup_hour 3차 제거 & distance 4차 제거 & pickup_longitude 2차 다항회귀 & scaled_temp 추가 & scaled_visibility 추가 & scaled_precip 추가"
   ]
  },
  {
   "cell_type": "code",
   "execution_count": 10,
   "metadata": {},
   "outputs": [
    {
     "name": "stdout",
     "output_type": "stream",
     "text": [
      "                               OLS Regression Results                              \n",
      "===================================================================================\n",
      "Dep. Variable:     np.log1p(trip_duration)   R-squared:                       0.591\n",
      "Model:                                 OLS   Adj. R-squared:                  0.591\n",
      "Method:                      Least Squares   F-statistic:                 1.173e+05\n",
      "Date:                     Wed, 14 Mar 2018   Prob (F-statistic):               0.00\n",
      "Time:                             00:13:46   Log-Likelihood:            -1.0837e+06\n",
      "No. Observations:                  1458644   AIC:                         2.167e+06\n",
      "Df Residuals:                      1458625   BIC:                         2.168e+06\n",
      "Df Model:                               18                                         \n",
      "Covariance Type:                 nonrobust                                         \n",
      "===================================================================================================\n",
      "                                      coef    std err          t      P>|t|      [0.025      0.975]\n",
      "---------------------------------------------------------------------------------------------------\n",
      "C(working_day)[0]                   6.4348      0.001   5568.917      0.000       6.432       6.437\n",
      "C(working_day)[1]                   6.4798      0.001   1.08e+04      0.000       6.479       6.481\n",
      "scale(passenger_count)              0.0080      0.000     18.935      0.000       0.007       0.009\n",
      "scale(distance)                     0.8700      0.001   1347.102      0.000       0.869       0.871\n",
      "scale(I(distance ** 2))            -0.7705      0.002   -311.736      0.000      -0.775      -0.766\n",
      "scale(I(distance ** 3))             0.4359      0.002    205.244      0.000       0.432       0.440\n",
      "scale(bearing)                     -0.0246      0.001    -48.578      0.000      -0.026      -0.024\n",
      "scale(pickup_month)                 0.0136      0.000     32.296      0.000       0.013       0.014\n",
      "scale(pickup_weekday)               0.0121      0.001     17.869      0.000       0.011       0.013\n",
      "scale(pickup_hour)                  0.0246      0.002     14.595      0.000       0.021       0.028\n",
      "scale(I(pickup_hour ** 2))         -0.0192      0.002    -11.465      0.000      -0.022      -0.016\n",
      "scale(pickup_latitude)              0.0423      0.001     77.555      0.000       0.041       0.043\n",
      "scale(pickup_longitude)            -0.6256      0.004   -169.411      0.000      -0.633      -0.618\n",
      "scale(I(pickup_longitude ** 2))    -0.6162      0.004   -160.697      0.000      -0.624      -0.609\n",
      "scale(dropoff_latitude)            -0.0043      0.001     -8.299      0.000      -0.005      -0.003\n",
      "scale(dropoff_longitude)           -0.0573      0.001    -66.298      0.000      -0.059      -0.056\n",
      "scale(avg_speed_km_h)              -0.7164      0.001   -757.624      0.000      -0.718      -0.715\n",
      "scale(I(avg_speed_km_h ** 2))       1.4707      0.004    363.304      0.000       1.463       1.479\n",
      "scale(I(avg_speed_km_h ** 3))      -0.9200      0.004   -260.715      0.000      -0.927      -0.913\n",
      "==============================================================================\n",
      "Omnibus:                   800537.612   Durbin-Watson:                   1.999\n",
      "Prob(Omnibus):                  0.000   Jarque-Bera (JB):       2578414890.584\n",
      "Skew:                           0.936   Prob(JB):                         0.00\n",
      "Kurtosis:                     208.963   Cond. No.                         25.3\n",
      "==============================================================================\n",
      "\n",
      "Warnings:\n",
      "[1] Standard Errors assume that the covariance matrix of the errors is correctly specified.\n"
     ]
    }
   ],
   "source": [
    "model23 = sm.OLS.from_formula(\"np.log1p(trip_duration) ~  C(working_day) + scale(passenger_count) + scale(distance) + scale(I(distance**2)) + scale(I(distance**3)) + scale(bearing) + scale(pickup_month) + scale(pickup_weekday) + scale(pickup_hour) + scale(I(pickup_hour**2)) + scale(pickup_latitude) + scale(pickup_longitude) + scale(I(pickup_longitude**2)) + scale(dropoff_latitude) + scale(dropoff_longitude) + scale(avg_speed_km_h) + scale(I(avg_speed_km_h**2)) + scale(I(avg_speed_km_h**3)) - 1\", train)\n",
    "result23 = model23.fit()\n",
    "print(result23.summary())"
   ]
  },
  {
   "cell_type": "code",
   "execution_count": null,
   "metadata": {
    "collapsed": true
   },
   "outputs": [],
   "source": [
    "imp = mice.MICEData(data)\n",
    "fml = 'y ~ x1 + x2 + x3 + x4'\n",
    "mice = mice.MICE(fml, sm.OLS, imp)\n",
    "results = mice.fit(10, 10)\n",
    "print(results.summary())"
   ]
  },
  {
   "cell_type": "markdown",
   "metadata": {},
   "source": [
    "------------------------"
   ]
  },
  {
   "cell_type": "markdown",
   "metadata": {},
   "source": [
    "### submission"
   ]
  },
  {
   "cell_type": "code",
   "execution_count": 91,
   "metadata": {
    "collapsed": true
   },
   "outputs": [],
   "source": [
    "z_test = result21_rm_3.predict(test)"
   ]
  },
  {
   "cell_type": "code",
   "execution_count": 92,
   "metadata": {},
   "outputs": [
    {
     "data": {
      "text/plain": [
       "625134"
      ]
     },
     "execution_count": 92,
     "metadata": {},
     "output_type": "execute_result"
    }
   ],
   "source": [
    "len(z_test)"
   ]
  },
  {
   "cell_type": "code",
   "execution_count": 93,
   "metadata": {},
   "outputs": [
    {
     "data": {
      "text/plain": [
       "625134"
      ]
     },
     "execution_count": 93,
     "metadata": {},
     "output_type": "execute_result"
    }
   ],
   "source": [
    "y_test = np.exp(z_test) - 1\n",
    "len(y_test)"
   ]
  },
  {
   "cell_type": "code",
   "execution_count": 94,
   "metadata": {
    "collapsed": true
   },
   "outputs": [],
   "source": [
    "submission = pd.DataFrame({\"id\": test.id, \"trip_duration\": y_test})\n",
    "submission.to_csv(\"submission21_rm_3.csv\", index = False)"
   ]
  },
  {
   "cell_type": "markdown",
   "metadata": {},
   "source": [
    "### submission result from the model with weather data"
   ]
  },
  {
   "cell_type": "code",
   "execution_count": 11,
   "metadata": {
    "collapsed": true
   },
   "outputs": [],
   "source": [
    "z_test_weather = result20.predict(test_trans_plus_weather)"
   ]
  },
  {
   "cell_type": "code",
   "execution_count": 12,
   "metadata": {},
   "outputs": [
    {
     "data": {
      "text/plain": [
       "625134"
      ]
     },
     "execution_count": 12,
     "metadata": {},
     "output_type": "execute_result"
    }
   ],
   "source": [
    "len(z_test_weather)"
   ]
  },
  {
   "cell_type": "code",
   "execution_count": 14,
   "metadata": {},
   "outputs": [
    {
     "data": {
      "text/plain": [
       "625134"
      ]
     },
     "execution_count": 14,
     "metadata": {},
     "output_type": "execute_result"
    }
   ],
   "source": [
    "y_test_weather = np.exp(z_test_weather) - 1\n",
    "len(y_test_weather)"
   ]
  },
  {
   "cell_type": "code",
   "execution_count": 15,
   "metadata": {
    "collapsed": true
   },
   "outputs": [],
   "source": [
    "submission_weather = pd.DataFrame({\"id\": test_trans_plus_weather.id, \"trip_duration\": y_test_weather})\n",
    "submission_weather.to_csv(\"submission_weather20.csv\", index = False)"
   ]
  },
  {
   "cell_type": "code",
   "execution_count": null,
   "metadata": {
    "collapsed": true
   },
   "outputs": [],
   "source": []
  }
 ],
 "metadata": {
  "kernelspec": {
   "display_name": "Python 3",
   "language": "python",
   "name": "python3"
  },
  "language_info": {
   "codemirror_mode": {
    "name": "ipython",
    "version": 3
   },
   "file_extension": ".py",
   "mimetype": "text/x-python",
   "name": "python",
   "nbconvert_exporter": "python",
   "pygments_lexer": "ipython3",
   "version": "3.6.3"
  }
 },
 "nbformat": 4,
 "nbformat_minor": 2
}

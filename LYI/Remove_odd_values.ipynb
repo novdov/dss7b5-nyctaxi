{
 "cells": [
  {
   "cell_type": "code",
   "execution_count": null,
   "metadata": {
    "collapsed": true
   },
   "outputs": [],
   "source": [
    "train_pll_big = train.loc[(train[\"pickup_latitude\"]>45) | (train[\"pickup_longitude\"]<-100)]\n",
    "train_dll_big = train.loc[(train[\"dropoff_latitude\"]<36) | (train[\"dropoff_longitude\"]<-120)]\n",
    "train_big_loc_idx = train_pll_big.index.union(train_dll_big.index)\n",
    "train_big_loc_rm = train.drop(labels = train_big_loc_idx)\n",
    "train_big_loc_dur_rm = train_big_loc_rm[train_big_loc_rm[\"trip_duration\"]<80000]\n",
    "train_dis_0_big_loc_dur_rm = train_big_loc_dur_rm.drop(labels = train_big_loc_dur_rm[train_big_loc_dur_rm[\"distance\"] == 0].index)\n",
    "# train_dis_0_big_loc_dur_rm이 최종적으로 다 제거된 df 변수명이에요. 이것만 딴걸로 수정해서 사용하시면 될것같아요."
   ]
  }
 ],
 "metadata": {
  "kernelspec": {
   "display_name": "Python 3",
   "language": "python",
   "name": "python3"
  },
  "language_info": {
   "codemirror_mode": {
    "name": "ipython",
    "version": 3
   },
   "file_extension": ".py",
   "mimetype": "text/x-python",
   "name": "python",
   "nbconvert_exporter": "python",
   "pygments_lexer": "ipython3",
   "version": "3.6.3"
  }
 },
 "nbformat": 4,
 "nbformat_minor": 2
}

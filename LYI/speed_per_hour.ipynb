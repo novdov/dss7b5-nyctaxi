{
 "cells": [
  {
   "cell_type": "code",
   "execution_count": null,
   "metadata": {
    "collapsed": true
   },
   "outputs": [],
   "source": [
    "train[\"avg_speed_km_h\"] = train[\"distance\"] / (train[\"trip_duration\"] / 3600)\n",
    "train[\"avg_speed_km_h\"].tail()\n",
    "taxi_speed = train.loc[:, [\"pickup_hour\", \"avg_speed_km_h\"]]\n",
    "taxi_speed = taxi_speed.groupby(\"pickup_hour\").mean()\n",
    "taxi_speed.reset_index(level=0, inplace=True)\n",
    "train_speed = pd.merge(train, taxi_speed, on = [\"pickup_hour\"])\n",
    "train_speed.rename(columns = {\"avg_speed_km_h_y\": \"avg_speed_km_h\"}, inplace = True)\n",
    "train_speed.drop(labels = [\"avg_speed_km_h_x\"], axis = 1, inplace = True)"
   ]
  }
 ],
 "metadata": {
  "kernelspec": {
   "display_name": "Python 3",
   "language": "python",
   "name": "python3"
  },
  "language_info": {
   "codemirror_mode": {
    "name": "ipython",
    "version": 3
   },
   "file_extension": ".py",
   "mimetype": "text/x-python",
   "name": "python",
   "nbconvert_exporter": "python",
   "pygments_lexer": "ipython3",
   "version": "3.6.3"
  }
 },
 "nbformat": 4,
 "nbformat_minor": 2
}

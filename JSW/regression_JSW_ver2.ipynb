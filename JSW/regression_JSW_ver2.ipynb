{
 "cells": [
  {
   "cell_type": "code",
   "execution_count": 1,
   "metadata": {},
   "outputs": [
    {
     "name": "stderr",
     "output_type": "stream",
     "text": [
      "/Library/Frameworks/Python.framework/Versions/3.6/lib/python3.6/site-packages/statsmodels/compat/pandas.py:56: FutureWarning: The pandas.core.datetools module is deprecated and will be removed in a future version. Please use the pandas.tseries module instead.\n",
      "  from pandas.core import datetools\n"
     ]
    }
   ],
   "source": [
    "import pandas as pd\n",
    "import numpy as np\n",
    "import datetime as dt\n",
    "import time\n",
    "import matplotlib as mpl\n",
    "import matplotlib.pyplot as plt\n",
    "import seaborn as sns\n",
    "\n",
    "from haversine import haversine\n",
    "\n",
    "sns.set()\n",
    "sns.set_style(\"whitegrid\")\n",
    "sns.set_color_codes()\n",
    "\n",
    "%matplotlib inline\n",
    "%config InlineBackend.figure_formats = {'png', 'retina'}\n",
    "\n",
    "from matplotlib import font_manager, rc\n",
    "plt.rcParams['axes.unicode_minus'] = False\n",
    "\n",
    "import platform\n",
    "if platform.system() == 'Darwin':\n",
    "    rc('font', family='AppleGothic')\n",
    "elif platform.system() == 'Windows':\n",
    "    path = \"c:/Windows/Fonts/malgun.ttf\"\n",
    "    font_name = font_manager.FontProperties(fname=path).get_name()\n",
    "    rc('font', family=font_name)\n",
    "\n",
    "import scipy as sp\n",
    "import statsmodels.api as sm # statsmodel 기본 import\n",
    "import statsmodels.formula.api as smf\n",
    "import statsmodels.stats.api as sms \n",
    "import sklearn as sk\n",
    "from patsy import dmatrix\n",
    "\n",
    "import warnings\n",
    "warnings.filterwarnings(\"ignore\")"
   ]
  },
  {
   "cell_type": "code",
   "execution_count": 2,
   "metadata": {},
   "outputs": [
    {
     "data": {
      "text/html": [
       "<div>\n",
       "<style scoped>\n",
       "    .dataframe tbody tr th:only-of-type {\n",
       "        vertical-align: middle;\n",
       "    }\n",
       "\n",
       "    .dataframe tbody tr th {\n",
       "        vertical-align: top;\n",
       "    }\n",
       "\n",
       "    .dataframe thead th {\n",
       "        text-align: right;\n",
       "    }\n",
       "</style>\n",
       "<table border=\"1\" class=\"dataframe\">\n",
       "  <thead>\n",
       "    <tr style=\"text-align: right;\">\n",
       "      <th></th>\n",
       "      <th>vendor_id</th>\n",
       "      <th>passenger_count</th>\n",
       "      <th>pickup_longitude</th>\n",
       "      <th>pickup_latitude</th>\n",
       "      <th>dropoff_longitude</th>\n",
       "      <th>dropoff_latitude</th>\n",
       "      <th>trip_duration</th>\n",
       "    </tr>\n",
       "  </thead>\n",
       "  <tbody>\n",
       "    <tr>\n",
       "      <th>count</th>\n",
       "      <td>1.458644e+06</td>\n",
       "      <td>1.458644e+06</td>\n",
       "      <td>1.458644e+06</td>\n",
       "      <td>1.458644e+06</td>\n",
       "      <td>1.458644e+06</td>\n",
       "      <td>1.458644e+06</td>\n",
       "      <td>1.458644e+06</td>\n",
       "    </tr>\n",
       "    <tr>\n",
       "      <th>mean</th>\n",
       "      <td>1.534950e+00</td>\n",
       "      <td>1.664530e+00</td>\n",
       "      <td>-7.397349e+01</td>\n",
       "      <td>4.075092e+01</td>\n",
       "      <td>-7.397342e+01</td>\n",
       "      <td>4.075180e+01</td>\n",
       "      <td>9.594923e+02</td>\n",
       "    </tr>\n",
       "    <tr>\n",
       "      <th>std</th>\n",
       "      <td>4.987772e-01</td>\n",
       "      <td>1.314242e+00</td>\n",
       "      <td>7.090186e-02</td>\n",
       "      <td>3.288119e-02</td>\n",
       "      <td>7.064327e-02</td>\n",
       "      <td>3.589056e-02</td>\n",
       "      <td>5.237432e+03</td>\n",
       "    </tr>\n",
       "    <tr>\n",
       "      <th>min</th>\n",
       "      <td>1.000000e+00</td>\n",
       "      <td>0.000000e+00</td>\n",
       "      <td>-1.219333e+02</td>\n",
       "      <td>3.435970e+01</td>\n",
       "      <td>-1.219333e+02</td>\n",
       "      <td>3.218114e+01</td>\n",
       "      <td>1.000000e+00</td>\n",
       "    </tr>\n",
       "    <tr>\n",
       "      <th>25%</th>\n",
       "      <td>1.000000e+00</td>\n",
       "      <td>1.000000e+00</td>\n",
       "      <td>-7.399187e+01</td>\n",
       "      <td>4.073735e+01</td>\n",
       "      <td>-7.399133e+01</td>\n",
       "      <td>4.073588e+01</td>\n",
       "      <td>3.970000e+02</td>\n",
       "    </tr>\n",
       "    <tr>\n",
       "      <th>50%</th>\n",
       "      <td>2.000000e+00</td>\n",
       "      <td>1.000000e+00</td>\n",
       "      <td>-7.398174e+01</td>\n",
       "      <td>4.075410e+01</td>\n",
       "      <td>-7.397975e+01</td>\n",
       "      <td>4.075452e+01</td>\n",
       "      <td>6.620000e+02</td>\n",
       "    </tr>\n",
       "    <tr>\n",
       "      <th>75%</th>\n",
       "      <td>2.000000e+00</td>\n",
       "      <td>2.000000e+00</td>\n",
       "      <td>-7.396733e+01</td>\n",
       "      <td>4.076836e+01</td>\n",
       "      <td>-7.396301e+01</td>\n",
       "      <td>4.076981e+01</td>\n",
       "      <td>1.075000e+03</td>\n",
       "    </tr>\n",
       "    <tr>\n",
       "      <th>max</th>\n",
       "      <td>2.000000e+00</td>\n",
       "      <td>9.000000e+00</td>\n",
       "      <td>-6.133553e+01</td>\n",
       "      <td>5.188108e+01</td>\n",
       "      <td>-6.133553e+01</td>\n",
       "      <td>4.392103e+01</td>\n",
       "      <td>3.526282e+06</td>\n",
       "    </tr>\n",
       "  </tbody>\n",
       "</table>\n",
       "</div>"
      ],
      "text/plain": [
       "          vendor_id  passenger_count  pickup_longitude  pickup_latitude  \\\n",
       "count  1.458644e+06     1.458644e+06      1.458644e+06     1.458644e+06   \n",
       "mean   1.534950e+00     1.664530e+00     -7.397349e+01     4.075092e+01   \n",
       "std    4.987772e-01     1.314242e+00      7.090186e-02     3.288119e-02   \n",
       "min    1.000000e+00     0.000000e+00     -1.219333e+02     3.435970e+01   \n",
       "25%    1.000000e+00     1.000000e+00     -7.399187e+01     4.073735e+01   \n",
       "50%    2.000000e+00     1.000000e+00     -7.398174e+01     4.075410e+01   \n",
       "75%    2.000000e+00     2.000000e+00     -7.396733e+01     4.076836e+01   \n",
       "max    2.000000e+00     9.000000e+00     -6.133553e+01     5.188108e+01   \n",
       "\n",
       "       dropoff_longitude  dropoff_latitude  trip_duration  \n",
       "count       1.458644e+06      1.458644e+06   1.458644e+06  \n",
       "mean       -7.397342e+01      4.075180e+01   9.594923e+02  \n",
       "std         7.064327e-02      3.589056e-02   5.237432e+03  \n",
       "min        -1.219333e+02      3.218114e+01   1.000000e+00  \n",
       "25%        -7.399133e+01      4.073588e+01   3.970000e+02  \n",
       "50%        -7.397975e+01      4.075452e+01   6.620000e+02  \n",
       "75%        -7.396301e+01      4.076981e+01   1.075000e+03  \n",
       "max        -6.133553e+01      4.392103e+01   3.526282e+06  "
      ]
     },
     "execution_count": 2,
     "metadata": {},
     "output_type": "execute_result"
    }
   ],
   "source": [
    "train = pd.read_csv(\"train.csv\")\n",
    "train.describe()"
   ]
  },
  {
   "cell_type": "code",
   "execution_count": 3,
   "metadata": {},
   "outputs": [
    {
     "data": {
      "text/html": [
       "<div>\n",
       "<style scoped>\n",
       "    .dataframe tbody tr th:only-of-type {\n",
       "        vertical-align: middle;\n",
       "    }\n",
       "\n",
       "    .dataframe tbody tr th {\n",
       "        vertical-align: top;\n",
       "    }\n",
       "\n",
       "    .dataframe thead th {\n",
       "        text-align: right;\n",
       "    }\n",
       "</style>\n",
       "<table border=\"1\" class=\"dataframe\">\n",
       "  <thead>\n",
       "    <tr style=\"text-align: right;\">\n",
       "      <th></th>\n",
       "      <th>id</th>\n",
       "      <th>vendor_id</th>\n",
       "      <th>pickup_datetime</th>\n",
       "      <th>dropoff_datetime</th>\n",
       "      <th>passenger_count</th>\n",
       "      <th>pickup_longitude</th>\n",
       "      <th>pickup_latitude</th>\n",
       "      <th>dropoff_longitude</th>\n",
       "      <th>dropoff_latitude</th>\n",
       "      <th>store_and_fwd_flag</th>\n",
       "      <th>trip_duration</th>\n",
       "    </tr>\n",
       "  </thead>\n",
       "  <tbody>\n",
       "    <tr>\n",
       "      <th>1458639</th>\n",
       "      <td>id2376096</td>\n",
       "      <td>2</td>\n",
       "      <td>2016-04-08 13:31:04</td>\n",
       "      <td>2016-04-08 13:44:02</td>\n",
       "      <td>4</td>\n",
       "      <td>-73.982201</td>\n",
       "      <td>40.745522</td>\n",
       "      <td>-73.994911</td>\n",
       "      <td>40.740170</td>\n",
       "      <td>N</td>\n",
       "      <td>778</td>\n",
       "    </tr>\n",
       "    <tr>\n",
       "      <th>1458640</th>\n",
       "      <td>id1049543</td>\n",
       "      <td>1</td>\n",
       "      <td>2016-01-10 07:35:15</td>\n",
       "      <td>2016-01-10 07:46:10</td>\n",
       "      <td>1</td>\n",
       "      <td>-74.000946</td>\n",
       "      <td>40.747379</td>\n",
       "      <td>-73.970184</td>\n",
       "      <td>40.796547</td>\n",
       "      <td>N</td>\n",
       "      <td>655</td>\n",
       "    </tr>\n",
       "    <tr>\n",
       "      <th>1458641</th>\n",
       "      <td>id2304944</td>\n",
       "      <td>2</td>\n",
       "      <td>2016-04-22 06:57:41</td>\n",
       "      <td>2016-04-22 07:10:25</td>\n",
       "      <td>1</td>\n",
       "      <td>-73.959129</td>\n",
       "      <td>40.768799</td>\n",
       "      <td>-74.004433</td>\n",
       "      <td>40.707371</td>\n",
       "      <td>N</td>\n",
       "      <td>764</td>\n",
       "    </tr>\n",
       "    <tr>\n",
       "      <th>1458642</th>\n",
       "      <td>id2714485</td>\n",
       "      <td>1</td>\n",
       "      <td>2016-01-05 15:56:26</td>\n",
       "      <td>2016-01-05 16:02:39</td>\n",
       "      <td>1</td>\n",
       "      <td>-73.982079</td>\n",
       "      <td>40.749062</td>\n",
       "      <td>-73.974632</td>\n",
       "      <td>40.757107</td>\n",
       "      <td>N</td>\n",
       "      <td>373</td>\n",
       "    </tr>\n",
       "    <tr>\n",
       "      <th>1458643</th>\n",
       "      <td>id1209952</td>\n",
       "      <td>1</td>\n",
       "      <td>2016-04-05 14:44:25</td>\n",
       "      <td>2016-04-05 14:47:43</td>\n",
       "      <td>1</td>\n",
       "      <td>-73.979538</td>\n",
       "      <td>40.781750</td>\n",
       "      <td>-73.972809</td>\n",
       "      <td>40.790585</td>\n",
       "      <td>N</td>\n",
       "      <td>198</td>\n",
       "    </tr>\n",
       "  </tbody>\n",
       "</table>\n",
       "</div>"
      ],
      "text/plain": [
       "                id  vendor_id      pickup_datetime     dropoff_datetime  \\\n",
       "1458639  id2376096          2  2016-04-08 13:31:04  2016-04-08 13:44:02   \n",
       "1458640  id1049543          1  2016-01-10 07:35:15  2016-01-10 07:46:10   \n",
       "1458641  id2304944          2  2016-04-22 06:57:41  2016-04-22 07:10:25   \n",
       "1458642  id2714485          1  2016-01-05 15:56:26  2016-01-05 16:02:39   \n",
       "1458643  id1209952          1  2016-04-05 14:44:25  2016-04-05 14:47:43   \n",
       "\n",
       "         passenger_count  pickup_longitude  pickup_latitude  \\\n",
       "1458639                4        -73.982201        40.745522   \n",
       "1458640                1        -74.000946        40.747379   \n",
       "1458641                1        -73.959129        40.768799   \n",
       "1458642                1        -73.982079        40.749062   \n",
       "1458643                1        -73.979538        40.781750   \n",
       "\n",
       "         dropoff_longitude  dropoff_latitude store_and_fwd_flag  trip_duration  \n",
       "1458639         -73.994911         40.740170                  N            778  \n",
       "1458640         -73.970184         40.796547                  N            655  \n",
       "1458641         -74.004433         40.707371                  N            764  \n",
       "1458642         -73.974632         40.757107                  N            373  \n",
       "1458643         -73.972809         40.790585                  N            198  "
      ]
     },
     "execution_count": 3,
     "metadata": {},
     "output_type": "execute_result"
    }
   ],
   "source": [
    "train.tail(5)"
   ]
  },
  {
   "cell_type": "code",
   "execution_count": null,
   "metadata": {},
   "outputs": [],
   "source": []
  },
  {
   "cell_type": "markdown",
   "metadata": {},
   "source": [
    "##### 데이터 전처리\n",
    "- date 분리 : date / month / weekday / time 추가\n",
    "- distance 추가"
   ]
  },
  {
   "cell_type": "markdown",
   "metadata": {},
   "source": [
    "##### date 분리 : date / month / weekday / time 추가"
   ]
  },
  {
   "cell_type": "code",
   "execution_count": 4,
   "metadata": {},
   "outputs": [],
   "source": [
    "pickup_datetime_dt = pd.to_datetime(train[\"pickup_datetime\"])\n",
    "dropoff_datetime_dt = pd.to_datetime(train[\"dropoff_datetime\"])\n",
    "\n",
    "train[\"pickup_datetime\"] = pickup_datetime_dt   #datetime64 형식으로 바꿔줌\n",
    "train[\"dropoff_datetime\"] = dropoff_datetime_dt #datetime64 형식으로 바꿔줌\n",
    "\n",
    "train[\"pickup_date\"] = train[\"pickup_datetime\"].dt.date              #date only\n",
    "train[\"dropoff_date\"] = train[\"dropoff_datetime\"].dt.date            #date only\n",
    "\n",
    "train[\"pickup_month\"] = train[\"pickup_datetime\"].dt.month            #month only\n",
    "train[\"dropoff_month\"] = train[\"dropoff_datetime\"].dt.month          #month only\n",
    "\n",
    "train[\"pickup_weekday\"] = train[\"pickup_datetime\"].dt.weekday        #weekday only (요일)\n",
    "train[\"dropoff_weekday\"] = train[\"dropoff_datetime\"].dt.weekday      #weekday only (요일)\n",
    "\n",
    "train[\"pickup_hour\"] = train[\"pickup_datetime\"].dt.hour              #hour only\n",
    "train[\"dropoff_hour\"] = train[\"dropoff_datetime\"].dt.hour            #hour only"
   ]
  },
  {
   "cell_type": "code",
   "execution_count": null,
   "metadata": {},
   "outputs": [],
   "source": []
  },
  {
   "cell_type": "markdown",
   "metadata": {},
   "source": [
    "##### distance 추가"
   ]
  },
  {
   "cell_type": "code",
   "execution_count": 5,
   "metadata": {},
   "outputs": [],
   "source": [
    "### 승하차 위치 데이터 tuple로 묶기 - pickup_loc / dropoff_loc로 리턴"
   ]
  },
  {
   "cell_type": "code",
   "execution_count": 6,
   "metadata": {},
   "outputs": [],
   "source": [
    "pickup_lat = tuple(train[\"pickup_latitude\"])\n",
    "pickup_lng = tuple(train[\"pickup_longitude\"])\n",
    "dropoff_lat = tuple(train[\"dropoff_latitude\"])\n",
    "dropoff_lng = tuple(train[\"dropoff_longitude\"])"
   ]
  },
  {
   "cell_type": "code",
   "execution_count": 7,
   "metadata": {},
   "outputs": [],
   "source": [
    "pickup_loc = tuple(zip(pickup_lat, pickup_lng))\n",
    "dropoff_loc = tuple(zip(dropoff_lat, dropoff_lng))"
   ]
  },
  {
   "cell_type": "code",
   "execution_count": 8,
   "metadata": {},
   "outputs": [
    {
     "data": {
      "text/plain": [
       "(1458644, 1458644)"
      ]
     },
     "execution_count": 8,
     "metadata": {},
     "output_type": "execute_result"
    }
   ],
   "source": [
    "len(pickup_loc), len(dropoff_loc)"
   ]
  },
  {
   "cell_type": "code",
   "execution_count": 12,
   "metadata": {},
   "outputs": [],
   "source": [
    "### pickup_loc & dropoff_loc 으로 직선거리 구하기"
   ]
  },
  {
   "cell_type": "code",
   "execution_count": 9,
   "metadata": {
    "scrolled": true
   },
   "outputs": [],
   "source": [
    "distance = []\n",
    "for i in range(len(pickup_loc)):\n",
    "    distance.append(haversine(pickup_loc[i], dropoff_loc[i]))"
   ]
  },
  {
   "cell_type": "code",
   "execution_count": 10,
   "metadata": {},
   "outputs": [],
   "source": [
    "train[\"distance\"] = distance"
   ]
  },
  {
   "cell_type": "code",
   "execution_count": 11,
   "metadata": {},
   "outputs": [
    {
     "data": {
      "text/plain": [
       "1458644"
      ]
     },
     "execution_count": 11,
     "metadata": {},
     "output_type": "execute_result"
    }
   ],
   "source": [
    "len(distance)"
   ]
  },
  {
   "cell_type": "code",
   "execution_count": 12,
   "metadata": {},
   "outputs": [
    {
     "data": {
      "text/html": [
       "<div>\n",
       "<style scoped>\n",
       "    .dataframe tbody tr th:only-of-type {\n",
       "        vertical-align: middle;\n",
       "    }\n",
       "\n",
       "    .dataframe tbody tr th {\n",
       "        vertical-align: top;\n",
       "    }\n",
       "\n",
       "    .dataframe thead th {\n",
       "        text-align: right;\n",
       "    }\n",
       "</style>\n",
       "<table border=\"1\" class=\"dataframe\">\n",
       "  <thead>\n",
       "    <tr style=\"text-align: right;\">\n",
       "      <th></th>\n",
       "      <th>vendor_id</th>\n",
       "      <th>passenger_count</th>\n",
       "      <th>pickup_longitude</th>\n",
       "      <th>pickup_latitude</th>\n",
       "      <th>dropoff_longitude</th>\n",
       "      <th>dropoff_latitude</th>\n",
       "      <th>trip_duration</th>\n",
       "      <th>pickup_month</th>\n",
       "      <th>dropoff_month</th>\n",
       "      <th>pickup_weekday</th>\n",
       "      <th>dropoff_weekday</th>\n",
       "      <th>pickup_hour</th>\n",
       "      <th>dropoff_hour</th>\n",
       "      <th>distance</th>\n",
       "    </tr>\n",
       "  </thead>\n",
       "  <tbody>\n",
       "    <tr>\n",
       "      <th>count</th>\n",
       "      <td>1.458644e+06</td>\n",
       "      <td>1.458644e+06</td>\n",
       "      <td>1.458644e+06</td>\n",
       "      <td>1.458644e+06</td>\n",
       "      <td>1.458644e+06</td>\n",
       "      <td>1.458644e+06</td>\n",
       "      <td>1.458644e+06</td>\n",
       "      <td>1.458644e+06</td>\n",
       "      <td>1.458644e+06</td>\n",
       "      <td>1.458644e+06</td>\n",
       "      <td>1.458644e+06</td>\n",
       "      <td>1.458644e+06</td>\n",
       "      <td>1.458644e+06</td>\n",
       "      <td>1.458644e+06</td>\n",
       "    </tr>\n",
       "    <tr>\n",
       "      <th>mean</th>\n",
       "      <td>1.534950e+00</td>\n",
       "      <td>1.664530e+00</td>\n",
       "      <td>-7.397349e+01</td>\n",
       "      <td>4.075092e+01</td>\n",
       "      <td>-7.397342e+01</td>\n",
       "      <td>4.075180e+01</td>\n",
       "      <td>9.594923e+02</td>\n",
       "      <td>3.516818e+00</td>\n",
       "      <td>3.517178e+00</td>\n",
       "      <td>3.050375e+00</td>\n",
       "      <td>3.054422e+00</td>\n",
       "      <td>1.360648e+01</td>\n",
       "      <td>1.359890e+01</td>\n",
       "      <td>3.440864e+00</td>\n",
       "    </tr>\n",
       "    <tr>\n",
       "      <th>std</th>\n",
       "      <td>4.987772e-01</td>\n",
       "      <td>1.314242e+00</td>\n",
       "      <td>7.090186e-02</td>\n",
       "      <td>3.288119e-02</td>\n",
       "      <td>7.064327e-02</td>\n",
       "      <td>3.589056e-02</td>\n",
       "      <td>5.237432e+03</td>\n",
       "      <td>1.681038e+00</td>\n",
       "      <td>1.681217e+00</td>\n",
       "      <td>1.954039e+00</td>\n",
       "      <td>1.956599e+00</td>\n",
       "      <td>6.399693e+00</td>\n",
       "      <td>6.483682e+00</td>\n",
       "      <td>4.296538e+00</td>\n",
       "    </tr>\n",
       "    <tr>\n",
       "      <th>min</th>\n",
       "      <td>1.000000e+00</td>\n",
       "      <td>0.000000e+00</td>\n",
       "      <td>-1.219333e+02</td>\n",
       "      <td>3.435970e+01</td>\n",
       "      <td>-1.219333e+02</td>\n",
       "      <td>3.218114e+01</td>\n",
       "      <td>1.000000e+00</td>\n",
       "      <td>1.000000e+00</td>\n",
       "      <td>1.000000e+00</td>\n",
       "      <td>0.000000e+00</td>\n",
       "      <td>0.000000e+00</td>\n",
       "      <td>0.000000e+00</td>\n",
       "      <td>0.000000e+00</td>\n",
       "      <td>0.000000e+00</td>\n",
       "    </tr>\n",
       "    <tr>\n",
       "      <th>25%</th>\n",
       "      <td>1.000000e+00</td>\n",
       "      <td>1.000000e+00</td>\n",
       "      <td>-7.399187e+01</td>\n",
       "      <td>4.073735e+01</td>\n",
       "      <td>-7.399133e+01</td>\n",
       "      <td>4.073588e+01</td>\n",
       "      <td>3.970000e+02</td>\n",
       "      <td>2.000000e+00</td>\n",
       "      <td>2.000000e+00</td>\n",
       "      <td>1.000000e+00</td>\n",
       "      <td>1.000000e+00</td>\n",
       "      <td>9.000000e+00</td>\n",
       "      <td>9.000000e+00</td>\n",
       "      <td>1.231837e+00</td>\n",
       "    </tr>\n",
       "    <tr>\n",
       "      <th>50%</th>\n",
       "      <td>2.000000e+00</td>\n",
       "      <td>1.000000e+00</td>\n",
       "      <td>-7.398174e+01</td>\n",
       "      <td>4.075410e+01</td>\n",
       "      <td>-7.397975e+01</td>\n",
       "      <td>4.075452e+01</td>\n",
       "      <td>6.620000e+02</td>\n",
       "      <td>4.000000e+00</td>\n",
       "      <td>4.000000e+00</td>\n",
       "      <td>3.000000e+00</td>\n",
       "      <td>3.000000e+00</td>\n",
       "      <td>1.400000e+01</td>\n",
       "      <td>1.400000e+01</td>\n",
       "      <td>2.093717e+00</td>\n",
       "    </tr>\n",
       "    <tr>\n",
       "      <th>75%</th>\n",
       "      <td>2.000000e+00</td>\n",
       "      <td>2.000000e+00</td>\n",
       "      <td>-7.396733e+01</td>\n",
       "      <td>4.076836e+01</td>\n",
       "      <td>-7.396301e+01</td>\n",
       "      <td>4.076981e+01</td>\n",
       "      <td>1.075000e+03</td>\n",
       "      <td>5.000000e+00</td>\n",
       "      <td>5.000000e+00</td>\n",
       "      <td>5.000000e+00</td>\n",
       "      <td>5.000000e+00</td>\n",
       "      <td>1.900000e+01</td>\n",
       "      <td>1.900000e+01</td>\n",
       "      <td>3.875337e+00</td>\n",
       "    </tr>\n",
       "    <tr>\n",
       "      <th>max</th>\n",
       "      <td>2.000000e+00</td>\n",
       "      <td>9.000000e+00</td>\n",
       "      <td>-6.133553e+01</td>\n",
       "      <td>5.188108e+01</td>\n",
       "      <td>-6.133553e+01</td>\n",
       "      <td>4.392103e+01</td>\n",
       "      <td>3.526282e+06</td>\n",
       "      <td>6.000000e+00</td>\n",
       "      <td>7.000000e+00</td>\n",
       "      <td>6.000000e+00</td>\n",
       "      <td>6.000000e+00</td>\n",
       "      <td>2.300000e+01</td>\n",
       "      <td>2.300000e+01</td>\n",
       "      <td>1.240909e+03</td>\n",
       "    </tr>\n",
       "  </tbody>\n",
       "</table>\n",
       "</div>"
      ],
      "text/plain": [
       "          vendor_id  passenger_count  pickup_longitude  pickup_latitude  \\\n",
       "count  1.458644e+06     1.458644e+06      1.458644e+06     1.458644e+06   \n",
       "mean   1.534950e+00     1.664530e+00     -7.397349e+01     4.075092e+01   \n",
       "std    4.987772e-01     1.314242e+00      7.090186e-02     3.288119e-02   \n",
       "min    1.000000e+00     0.000000e+00     -1.219333e+02     3.435970e+01   \n",
       "25%    1.000000e+00     1.000000e+00     -7.399187e+01     4.073735e+01   \n",
       "50%    2.000000e+00     1.000000e+00     -7.398174e+01     4.075410e+01   \n",
       "75%    2.000000e+00     2.000000e+00     -7.396733e+01     4.076836e+01   \n",
       "max    2.000000e+00     9.000000e+00     -6.133553e+01     5.188108e+01   \n",
       "\n",
       "       dropoff_longitude  dropoff_latitude  trip_duration  pickup_month  \\\n",
       "count       1.458644e+06      1.458644e+06   1.458644e+06  1.458644e+06   \n",
       "mean       -7.397342e+01      4.075180e+01   9.594923e+02  3.516818e+00   \n",
       "std         7.064327e-02      3.589056e-02   5.237432e+03  1.681038e+00   \n",
       "min        -1.219333e+02      3.218114e+01   1.000000e+00  1.000000e+00   \n",
       "25%        -7.399133e+01      4.073588e+01   3.970000e+02  2.000000e+00   \n",
       "50%        -7.397975e+01      4.075452e+01   6.620000e+02  4.000000e+00   \n",
       "75%        -7.396301e+01      4.076981e+01   1.075000e+03  5.000000e+00   \n",
       "max        -6.133553e+01      4.392103e+01   3.526282e+06  6.000000e+00   \n",
       "\n",
       "       dropoff_month  pickup_weekday  dropoff_weekday   pickup_hour  \\\n",
       "count   1.458644e+06    1.458644e+06     1.458644e+06  1.458644e+06   \n",
       "mean    3.517178e+00    3.050375e+00     3.054422e+00  1.360648e+01   \n",
       "std     1.681217e+00    1.954039e+00     1.956599e+00  6.399693e+00   \n",
       "min     1.000000e+00    0.000000e+00     0.000000e+00  0.000000e+00   \n",
       "25%     2.000000e+00    1.000000e+00     1.000000e+00  9.000000e+00   \n",
       "50%     4.000000e+00    3.000000e+00     3.000000e+00  1.400000e+01   \n",
       "75%     5.000000e+00    5.000000e+00     5.000000e+00  1.900000e+01   \n",
       "max     7.000000e+00    6.000000e+00     6.000000e+00  2.300000e+01   \n",
       "\n",
       "       dropoff_hour      distance  \n",
       "count  1.458644e+06  1.458644e+06  \n",
       "mean   1.359890e+01  3.440864e+00  \n",
       "std    6.483682e+00  4.296538e+00  \n",
       "min    0.000000e+00  0.000000e+00  \n",
       "25%    9.000000e+00  1.231837e+00  \n",
       "50%    1.400000e+01  2.093717e+00  \n",
       "75%    1.900000e+01  3.875337e+00  \n",
       "max    2.300000e+01  1.240909e+03  "
      ]
     },
     "execution_count": 12,
     "metadata": {},
     "output_type": "execute_result"
    }
   ],
   "source": [
    "train.describe()"
   ]
  },
  {
   "cell_type": "code",
   "execution_count": null,
   "metadata": {},
   "outputs": [],
   "source": []
  },
  {
   "cell_type": "code",
   "execution_count": null,
   "metadata": {},
   "outputs": [],
   "source": []
  },
  {
   "cell_type": "code",
   "execution_count": null,
   "metadata": {},
   "outputs": [],
   "source": []
  },
  {
   "cell_type": "code",
   "execution_count": null,
   "metadata": {},
   "outputs": [],
   "source": []
  },
  {
   "cell_type": "code",
   "execution_count": null,
   "metadata": {},
   "outputs": [],
   "source": []
  },
  {
   "cell_type": "code",
   "execution_count": null,
   "metadata": {},
   "outputs": [],
   "source": []
  },
  {
   "cell_type": "markdown",
   "metadata": {},
   "source": [
    "##### 2. distance ~ trip_duration 관계 : pickup_dropoff"
   ]
  },
  {
   "cell_type": "code",
   "execution_count": 13,
   "metadata": {},
   "outputs": [
    {
     "data": {
      "image/png": "[encoded data removed]",
      "text/plain": [
       "<matplotlib.figure.Figure at 0x115ae5710>"
      ]
     },
     "metadata": {
      "image/png": {
       "height": 422,
       "width": 454
      }
     },
     "output_type": "display_data"
    }
   ],
   "source": [
    "#duration과 distance의 아웃라이어 구간에 대한 재정의가 필요\n",
    "\n",
    "sns.jointplot(x=\"distance\", y=\"trip_duration\", data=train)\n",
    "plt.show()"
   ]
  },
  {
   "cell_type": "code",
   "execution_count": null,
   "metadata": {},
   "outputs": [],
   "source": []
  },
  {
   "cell_type": "code",
   "execution_count": 14,
   "metadata": {
    "scrolled": true
   },
   "outputs": [
    {
     "name": "stdout",
     "output_type": "stream",
     "text": [
      "                            OLS Regression Results                            \n",
      "==============================================================================\n",
      "Dep. Variable:          trip_duration   R-squared:                       0.009\n",
      "Model:                            OLS   Adj. R-squared:                  0.009\n",
      "Method:                 Least Squares   F-statistic:                 1.322e+04\n",
      "Date:                Sat, 10 Mar 2018   Prob (F-statistic):               0.00\n",
      "Time:                        06:27:35   Log-Likelihood:            -1.4554e+07\n",
      "No. Observations:             1458644   AIC:                         2.911e+07\n",
      "Df Residuals:                 1458642   BIC:                         2.911e+07\n",
      "Df Model:                           1                                         \n",
      "Covariance Type:            nonrobust                                         \n",
      "==============================================================================\n",
      "                 coef    std err          t      P>|t|      [0.025      0.975]\n",
      "------------------------------------------------------------------------------\n",
      "Intercept    561.9630      5.531    101.607      0.000     551.123     572.803\n",
      "distance     115.5318      1.005    114.984      0.000     113.563     117.501\n",
      "================================================================================\n",
      "Omnibus:                  8312199.819   Durbin-Watson:                     2.000\n",
      "Prob(Omnibus):                  0.000   Jarque-Bera (JB):   2317428619408069.500\n",
      "Skew:                         347.348   Prob(JB):                           0.00\n",
      "Kurtosis:                  195271.145   Cond. No.                           7.14\n",
      "================================================================================\n",
      "\n",
      "Warnings:\n",
      "[1] Standard Errors assume that the covariance matrix of the errors is correctly specified.\n"
     ]
    }
   ],
   "source": [
    "# trip_duration ~ distance 기본 회귀분석.\n",
    "model_ds = sm.OLS.from_formula(\"trip_duration ~ distance\", train)\n",
    "result_ds = model_ds.fit()\n",
    "print(result_ds.summary())"
   ]
  },
  {
   "cell_type": "code",
   "execution_count": null,
   "metadata": {},
   "outputs": [],
   "source": []
  },
  {
   "cell_type": "markdown",
   "metadata": {},
   "source": [
    "##### 3. speed ~ trip_duration 관계 : pickup_dropoff"
   ]
  },
  {
   "cell_type": "code",
   "execution_count": 15,
   "metadata": {},
   "outputs": [],
   "source": [
    "train[\"avg_speed_h\"] = 1000 * train[\"distance\"] / train[\"trip_duration\"]"
   ]
  },
  {
   "cell_type": "code",
   "execution_count": 16,
   "metadata": {},
   "outputs": [
    {
     "data": {
      "text/plain": [
       "count    1.458644e+06\n",
       "mean     4.006447e+00\n",
       "std      4.160423e+00\n",
       "min      0.000000e+00\n",
       "25%      2.533687e+00\n",
       "50%      3.553327e+00\n",
       "75%      4.956920e+00\n",
       "max      2.576344e+03\n",
       "Name: avg_speed_h, dtype: float64"
      ]
     },
     "execution_count": 16,
     "metadata": {},
     "output_type": "execute_result"
    }
   ],
   "source": [
    "train[\"avg_speed_h\"].describe()"
   ]
  },
  {
   "cell_type": "code",
   "execution_count": 17,
   "metadata": {},
   "outputs": [
    {
     "data": {
      "text/html": [
       "<div>\n",
       "<style scoped>\n",
       "    .dataframe tbody tr th:only-of-type {\n",
       "        vertical-align: middle;\n",
       "    }\n",
       "\n",
       "    .dataframe tbody tr th {\n",
       "        vertical-align: top;\n",
       "    }\n",
       "\n",
       "    .dataframe thead th {\n",
       "        text-align: right;\n",
       "    }\n",
       "</style>\n",
       "<table border=\"1\" class=\"dataframe\">\n",
       "  <thead>\n",
       "    <tr style=\"text-align: right;\">\n",
       "      <th></th>\n",
       "      <th>trip_duration</th>\n",
       "      <th>avg_speed_h</th>\n",
       "    </tr>\n",
       "  </thead>\n",
       "  <tbody>\n",
       "    <tr>\n",
       "      <th>1458639</th>\n",
       "      <td>778</td>\n",
       "      <td>1.574653</td>\n",
       "    </tr>\n",
       "    <tr>\n",
       "      <th>1458640</th>\n",
       "      <td>655</td>\n",
       "      <td>9.236390</td>\n",
       "    </tr>\n",
       "    <tr>\n",
       "      <th>1458641</th>\n",
       "      <td>764</td>\n",
       "      <td>10.241631</td>\n",
       "    </tr>\n",
       "    <tr>\n",
       "      <th>1458642</th>\n",
       "      <td>373</td>\n",
       "      <td>2.929126</td>\n",
       "    </tr>\n",
       "    <tr>\n",
       "      <th>1458643</th>\n",
       "      <td>198</td>\n",
       "      <td>5.727485</td>\n",
       "    </tr>\n",
       "  </tbody>\n",
       "</table>\n",
       "</div>"
      ],
      "text/plain": [
       "         trip_duration  avg_speed_h\n",
       "1458639            778     1.574653\n",
       "1458640            655     9.236390\n",
       "1458641            764    10.241631\n",
       "1458642            373     2.929126\n",
       "1458643            198     5.727485"
      ]
     },
     "execution_count": 17,
     "metadata": {},
     "output_type": "execute_result"
    }
   ],
   "source": [
    "train_speed_duration = train[[\"trip_duration\", \"avg_speed_h\"]]\n",
    "train_speed_duration.tail()"
   ]
  },
  {
   "cell_type": "code",
   "execution_count": null,
   "metadata": {},
   "outputs": [],
   "source": []
  },
  {
   "cell_type": "markdown",
   "metadata": {},
   "source": [
    "#### trip_duration ~ distance + avg_speed_h+ C(pickup_hour) + 0"
   ]
  },
  {
   "cell_type": "code",
   "execution_count": 19,
   "metadata": {},
   "outputs": [
    {
     "name": "stdout",
     "output_type": "stream",
     "text": [
      "                            OLS Regression Results                            \n",
      "==============================================================================\n",
      "Dep. Variable:          trip_duration   R-squared:                       0.015\n",
      "Model:                            OLS   Adj. R-squared:                  0.015\n",
      "Method:                 Least Squares   F-statistic:                     859.7\n",
      "Date:                Sat, 10 Mar 2018   Prob (F-statistic):               0.00\n",
      "Time:                        06:29:01   Log-Likelihood:            -1.4550e+07\n",
      "No. Observations:             1458644   AIC:                         2.910e+07\n",
      "Df Residuals:                 1458618   BIC:                         2.910e+07\n",
      "Df Model:                          25                                         \n",
      "Covariance Type:            nonrobust                                         \n",
      "======================================================================================\n",
      "                         coef    std err          t      P>|t|      [0.025      0.975]\n",
      "--------------------------------------------------------------------------------------\n",
      "C(pickup_hour)[0]    789.5487     23.182     34.059      0.000     744.113     834.984\n",
      "C(pickup_hour)[1]    785.5437     27.059     29.031      0.000     732.509     838.578\n",
      "C(pickup_hour)[2]    797.6543     31.601     25.242      0.000     735.718     859.590\n",
      "C(pickup_hour)[3]    790.3012     36.467     21.672      0.000     718.827     861.776\n",
      "C(pickup_hour)[4]    756.1393     41.921     18.037      0.000     673.976     838.303\n",
      "C(pickup_hour)[5]    640.3227     43.101     14.856      0.000     555.846     724.800\n",
      "C(pickup_hour)[6]    714.3362     29.173     24.487      0.000     657.159     771.513\n",
      "C(pickup_hour)[7]    729.5343     22.565     32.330      0.000     685.307     773.761\n",
      "C(pickup_hour)[8]    802.3867     20.479     39.181      0.000     762.249     842.524\n",
      "C(pickup_hour)[9]    816.9356     20.370     40.106      0.000     777.012     856.859\n",
      "C(pickup_hour)[10]   808.6715     20.711     39.046      0.000     768.079     849.264\n",
      "C(pickup_hour)[11]   819.1413     20.257     40.438      0.000     779.439     858.844\n",
      "C(pickup_hour)[12]   842.7352     19.782     42.602      0.000     803.964     881.507\n",
      "C(pickup_hour)[13]   855.7570     19.861     43.087      0.000     816.830     894.685\n",
      "C(pickup_hour)[14]   868.3364     19.504     44.522      0.000     830.110     906.563\n",
      "C(pickup_hour)[15]   907.5517     19.821     45.787      0.000     868.703     946.401\n",
      "C(pickup_hour)[16]   867.4864     20.927     41.454      0.000     826.471     908.502\n",
      "C(pickup_hour)[17]   846.5727     19.236     44.010      0.000     808.871     884.274\n",
      "C(pickup_hour)[18]   835.6758     17.734     47.123      0.000     800.918     870.434\n",
      "C(pickup_hour)[19]   773.4077     17.806     43.435      0.000     738.509     808.307\n",
      "C(pickup_hour)[20]   754.1140     18.546     40.662      0.000     717.764     790.464\n",
      "C(pickup_hour)[21]   752.1884     18.574     40.496      0.000     715.783     788.594\n",
      "C(pickup_hour)[22]   867.2941     18.992     45.667      0.000     830.071     904.517\n",
      "C(pickup_hour)[23]   755.9327     20.375     37.101      0.000     715.998     795.868\n",
      "distance             165.1750      1.147    143.950      0.000     162.926     167.424\n",
      "avg_speed_h         -104.6147      1.197    -87.362      0.000    -106.962    -102.268\n",
      "================================================================================\n",
      "Omnibus:                  8328680.309   Durbin-Watson:                     2.000\n",
      "Prob(Omnibus):                  0.000   Jarque-Bera (JB):   2363430689108217.500\n",
      "Skew:                         349.956   Prob(JB):                           0.00\n",
      "Kurtosis:                  197199.710   Cond. No.                           75.3\n",
      "================================================================================\n",
      "\n",
      "Warnings:\n",
      "[1] Standard Errors assume that the covariance matrix of the errors is correctly specified.\n"
     ]
    }
   ],
   "source": [
    "model = sm.OLS.from_formula(\"trip_duration ~ distance + avg_speed_h+ C(pickup_hour) + 0\", train)\n",
    "result = model.fit()\n",
    "print(result.summary())"
   ]
  },
  {
   "cell_type": "code",
   "execution_count": null,
   "metadata": {},
   "outputs": [],
   "source": []
  },
  {
   "cell_type": "markdown",
   "metadata": {},
   "source": [
    "#### trip_duration ~ distance + avg_speed_h+ C(pickup_hour) + C(pickup_weekday) + 0"
   ]
  },
  {
   "cell_type": "code",
   "execution_count": 20,
   "metadata": {},
   "outputs": [
    {
     "name": "stdout",
     "output_type": "stream",
     "text": [
      "                            OLS Regression Results                            \n",
      "==============================================================================\n",
      "Dep. Variable:          trip_duration   R-squared:                       0.015\n",
      "Model:                            OLS   Adj. R-squared:                  0.015\n",
      "Method:                 Least Squares   F-statistic:                     695.1\n",
      "Date:                Sat, 10 Mar 2018   Prob (F-statistic):               0.00\n",
      "Time:                        06:30:09   Log-Likelihood:            -1.4550e+07\n",
      "No. Observations:             1458644   AIC:                         2.910e+07\n",
      "Df Residuals:                 1458612   BIC:                         2.910e+07\n",
      "Df Model:                          31                                         \n",
      "Covariance Type:            nonrobust                                         \n",
      "==========================================================================================\n",
      "                             coef    std err          t      P>|t|      [0.025      0.975]\n",
      "------------------------------------------------------------------------------------------\n",
      "C(pickup_hour)[0]        725.9935     26.148     27.765      0.000     674.745     777.242\n",
      "C(pickup_hour)[1]        723.7234     29.768     24.312      0.000     665.378     782.068\n",
      "C(pickup_hour)[2]        736.5649     34.030     21.645      0.000     669.868     803.262\n",
      "C(pickup_hour)[3]        730.3206     38.610     18.915      0.000     654.646     805.995\n",
      "C(pickup_hour)[4]        695.6897     43.654     15.936      0.000     610.129     781.250\n",
      "C(pickup_hour)[5]        575.5168     44.544     12.920      0.000     488.213     662.821\n",
      "C(pickup_hour)[6]        647.7897     31.206     20.759      0.000     586.627     708.952\n",
      "C(pickup_hour)[7]        662.3331     25.169     26.315      0.000     613.002     711.664\n",
      "C(pickup_hour)[8]        736.1792     23.291     31.608      0.000     690.530     781.828\n",
      "C(pickup_hour)[9]        751.8834     23.204     32.403      0.000     706.403     797.363\n",
      "C(pickup_hour)[10]       744.5050     23.592     31.558      0.000     698.266     790.744\n",
      "C(pickup_hour)[11]       755.5913     23.215     32.547      0.000     710.090     801.093\n",
      "C(pickup_hour)[12]       779.1224     22.810     34.158      0.000     734.416     823.829\n",
      "C(pickup_hour)[13]       792.1802     22.877     34.628      0.000     747.343     837.018\n",
      "C(pickup_hour)[14]       804.9034     22.528     35.730      0.000     760.750     849.057\n",
      "C(pickup_hour)[15]       844.4923     22.770     37.088      0.000     799.864     889.120\n",
      "C(pickup_hour)[16]       805.3391     23.718     33.954      0.000     758.852     851.826\n",
      "C(pickup_hour)[17]       783.6681     22.242     35.234      0.000     740.075     827.261\n",
      "C(pickup_hour)[18]       771.7765     20.951     36.838      0.000     730.714     812.839\n",
      "C(pickup_hour)[19]       708.1235     21.069     33.609      0.000     666.829     749.419\n",
      "C(pickup_hour)[20]       688.4701     21.712     31.709      0.000     645.915     731.025\n",
      "C(pickup_hour)[21]       686.0474     21.753     31.538      0.000     643.412     728.683\n",
      "C(pickup_hour)[22]       799.5487     22.203     36.011      0.000     756.032     843.065\n",
      "C(pickup_hour)[23]       685.7767     23.536     29.137      0.000     639.646     731.907\n",
      "C(pickup_weekday)[T.1]    82.8862     16.667      4.973      0.000      50.219     115.554\n",
      "C(pickup_weekday)[T.2]    69.5837     16.530      4.209      0.000      37.185     101.983\n",
      "C(pickup_weekday)[T.3]    87.1719     16.385      5.320      0.000      55.057     119.287\n",
      "C(pickup_weekday)[T.4]    83.3643     16.316      5.109      0.000      51.386     115.343\n",
      "C(pickup_weekday)[T.5]    84.4370     16.466      5.128      0.000      52.164     116.710\n",
      "C(pickup_weekday)[T.6]    20.9094     17.013      1.229      0.219     -12.436      54.255\n",
      "distance                 165.1716      1.148    143.896      0.000     162.922     167.421\n",
      "avg_speed_h             -104.1953      1.200    -86.820      0.000    -106.547    -101.843\n",
      "================================================================================\n",
      "Omnibus:                  8328757.560   Durbin-Watson:                     2.000\n",
      "Prob(Omnibus):                  0.000   Jarque-Bera (JB):   2363679165873424.000\n",
      "Skew:                         349.968   Prob(JB):                           0.00\n",
      "Kurtosis:                  197210.076   Cond. No.                           123.\n",
      "================================================================================\n",
      "\n",
      "Warnings:\n",
      "[1] Standard Errors assume that the covariance matrix of the errors is correctly specified.\n"
     ]
    }
   ],
   "source": [
    "model = sm.OLS.from_formula(\"trip_duration ~ distance + avg_speed_h+ C(pickup_hour) + C(pickup_weekday) + 0\", train)\n",
    "result = model.fit()\n",
    "print(result.summary())"
   ]
  },
  {
   "cell_type": "code",
   "execution_count": null,
   "metadata": {},
   "outputs": [],
   "source": []
  },
  {
   "cell_type": "markdown",
   "metadata": {},
   "source": [
    "#### trip_duration ~ distance + avg_speed_h+ C(pickup_hour) + C(pickup_weekday) + C(pickup_month) + 0"
   ]
  },
  {
   "cell_type": "code",
   "execution_count": 21,
   "metadata": {},
   "outputs": [
    {
     "name": "stdout",
     "output_type": "stream",
     "text": [
      "                            OLS Regression Results                            \n",
      "==============================================================================\n",
      "Dep. Variable:          trip_duration   R-squared:                       0.014\n",
      "Model:                            OLS   Adj. R-squared:                  0.014\n",
      "Method:                 Least Squares   F-statistic:                     1530.\n",
      "Date:                Sat, 10 Mar 2018   Prob (F-statistic):               0.00\n",
      "Time:                        06:30:31   Log-Likelihood:            -1.4550e+07\n",
      "No. Observations:             1458644   AIC:                         2.910e+07\n",
      "Df Residuals:                 1458629   BIC:                         2.910e+07\n",
      "Df Model:                          14                                         \n",
      "Covariance Type:            nonrobust                                         \n",
      "========================================================================================\n",
      "                           coef    std err          t      P>|t|      [0.025      0.975]\n",
      "----------------------------------------------------------------------------------------\n",
      "C(pickup_weekday)[0]   720.6408     19.014     37.900      0.000     683.374     757.908\n",
      "C(pickup_weekday)[1]   801.7804     18.651     42.988      0.000     765.224     838.336\n",
      "C(pickup_weekday)[2]   787.3693     18.489     42.585      0.000     751.131     823.608\n",
      "C(pickup_weekday)[3]   804.1680     18.371     43.775      0.000     768.162     840.174\n",
      "C(pickup_weekday)[4]   801.9662     17.910     44.777      0.000     766.863     837.069\n",
      "C(pickup_weekday)[5]   808.1181     18.034     44.811      0.000     772.772     843.464\n",
      "C(pickup_weekday)[6]   747.6651     18.246     40.976      0.000     711.903     783.427\n",
      "C(pickup_month)[T.2]     3.6175     15.213      0.238      0.812     -26.200      33.435\n",
      "C(pickup_month)[T.3]    -1.2926     14.957     -0.086      0.931     -30.608      28.023\n",
      "C(pickup_month)[T.4]    13.5358     15.011      0.902      0.367     -15.885      42.957\n",
      "C(pickup_month)[T.5]    34.8480     15.069      2.313      0.021       5.314      64.382\n",
      "C(pickup_month)[T.6]    46.4460     15.287      3.038      0.002      16.483      76.409\n",
      "distance               165.3171      1.147    144.153      0.000     163.069     167.565\n",
      "avg_speed_h           -105.6544      1.188    -88.923      0.000    -107.983    -103.326\n",
      "pickup_hour              1.0645      0.677      1.572      0.116      -0.262       2.391\n",
      "================================================================================\n",
      "Omnibus:                  8328534.661   Durbin-Watson:                     2.000\n",
      "Prob(Omnibus):                  0.000   Jarque-Bera (JB):   2363010000965763.500\n",
      "Skew:                         349.932   Prob(JB):                           0.00\n",
      "Kurtosis:                  197182.159   Cond. No.                           163.\n",
      "================================================================================\n",
      "\n",
      "Warnings:\n",
      "[1] Standard Errors assume that the covariance matrix of the errors is correctly specified.\n"
     ]
    }
   ],
   "source": [
    "model = sm.OLS.from_formula(\"trip_duration ~ distance + avg_speed_h + pickup_hour + C(pickup_weekday) + C(pickup_month) + 0\", train)\n",
    "result = model.fit()\n",
    "print(result.summary())"
   ]
  },
  {
   "cell_type": "markdown",
   "metadata": {},
   "source": [
    "#### trip_duration ~ log1p(distance) + log1p(avg_speed_h) + abs.sin(pickup_hour) + 0"
   ]
  },
  {
   "cell_type": "code",
   "execution_count": 24,
   "metadata": {},
   "outputs": [
    {
     "name": "stdout",
     "output_type": "stream",
     "text": [
      "                               OLS Regression Results                              \n",
      "===================================================================================\n",
      "Dep. Variable:     np.log1p(trip_duration)   R-squared:                       0.942\n",
      "Model:                                 OLS   Adj. R-squared:                  0.942\n",
      "Method:                      Least Squares   F-statistic:                 7.965e+06\n",
      "Date:                     Sat, 10 Mar 2018   Prob (F-statistic):               0.00\n",
      "Time:                             06:31:47   Log-Likelihood:            -2.7210e+06\n",
      "No. Observations:                  1458644   AIC:                         5.442e+06\n",
      "Df Residuals:                      1458641   BIC:                         5.442e+06\n",
      "Df Model:                                3                                         \n",
      "Covariance Type:                 nonrobust                                         \n",
      "============================================================================================\n",
      "                               coef    std err          t      P>|t|      [0.025      0.975]\n",
      "--------------------------------------------------------------------------------------------\n",
      "np.log1p(distance)           1.3742      0.002    550.632      0.000       1.369       1.379\n",
      "np.log1p(avg_speed_h)        1.9556      0.003    760.444      0.000       1.951       1.961\n",
      "abs(np.sin(pickup_hour))     2.2820      0.003    652.451      0.000       2.275       2.289\n",
      "==============================================================================\n",
      "Omnibus:                    50657.948   Durbin-Watson:                   1.895\n",
      "Prob(Omnibus):                  0.000   Jarque-Bera (JB):           125995.056\n",
      "Skew:                           0.165   Prob(JB):                         0.00\n",
      "Kurtosis:                       4.401   Cond. No.                         6.58\n",
      "==============================================================================\n",
      "\n",
      "Warnings:\n",
      "[1] Standard Errors assume that the covariance matrix of the errors is correctly specified.\n"
     ]
    }
   ],
   "source": [
    "model = sm.OLS.from_formula(\"np.log1p(trip_duration) ~ np.log1p(distance) + np.log1p(avg_speed_h)+ abs(np.sin(pickup_hour)) + 0\", train)\n",
    "result = model.fit()\n",
    "print(result.summary())"
   ]
  },
  {
   "cell_type": "code",
   "execution_count": null,
   "metadata": {},
   "outputs": [],
   "source": []
  },
  {
   "cell_type": "markdown",
   "metadata": {},
   "source": [
    "#### trip_duration ~ log1p(distance) + abs(np.sin(pickup_hour)) + 0 \n",
    "- 현재 모델 : r-square 92 / cond 3.82 / F-statistic 8.349e+06\n",
    "- passenger_count 추가시 : r-square 0.931 / cond 6.32 / F-statistic 6.571e+06"
   ]
  },
  {
   "cell_type": "code",
   "execution_count": 45,
   "metadata": {},
   "outputs": [
    {
     "name": "stdout",
     "output_type": "stream",
     "text": [
      "                               OLS Regression Results                              \n",
      "===================================================================================\n",
      "Dep. Variable:     np.log1p(trip_duration)   R-squared:                       0.920\n",
      "Model:                                 OLS   Adj. R-squared:                  0.920\n",
      "Method:                      Least Squares   F-statistic:                 8.349e+06\n",
      "Date:                     Sat, 10 Mar 2018   Prob (F-statistic):               0.00\n",
      "Time:                             07:17:38   Log-Likelihood:            -2.9646e+06\n",
      "No. Observations:                  1458644   AIC:                         5.929e+06\n",
      "Df Residuals:                      1458642   BIC:                         5.929e+06\n",
      "Df Model:                                2                                         \n",
      "Covariance Type:                 nonrobust                                         \n",
      "============================================================================================\n",
      "                               coef    std err          t      P>|t|      [0.025      0.975]\n",
      "--------------------------------------------------------------------------------------------\n",
      "np.log1p(distance)           2.8909      0.002   1631.031      0.000       2.887       2.894\n",
      "abs(np.sin(pickup_hour))     3.6295      0.004   1018.533      0.000       3.622       3.636\n",
      "==============================================================================\n",
      "Omnibus:                    19842.826   Durbin-Watson:                   1.790\n",
      "Prob(Omnibus):                  0.000   Jarque-Bera (JB):            21675.987\n",
      "Skew:                          -0.258   Prob(JB):                         0.00\n",
      "Kurtosis:                       3.301   Cond. No.                         3.82\n",
      "==============================================================================\n",
      "\n",
      "Warnings:\n",
      "[1] Standard Errors assume that the covariance matrix of the errors is correctly specified.\n"
     ]
    }
   ],
   "source": [
    "model = sm.OLS.from_formula(\"np.log1p(trip_duration) ~ np.log1p(distance) + abs(np.sin(pickup_hour)) + 0\", train)\n",
    "result = model.fit()\n",
    "print(result.summary())"
   ]
  },
  {
   "cell_type": "code",
   "execution_count": null,
   "metadata": {},
   "outputs": [],
   "source": []
  },
  {
   "cell_type": "markdown",
   "metadata": {},
   "source": [
    "#### F검정을 사용한 변수 중요도 비교 "
   ]
  },
  {
   "cell_type": "code",
   "execution_count": 35,
   "metadata": {},
   "outputs": [
    {
     "data": {
      "text/html": [
       "<div>\n",
       "<style scoped>\n",
       "    .dataframe tbody tr th:only-of-type {\n",
       "        vertical-align: middle;\n",
       "    }\n",
       "\n",
       "    .dataframe tbody tr th {\n",
       "        vertical-align: top;\n",
       "    }\n",
       "\n",
       "    .dataframe thead th {\n",
       "        text-align: right;\n",
       "    }\n",
       "</style>\n",
       "<table border=\"1\" class=\"dataframe\">\n",
       "  <thead>\n",
       "    <tr style=\"text-align: right;\">\n",
       "      <th></th>\n",
       "      <th>sum_sq</th>\n",
       "      <th>df</th>\n",
       "      <th>F</th>\n",
       "      <th>PR(&gt;F)</th>\n",
       "    </tr>\n",
       "  </thead>\n",
       "  <tbody>\n",
       "    <tr>\n",
       "      <th>distance</th>\n",
       "      <td>4.931638e+11</td>\n",
       "      <td>1.0</td>\n",
       "      <td>18242.799517</td>\n",
       "      <td>0.000000e+00</td>\n",
       "    </tr>\n",
       "    <tr>\n",
       "      <th>avg_speed_h</th>\n",
       "      <td>2.120601e+11</td>\n",
       "      <td>1.0</td>\n",
       "      <td>7844.390118</td>\n",
       "      <td>0.000000e+00</td>\n",
       "    </tr>\n",
       "    <tr>\n",
       "      <th>pickup_longitude</th>\n",
       "      <td>4.048016e+07</td>\n",
       "      <td>1.0</td>\n",
       "      <td>1.497416</td>\n",
       "      <td>2.210695e-01</td>\n",
       "    </tr>\n",
       "    <tr>\n",
       "      <th>pickup_latitude</th>\n",
       "      <td>1.288962e+08</td>\n",
       "      <td>1.0</td>\n",
       "      <td>4.768044</td>\n",
       "      <td>2.899291e-02</td>\n",
       "    </tr>\n",
       "    <tr>\n",
       "      <th>pickup_month</th>\n",
       "      <td>4.046803e+08</td>\n",
       "      <td>1.0</td>\n",
       "      <td>14.969673</td>\n",
       "      <td>1.092577e-04</td>\n",
       "    </tr>\n",
       "    <tr>\n",
       "      <th>pickup_weekday</th>\n",
       "      <td>5.673404e+07</td>\n",
       "      <td>1.0</td>\n",
       "      <td>2.098669</td>\n",
       "      <td>1.474276e-01</td>\n",
       "    </tr>\n",
       "    <tr>\n",
       "      <th>pickup_hour</th>\n",
       "      <td>8.921362e+07</td>\n",
       "      <td>1.0</td>\n",
       "      <td>3.300133</td>\n",
       "      <td>6.927448e-02</td>\n",
       "    </tr>\n",
       "    <tr>\n",
       "      <th>passenger_count</th>\n",
       "      <td>1.910173e+09</td>\n",
       "      <td>1.0</td>\n",
       "      <td>70.659908</td>\n",
       "      <td>4.248043e-17</td>\n",
       "    </tr>\n",
       "    <tr>\n",
       "      <th>Residual</th>\n",
       "      <td>3.943178e+13</td>\n",
       "      <td>1458635.0</td>\n",
       "      <td>NaN</td>\n",
       "      <td>NaN</td>\n",
       "    </tr>\n",
       "  </tbody>\n",
       "</table>\n",
       "</div>"
      ],
      "text/plain": [
       "                        sum_sq         df             F        PR(>F)\n",
       "distance          4.931638e+11        1.0  18242.799517  0.000000e+00\n",
       "avg_speed_h       2.120601e+11        1.0   7844.390118  0.000000e+00\n",
       "pickup_longitude  4.048016e+07        1.0      1.497416  2.210695e-01\n",
       "pickup_latitude   1.288962e+08        1.0      4.768044  2.899291e-02\n",
       "pickup_month      4.046803e+08        1.0     14.969673  1.092577e-04\n",
       "pickup_weekday    5.673404e+07        1.0      2.098669  1.474276e-01\n",
       "pickup_hour       8.921362e+07        1.0      3.300133  6.927448e-02\n",
       "passenger_count   1.910173e+09        1.0     70.659908  4.248043e-17\n",
       "Residual          3.943178e+13  1458635.0           NaN           NaN"
      ]
     },
     "execution_count": 35,
     "metadata": {},
     "output_type": "execute_result"
    }
   ],
   "source": [
    "model = sm.OLS.from_formula(\"trip_duration ~ distance + avg_speed_h + pickup_longitude + pickup_latitude + pickup_month + pickup_weekday + pickup_hour + passenger_count\", data=train)\n",
    "result = model.fit()\n",
    "sm.stats.anova_lm(result, typ=2)"
   ]
  },
  {
   "cell_type": "code",
   "execution_count": null,
   "metadata": {},
   "outputs": [],
   "source": []
  }
 ],
 "metadata": {
  "kernelspec": {
   "display_name": "Python 3",
   "language": "python",
   "name": "python3"
  },
  "language_info": {
   "codemirror_mode": {
    "name": "ipython",
    "version": 3
   },
   "file_extension": ".py",
   "mimetype": "text/x-python",
   "name": "python",
   "nbconvert_exporter": "python",
   "pygments_lexer": "ipython3",
   "version": "3.6.3"
  }
 },
 "nbformat": 4,
 "nbformat_minor": 2
}

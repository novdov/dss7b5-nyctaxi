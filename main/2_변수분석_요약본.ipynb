{
 "cells": [
  {
   "cell_type": "markdown",
   "metadata": {},
   "source": [
    "# 2. 변수 분석 - Summary"
   ]
  },
  {
   "cell_type": "markdown",
   "metadata": {},
   "source": [
    "### 2-1. 변수의 시각화\n",
    "- trip_duration : 500시간 이상 outlier 4건 확인 및 제거, log 취할 시 정규성 띔.\n",
    "- 실수변수, 카테고리변수 plotting : 24시간 이상 outlier 1,895건 확인.\n",
    "- 위치변수 (경,위도) : mapping결과 명백한 outlier발견 (미서부, 캐나다, 대서양 위치).\n",
    "- 시간변수 (datetime) :\n",
    "    - pickup_hour : 9~19시 trip_duration 높음.\n",
    "    - pickup_month : 6월로 갈수록 trip_duration 높음.\n",
    "    - working_day : 주중(0)이 trip_duration 더 높음."
   ]
  },
  {
   "cell_type": "markdown",
   "metadata": {},
   "source": [
    "### 2-2. 변수 간 상관관계 (heatmap)\n",
    "- 위치변수 (경,위도) : 경도-경도, 위도-위도 간 높은 상관관계.\n",
    "- trip_duration - distance : log(trip_duration)에 높은 상관관계."
   ]
  },
  {
   "cell_type": "markdown",
   "metadata": {},
   "source": [
    "### 2-3. 변수 중요도 / 영향 파악\n",
    "- F검정 :\n",
    "    - distance의 중요도가 가장 높음. vendon_id 2순위.\n",
    "    - 개별 변수들의 p-value는 전부 0에 가까움.\n",
    "- VIF검정 : 경,위도 변수간 다중공산성이 높음 -> 일부 경,위도 변수는 모델링 시 제외해야 함.\n",
    "- 카테고리 변수 3개 : p-value 0에 가까움."
   ]
  },
  {
   "cell_type": "code",
   "execution_count": null,
   "metadata": {},
   "outputs": [],
   "source": []
  }
 ],
 "metadata": {
  "kernelspec": {
   "display_name": "Python 3",
   "language": "python",
   "name": "python3"
  },
  "language_info": {
   "codemirror_mode": {
    "name": "ipython",
    "version": 3
   },
   "file_extension": ".py",
   "mimetype": "text/x-python",
   "name": "python",
   "nbconvert_exporter": "python",
   "pygments_lexer": "ipython3",
   "version": "3.6.3"
  }
 },
 "nbformat": 4,
 "nbformat_minor": 2
}

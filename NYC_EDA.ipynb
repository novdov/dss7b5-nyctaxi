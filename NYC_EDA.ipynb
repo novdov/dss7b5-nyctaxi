{
 "cells": [
  {
   "cell_type": "code",
   "execution_count": 1,
   "metadata": {
    "collapsed": true
   },
   "outputs": [],
   "source": [
    "nyc_taxi = pd.read_csv('../data/train.csv')"
   ]
  },
  {
   "cell_type": "code",
   "execution_count": 2,
   "metadata": {},
   "outputs": [
    {
     "data": {
      "text/html": [
       "<div>\n",
       "<style>\n",
       "    .dataframe thead tr:only-child th {\n",
       "        text-align: right;\n",
       "    }\n",
       "\n",
       "    .dataframe thead th {\n",
       "        text-align: left;\n",
       "    }\n",
       "\n",
       "    .dataframe tbody tr th {\n",
       "        vertical-align: top;\n",
       "    }\n",
       "</style>\n",
       "<table border=\"1\" class=\"dataframe\">\n",
       "  <thead>\n",
       "    <tr style=\"text-align: right;\">\n",
       "      <th></th>\n",
       "      <th>id</th>\n",
       "      <th>vendor_id</th>\n",
       "      <th>pickup_datetime</th>\n",
       "      <th>dropoff_datetime</th>\n",
       "      <th>passenger_count</th>\n",
       "      <th>pickup_longitude</th>\n",
       "      <th>pickup_latitude</th>\n",
       "      <th>dropoff_longitude</th>\n",
       "      <th>dropoff_latitude</th>\n",
       "      <th>store_and_fwd_flag</th>\n",
       "      <th>trip_duration</th>\n",
       "    </tr>\n",
       "  </thead>\n",
       "  <tbody>\n",
       "    <tr>\n",
       "      <th>1458639</th>\n",
       "      <td>id2376096</td>\n",
       "      <td>2</td>\n",
       "      <td>2016-04-08 13:31:04</td>\n",
       "      <td>2016-04-08 13:44:02</td>\n",
       "      <td>4</td>\n",
       "      <td>-73.982201</td>\n",
       "      <td>40.745522</td>\n",
       "      <td>-73.994911</td>\n",
       "      <td>40.740170</td>\n",
       "      <td>N</td>\n",
       "      <td>778</td>\n",
       "    </tr>\n",
       "    <tr>\n",
       "      <th>1458640</th>\n",
       "      <td>id1049543</td>\n",
       "      <td>1</td>\n",
       "      <td>2016-01-10 07:35:15</td>\n",
       "      <td>2016-01-10 07:46:10</td>\n",
       "      <td>1</td>\n",
       "      <td>-74.000946</td>\n",
       "      <td>40.747379</td>\n",
       "      <td>-73.970184</td>\n",
       "      <td>40.796547</td>\n",
       "      <td>N</td>\n",
       "      <td>655</td>\n",
       "    </tr>\n",
       "    <tr>\n",
       "      <th>1458641</th>\n",
       "      <td>id2304944</td>\n",
       "      <td>2</td>\n",
       "      <td>2016-04-22 06:57:41</td>\n",
       "      <td>2016-04-22 07:10:25</td>\n",
       "      <td>1</td>\n",
       "      <td>-73.959129</td>\n",
       "      <td>40.768799</td>\n",
       "      <td>-74.004433</td>\n",
       "      <td>40.707371</td>\n",
       "      <td>N</td>\n",
       "      <td>764</td>\n",
       "    </tr>\n",
       "    <tr>\n",
       "      <th>1458642</th>\n",
       "      <td>id2714485</td>\n",
       "      <td>1</td>\n",
       "      <td>2016-01-05 15:56:26</td>\n",
       "      <td>2016-01-05 16:02:39</td>\n",
       "      <td>1</td>\n",
       "      <td>-73.982079</td>\n",
       "      <td>40.749062</td>\n",
       "      <td>-73.974632</td>\n",
       "      <td>40.757107</td>\n",
       "      <td>N</td>\n",
       "      <td>373</td>\n",
       "    </tr>\n",
       "    <tr>\n",
       "      <th>1458643</th>\n",
       "      <td>id1209952</td>\n",
       "      <td>1</td>\n",
       "      <td>2016-04-05 14:44:25</td>\n",
       "      <td>2016-04-05 14:47:43</td>\n",
       "      <td>1</td>\n",
       "      <td>-73.979538</td>\n",
       "      <td>40.781750</td>\n",
       "      <td>-73.972809</td>\n",
       "      <td>40.790585</td>\n",
       "      <td>N</td>\n",
       "      <td>198</td>\n",
       "    </tr>\n",
       "  </tbody>\n",
       "</table>\n",
       "</div>"
      ],
      "text/plain": [
       "                id  vendor_id      pickup_datetime     dropoff_datetime  \\\n",
       "1458639  id2376096          2  2016-04-08 13:31:04  2016-04-08 13:44:02   \n",
       "1458640  id1049543          1  2016-01-10 07:35:15  2016-01-10 07:46:10   \n",
       "1458641  id2304944          2  2016-04-22 06:57:41  2016-04-22 07:10:25   \n",
       "1458642  id2714485          1  2016-01-05 15:56:26  2016-01-05 16:02:39   \n",
       "1458643  id1209952          1  2016-04-05 14:44:25  2016-04-05 14:47:43   \n",
       "\n",
       "         passenger_count  pickup_longitude  pickup_latitude  \\\n",
       "1458639                4        -73.982201        40.745522   \n",
       "1458640                1        -74.000946        40.747379   \n",
       "1458641                1        -73.959129        40.768799   \n",
       "1458642                1        -73.982079        40.749062   \n",
       "1458643                1        -73.979538        40.781750   \n",
       "\n",
       "         dropoff_longitude  dropoff_latitude store_and_fwd_flag  trip_duration  \n",
       "1458639         -73.994911         40.740170                  N            778  \n",
       "1458640         -73.970184         40.796547                  N            655  \n",
       "1458641         -74.004433         40.707371                  N            764  \n",
       "1458642         -73.974632         40.757107                  N            373  \n",
       "1458643         -73.972809         40.790585                  N            198  "
      ]
     },
     "execution_count": 2,
     "metadata": {},
     "output_type": "execute_result"
    }
   ],
   "source": [
    "nyc_taxi.tail()"
   ]
  },
  {
   "cell_type": "code",
   "execution_count": 3,
   "metadata": {},
   "outputs": [
    {
     "data": {
      "text/plain": [
       "array([2, 1])"
      ]
     },
     "execution_count": 3,
     "metadata": {},
     "output_type": "execute_result"
    }
   ],
   "source": [
    "nyc_taxi[\"vendor_id\"].unique()"
   ]
  },
  {
   "cell_type": "code",
   "execution_count": 4,
   "metadata": {},
   "outputs": [
    {
     "data": {
      "text/html": [
       "<div>\n",
       "<style>\n",
       "    .dataframe thead tr:only-child th {\n",
       "        text-align: right;\n",
       "    }\n",
       "\n",
       "    .dataframe thead th {\n",
       "        text-align: left;\n",
       "    }\n",
       "\n",
       "    .dataframe tbody tr th {\n",
       "        vertical-align: top;\n",
       "    }\n",
       "</style>\n",
       "<table border=\"1\" class=\"dataframe\">\n",
       "  <thead>\n",
       "    <tr style=\"text-align: right;\">\n",
       "      <th></th>\n",
       "      <th>id</th>\n",
       "      <th>vendor_id</th>\n",
       "      <th>pickup_datetime</th>\n",
       "      <th>dropoff_datetime</th>\n",
       "      <th>passenger_count</th>\n",
       "      <th>pickup_longitude</th>\n",
       "      <th>pickup_latitude</th>\n",
       "      <th>dropoff_longitude</th>\n",
       "      <th>dropoff_latitude</th>\n",
       "      <th>store_and_fwd_flag</th>\n",
       "      <th>trip_duration</th>\n",
       "    </tr>\n",
       "  </thead>\n",
       "  <tbody>\n",
       "    <tr>\n",
       "      <th>436047</th>\n",
       "      <td>id2489742</td>\n",
       "      <td>2</td>\n",
       "      <td>2016-06-24 08:09:21</td>\n",
       "      <td>2016-06-24 08:18:41</td>\n",
       "      <td>9</td>\n",
       "      <td>-73.710632</td>\n",
       "      <td>40.671581</td>\n",
       "      <td>-73.710632</td>\n",
       "      <td>40.671581</td>\n",
       "      <td>N</td>\n",
       "      <td>560</td>\n",
       "    </tr>\n",
       "    <tr>\n",
       "      <th>826064</th>\n",
       "      <td>id1488553</td>\n",
       "      <td>2</td>\n",
       "      <td>2016-01-01 01:15:20</td>\n",
       "      <td>2016-01-01 01:17:04</td>\n",
       "      <td>8</td>\n",
       "      <td>-73.992653</td>\n",
       "      <td>40.768719</td>\n",
       "      <td>-74.041374</td>\n",
       "      <td>40.729954</td>\n",
       "      <td>N</td>\n",
       "      <td>104</td>\n",
       "    </tr>\n",
       "    <tr>\n",
       "      <th>489613</th>\n",
       "      <td>id0506488</td>\n",
       "      <td>2</td>\n",
       "      <td>2016-05-08 22:39:08</td>\n",
       "      <td>2016-05-08 22:39:23</td>\n",
       "      <td>7</td>\n",
       "      <td>-74.039482</td>\n",
       "      <td>40.715031</td>\n",
       "      <td>-74.039482</td>\n",
       "      <td>40.715019</td>\n",
       "      <td>N</td>\n",
       "      <td>15</td>\n",
       "    </tr>\n",
       "    <tr>\n",
       "      <th>824904</th>\n",
       "      <td>id0988237</td>\n",
       "      <td>2</td>\n",
       "      <td>2016-04-23 19:46:08</td>\n",
       "      <td>2016-04-23 19:46:33</td>\n",
       "      <td>7</td>\n",
       "      <td>-73.631149</td>\n",
       "      <td>40.768551</td>\n",
       "      <td>-73.631149</td>\n",
       "      <td>40.768551</td>\n",
       "      <td>N</td>\n",
       "      <td>25</td>\n",
       "    </tr>\n",
       "    <tr>\n",
       "      <th>433304</th>\n",
       "      <td>id3280610</td>\n",
       "      <td>2</td>\n",
       "      <td>2016-06-07 10:06:24</td>\n",
       "      <td>2016-06-07 10:06:43</td>\n",
       "      <td>7</td>\n",
       "      <td>-74.173668</td>\n",
       "      <td>40.737274</td>\n",
       "      <td>-74.173660</td>\n",
       "      <td>40.737297</td>\n",
       "      <td>N</td>\n",
       "      <td>19</td>\n",
       "    </tr>\n",
       "  </tbody>\n",
       "</table>\n",
       "</div>"
      ],
      "text/plain": [
       "               id  vendor_id      pickup_datetime     dropoff_datetime  \\\n",
       "436047  id2489742          2  2016-06-24 08:09:21  2016-06-24 08:18:41   \n",
       "826064  id1488553          2  2016-01-01 01:15:20  2016-01-01 01:17:04   \n",
       "489613  id0506488          2  2016-05-08 22:39:08  2016-05-08 22:39:23   \n",
       "824904  id0988237          2  2016-04-23 19:46:08  2016-04-23 19:46:33   \n",
       "433304  id3280610          2  2016-06-07 10:06:24  2016-06-07 10:06:43   \n",
       "\n",
       "        passenger_count  pickup_longitude  pickup_latitude  dropoff_longitude  \\\n",
       "436047                9        -73.710632        40.671581         -73.710632   \n",
       "826064                8        -73.992653        40.768719         -74.041374   \n",
       "489613                7        -74.039482        40.715031         -74.039482   \n",
       "824904                7        -73.631149        40.768551         -73.631149   \n",
       "433304                7        -74.173668        40.737274         -74.173660   \n",
       "\n",
       "        dropoff_latitude store_and_fwd_flag  trip_duration  \n",
       "436047         40.671581                  N            560  \n",
       "826064         40.729954                  N            104  \n",
       "489613         40.715019                  N             15  \n",
       "824904         40.768551                  N             25  \n",
       "433304         40.737297                  N             19  "
      ]
     },
     "execution_count": 4,
     "metadata": {},
     "output_type": "execute_result"
    }
   ],
   "source": [
    "nyc_taxi.sort_values(\"passenger_count\", ascending=False).head()"
   ]
  },
  {
   "cell_type": "code",
   "execution_count": 5,
   "metadata": {},
   "outputs": [
    {
     "data": {
      "text/html": [
       "<div>\n",
       "<style>\n",
       "    .dataframe thead tr:only-child th {\n",
       "        text-align: right;\n",
       "    }\n",
       "\n",
       "    .dataframe thead th {\n",
       "        text-align: left;\n",
       "    }\n",
       "\n",
       "    .dataframe tbody tr th {\n",
       "        vertical-align: top;\n",
       "    }\n",
       "</style>\n",
       "<table border=\"1\" class=\"dataframe\">\n",
       "  <thead>\n",
       "    <tr style=\"text-align: right;\">\n",
       "      <th></th>\n",
       "      <th>id</th>\n",
       "      <th>vendor_id</th>\n",
       "      <th>pickup_datetime</th>\n",
       "      <th>dropoff_datetime</th>\n",
       "      <th>passenger_count</th>\n",
       "      <th>pickup_longitude</th>\n",
       "      <th>pickup_latitude</th>\n",
       "      <th>dropoff_longitude</th>\n",
       "      <th>dropoff_latitude</th>\n",
       "      <th>store_and_fwd_flag</th>\n",
       "      <th>trip_duration</th>\n",
       "    </tr>\n",
       "  </thead>\n",
       "  <tbody>\n",
       "    <tr>\n",
       "      <th>914211</th>\n",
       "      <td>id1656232</td>\n",
       "      <td>1</td>\n",
       "      <td>2016-04-21 06:04:56</td>\n",
       "      <td>2016-04-21 06:05:18</td>\n",
       "      <td>0</td>\n",
       "      <td>-73.978149</td>\n",
       "      <td>40.750183</td>\n",
       "      <td>-73.978104</td>\n",
       "      <td>40.750477</td>\n",
       "      <td>N</td>\n",
       "      <td>22</td>\n",
       "    </tr>\n",
       "    <tr>\n",
       "      <th>827485</th>\n",
       "      <td>id2029944</td>\n",
       "      <td>1</td>\n",
       "      <td>2016-03-11 09:38:54</td>\n",
       "      <td>2016-03-11 09:38:57</td>\n",
       "      <td>0</td>\n",
       "      <td>-73.790398</td>\n",
       "      <td>40.655457</td>\n",
       "      <td>-73.790398</td>\n",
       "      <td>40.655457</td>\n",
       "      <td>N</td>\n",
       "      <td>3</td>\n",
       "    </tr>\n",
       "    <tr>\n",
       "      <th>904688</th>\n",
       "      <td>id3563937</td>\n",
       "      <td>1</td>\n",
       "      <td>2016-02-13 16:52:38</td>\n",
       "      <td>2016-02-13 16:57:48</td>\n",
       "      <td>0</td>\n",
       "      <td>-73.962097</td>\n",
       "      <td>40.776146</td>\n",
       "      <td>-73.958160</td>\n",
       "      <td>40.767014</td>\n",
       "      <td>N</td>\n",
       "      <td>310</td>\n",
       "    </tr>\n",
       "    <tr>\n",
       "      <th>1211269</th>\n",
       "      <td>id0662963</td>\n",
       "      <td>2</td>\n",
       "      <td>2016-02-13 04:41:13</td>\n",
       "      <td>2016-02-13 04:41:22</td>\n",
       "      <td>0</td>\n",
       "      <td>-73.945633</td>\n",
       "      <td>40.803673</td>\n",
       "      <td>-73.945625</td>\n",
       "      <td>40.803661</td>\n",
       "      <td>N</td>\n",
       "      <td>9</td>\n",
       "    </tr>\n",
       "    <tr>\n",
       "      <th>1368627</th>\n",
       "      <td>id3368191</td>\n",
       "      <td>1</td>\n",
       "      <td>2016-05-08 23:38:09</td>\n",
       "      <td>2016-05-08 23:38:21</td>\n",
       "      <td>0</td>\n",
       "      <td>-73.934937</td>\n",
       "      <td>40.740841</td>\n",
       "      <td>-73.934929</td>\n",
       "      <td>40.740837</td>\n",
       "      <td>N</td>\n",
       "      <td>12</td>\n",
       "    </tr>\n",
       "  </tbody>\n",
       "</table>\n",
       "</div>"
      ],
      "text/plain": [
       "                id  vendor_id      pickup_datetime     dropoff_datetime  \\\n",
       "914211   id1656232          1  2016-04-21 06:04:56  2016-04-21 06:05:18   \n",
       "827485   id2029944          1  2016-03-11 09:38:54  2016-03-11 09:38:57   \n",
       "904688   id3563937          1  2016-02-13 16:52:38  2016-02-13 16:57:48   \n",
       "1211269  id0662963          2  2016-02-13 04:41:13  2016-02-13 04:41:22   \n",
       "1368627  id3368191          1  2016-05-08 23:38:09  2016-05-08 23:38:21   \n",
       "\n",
       "         passenger_count  pickup_longitude  pickup_latitude  \\\n",
       "914211                 0        -73.978149        40.750183   \n",
       "827485                 0        -73.790398        40.655457   \n",
       "904688                 0        -73.962097        40.776146   \n",
       "1211269                0        -73.945633        40.803673   \n",
       "1368627                0        -73.934937        40.740841   \n",
       "\n",
       "         dropoff_longitude  dropoff_latitude store_and_fwd_flag  trip_duration  \n",
       "914211          -73.978104         40.750477                  N             22  \n",
       "827485          -73.790398         40.655457                  N              3  \n",
       "904688          -73.958160         40.767014                  N            310  \n",
       "1211269         -73.945625         40.803661                  N              9  \n",
       "1368627         -73.934929         40.740837                  N             12  "
      ]
     },
     "execution_count": 5,
     "metadata": {},
     "output_type": "execute_result"
    }
   ],
   "source": [
    "nyc_taxi.sort_values(\"passenger_count\", ascending=False).tail()"
   ]
  },
  {
   "cell_type": "markdown",
   "metadata": {},
   "source": [
    "- 승객 수가 0명인 케이스 60건 존재 --> ?\n",
    "- vendor 2가 더 많은 승객을 태움\n",
    "- vendor 2가 더 많은 시간을 운행함\n",
    "- vendor 1 vs vendor 2\n",
    "    - 위도 경도\n",
    "    - 승/하차 시간\n",
    "    "
   ]
  },
  {
   "cell_type": "code",
   "execution_count": null,
   "metadata": {
    "collapsed": true
   },
   "outputs": [],
   "source": []
  },
  {
   "cell_type": "code",
   "execution_count": null,
   "metadata": {
    "collapsed": true
   },
   "outputs": [],
   "source": []
  },
  {
   "cell_type": "code",
   "execution_count": 6,
   "metadata": {},
   "outputs": [
    {
     "data": {
      "text/plain": [
       "count    1.458644e+06\n",
       "mean     1.664530e+00\n",
       "std      1.314242e+00\n",
       "min      0.000000e+00\n",
       "25%      1.000000e+00\n",
       "50%      1.000000e+00\n",
       "75%      2.000000e+00\n",
       "max      9.000000e+00\n",
       "Name: passenger_count, dtype: float64"
      ]
     },
     "execution_count": 6,
     "metadata": {},
     "output_type": "execute_result"
    }
   ],
   "source": [
    "nyc_taxi[\"passenger_count\"].describe()"
   ]
  },
  {
   "cell_type": "code",
   "execution_count": 7,
   "metadata": {},
   "outputs": [
    {
     "data": {
      "text/plain": [
       "1    1033540\n",
       "2     210318\n",
       "5      78088\n",
       "3      59896\n",
       "6      48333\n",
       "4      28404\n",
       "0         60\n",
       "7          3\n",
       "9          1\n",
       "8          1\n",
       "Name: passenger_count, dtype: int64"
      ]
     },
     "execution_count": 7,
     "metadata": {},
     "output_type": "execute_result"
    }
   ],
   "source": [
    "nyc_taxi[\"passenger_count\"].value_counts()"
   ]
  },
  {
   "cell_type": "code",
   "execution_count": 8,
   "metadata": {},
   "outputs": [
    {
     "data": {
      "text/html": [
       "<div>\n",
       "<style>\n",
       "    .dataframe thead tr:only-child th {\n",
       "        text-align: right;\n",
       "    }\n",
       "\n",
       "    .dataframe thead th {\n",
       "        text-align: left;\n",
       "    }\n",
       "\n",
       "    .dataframe tbody tr th {\n",
       "        vertical-align: top;\n",
       "    }\n",
       "</style>\n",
       "<table border=\"1\" class=\"dataframe\">\n",
       "  <thead>\n",
       "    <tr style=\"text-align: right;\">\n",
       "      <th></th>\n",
       "      <th>passenger_count</th>\n",
       "      <th>pickup_longitude</th>\n",
       "      <th>pickup_latitude</th>\n",
       "      <th>dropoff_longitude</th>\n",
       "      <th>dropoff_latitude</th>\n",
       "      <th>trip_duration</th>\n",
       "    </tr>\n",
       "    <tr>\n",
       "      <th>vendor_id</th>\n",
       "      <th></th>\n",
       "      <th></th>\n",
       "      <th></th>\n",
       "      <th></th>\n",
       "      <th></th>\n",
       "      <th></th>\n",
       "    </tr>\n",
       "  </thead>\n",
       "  <tbody>\n",
       "    <tr>\n",
       "      <th>1</th>\n",
       "      <td>1.259402</td>\n",
       "      <td>-73.974081</td>\n",
       "      <td>40.750859</td>\n",
       "      <td>-73.973532</td>\n",
       "      <td>40.751626</td>\n",
       "      <td>845.438244</td>\n",
       "    </tr>\n",
       "    <tr>\n",
       "      <th>2</th>\n",
       "      <td>2.016720</td>\n",
       "      <td>-73.972969</td>\n",
       "      <td>40.750974</td>\n",
       "      <td>-73.973315</td>\n",
       "      <td>40.751950</td>\n",
       "      <td>1058.643164</td>\n",
       "    </tr>\n",
       "  </tbody>\n",
       "</table>\n",
       "</div>"
      ],
      "text/plain": [
       "           passenger_count  pickup_longitude  pickup_latitude  \\\n",
       "vendor_id                                                       \n",
       "1                 1.259402        -73.974081        40.750859   \n",
       "2                 2.016720        -73.972969        40.750974   \n",
       "\n",
       "           dropoff_longitude  dropoff_latitude  trip_duration  \n",
       "vendor_id                                                      \n",
       "1                 -73.973532         40.751626     845.438244  \n",
       "2                 -73.973315         40.751950    1058.643164  "
      ]
     },
     "execution_count": 8,
     "metadata": {},
     "output_type": "execute_result"
    }
   ],
   "source": [
    "nyc_taxi.groupby(by=\"vendor_id\").agg(\"mean\")"
   ]
  },
  {
   "cell_type": "code",
   "execution_count": 9,
   "metadata": {
    "collapsed": true
   },
   "outputs": [],
   "source": [
    "from ipyleaflet import *\n",
    "import time"
   ]
  },
  {
   "cell_type": "code",
   "execution_count": 10,
   "metadata": {},
   "outputs": [
    {
     "data": {
      "application/vnd.jupyter.widget-view+json": {
       "model_id": "be8751c084d4440cb8c6500fca8a73ef",
       "version_major": 2,
       "version_minor": 0
      },
      "text/html": [
       "<p>Failed to display Jupyter Widget of type <code>Map</code>.</p>\n",
       "<p>\n",
       "  If you're reading this message in the Jupyter Notebook or JupyterLab Notebook, it may mean\n",
       "  that the widgets JavaScript is still loading. If this message persists, it\n",
       "  likely means that the widgets JavaScript library is either not installed or\n",
       "  not enabled. See the <a href=\"https://ipywidgets.readthedocs.io/en/stable/user_install.html\">Jupyter\n",
       "  Widgets Documentation</a> for setup instructions.\n",
       "</p>\n",
       "<p>\n",
       "  If you're reading this message in another frontend (for example, a static\n",
       "  rendering on GitHub or <a href=\"https://nbviewer.jupyter.org/\">NBViewer</a>),\n",
       "  it may mean that your frontend doesn't currently support widgets.\n",
       "</p>\n"
      ],
      "text/plain": [
       "Map(basemap={'url': 'https://{s}.tile.openstreetmap.org/{z}/{x}/{y}.png', 'max_zoom': 19, 'attribution': 'Map data (c) <a href=\"https://openstreetmap.org\">OpenStreetMap</a> contributors'}, center=[40.671581, -73.710632], default_tiles=TileLayer(max_zoom=19, min_zoom=1, options=['attribution', 'detect_retina', 'max_zoom', 'min_zoom', 'opacity', 'tile_size']), layers=(TileLayer(max_zoom=19, min_zoom=1, options=['attribution', 'detect_retina', 'max_zoom', 'min_zoom', 'opacity', 'tile_size']),), layout=Layout(align_self='stretch', height='400px'), options=['attribution_control', 'basemap', 'bounce_at_zoom_limits', 'box_zoom', 'center', 'close_popup_on_click', 'double_click_zoom', 'dragging', 'inertia', 'inertia_deceleration', 'inertia_max_speed', 'keyboard', 'keyboard_pan_offset', 'keyboard_zoom_offset', 'max_zoom', 'min_zoom', 'scroll_wheel_zoom', 'tap', 'tap_tolerance', 'touch_zoom', 'world_copy_jump', 'zoom', 'zoom_animation_threshold', 'zoom_control', 'zoom_start'], zoom=13)"
      ]
     },
     "metadata": {},
     "output_type": "display_data"
    }
   ],
   "source": [
    "center = [40.766321, -73.965457]\n",
    "zoom = 13\n",
    "m = Map(center=center, zoom=zoom)\n",
    "m"
   ]
  },
  {
   "cell_type": "code",
   "execution_count": 11,
   "metadata": {
    "collapsed": true
   },
   "outputs": [],
   "source": [
    "import folium"
   ]
  },
  {
   "cell_type": "code",
   "execution_count": 12,
   "metadata": {
    "collapsed": true
   },
   "outputs": [],
   "source": [
    "import json\n",
    "geo_path = '../data/geojson/state.geo.json'\n",
    "geo_str = json.load(open(geo_path, encoding='utf-8'))"
   ]
  },
  {
   "cell_type": "code",
   "execution_count": null,
   "metadata": {
    "collapsed": true
   },
   "outputs": [],
   "source": [
    "# map = folium.Map(location=[40.671581, -73.710632], zoom_start=11, tiles='Stamen Toner')\n",
    "\n",
    "# map.choropleth(geo_str = geo_str,\n",
    "#                data = crime_anal_norm['살인'],\n",
    "#                columns = [crime_anal_norm.index, crime_anal_norm['살인']],\n",
    "#                fill_color = 'PuRd', #PuRd, YlGnBu\n",
    "#                key_on = 'feature.id')\n",
    "# map"
   ]
  },
  {
   "cell_type": "code",
   "execution_count": 13,
   "metadata": {},
   "outputs": [
    {
     "data": {
      "text/html": [
       "<div style=\"width:100%;\"><div style=\"position:relative;width:100%;height:0;padding-bottom:60%;\"><iframe src=\"data:text/html;charset=utf-8;base64,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\" style=\"position:absolute;width:100%;height:100%;left:0;top:0;border:none !important;\" allowfullscreen webkitallowfullscreen mozallowfullscreen></iframe></div></div>"
      ],
      "text/plain": [
       "<folium.folium.Map at 0x1a289cff28>"
      ]
     },
     "execution_count": 13,
     "metadata": {},
     "output_type": "execute_result"
    }
   ],
   "source": [
    "map = folium.Map(location=[40.766321, -73.965457], zoom_start=10.5)\n",
    "\n",
    "for idx, row in nyc_taxi[:150].iterrows():\n",
    "    if pd.notnull(row[\"pickup_latitude\"]):\n",
    "        folium.Marker([row['pickup_latitude'], row['pickup_longitude']]).add_to(map)\n",
    "        \n",
    "map"
   ]
  },
  {
   "cell_type": "code",
   "execution_count": 14,
   "metadata": {
    "collapsed": true
   },
   "outputs": [],
   "source": [
    "pickup_lat = tuple(nyc_taxi[\"pickup_latitude\"])\n",
    "pickup_lng = tuple(nyc_taxi[\"pickup_longitude\"])\n",
    "dropoff_lat = tuple(nyc_taxi[\"dropoff_latitude\"])\n",
    "dropoff_lng = tuple(nyc_taxi[\"dropoff_longitude\"])"
   ]
  },
  {
   "cell_type": "code",
   "execution_count": 15,
   "metadata": {
    "collapsed": true
   },
   "outputs": [],
   "source": [
    "pickup_loc = tuple(zip(pickup_lat, pickup_lng))\n",
    "dropoff_loc = tuple(zip(dropoff_lat, dropoff_lng))"
   ]
  },
  {
   "cell_type": "code",
   "execution_count": 16,
   "metadata": {},
   "outputs": [
    {
     "name": "stdout",
     "output_type": "stream",
     "text": [
      "1458644\n",
      "1458644\n"
     ]
    }
   ],
   "source": [
    "print(len(pickup_loc))\n",
    "print(len(dropoff_loc))"
   ]
  },
  {
   "cell_type": "code",
   "execution_count": 17,
   "metadata": {
    "collapsed": true
   },
   "outputs": [],
   "source": [
    "import geopy.distance"
   ]
  },
  {
   "cell_type": "code",
   "execution_count": 18,
   "metadata": {},
   "outputs": [
    {
     "data": {
      "application/vnd.jupyter.widget-view+json": {
       "model_id": "666e363a82d34391b8cb5d83328b185f",
       "version_major": 2,
       "version_minor": 0
      },
      "text/html": [
       "<p>Failed to display Jupyter Widget of type <code>HBox</code>.</p>\n",
       "<p>\n",
       "  If you're reading this message in the Jupyter Notebook or JupyterLab Notebook, it may mean\n",
       "  that the widgets JavaScript is still loading. If this message persists, it\n",
       "  likely means that the widgets JavaScript library is either not installed or\n",
       "  not enabled. See the <a href=\"https://ipywidgets.readthedocs.io/en/stable/user_install.html\">Jupyter\n",
       "  Widgets Documentation</a> for setup instructions.\n",
       "</p>\n",
       "<p>\n",
       "  If you're reading this message in another frontend (for example, a static\n",
       "  rendering on GitHub or <a href=\"https://nbviewer.jupyter.org/\">NBViewer</a>),\n",
       "  it may mean that your frontend doesn't currently support widgets.\n",
       "</p>\n"
      ],
      "text/plain": [
       "HBox(children=(IntProgress(value=0, max=1458644), HTML(value='')))"
      ]
     },
     "metadata": {},
     "output_type": "display_data"
    },
    {
     "name": "stdout",
     "output_type": "stream",
     "text": [
      "\n"
     ]
    }
   ],
   "source": [
    "from tqdm import tqdm_notebook\n",
    "\n",
    "distance = []\n",
    "for i in tqdm_notebook(range(len(pickup_loc))):\n",
    "    distance.append(geopy.distance.vincenty(pickup_loc[i], dropoff_loc[i]).km)"
   ]
  },
  {
   "cell_type": "code",
   "execution_count": 19,
   "metadata": {
    "scrolled": true
   },
   "outputs": [
    {
     "data": {
      "text/html": [
       "<div>\n",
       "<style>\n",
       "    .dataframe thead tr:only-child th {\n",
       "        text-align: right;\n",
       "    }\n",
       "\n",
       "    .dataframe thead th {\n",
       "        text-align: left;\n",
       "    }\n",
       "\n",
       "    .dataframe tbody tr th {\n",
       "        vertical-align: top;\n",
       "    }\n",
       "</style>\n",
       "<table border=\"1\" class=\"dataframe\">\n",
       "  <thead>\n",
       "    <tr style=\"text-align: right;\">\n",
       "      <th></th>\n",
       "      <th>distance</th>\n",
       "    </tr>\n",
       "  </thead>\n",
       "  <tbody>\n",
       "    <tr>\n",
       "      <th>1458639</th>\n",
       "      <td>1.227090</td>\n",
       "    </tr>\n",
       "    <tr>\n",
       "      <th>1458640</th>\n",
       "      <td>6.046212</td>\n",
       "    </tr>\n",
       "    <tr>\n",
       "      <th>1458641</th>\n",
       "      <td>7.821532</td>\n",
       "    </tr>\n",
       "    <tr>\n",
       "      <th>1458642</th>\n",
       "      <td>1.092524</td>\n",
       "    </tr>\n",
       "    <tr>\n",
       "      <th>1458643</th>\n",
       "      <td>1.133655</td>\n",
       "    </tr>\n",
       "  </tbody>\n",
       "</table>\n",
       "</div>"
      ],
      "text/plain": [
       "         distance\n",
       "1458639  1.227090\n",
       "1458640  6.046212\n",
       "1458641  7.821532\n",
       "1458642  1.092524\n",
       "1458643  1.133655"
      ]
     },
     "execution_count": 19,
     "metadata": {},
     "output_type": "execute_result"
    }
   ],
   "source": [
    "df2 = pd.DataFrame({\"distance\": distance})\n",
    "df2.tail()"
   ]
  },
  {
   "cell_type": "code",
   "execution_count": 20,
   "metadata": {},
   "outputs": [
    {
     "data": {
      "text/html": [
       "<div>\n",
       "<style>\n",
       "    .dataframe thead tr:only-child th {\n",
       "        text-align: right;\n",
       "    }\n",
       "\n",
       "    .dataframe thead th {\n",
       "        text-align: left;\n",
       "    }\n",
       "\n",
       "    .dataframe tbody tr th {\n",
       "        vertical-align: top;\n",
       "    }\n",
       "</style>\n",
       "<table border=\"1\" class=\"dataframe\">\n",
       "  <thead>\n",
       "    <tr style=\"text-align: right;\">\n",
       "      <th></th>\n",
       "      <th>trip_duration</th>\n",
       "      <th>passenger_count</th>\n",
       "      <th>distance</th>\n",
       "    </tr>\n",
       "  </thead>\n",
       "  <tbody>\n",
       "    <tr>\n",
       "      <th>1458639</th>\n",
       "      <td>778</td>\n",
       "      <td>4</td>\n",
       "      <td>1.227090</td>\n",
       "    </tr>\n",
       "    <tr>\n",
       "      <th>1458640</th>\n",
       "      <td>655</td>\n",
       "      <td>1</td>\n",
       "      <td>6.046212</td>\n",
       "    </tr>\n",
       "    <tr>\n",
       "      <th>1458641</th>\n",
       "      <td>764</td>\n",
       "      <td>1</td>\n",
       "      <td>7.821532</td>\n",
       "    </tr>\n",
       "    <tr>\n",
       "      <th>1458642</th>\n",
       "      <td>373</td>\n",
       "      <td>1</td>\n",
       "      <td>1.092524</td>\n",
       "    </tr>\n",
       "    <tr>\n",
       "      <th>1458643</th>\n",
       "      <td>198</td>\n",
       "      <td>1</td>\n",
       "      <td>1.133655</td>\n",
       "    </tr>\n",
       "  </tbody>\n",
       "</table>\n",
       "</div>"
      ],
      "text/plain": [
       "         trip_duration  passenger_count  distance\n",
       "1458639            778                4  1.227090\n",
       "1458640            655                1  6.046212\n",
       "1458641            764                1  7.821532\n",
       "1458642            373                1  1.092524\n",
       "1458643            198                1  1.133655"
      ]
     },
     "execution_count": 20,
     "metadata": {},
     "output_type": "execute_result"
    }
   ],
   "source": [
    "df = nyc_taxi[[\"trip_duration\", \"passenger_count\"]]\n",
    "df = pd.concat([df, df2], axis=1)\n",
    "df.tail()"
   ]
  },
  {
   "cell_type": "code",
   "execution_count": 21,
   "metadata": {
    "scrolled": false
   },
   "outputs": [
    {
     "data": {
      "image/png": "[encoded data removed]",
      "text/plain": [
       "<matplotlib.figure.Figure at 0x1a68784438>"
      ]
     },
     "metadata": {
      "image/png": {
       "height": 350,
       "width": 351
      }
     },
     "output_type": "display_data"
    }
   ],
   "source": [
    "sns.lmplot(x=\"distance\", y=\"trip_duration\", data=df);"
   ]
  },
  {
   "cell_type": "code",
   "execution_count": null,
   "metadata": {
    "collapsed": true
   },
   "outputs": [],
   "source": [
    "sns.boxplot()"
   ]
  },
  {
   "cell_type": "code",
   "execution_count": 22,
   "metadata": {
    "scrolled": false
   },
   "outputs": [
    {
     "data": {
      "text/html": [
       "<div>\n",
       "<style>\n",
       "    .dataframe thead tr:only-child th {\n",
       "        text-align: right;\n",
       "    }\n",
       "\n",
       "    .dataframe thead th {\n",
       "        text-align: left;\n",
       "    }\n",
       "\n",
       "    .dataframe tbody tr th {\n",
       "        vertical-align: top;\n",
       "    }\n",
       "</style>\n",
       "<table border=\"1\" class=\"dataframe\">\n",
       "  <thead>\n",
       "    <tr style=\"text-align: right;\">\n",
       "      <th></th>\n",
       "      <th>trip_duration</th>\n",
       "      <th>passenger_count</th>\n",
       "      <th>distance</th>\n",
       "    </tr>\n",
       "  </thead>\n",
       "  <tbody>\n",
       "    <tr>\n",
       "      <th>978383</th>\n",
       "      <td>3526282</td>\n",
       "      <td>1</td>\n",
       "      <td>19.926608</td>\n",
       "    </tr>\n",
       "    <tr>\n",
       "      <th>924150</th>\n",
       "      <td>2227612</td>\n",
       "      <td>1</td>\n",
       "      <td>1.633027</td>\n",
       "    </tr>\n",
       "    <tr>\n",
       "      <th>680594</th>\n",
       "      <td>2049578</td>\n",
       "      <td>2</td>\n",
       "      <td>5.992874</td>\n",
       "    </tr>\n",
       "    <tr>\n",
       "      <th>355003</th>\n",
       "      <td>1939736</td>\n",
       "      <td>1</td>\n",
       "      <td>20.160235</td>\n",
       "    </tr>\n",
       "    <tr>\n",
       "      <th>1234291</th>\n",
       "      <td>86392</td>\n",
       "      <td>2</td>\n",
       "      <td>20.666941</td>\n",
       "    </tr>\n",
       "    <tr>\n",
       "      <th>295382</th>\n",
       "      <td>86391</td>\n",
       "      <td>1</td>\n",
       "      <td>21.147722</td>\n",
       "    </tr>\n",
       "    <tr>\n",
       "      <th>73816</th>\n",
       "      <td>86390</td>\n",
       "      <td>1</td>\n",
       "      <td>2.005244</td>\n",
       "    </tr>\n",
       "    <tr>\n",
       "      <th>59891</th>\n",
       "      <td>86387</td>\n",
       "      <td>1</td>\n",
       "      <td>6.199703</td>\n",
       "    </tr>\n",
       "    <tr>\n",
       "      <th>1360439</th>\n",
       "      <td>86385</td>\n",
       "      <td>1</td>\n",
       "      <td>17.335134</td>\n",
       "    </tr>\n",
       "    <tr>\n",
       "      <th>753765</th>\n",
       "      <td>86379</td>\n",
       "      <td>4</td>\n",
       "      <td>9.818092</td>\n",
       "    </tr>\n",
       "    <tr>\n",
       "      <th>1221666</th>\n",
       "      <td>86378</td>\n",
       "      <td>5</td>\n",
       "      <td>2.169869</td>\n",
       "    </tr>\n",
       "    <tr>\n",
       "      <th>91717</th>\n",
       "      <td>86378</td>\n",
       "      <td>1</td>\n",
       "      <td>19.010713</td>\n",
       "    </tr>\n",
       "    <tr>\n",
       "      <th>1138915</th>\n",
       "      <td>86377</td>\n",
       "      <td>6</td>\n",
       "      <td>19.861649</td>\n",
       "    </tr>\n",
       "    <tr>\n",
       "      <th>66346</th>\n",
       "      <td>86377</td>\n",
       "      <td>1</td>\n",
       "      <td>2.251829</td>\n",
       "    </tr>\n",
       "    <tr>\n",
       "      <th>1284067</th>\n",
       "      <td>86369</td>\n",
       "      <td>1</td>\n",
       "      <td>1.239427</td>\n",
       "    </tr>\n",
       "    <tr>\n",
       "      <th>779030</th>\n",
       "      <td>86369</td>\n",
       "      <td>6</td>\n",
       "      <td>1.889064</td>\n",
       "    </tr>\n",
       "    <tr>\n",
       "      <th>172662</th>\n",
       "      <td>86369</td>\n",
       "      <td>1</td>\n",
       "      <td>1.350067</td>\n",
       "    </tr>\n",
       "    <tr>\n",
       "      <th>1269316</th>\n",
       "      <td>86369</td>\n",
       "      <td>1</td>\n",
       "      <td>2.257477</td>\n",
       "    </tr>\n",
       "    <tr>\n",
       "      <th>1233528</th>\n",
       "      <td>86367</td>\n",
       "      <td>5</td>\n",
       "      <td>1.921094</td>\n",
       "    </tr>\n",
       "    <tr>\n",
       "      <th>1213613</th>\n",
       "      <td>86367</td>\n",
       "      <td>1</td>\n",
       "      <td>0.978029</td>\n",
       "    </tr>\n",
       "  </tbody>\n",
       "</table>\n",
       "</div>"
      ],
      "text/plain": [
       "         trip_duration  passenger_count   distance\n",
       "978383         3526282                1  19.926608\n",
       "924150         2227612                1   1.633027\n",
       "680594         2049578                2   5.992874\n",
       "355003         1939736                1  20.160235\n",
       "1234291          86392                2  20.666941\n",
       "295382           86391                1  21.147722\n",
       "73816            86390                1   2.005244\n",
       "59891            86387                1   6.199703\n",
       "1360439          86385                1  17.335134\n",
       "753765           86379                4   9.818092\n",
       "1221666          86378                5   2.169869\n",
       "91717            86378                1  19.010713\n",
       "1138915          86377                6  19.861649\n",
       "66346            86377                1   2.251829\n",
       "1284067          86369                1   1.239427\n",
       "779030           86369                6   1.889064\n",
       "172662           86369                1   1.350067\n",
       "1269316          86369                1   2.257477\n",
       "1233528          86367                5   1.921094\n",
       "1213613          86367                1   0.978029"
      ]
     },
     "execution_count": 22,
     "metadata": {},
     "output_type": "execute_result"
    }
   ],
   "source": [
    "df.sort_values(\"trip_duration\", ascending=False).head(20)"
   ]
  },
  {
   "cell_type": "code",
   "execution_count": 23,
   "metadata": {
    "scrolled": true
   },
   "outputs": [
    {
     "data": {
      "text/html": [
       "<div>\n",
       "<style>\n",
       "    .dataframe thead tr:only-child th {\n",
       "        text-align: right;\n",
       "    }\n",
       "\n",
       "    .dataframe thead th {\n",
       "        text-align: left;\n",
       "    }\n",
       "\n",
       "    .dataframe tbody tr th {\n",
       "        vertical-align: top;\n",
       "    }\n",
       "</style>\n",
       "<table border=\"1\" class=\"dataframe\">\n",
       "  <thead>\n",
       "    <tr style=\"text-align: right;\">\n",
       "      <th></th>\n",
       "      <th>trip_duration</th>\n",
       "      <th>passenger_count</th>\n",
       "      <th>distance</th>\n",
       "    </tr>\n",
       "  </thead>\n",
       "  <tbody>\n",
       "    <tr>\n",
       "      <th>1234291</th>\n",
       "      <td>86392.0</td>\n",
       "      <td>2</td>\n",
       "      <td>20.666941</td>\n",
       "    </tr>\n",
       "    <tr>\n",
       "      <th>295382</th>\n",
       "      <td>86391.0</td>\n",
       "      <td>1</td>\n",
       "      <td>21.147722</td>\n",
       "    </tr>\n",
       "    <tr>\n",
       "      <th>73816</th>\n",
       "      <td>86390.0</td>\n",
       "      <td>1</td>\n",
       "      <td>2.005244</td>\n",
       "    </tr>\n",
       "    <tr>\n",
       "      <th>59891</th>\n",
       "      <td>86387.0</td>\n",
       "      <td>1</td>\n",
       "      <td>6.199703</td>\n",
       "    </tr>\n",
       "    <tr>\n",
       "      <th>1360439</th>\n",
       "      <td>86385.0</td>\n",
       "      <td>1</td>\n",
       "      <td>17.335134</td>\n",
       "    </tr>\n",
       "  </tbody>\n",
       "</table>\n",
       "</div>"
      ],
      "text/plain": [
       "         trip_duration  passenger_count   distance\n",
       "1234291        86392.0                2  20.666941\n",
       "295382         86391.0                1  21.147722\n",
       "73816          86390.0                1   2.005244\n",
       "59891          86387.0                1   6.199703\n",
       "1360439        86385.0                1  17.335134"
      ]
     },
     "execution_count": 23,
     "metadata": {},
     "output_type": "execute_result"
    }
   ],
   "source": [
    "df[\"trip_duration\"] = df[df[\"trip_duration\"] < 1000000]\n",
    "df.sort_values(\"trip_duration\", ascending=False).head()"
   ]
  },
  {
   "cell_type": "code",
   "execution_count": 24,
   "metadata": {},
   "outputs": [
    {
     "data": {
      "image/png": "[encoded data removed]",
      "text/plain": [
       "<matplotlib.figure.Figure at 0x1a6879a780>"
      ]
     },
     "metadata": {
      "image/png": {
       "height": 351,
       "width": 350
      }
     },
     "output_type": "display_data"
    }
   ],
   "source": [
    "sns.lmplot(x=\"distance\", y=\"trip_duration\", data=df);"
   ]
  },
  {
   "cell_type": "code",
   "execution_count": 37,
   "metadata": {},
   "outputs": [
    {
     "data": {
      "text/html": [
       "<div>\n",
       "<style>\n",
       "    .dataframe thead tr:only-child th {\n",
       "        text-align: right;\n",
       "    }\n",
       "\n",
       "    .dataframe thead th {\n",
       "        text-align: left;\n",
       "    }\n",
       "\n",
       "    .dataframe tbody tr th {\n",
       "        vertical-align: top;\n",
       "    }\n",
       "</style>\n",
       "<table border=\"1\" class=\"dataframe\">\n",
       "  <thead>\n",
       "    <tr style=\"text-align: right;\">\n",
       "      <th></th>\n",
       "      <th>trip_duration</th>\n",
       "      <th>count</th>\n",
       "    </tr>\n",
       "  </thead>\n",
       "  <tbody>\n",
       "    <tr>\n",
       "      <th>0</th>\n",
       "      <td>368.0</td>\n",
       "      <td>1624</td>\n",
       "    </tr>\n",
       "    <tr>\n",
       "      <th>1</th>\n",
       "      <td>408.0</td>\n",
       "      <td>1584</td>\n",
       "    </tr>\n",
       "    <tr>\n",
       "      <th>2</th>\n",
       "      <td>348.0</td>\n",
       "      <td>1582</td>\n",
       "    </tr>\n",
       "    <tr>\n",
       "      <th>3</th>\n",
       "      <td>367.0</td>\n",
       "      <td>1581</td>\n",
       "    </tr>\n",
       "    <tr>\n",
       "      <th>4</th>\n",
       "      <td>358.0</td>\n",
       "      <td>1577</td>\n",
       "    </tr>\n",
       "  </tbody>\n",
       "</table>\n",
       "</div>"
      ],
      "text/plain": [
       "   trip_duration  count\n",
       "0          368.0   1624\n",
       "1          408.0   1584\n",
       "2          348.0   1582\n",
       "3          367.0   1581\n",
       "4          358.0   1577"
      ]
     },
     "execution_count": 37,
     "metadata": {},
     "output_type": "execute_result"
    }
   ],
   "source": [
    "df2 = pd.DataFrame(df[\"trip_duration\"].value_counts())\n",
    "df2.reset_index(inplace=True)\n",
    "df2.rename(columns={\"index\": \"trip_duration\", \"trip_duration\": \"count\"}, inplace=True)\n",
    "df2.head()"
   ]
  },
  {
   "cell_type": "code",
   "execution_count": 53,
   "metadata": {
    "collapsed": true
   },
   "outputs": [],
   "source": [
    "df3 = df2.iloc[:, :10]"
   ]
  },
  {
   "cell_type": "code",
   "execution_count": 63,
   "metadata": {},
   "outputs": [
    {
     "data": {
      "image/png": "[encoded data removed]",
      "text/plain": [
       "<matplotlib.figure.Figure at 0x1a832c3080>"
      ]
     },
     "metadata": {
      "image/png": {
       "height": 358,
       "width": 495
      }
     },
     "output_type": "display_data"
    }
   ],
   "source": [
    "plt.figure(figsize=(8, 6))\n",
    "plt.scatter(\"trip_duration\", \"count\", data=df2);"
   ]
  },
  {
   "cell_type": "code",
   "execution_count": 54,
   "metadata": {
    "scrolled": true
   },
   "outputs": [
    {
     "ename": "KeyboardInterrupt",
     "evalue": "",
     "output_type": "error",
     "traceback": [
      "\u001b[0;31m---------------------------------------------------------------------------\u001b[0m",
      "\u001b[0;31mKeyboardInterrupt\u001b[0m                         Traceback (most recent call last)",
      "\u001b[0;32m<ipython-input-54-78a87e990ec9>\u001b[0m in \u001b[0;36m<module>\u001b[0;34m()\u001b[0m\n\u001b[0;32m----> 1\u001b[0;31m \u001b[0msns\u001b[0m\u001b[0;34m.\u001b[0m\u001b[0mbarplot\u001b[0m\u001b[0;34m(\u001b[0m\u001b[0mx\u001b[0m\u001b[0;34m=\u001b[0m\u001b[0;34m\"trip_duration\"\u001b[0m\u001b[0;34m,\u001b[0m \u001b[0my\u001b[0m\u001b[0;34m=\u001b[0m\u001b[0;34m\"count\"\u001b[0m\u001b[0;34m,\u001b[0m \u001b[0mdata\u001b[0m\u001b[0;34m=\u001b[0m\u001b[0mdf3\u001b[0m\u001b[0;34m,\u001b[0m \u001b[0mpalette\u001b[0m\u001b[0;34m=\u001b[0m\u001b[0;34m\"Set1\"\u001b[0m\u001b[0;34m)\u001b[0m\u001b[0;34m;\u001b[0m\u001b[0;34m\u001b[0m\u001b[0m\n\u001b[0m",
      "\u001b[0;32m~/anaconda3/lib/python3.6/site-packages/seaborn/categorical.py\u001b[0m in \u001b[0;36mbarplot\u001b[0;34m(x, y, hue, data, order, hue_order, estimator, ci, n_boot, units, orient, color, palette, saturation, errcolor, errwidth, capsize, dodge, ax, **kwargs)\u001b[0m\n\u001b[1;32m   2943\u001b[0m         \u001b[0max\u001b[0m \u001b[0;34m=\u001b[0m \u001b[0mplt\u001b[0m\u001b[0;34m.\u001b[0m\u001b[0mgca\u001b[0m\u001b[0;34m(\u001b[0m\u001b[0;34m)\u001b[0m\u001b[0;34m\u001b[0m\u001b[0m\n\u001b[1;32m   2944\u001b[0m \u001b[0;34m\u001b[0m\u001b[0m\n\u001b[0;32m-> 2945\u001b[0;31m     \u001b[0mplotter\u001b[0m\u001b[0;34m.\u001b[0m\u001b[0mplot\u001b[0m\u001b[0;34m(\u001b[0m\u001b[0max\u001b[0m\u001b[0;34m,\u001b[0m \u001b[0mkwargs\u001b[0m\u001b[0;34m)\u001b[0m\u001b[0;34m\u001b[0m\u001b[0m\n\u001b[0m\u001b[1;32m   2946\u001b[0m     \u001b[0;32mreturn\u001b[0m \u001b[0max\u001b[0m\u001b[0;34m\u001b[0m\u001b[0m\n\u001b[1;32m   2947\u001b[0m \u001b[0;34m\u001b[0m\u001b[0m\n",
      "\u001b[0;32m~/anaconda3/lib/python3.6/site-packages/seaborn/categorical.py\u001b[0m in \u001b[0;36mplot\u001b[0;34m(self, ax, bar_kws)\u001b[0m\n\u001b[1;32m   1638\u001b[0m     \u001b[0;32mdef\u001b[0m \u001b[0mplot\u001b[0m\u001b[0;34m(\u001b[0m\u001b[0mself\u001b[0m\u001b[0;34m,\u001b[0m \u001b[0max\u001b[0m\u001b[0;34m,\u001b[0m \u001b[0mbar_kws\u001b[0m\u001b[0;34m)\u001b[0m\u001b[0;34m:\u001b[0m\u001b[0;34m\u001b[0m\u001b[0m\n\u001b[1;32m   1639\u001b[0m         \u001b[0;34m\"\"\"Make the plot.\"\"\"\u001b[0m\u001b[0;34m\u001b[0m\u001b[0m\n\u001b[0;32m-> 1640\u001b[0;31m         \u001b[0mself\u001b[0m\u001b[0;34m.\u001b[0m\u001b[0mdraw_bars\u001b[0m\u001b[0;34m(\u001b[0m\u001b[0max\u001b[0m\u001b[0;34m,\u001b[0m \u001b[0mbar_kws\u001b[0m\u001b[0;34m)\u001b[0m\u001b[0;34m\u001b[0m\u001b[0m\n\u001b[0m\u001b[1;32m   1641\u001b[0m         \u001b[0mself\u001b[0m\u001b[0;34m.\u001b[0m\u001b[0mannotate_axes\u001b[0m\u001b[0;34m(\u001b[0m\u001b[0max\u001b[0m\u001b[0;34m)\u001b[0m\u001b[0;34m\u001b[0m\u001b[0m\n\u001b[1;32m   1642\u001b[0m         \u001b[0;32mif\u001b[0m \u001b[0mself\u001b[0m\u001b[0;34m.\u001b[0m\u001b[0morient\u001b[0m \u001b[0;34m==\u001b[0m \u001b[0;34m\"h\"\u001b[0m\u001b[0;34m:\u001b[0m\u001b[0;34m\u001b[0m\u001b[0m\n",
      "\u001b[0;32m~/anaconda3/lib/python3.6/site-packages/seaborn/categorical.py\u001b[0m in \u001b[0;36mdraw_bars\u001b[0;34m(self, ax, kws)\u001b[0m\n\u001b[1;32m   1613\u001b[0m                                \u001b[0merrcolors\u001b[0m\u001b[0;34m,\u001b[0m\u001b[0;34m\u001b[0m\u001b[0m\n\u001b[1;32m   1614\u001b[0m                                \u001b[0mself\u001b[0m\u001b[0;34m.\u001b[0m\u001b[0merrwidth\u001b[0m\u001b[0;34m,\u001b[0m\u001b[0;34m\u001b[0m\u001b[0m\n\u001b[0;32m-> 1615\u001b[0;31m                                self.capsize)\n\u001b[0m\u001b[1;32m   1616\u001b[0m \u001b[0;34m\u001b[0m\u001b[0m\n\u001b[1;32m   1617\u001b[0m         \u001b[0;32melse\u001b[0m\u001b[0;34m:\u001b[0m\u001b[0;34m\u001b[0m\u001b[0m\n",
      "\u001b[0;32m~/anaconda3/lib/python3.6/site-packages/seaborn/categorical.py\u001b[0m in \u001b[0;36mdraw_confints\u001b[0;34m(self, ax, at_group, confint, colors, errwidth, capsize, **kws)\u001b[0m\n\u001b[1;32m   1558\u001b[0m                                                 colors):\n\u001b[1;32m   1559\u001b[0m             \u001b[0;32mif\u001b[0m \u001b[0mself\u001b[0m\u001b[0;34m.\u001b[0m\u001b[0morient\u001b[0m \u001b[0;34m==\u001b[0m \u001b[0;34m\"v\"\u001b[0m\u001b[0;34m:\u001b[0m\u001b[0;34m\u001b[0m\u001b[0m\n\u001b[0;32m-> 1560\u001b[0;31m                 \u001b[0max\u001b[0m\u001b[0;34m.\u001b[0m\u001b[0mplot\u001b[0m\u001b[0;34m(\u001b[0m\u001b[0;34m[\u001b[0m\u001b[0mat\u001b[0m\u001b[0;34m,\u001b[0m \u001b[0mat\u001b[0m\u001b[0;34m]\u001b[0m\u001b[0;34m,\u001b[0m \u001b[0;34m[\u001b[0m\u001b[0mci_low\u001b[0m\u001b[0;34m,\u001b[0m \u001b[0mci_high\u001b[0m\u001b[0;34m]\u001b[0m\u001b[0;34m,\u001b[0m \u001b[0mcolor\u001b[0m\u001b[0;34m=\u001b[0m\u001b[0mcolor\u001b[0m\u001b[0;34m,\u001b[0m \u001b[0;34m**\u001b[0m\u001b[0mkws\u001b[0m\u001b[0;34m)\u001b[0m\u001b[0;34m\u001b[0m\u001b[0m\n\u001b[0m\u001b[1;32m   1561\u001b[0m                 \u001b[0;32mif\u001b[0m \u001b[0mcapsize\u001b[0m \u001b[0;32mis\u001b[0m \u001b[0;32mnot\u001b[0m \u001b[0;32mNone\u001b[0m\u001b[0;34m:\u001b[0m\u001b[0;34m\u001b[0m\u001b[0m\n\u001b[1;32m   1562\u001b[0m                     ax.plot([at - capsize / 2, at + capsize / 2],\n",
      "\u001b[0;32m~/anaconda3/lib/python3.6/site-packages/matplotlib/__init__.py\u001b[0m in \u001b[0;36minner\u001b[0;34m(ax, *args, **kwargs)\u001b[0m\n\u001b[1;32m   1708\u001b[0m                     warnings.warn(msg % (label_namer, func.__name__),\n\u001b[1;32m   1709\u001b[0m                                   RuntimeWarning, stacklevel=2)\n\u001b[0;32m-> 1710\u001b[0;31m             \u001b[0;32mreturn\u001b[0m \u001b[0mfunc\u001b[0m\u001b[0;34m(\u001b[0m\u001b[0max\u001b[0m\u001b[0;34m,\u001b[0m \u001b[0;34m*\u001b[0m\u001b[0margs\u001b[0m\u001b[0;34m,\u001b[0m \u001b[0;34m**\u001b[0m\u001b[0mkwargs\u001b[0m\u001b[0;34m)\u001b[0m\u001b[0;34m\u001b[0m\u001b[0m\n\u001b[0m\u001b[1;32m   1711\u001b[0m         \u001b[0mpre_doc\u001b[0m \u001b[0;34m=\u001b[0m \u001b[0minner\u001b[0m\u001b[0;34m.\u001b[0m\u001b[0m__doc__\u001b[0m\u001b[0;34m\u001b[0m\u001b[0m\n\u001b[1;32m   1712\u001b[0m         \u001b[0;32mif\u001b[0m \u001b[0mpre_doc\u001b[0m \u001b[0;32mis\u001b[0m \u001b[0;32mNone\u001b[0m\u001b[0;34m:\u001b[0m\u001b[0;34m\u001b[0m\u001b[0m\n",
      "\u001b[0;32m~/anaconda3/lib/python3.6/site-packages/matplotlib/axes/_axes.py\u001b[0m in \u001b[0;36mplot\u001b[0;34m(self, *args, **kwargs)\u001b[0m\n\u001b[1;32m   1439\u001b[0m             \u001b[0mlines\u001b[0m\u001b[0;34m.\u001b[0m\u001b[0mappend\u001b[0m\u001b[0;34m(\u001b[0m\u001b[0mline\u001b[0m\u001b[0;34m)\u001b[0m\u001b[0;34m\u001b[0m\u001b[0m\n\u001b[1;32m   1440\u001b[0m \u001b[0;34m\u001b[0m\u001b[0m\n\u001b[0;32m-> 1441\u001b[0;31m         \u001b[0mself\u001b[0m\u001b[0;34m.\u001b[0m\u001b[0mautoscale_view\u001b[0m\u001b[0;34m(\u001b[0m\u001b[0mscalex\u001b[0m\u001b[0;34m=\u001b[0m\u001b[0mscalex\u001b[0m\u001b[0;34m,\u001b[0m \u001b[0mscaley\u001b[0m\u001b[0;34m=\u001b[0m\u001b[0mscaley\u001b[0m\u001b[0;34m)\u001b[0m\u001b[0;34m\u001b[0m\u001b[0m\n\u001b[0m\u001b[1;32m   1442\u001b[0m         \u001b[0;32mreturn\u001b[0m \u001b[0mlines\u001b[0m\u001b[0;34m\u001b[0m\u001b[0m\n\u001b[1;32m   1443\u001b[0m \u001b[0;34m\u001b[0m\u001b[0m\n",
      "\u001b[0;32m~/anaconda3/lib/python3.6/site-packages/matplotlib/axes/_base.py\u001b[0m in \u001b[0;36mautoscale_view\u001b[0;34m(self, tight, scalex, scaley)\u001b[0m\n\u001b[1;32m   2240\u001b[0m             \u001b[0mstickies\u001b[0m \u001b[0;34m=\u001b[0m \u001b[0;34m[\u001b[0m\u001b[0martist\u001b[0m\u001b[0;34m.\u001b[0m\u001b[0msticky_edges\u001b[0m \u001b[0;32mfor\u001b[0m \u001b[0martist\u001b[0m \u001b[0;32min\u001b[0m \u001b[0mself\u001b[0m\u001b[0;34m.\u001b[0m\u001b[0mget_children\u001b[0m\u001b[0;34m(\u001b[0m\u001b[0;34m)\u001b[0m\u001b[0;34m]\u001b[0m\u001b[0;34m\u001b[0m\u001b[0m\n\u001b[1;32m   2241\u001b[0m             \u001b[0mx_stickies\u001b[0m \u001b[0;34m=\u001b[0m \u001b[0msum\u001b[0m\u001b[0;34m(\u001b[0m\u001b[0;34m[\u001b[0m\u001b[0msticky\u001b[0m\u001b[0;34m.\u001b[0m\u001b[0mx\u001b[0m \u001b[0;32mfor\u001b[0m \u001b[0msticky\u001b[0m \u001b[0;32min\u001b[0m \u001b[0mstickies\u001b[0m\u001b[0;34m]\u001b[0m\u001b[0;34m,\u001b[0m \u001b[0;34m[\u001b[0m\u001b[0;34m]\u001b[0m\u001b[0;34m)\u001b[0m\u001b[0;34m\u001b[0m\u001b[0m\n\u001b[0;32m-> 2242\u001b[0;31m             \u001b[0my_stickies\u001b[0m \u001b[0;34m=\u001b[0m \u001b[0msum\u001b[0m\u001b[0;34m(\u001b[0m\u001b[0;34m[\u001b[0m\u001b[0msticky\u001b[0m\u001b[0;34m.\u001b[0m\u001b[0my\u001b[0m \u001b[0;32mfor\u001b[0m \u001b[0msticky\u001b[0m \u001b[0;32min\u001b[0m \u001b[0mstickies\u001b[0m\u001b[0;34m]\u001b[0m\u001b[0;34m,\u001b[0m \u001b[0;34m[\u001b[0m\u001b[0;34m]\u001b[0m\u001b[0;34m)\u001b[0m\u001b[0;34m\u001b[0m\u001b[0m\n\u001b[0m\u001b[1;32m   2243\u001b[0m             \u001b[0;32mif\u001b[0m \u001b[0mself\u001b[0m\u001b[0;34m.\u001b[0m\u001b[0mget_xscale\u001b[0m\u001b[0;34m(\u001b[0m\u001b[0;34m)\u001b[0m\u001b[0;34m.\u001b[0m\u001b[0mlower\u001b[0m\u001b[0;34m(\u001b[0m\u001b[0;34m)\u001b[0m \u001b[0;34m==\u001b[0m \u001b[0;34m'log'\u001b[0m\u001b[0;34m:\u001b[0m\u001b[0;34m\u001b[0m\u001b[0m\n\u001b[1;32m   2244\u001b[0m                 \u001b[0mx_stickies\u001b[0m \u001b[0;34m=\u001b[0m \u001b[0;34m[\u001b[0m\u001b[0mxs\u001b[0m \u001b[0;32mfor\u001b[0m \u001b[0mxs\u001b[0m \u001b[0;32min\u001b[0m \u001b[0mx_stickies\u001b[0m \u001b[0;32mif\u001b[0m \u001b[0mxs\u001b[0m \u001b[0;34m>\u001b[0m \u001b[0;36m0\u001b[0m\u001b[0;34m]\u001b[0m\u001b[0;34m\u001b[0m\u001b[0m\n",
      "\u001b[0;31mKeyboardInterrupt\u001b[0m: "
     ]
    },
    {
     "data": {
      "image/png": "[encoded data removed]",
      "text/plain": [
       "<matplotlib.figure.Figure at 0x1a7caca198>"
      ]
     },
     "metadata": {
      "image/png": {
       "height": 250,
       "width": 383
      }
     },
     "output_type": "display_data"
    }
   ],
   "source": [
    "sns.barplot(x=\"trip_duration\", y=\"count\", data=df3, palette=\"Set1\");"
   ]
  },
  {
   "cell_type": "code",
   "execution_count": 25,
   "metadata": {
    "scrolled": true
   },
   "outputs": [
    {
     "data": {
      "text/html": [
       "<div>\n",
       "<style>\n",
       "    .dataframe thead tr:only-child th {\n",
       "        text-align: right;\n",
       "    }\n",
       "\n",
       "    .dataframe thead th {\n",
       "        text-align: left;\n",
       "    }\n",
       "\n",
       "    .dataframe tbody tr th {\n",
       "        vertical-align: top;\n",
       "    }\n",
       "</style>\n",
       "<table border=\"1\" class=\"dataframe\">\n",
       "  <thead>\n",
       "    <tr style=\"text-align: right;\">\n",
       "      <th></th>\n",
       "      <th>trip_duration</th>\n",
       "      <th>passenger_count</th>\n",
       "      <th>distance</th>\n",
       "    </tr>\n",
       "  </thead>\n",
       "  <tbody>\n",
       "    <tr>\n",
       "      <th>count</th>\n",
       "      <td>1.458640e+06</td>\n",
       "      <td>1.458644e+06</td>\n",
       "      <td>1.458644e+06</td>\n",
       "    </tr>\n",
       "    <tr>\n",
       "      <th>mean</th>\n",
       "      <td>9.528153e+02</td>\n",
       "      <td>1.664530e+00</td>\n",
       "      <td>3.442193e+00</td>\n",
       "    </tr>\n",
       "    <tr>\n",
       "      <th>std</th>\n",
       "      <td>3.171322e+03</td>\n",
       "      <td>1.314242e+00</td>\n",
       "      <td>4.300259e+00</td>\n",
       "    </tr>\n",
       "    <tr>\n",
       "      <th>min</th>\n",
       "      <td>1.000000e+00</td>\n",
       "      <td>0.000000e+00</td>\n",
       "      <td>0.000000e+00</td>\n",
       "    </tr>\n",
       "    <tr>\n",
       "      <th>25%</th>\n",
       "      <td>3.970000e+02</td>\n",
       "      <td>1.000000e+00</td>\n",
       "      <td>1.232265e+00</td>\n",
       "    </tr>\n",
       "    <tr>\n",
       "      <th>50%</th>\n",
       "      <td>6.620000e+02</td>\n",
       "      <td>1.000000e+00</td>\n",
       "      <td>2.094045e+00</td>\n",
       "    </tr>\n",
       "    <tr>\n",
       "      <th>75%</th>\n",
       "      <td>1.075000e+03</td>\n",
       "      <td>2.000000e+00</td>\n",
       "      <td>3.874716e+00</td>\n",
       "    </tr>\n",
       "    <tr>\n",
       "      <th>max</th>\n",
       "      <td>8.639200e+04</td>\n",
       "      <td>9.000000e+00</td>\n",
       "      <td>1.240510e+03</td>\n",
       "    </tr>\n",
       "  </tbody>\n",
       "</table>\n",
       "</div>"
      ],
      "text/plain": [
       "       trip_duration  passenger_count      distance\n",
       "count   1.458640e+06     1.458644e+06  1.458644e+06\n",
       "mean    9.528153e+02     1.664530e+00  3.442193e+00\n",
       "std     3.171322e+03     1.314242e+00  4.300259e+00\n",
       "min     1.000000e+00     0.000000e+00  0.000000e+00\n",
       "25%     3.970000e+02     1.000000e+00  1.232265e+00\n",
       "50%     6.620000e+02     1.000000e+00  2.094045e+00\n",
       "75%     1.075000e+03     2.000000e+00  3.874716e+00\n",
       "max     8.639200e+04     9.000000e+00  1.240510e+03"
      ]
     },
     "execution_count": 25,
     "metadata": {},
     "output_type": "execute_result"
    }
   ],
   "source": [
    "df.describe()"
   ]
  },
  {
   "cell_type": "code",
   "execution_count": null,
   "metadata": {
    "collapsed": true
   },
   "outputs": [],
   "source": [
    "# import geopy.distance\n",
    "\n",
    "# coords_1 = (52.2296756, 21.0122287)\n",
    "# coords_2 = (52.406374, 16.9251681)\n",
    "\n",
    "# print geopy.distance.vincenty(coords_1, coords_2).km"
   ]
  }
 ],
 "metadata": {
  "kernelspec": {
   "display_name": "Python 3",
   "language": "python",
   "name": "python3"
  },
  "language_info": {
   "codemirror_mode": {
    "name": "ipython",
    "version": 3
   },
   "file_extension": ".py",
   "mimetype": "text/x-python",
   "name": "python",
   "nbconvert_exporter": "python",
   "pygments_lexer": "ipython3",
   "version": "3.6.3"
  }
 },
 "nbformat": 4,
 "nbformat_minor": 2
}

{
 "cells": [
  {
   "cell_type": "code",
   "execution_count": 1,
   "metadata": {
    "collapsed": true
   },
   "outputs": [],
   "source": [
    "def rmsle(y, y_,convertExp=True):\n",
    "    if convertExp:\n",
    "        y = np.exp(y),\n",
    "        y_ = np.exp(y_)\n",
    "    log1 = np.nan_to_num(np.array([np.log(v + 1) for v in y]))\n",
    "    log2 = np.nan_to_num(np.array([np.log(v + 1) for v in y_]))\n",
    "    calc = (log1 - log2) ** 2\n",
    "    return np.sqrt(np.mean(calc))"
   ]
  },
  {
   "cell_type": "code",
   "execution_count": 2,
   "metadata": {},
   "outputs": [
    {
     "data": {
      "text/plain": [
       "make_scorer(rmsle)"
      ]
     },
     "execution_count": 2,
     "metadata": {},
     "output_type": "execute_result"
    }
   ],
   "source": [
    "from sklearn.metrics import make_scorer\n",
    "\n",
    "def rmsle(predicted_values, actual_values):\n",
    "    # 넘파이로 배열 형태로 바꿔준다.\n",
    "    predicted_values = np.array(predicted_values)\n",
    "    actual_values = np.array(actual_values)\n",
    "\n",
    "    # 예측값과 실제 값에 1을 더하고 로그를 씌워준다.\n",
    "    log_predict = np.log(predicted_values + 1)\n",
    "    log_actual = np.log(actual_values + 1)\n",
    "\n",
    "    # 위에서 계산한 예측값에서 실제값을 빼주고 제곱을 해준다.\n",
    "    difference = log_predict - log_actual\n",
    "    # difference = (log_predict - log_actual) ** 2\n",
    "    difference = np.square(difference)\n",
    "\n",
    "    # 평균을 낸다.\n",
    "    mean_difference = difference.mean()\n",
    "\n",
    "    # 다시 루트를 씌운다.\n",
    "    score = np.sqrt(mean_difference)\n",
    "\n",
    "    return score\n",
    "\n",
    "rmsle_scorer = make_scorer(rmsle)\n",
    "rmsle_scorer"
   ]
  },
  {
   "cell_type": "code",
   "execution_count": null,
   "metadata": {
    "collapsed": true
   },
   "outputs": [],
   "source": []
  }
 ],
 "metadata": {
  "kernelspec": {
   "display_name": "Python 3",
   "language": "python",
   "name": "python3"
  },
  "language_info": {
   "codemirror_mode": {
    "name": "ipython",
    "version": 3
   },
   "file_extension": ".py",
   "mimetype": "text/x-python",
   "name": "python",
   "nbconvert_exporter": "python",
   "pygments_lexer": "ipython3",
   "version": "3.6.3"
  }
 },
 "nbformat": 4,
 "nbformat_minor": 2
}

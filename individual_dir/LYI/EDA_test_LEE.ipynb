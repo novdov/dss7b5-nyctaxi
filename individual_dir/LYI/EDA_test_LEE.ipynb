{
 "cells": [
  {
   "cell_type": "code",
   "execution_count": 1,
   "metadata": {
    "collapsed": true
   },
   "outputs": [],
   "source": [
    "%config InlineBackend.figure_formats = {'png', 'retina'}"
   ]
  },
  {
   "cell_type": "code",
   "execution_count": 2,
   "metadata": {
    "collapsed": true
   },
   "outputs": [],
   "source": [
    "taxi = pd.read_csv(\"test/test.csv\")"
   ]
  },
  {
   "cell_type": "code",
   "execution_count": 3,
   "metadata": {
    "collapsed": true
   },
   "outputs": [],
   "source": [
    "taxi[\"count\"] = 1"
   ]
  },
  {
   "cell_type": "code",
   "execution_count": 4,
   "metadata": {
    "collapsed": true
   },
   "outputs": [],
   "source": [
    "import datetime as dt"
   ]
  },
  {
   "cell_type": "code",
   "execution_count": 5,
   "metadata": {},
   "outputs": [
    {
     "data": {
      "text/html": [
       "<div>\n",
       "<style>\n",
       "    .dataframe thead tr:only-child th {\n",
       "        text-align: right;\n",
       "    }\n",
       "\n",
       "    .dataframe thead th {\n",
       "        text-align: left;\n",
       "    }\n",
       "\n",
       "    .dataframe tbody tr th {\n",
       "        vertical-align: top;\n",
       "    }\n",
       "</style>\n",
       "<table border=\"1\" class=\"dataframe\">\n",
       "  <thead>\n",
       "    <tr style=\"text-align: right;\">\n",
       "      <th></th>\n",
       "      <th>id</th>\n",
       "      <th>vendor_id</th>\n",
       "      <th>pickup_datetime</th>\n",
       "      <th>passenger_count</th>\n",
       "      <th>pickup_longitude</th>\n",
       "      <th>pickup_latitude</th>\n",
       "      <th>dropoff_longitude</th>\n",
       "      <th>dropoff_latitude</th>\n",
       "      <th>store_and_fwd_flag</th>\n",
       "      <th>count</th>\n",
       "    </tr>\n",
       "  </thead>\n",
       "  <tbody>\n",
       "    <tr>\n",
       "      <th>625129</th>\n",
       "      <td>id3008929</td>\n",
       "      <td>1</td>\n",
       "      <td>2016-01-01 00:02:52</td>\n",
       "      <td>1</td>\n",
       "      <td>-74.003464</td>\n",
       "      <td>40.725105</td>\n",
       "      <td>-74.001251</td>\n",
       "      <td>40.733643</td>\n",
       "      <td>N</td>\n",
       "      <td>1</td>\n",
       "    </tr>\n",
       "    <tr>\n",
       "      <th>625130</th>\n",
       "      <td>id3700764</td>\n",
       "      <td>1</td>\n",
       "      <td>2016-01-01 00:01:52</td>\n",
       "      <td>1</td>\n",
       "      <td>-74.006363</td>\n",
       "      <td>40.743782</td>\n",
       "      <td>-73.953407</td>\n",
       "      <td>40.782467</td>\n",
       "      <td>N</td>\n",
       "      <td>1</td>\n",
       "    </tr>\n",
       "    <tr>\n",
       "      <th>625131</th>\n",
       "      <td>id2568735</td>\n",
       "      <td>1</td>\n",
       "      <td>2016-01-01 00:01:24</td>\n",
       "      <td>2</td>\n",
       "      <td>-73.972267</td>\n",
       "      <td>40.759865</td>\n",
       "      <td>-73.876602</td>\n",
       "      <td>40.748665</td>\n",
       "      <td>N</td>\n",
       "      <td>1</td>\n",
       "    </tr>\n",
       "    <tr>\n",
       "      <th>625132</th>\n",
       "      <td>id1384355</td>\n",
       "      <td>1</td>\n",
       "      <td>2016-01-01 00:00:28</td>\n",
       "      <td>1</td>\n",
       "      <td>-73.976501</td>\n",
       "      <td>40.733562</td>\n",
       "      <td>-73.854263</td>\n",
       "      <td>40.891788</td>\n",
       "      <td>N</td>\n",
       "      <td>1</td>\n",
       "    </tr>\n",
       "    <tr>\n",
       "      <th>625133</th>\n",
       "      <td>id0621643</td>\n",
       "      <td>2</td>\n",
       "      <td>2016-01-01 00:00:22</td>\n",
       "      <td>2</td>\n",
       "      <td>-73.981850</td>\n",
       "      <td>40.716881</td>\n",
       "      <td>-73.969330</td>\n",
       "      <td>40.769379</td>\n",
       "      <td>N</td>\n",
       "      <td>1</td>\n",
       "    </tr>\n",
       "  </tbody>\n",
       "</table>\n",
       "</div>"
      ],
      "text/plain": [
       "               id  vendor_id      pickup_datetime  passenger_count  \\\n",
       "625129  id3008929          1  2016-01-01 00:02:52                1   \n",
       "625130  id3700764          1  2016-01-01 00:01:52                1   \n",
       "625131  id2568735          1  2016-01-01 00:01:24                2   \n",
       "625132  id1384355          1  2016-01-01 00:00:28                1   \n",
       "625133  id0621643          2  2016-01-01 00:00:22                2   \n",
       "\n",
       "        pickup_longitude  pickup_latitude  dropoff_longitude  \\\n",
       "625129        -74.003464        40.725105         -74.001251   \n",
       "625130        -74.006363        40.743782         -73.953407   \n",
       "625131        -73.972267        40.759865         -73.876602   \n",
       "625132        -73.976501        40.733562         -73.854263   \n",
       "625133        -73.981850        40.716881         -73.969330   \n",
       "\n",
       "        dropoff_latitude store_and_fwd_flag  count  \n",
       "625129         40.733643                  N      1  \n",
       "625130         40.782467                  N      1  \n",
       "625131         40.748665                  N      1  \n",
       "625132         40.891788                  N      1  \n",
       "625133         40.769379                  N      1  "
      ]
     },
     "execution_count": 5,
     "metadata": {},
     "output_type": "execute_result"
    }
   ],
   "source": [
    "taxi.tail()"
   ]
  },
  {
   "cell_type": "markdown",
   "metadata": {},
   "source": [
    "## pickup_datetime 살피기"
   ]
  },
  {
   "cell_type": "code",
   "execution_count": 6,
   "metadata": {
    "scrolled": true
   },
   "outputs": [],
   "source": [
    "# pd.to_datetime을 해줘야 pickup_datetime coulmn의 data type이 datetime으로 됨.\n",
    "pickup_datetime_dt = pd.to_datetime(taxi[\"pickup_datetime\"])"
   ]
  },
  {
   "cell_type": "code",
   "execution_count": 7,
   "metadata": {
    "collapsed": true,
    "scrolled": true
   },
   "outputs": [],
   "source": [
    "# trip_duration, count를 포함하고, pickup_datetime의 data로만 이루어진 dataframe(taxi_df1)을 만든다.\n",
    "taxi_df1 = taxi.loc[:, [\"trip_duration\", \"count\"]]\n",
    "taxi_df1[\"pickup_datetime\"] = pickup_datetime_dt"
   ]
  },
  {
   "cell_type": "code",
   "execution_count": 8,
   "metadata": {
    "collapsed": true
   },
   "outputs": [],
   "source": [
    "# pickup datetime 중 year, month, day\n",
    "taxi_df1.loc[:, \"pickup_date\"] = taxi_df1[\"pickup_datetime\"].dt.date\n",
    "# pickup datetime 중 month만 가져와서 새로 column을 만듦.\n",
    "taxi_df1.loc[:, \"pickup_month\"] = taxi_df1[\"pickup_datetime\"].dt.month\n",
    "# pickup datetime 중 hour만 가져와서 새로 column을 만듦.\n",
    "taxi_df1.loc[:, \"pickup_hour\"] = taxi_df1[\"pickup_datetime\"].dt.hour\n",
    "# pickup datetime 중 요일만 가져와서 새로 column을 만듦.\n",
    "# 월요일은 0이고, 일요일은 6임.\n",
    "taxi_df1.loc[:, \"pickup_weekday\"] = taxi_df1[\"pickup_datetime\"].dt.weekday"
   ]
  },
  {
   "cell_type": "code",
   "execution_count": 9,
   "metadata": {
    "scrolled": false
   },
   "outputs": [
    {
     "data": {
      "text/html": [
       "<div>\n",
       "<style>\n",
       "    .dataframe thead tr:only-child th {\n",
       "        text-align: right;\n",
       "    }\n",
       "\n",
       "    .dataframe thead th {\n",
       "        text-align: left;\n",
       "    }\n",
       "\n",
       "    .dataframe tbody tr th {\n",
       "        vertical-align: top;\n",
       "    }\n",
       "</style>\n",
       "<table border=\"1\" class=\"dataframe\">\n",
       "  <thead>\n",
       "    <tr style=\"text-align: right;\">\n",
       "      <th></th>\n",
       "      <th>trip_duration</th>\n",
       "      <th>count</th>\n",
       "      <th>pickup_datetime</th>\n",
       "      <th>pickup_date</th>\n",
       "      <th>pickup_month</th>\n",
       "      <th>pickup_hour</th>\n",
       "      <th>pickup_weekday</th>\n",
       "    </tr>\n",
       "  </thead>\n",
       "  <tbody>\n",
       "    <tr>\n",
       "      <th>625129</th>\n",
       "      <td>NaN</td>\n",
       "      <td>1</td>\n",
       "      <td>2016-01-01 00:02:52</td>\n",
       "      <td>2016-01-01</td>\n",
       "      <td>1</td>\n",
       "      <td>0</td>\n",
       "      <td>4</td>\n",
       "    </tr>\n",
       "    <tr>\n",
       "      <th>625130</th>\n",
       "      <td>NaN</td>\n",
       "      <td>1</td>\n",
       "      <td>2016-01-01 00:01:52</td>\n",
       "      <td>2016-01-01</td>\n",
       "      <td>1</td>\n",
       "      <td>0</td>\n",
       "      <td>4</td>\n",
       "    </tr>\n",
       "    <tr>\n",
       "      <th>625131</th>\n",
       "      <td>NaN</td>\n",
       "      <td>1</td>\n",
       "      <td>2016-01-01 00:01:24</td>\n",
       "      <td>2016-01-01</td>\n",
       "      <td>1</td>\n",
       "      <td>0</td>\n",
       "      <td>4</td>\n",
       "    </tr>\n",
       "    <tr>\n",
       "      <th>625132</th>\n",
       "      <td>NaN</td>\n",
       "      <td>1</td>\n",
       "      <td>2016-01-01 00:00:28</td>\n",
       "      <td>2016-01-01</td>\n",
       "      <td>1</td>\n",
       "      <td>0</td>\n",
       "      <td>4</td>\n",
       "    </tr>\n",
       "    <tr>\n",
       "      <th>625133</th>\n",
       "      <td>NaN</td>\n",
       "      <td>1</td>\n",
       "      <td>2016-01-01 00:00:22</td>\n",
       "      <td>2016-01-01</td>\n",
       "      <td>1</td>\n",
       "      <td>0</td>\n",
       "      <td>4</td>\n",
       "    </tr>\n",
       "  </tbody>\n",
       "</table>\n",
       "</div>"
      ],
      "text/plain": [
       "        trip_duration  count     pickup_datetime pickup_date  pickup_month  \\\n",
       "625129            NaN      1 2016-01-01 00:02:52  2016-01-01             1   \n",
       "625130            NaN      1 2016-01-01 00:01:52  2016-01-01             1   \n",
       "625131            NaN      1 2016-01-01 00:01:24  2016-01-01             1   \n",
       "625132            NaN      1 2016-01-01 00:00:28  2016-01-01             1   \n",
       "625133            NaN      1 2016-01-01 00:00:22  2016-01-01             1   \n",
       "\n",
       "        pickup_hour  pickup_weekday  \n",
       "625129            0               4  \n",
       "625130            0               4  \n",
       "625131            0               4  \n",
       "625132            0               4  \n",
       "625133            0               4  "
      ]
     },
     "execution_count": 9,
     "metadata": {},
     "output_type": "execute_result"
    }
   ],
   "source": [
    "taxi_df1.tail()"
   ]
  },
  {
   "cell_type": "markdown",
   "metadata": {},
   "source": [
    "- year 살피기"
   ]
  },
  {
   "cell_type": "code",
   "execution_count": 10,
   "metadata": {},
   "outputs": [
    {
     "name": "stdout",
     "output_type": "stream",
     "text": [
      "2016\n",
      "2016\n"
     ]
    }
   ],
   "source": [
    "print(taxi_df1[\"pickup_datetime\"].dt.year.min())\n",
    "print(taxi_df1[\"pickup_datetime\"].dt.year.max())"
   ]
  },
  {
   "cell_type": "markdown",
   "metadata": {},
   "source": [
    "- month 살피기"
   ]
  },
  {
   "cell_type": "code",
   "execution_count": 11,
   "metadata": {},
   "outputs": [
    {
     "name": "stdout",
     "output_type": "stream",
     "text": [
      "1\n",
      "6\n"
     ]
    }
   ],
   "source": [
    "print(taxi_df1[\"pickup_month\"].min())\n",
    "print(taxi_df1[\"pickup_month\"].max())"
   ]
  },
  {
   "cell_type": "code",
   "execution_count": 12,
   "metadata": {
    "scrolled": false
   },
   "outputs": [
    {
     "data": {
      "text/html": [
       "<div>\n",
       "<style>\n",
       "    .dataframe thead tr:only-child th {\n",
       "        text-align: right;\n",
       "    }\n",
       "\n",
       "    .dataframe thead th {\n",
       "        text-align: left;\n",
       "    }\n",
       "\n",
       "    .dataframe tbody tr th {\n",
       "        vertical-align: top;\n",
       "    }\n",
       "</style>\n",
       "<table border=\"1\" class=\"dataframe\">\n",
       "  <thead>\n",
       "    <tr style=\"text-align: right;\">\n",
       "      <th></th>\n",
       "      <th>count</th>\n",
       "    </tr>\n",
       "    <tr>\n",
       "      <th>pickup_month</th>\n",
       "      <th></th>\n",
       "    </tr>\n",
       "  </thead>\n",
       "  <tbody>\n",
       "    <tr>\n",
       "      <th>1</th>\n",
       "      <td>97676</td>\n",
       "    </tr>\n",
       "    <tr>\n",
       "      <th>2</th>\n",
       "      <td>102314</td>\n",
       "    </tr>\n",
       "    <tr>\n",
       "      <th>3</th>\n",
       "      <td>109697</td>\n",
       "    </tr>\n",
       "    <tr>\n",
       "      <th>4</th>\n",
       "      <td>107432</td>\n",
       "    </tr>\n",
       "    <tr>\n",
       "      <th>5</th>\n",
       "      <td>107570</td>\n",
       "    </tr>\n",
       "    <tr>\n",
       "      <th>6</th>\n",
       "      <td>100445</td>\n",
       "    </tr>\n",
       "  </tbody>\n",
       "</table>\n",
       "</div>"
      ],
      "text/plain": [
       "               count\n",
       "pickup_month        \n",
       "1              97676\n",
       "2             102314\n",
       "3             109697\n",
       "4             107432\n",
       "5             107570\n",
       "6             100445"
      ]
     },
     "execution_count": 12,
     "metadata": {},
     "output_type": "execute_result"
    }
   ],
   "source": [
    "taxi_month_1 = taxi_df1.loc[:, [\"pickup_month\", \"count\"]]\n",
    "taxi_month_1.groupby(\"pickup_month\").sum()"
   ]
  },
  {
   "cell_type": "markdown",
   "metadata": {},
   "source": [
    "- hour 살피기"
   ]
  },
  {
   "cell_type": "code",
   "execution_count": 15,
   "metadata": {
    "scrolled": false
   },
   "outputs": [
    {
     "name": "stdout",
     "output_type": "stream",
     "text": [
      "0\n",
      "23\n"
     ]
    }
   ],
   "source": [
    "print(taxi_df1[\"pickup_hour\"].min())\n",
    "print(taxi_df1[\"pickup_hour\"].max())"
   ]
  },
  {
   "cell_type": "code",
   "execution_count": 16,
   "metadata": {},
   "outputs": [
    {
     "data": {
      "text/html": [
       "<div>\n",
       "<style>\n",
       "    .dataframe thead tr:only-child th {\n",
       "        text-align: right;\n",
       "    }\n",
       "\n",
       "    .dataframe thead th {\n",
       "        text-align: left;\n",
       "    }\n",
       "\n",
       "    .dataframe tbody tr th {\n",
       "        vertical-align: top;\n",
       "    }\n",
       "</style>\n",
       "<table border=\"1\" class=\"dataframe\">\n",
       "  <thead>\n",
       "    <tr style=\"text-align: right;\">\n",
       "      <th></th>\n",
       "      <th>count</th>\n",
       "    </tr>\n",
       "    <tr>\n",
       "      <th>pickup_hour</th>\n",
       "      <th></th>\n",
       "    </tr>\n",
       "  </thead>\n",
       "  <tbody>\n",
       "    <tr>\n",
       "      <th>0</th>\n",
       "      <td>22714</td>\n",
       "    </tr>\n",
       "    <tr>\n",
       "      <th>1</th>\n",
       "      <td>16529</td>\n",
       "    </tr>\n",
       "    <tr>\n",
       "      <th>2</th>\n",
       "      <td>11961</td>\n",
       "    </tr>\n",
       "    <tr>\n",
       "      <th>3</th>\n",
       "      <td>8881</td>\n",
       "    </tr>\n",
       "    <tr>\n",
       "      <th>4</th>\n",
       "      <td>6814</td>\n",
       "    </tr>\n",
       "    <tr>\n",
       "      <th>5</th>\n",
       "      <td>6468</td>\n",
       "    </tr>\n",
       "    <tr>\n",
       "      <th>6</th>\n",
       "      <td>14122</td>\n",
       "    </tr>\n",
       "    <tr>\n",
       "      <th>7</th>\n",
       "      <td>23818</td>\n",
       "    </tr>\n",
       "    <tr>\n",
       "      <th>8</th>\n",
       "      <td>28854</td>\n",
       "    </tr>\n",
       "    <tr>\n",
       "      <th>9</th>\n",
       "      <td>29127</td>\n",
       "    </tr>\n",
       "    <tr>\n",
       "      <th>10</th>\n",
       "      <td>27997</td>\n",
       "    </tr>\n",
       "    <tr>\n",
       "      <th>11</th>\n",
       "      <td>29145</td>\n",
       "    </tr>\n",
       "    <tr>\n",
       "      <th>12</th>\n",
       "      <td>30448</td>\n",
       "    </tr>\n",
       "    <tr>\n",
       "      <th>13</th>\n",
       "      <td>30524</td>\n",
       "    </tr>\n",
       "    <tr>\n",
       "      <th>14</th>\n",
       "      <td>32345</td>\n",
       "    </tr>\n",
       "    <tr>\n",
       "      <th>15</th>\n",
       "      <td>31000</td>\n",
       "    </tr>\n",
       "    <tr>\n",
       "      <th>16</th>\n",
       "      <td>27714</td>\n",
       "    </tr>\n",
       "    <tr>\n",
       "      <th>17</th>\n",
       "      <td>32916</td>\n",
       "    </tr>\n",
       "    <tr>\n",
       "      <th>18</th>\n",
       "      <td>38841</td>\n",
       "    </tr>\n",
       "    <tr>\n",
       "      <th>19</th>\n",
       "      <td>38437</td>\n",
       "    </tr>\n",
       "    <tr>\n",
       "      <th>20</th>\n",
       "      <td>36295</td>\n",
       "    </tr>\n",
       "    <tr>\n",
       "      <th>21</th>\n",
       "      <td>35746</td>\n",
       "    </tr>\n",
       "    <tr>\n",
       "      <th>22</th>\n",
       "      <td>34567</td>\n",
       "    </tr>\n",
       "    <tr>\n",
       "      <th>23</th>\n",
       "      <td>29871</td>\n",
       "    </tr>\n",
       "  </tbody>\n",
       "</table>\n",
       "</div>"
      ],
      "text/plain": [
       "             count\n",
       "pickup_hour       \n",
       "0            22714\n",
       "1            16529\n",
       "2            11961\n",
       "3             8881\n",
       "4             6814\n",
       "5             6468\n",
       "6            14122\n",
       "7            23818\n",
       "8            28854\n",
       "9            29127\n",
       "10           27997\n",
       "11           29145\n",
       "12           30448\n",
       "13           30524\n",
       "14           32345\n",
       "15           31000\n",
       "16           27714\n",
       "17           32916\n",
       "18           38841\n",
       "19           38437\n",
       "20           36295\n",
       "21           35746\n",
       "22           34567\n",
       "23           29871"
      ]
     },
     "execution_count": 16,
     "metadata": {},
     "output_type": "execute_result"
    }
   ],
   "source": [
    "taxi_hour_1 = taxi_df1.loc[:, [\"pickup_hour\", \"count\"]]\n",
    "taxi_hour_1.groupby(\"pickup_hour\").sum()"
   ]
  },
  {
   "cell_type": "markdown",
   "metadata": {},
   "source": [
    "- 요일 살피기"
   ]
  },
  {
   "cell_type": "code",
   "execution_count": 19,
   "metadata": {
    "scrolled": true
   },
   "outputs": [
    {
     "name": "stdout",
     "output_type": "stream",
     "text": [
      "0\n",
      "6\n"
     ]
    }
   ],
   "source": [
    "print(taxi_df1[\"pickup_weekday\"].min())\n",
    "print(taxi_df1[\"pickup_weekday\"].max())"
   ]
  },
  {
   "cell_type": "code",
   "execution_count": 20,
   "metadata": {},
   "outputs": [
    {
     "data": {
      "text/html": [
       "<div>\n",
       "<style>\n",
       "    .dataframe thead tr:only-child th {\n",
       "        text-align: right;\n",
       "    }\n",
       "\n",
       "    .dataframe thead th {\n",
       "        text-align: left;\n",
       "    }\n",
       "\n",
       "    .dataframe tbody tr th {\n",
       "        vertical-align: top;\n",
       "    }\n",
       "</style>\n",
       "<table border=\"1\" class=\"dataframe\">\n",
       "  <thead>\n",
       "    <tr style=\"text-align: right;\">\n",
       "      <th></th>\n",
       "      <th>count</th>\n",
       "    </tr>\n",
       "    <tr>\n",
       "      <th>pickup_weekday</th>\n",
       "      <th></th>\n",
       "    </tr>\n",
       "  </thead>\n",
       "  <tbody>\n",
       "    <tr>\n",
       "      <th>0</th>\n",
       "      <td>80388</td>\n",
       "    </tr>\n",
       "    <tr>\n",
       "      <th>1</th>\n",
       "      <td>87318</td>\n",
       "    </tr>\n",
       "    <tr>\n",
       "      <th>2</th>\n",
       "      <td>89888</td>\n",
       "    </tr>\n",
       "    <tr>\n",
       "      <th>3</th>\n",
       "      <td>93460</td>\n",
       "    </tr>\n",
       "    <tr>\n",
       "      <th>4</th>\n",
       "      <td>96260</td>\n",
       "    </tr>\n",
       "    <tr>\n",
       "      <th>5</th>\n",
       "      <td>94232</td>\n",
       "    </tr>\n",
       "    <tr>\n",
       "      <th>6</th>\n",
       "      <td>83588</td>\n",
       "    </tr>\n",
       "  </tbody>\n",
       "</table>\n",
       "</div>"
      ],
      "text/plain": [
       "                count\n",
       "pickup_weekday       \n",
       "0               80388\n",
       "1               87318\n",
       "2               89888\n",
       "3               93460\n",
       "4               96260\n",
       "5               94232\n",
       "6               83588"
      ]
     },
     "execution_count": 20,
     "metadata": {},
     "output_type": "execute_result"
    }
   ],
   "source": [
    "taxi_weekday_1 = taxi_df1.loc[:, [\"pickup_weekday\", \"count\"]]\n",
    "taxi_weekday_1.groupby(\"pickup_weekday\").sum()"
   ]
  },
  {
   "cell_type": "markdown",
   "metadata": {},
   "source": [
    "### EDA of pickup_datetime in test data\n",
    "- year : 2016년 \n",
    "- month : 1~6월\n",
    "- hour : 0~23시\n",
    "- weekday : 월요일~일요일"
   ]
  }
 ],
 "metadata": {
  "kernelspec": {
   "display_name": "Python 3",
   "language": "python",
   "name": "python3"
  },
  "language_info": {
   "codemirror_mode": {
    "name": "ipython",
    "version": 3
   },
   "file_extension": ".py",
   "mimetype": "text/x-python",
   "name": "python",
   "nbconvert_exporter": "python",
   "pygments_lexer": "ipython3",
   "version": "3.6.3"
  }
 },
 "nbformat": 4,
 "nbformat_minor": 2
}

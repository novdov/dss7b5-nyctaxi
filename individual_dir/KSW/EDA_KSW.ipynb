{
 "cells": [
  {
   "cell_type": "markdown",
   "metadata": {},
   "source": [
    "NYC-TAXI-EDA-FEATURE-ENGINEERING<br>\n",
    "https://www.kaggle.com/frednavruzov/nyc-taxi-eda-feature-engineering"
   ]
  },
  {
   "cell_type": "code",
   "execution_count": 1,
   "metadata": {},
   "outputs": [],
   "source": [
    "import pandas as pd\n",
    "import numpy as np\n",
    "import sympy\n",
    "import datetime as dt\n",
    "import time\n",
    "from math import *\n",
    "import matplotlib as mpl\n",
    "import matplotlib.pyplot as plt\n",
    "import seaborn as sns\n",
    "\n",
    "from ipyleaflet import *\n",
    "import folium\n",
    "import json\n",
    "import geopy.distance\n",
    "from haversine import haversine\n",
    "from tqdm import tqdm_notebook\n",
    "\n",
    "sns.set()\n",
    "%matplotlib inline\n",
    "%config InlineBackend.figure_formats = {'png', 'retina'}\n",
    "\n",
    "from matplotlib import font_manager, rc\n",
    "plt.rcParams['axes.unicode_minus'] = False\n",
    "\n",
    "import platform\n",
    "if platform.system() == 'Darwin':\n",
    "    rc('font', family='AppleGothic')\n",
    "elif platform.system() == 'Windows':\n",
    "    path = \"c:/Windows/Fonts/malgun.ttf\"\n",
    "    font_name = font_manager.FontProperties(fname=path).get_name()\n",
    "    rc('font', family=font_name)"
   ]
  },
  {
   "cell_type": "code",
   "execution_count": 2,
   "metadata": {},
   "outputs": [
    {
     "ename": "FileNotFoundError",
     "evalue": "File b'../dataset/train.csv' does not exist",
     "output_type": "error",
     "traceback": [
      "\u001b[0;31m---------------------------------------------------------------------------\u001b[0m",
      "\u001b[0;31mFileNotFoundError\u001b[0m                         Traceback (most recent call last)",
      "\u001b[0;32m<ipython-input-2-a1745de0c496>\u001b[0m in \u001b[0;36m<module>\u001b[0;34m()\u001b[0m\n\u001b[0;32m----> 1\u001b[0;31m \u001b[0mtrain\u001b[0m \u001b[0;34m=\u001b[0m \u001b[0mpd\u001b[0m\u001b[0;34m.\u001b[0m\u001b[0mread_csv\u001b[0m\u001b[0;34m(\u001b[0m\u001b[0;34m\"../dataset/train.csv\"\u001b[0m\u001b[0;34m)\u001b[0m \u001b[0;31m# 각자 데이터셋의 폴더\u001b[0m\u001b[0;34m\u001b[0m\u001b[0m\n\u001b[0m",
      "\u001b[0;32m/Library/Frameworks/Python.framework/Versions/3.6/lib/python3.6/site-packages/pandas/io/parsers.py\u001b[0m in \u001b[0;36mparser_f\u001b[0;34m(filepath_or_buffer, sep, delimiter, header, names, index_col, usecols, squeeze, prefix, mangle_dupe_cols, dtype, engine, converters, true_values, false_values, skipinitialspace, skiprows, nrows, na_values, keep_default_na, na_filter, verbose, skip_blank_lines, parse_dates, infer_datetime_format, keep_date_col, date_parser, dayfirst, iterator, chunksize, compression, thousands, decimal, lineterminator, quotechar, quoting, escapechar, comment, encoding, dialect, tupleize_cols, error_bad_lines, warn_bad_lines, skipfooter, skip_footer, doublequote, delim_whitespace, as_recarray, compact_ints, use_unsigned, low_memory, buffer_lines, memory_map, float_precision)\u001b[0m\n\u001b[1;32m    707\u001b[0m                     skip_blank_lines=skip_blank_lines)\n\u001b[1;32m    708\u001b[0m \u001b[0;34m\u001b[0m\u001b[0m\n\u001b[0;32m--> 709\u001b[0;31m         \u001b[0;32mreturn\u001b[0m \u001b[0m_read\u001b[0m\u001b[0;34m(\u001b[0m\u001b[0mfilepath_or_buffer\u001b[0m\u001b[0;34m,\u001b[0m \u001b[0mkwds\u001b[0m\u001b[0;34m)\u001b[0m\u001b[0;34m\u001b[0m\u001b[0m\n\u001b[0m\u001b[1;32m    710\u001b[0m \u001b[0;34m\u001b[0m\u001b[0m\n\u001b[1;32m    711\u001b[0m     \u001b[0mparser_f\u001b[0m\u001b[0;34m.\u001b[0m\u001b[0m__name__\u001b[0m \u001b[0;34m=\u001b[0m \u001b[0mname\u001b[0m\u001b[0;34m\u001b[0m\u001b[0m\n",
      "\u001b[0;32m/Library/Frameworks/Python.framework/Versions/3.6/lib/python3.6/site-packages/pandas/io/parsers.py\u001b[0m in \u001b[0;36m_read\u001b[0;34m(filepath_or_buffer, kwds)\u001b[0m\n\u001b[1;32m    447\u001b[0m \u001b[0;34m\u001b[0m\u001b[0m\n\u001b[1;32m    448\u001b[0m     \u001b[0;31m# Create the parser.\u001b[0m\u001b[0;34m\u001b[0m\u001b[0;34m\u001b[0m\u001b[0m\n\u001b[0;32m--> 449\u001b[0;31m     \u001b[0mparser\u001b[0m \u001b[0;34m=\u001b[0m \u001b[0mTextFileReader\u001b[0m\u001b[0;34m(\u001b[0m\u001b[0mfilepath_or_buffer\u001b[0m\u001b[0;34m,\u001b[0m \u001b[0;34m**\u001b[0m\u001b[0mkwds\u001b[0m\u001b[0;34m)\u001b[0m\u001b[0;34m\u001b[0m\u001b[0m\n\u001b[0m\u001b[1;32m    450\u001b[0m \u001b[0;34m\u001b[0m\u001b[0m\n\u001b[1;32m    451\u001b[0m     \u001b[0;32mif\u001b[0m \u001b[0mchunksize\u001b[0m \u001b[0;32mor\u001b[0m \u001b[0miterator\u001b[0m\u001b[0;34m:\u001b[0m\u001b[0;34m\u001b[0m\u001b[0m\n",
      "\u001b[0;32m/Library/Frameworks/Python.framework/Versions/3.6/lib/python3.6/site-packages/pandas/io/parsers.py\u001b[0m in \u001b[0;36m__init__\u001b[0;34m(self, f, engine, **kwds)\u001b[0m\n\u001b[1;32m    816\u001b[0m             \u001b[0mself\u001b[0m\u001b[0;34m.\u001b[0m\u001b[0moptions\u001b[0m\u001b[0;34m[\u001b[0m\u001b[0;34m'has_index_names'\u001b[0m\u001b[0;34m]\u001b[0m \u001b[0;34m=\u001b[0m \u001b[0mkwds\u001b[0m\u001b[0;34m[\u001b[0m\u001b[0;34m'has_index_names'\u001b[0m\u001b[0;34m]\u001b[0m\u001b[0;34m\u001b[0m\u001b[0m\n\u001b[1;32m    817\u001b[0m \u001b[0;34m\u001b[0m\u001b[0m\n\u001b[0;32m--> 818\u001b[0;31m         \u001b[0mself\u001b[0m\u001b[0;34m.\u001b[0m\u001b[0m_make_engine\u001b[0m\u001b[0;34m(\u001b[0m\u001b[0mself\u001b[0m\u001b[0;34m.\u001b[0m\u001b[0mengine\u001b[0m\u001b[0;34m)\u001b[0m\u001b[0;34m\u001b[0m\u001b[0m\n\u001b[0m\u001b[1;32m    819\u001b[0m \u001b[0;34m\u001b[0m\u001b[0m\n\u001b[1;32m    820\u001b[0m     \u001b[0;32mdef\u001b[0m \u001b[0mclose\u001b[0m\u001b[0;34m(\u001b[0m\u001b[0mself\u001b[0m\u001b[0;34m)\u001b[0m\u001b[0;34m:\u001b[0m\u001b[0;34m\u001b[0m\u001b[0m\n",
      "\u001b[0;32m/Library/Frameworks/Python.framework/Versions/3.6/lib/python3.6/site-packages/pandas/io/parsers.py\u001b[0m in \u001b[0;36m_make_engine\u001b[0;34m(self, engine)\u001b[0m\n\u001b[1;32m   1047\u001b[0m     \u001b[0;32mdef\u001b[0m \u001b[0m_make_engine\u001b[0m\u001b[0;34m(\u001b[0m\u001b[0mself\u001b[0m\u001b[0;34m,\u001b[0m \u001b[0mengine\u001b[0m\u001b[0;34m=\u001b[0m\u001b[0;34m'c'\u001b[0m\u001b[0;34m)\u001b[0m\u001b[0;34m:\u001b[0m\u001b[0;34m\u001b[0m\u001b[0m\n\u001b[1;32m   1048\u001b[0m         \u001b[0;32mif\u001b[0m \u001b[0mengine\u001b[0m \u001b[0;34m==\u001b[0m \u001b[0;34m'c'\u001b[0m\u001b[0;34m:\u001b[0m\u001b[0;34m\u001b[0m\u001b[0m\n\u001b[0;32m-> 1049\u001b[0;31m             \u001b[0mself\u001b[0m\u001b[0;34m.\u001b[0m\u001b[0m_engine\u001b[0m \u001b[0;34m=\u001b[0m \u001b[0mCParserWrapper\u001b[0m\u001b[0;34m(\u001b[0m\u001b[0mself\u001b[0m\u001b[0;34m.\u001b[0m\u001b[0mf\u001b[0m\u001b[0;34m,\u001b[0m \u001b[0;34m**\u001b[0m\u001b[0mself\u001b[0m\u001b[0;34m.\u001b[0m\u001b[0moptions\u001b[0m\u001b[0;34m)\u001b[0m\u001b[0;34m\u001b[0m\u001b[0m\n\u001b[0m\u001b[1;32m   1050\u001b[0m         \u001b[0;32melse\u001b[0m\u001b[0;34m:\u001b[0m\u001b[0;34m\u001b[0m\u001b[0m\n\u001b[1;32m   1051\u001b[0m             \u001b[0;32mif\u001b[0m \u001b[0mengine\u001b[0m \u001b[0;34m==\u001b[0m \u001b[0;34m'python'\u001b[0m\u001b[0;34m:\u001b[0m\u001b[0;34m\u001b[0m\u001b[0m\n",
      "\u001b[0;32m/Library/Frameworks/Python.framework/Versions/3.6/lib/python3.6/site-packages/pandas/io/parsers.py\u001b[0m in \u001b[0;36m__init__\u001b[0;34m(self, src, **kwds)\u001b[0m\n\u001b[1;32m   1693\u001b[0m         \u001b[0mkwds\u001b[0m\u001b[0;34m[\u001b[0m\u001b[0;34m'allow_leading_cols'\u001b[0m\u001b[0;34m]\u001b[0m \u001b[0;34m=\u001b[0m \u001b[0mself\u001b[0m\u001b[0;34m.\u001b[0m\u001b[0mindex_col\u001b[0m \u001b[0;32mis\u001b[0m \u001b[0;32mnot\u001b[0m \u001b[0;32mFalse\u001b[0m\u001b[0;34m\u001b[0m\u001b[0m\n\u001b[1;32m   1694\u001b[0m \u001b[0;34m\u001b[0m\u001b[0m\n\u001b[0;32m-> 1695\u001b[0;31m         \u001b[0mself\u001b[0m\u001b[0;34m.\u001b[0m\u001b[0m_reader\u001b[0m \u001b[0;34m=\u001b[0m \u001b[0mparsers\u001b[0m\u001b[0;34m.\u001b[0m\u001b[0mTextReader\u001b[0m\u001b[0;34m(\u001b[0m\u001b[0msrc\u001b[0m\u001b[0;34m,\u001b[0m \u001b[0;34m**\u001b[0m\u001b[0mkwds\u001b[0m\u001b[0;34m)\u001b[0m\u001b[0;34m\u001b[0m\u001b[0m\n\u001b[0m\u001b[1;32m   1696\u001b[0m \u001b[0;34m\u001b[0m\u001b[0m\n\u001b[1;32m   1697\u001b[0m         \u001b[0;31m# XXX\u001b[0m\u001b[0;34m\u001b[0m\u001b[0;34m\u001b[0m\u001b[0m\n",
      "\u001b[0;32mpandas/_libs/parsers.pyx\u001b[0m in \u001b[0;36mpandas._libs.parsers.TextReader.__cinit__\u001b[0;34m()\u001b[0m\n",
      "\u001b[0;32mpandas/_libs/parsers.pyx\u001b[0m in \u001b[0;36mpandas._libs.parsers.TextReader._setup_parser_source\u001b[0;34m()\u001b[0m\n",
      "\u001b[0;31mFileNotFoundError\u001b[0m: File b'../dataset/train.csv' does not exist"
     ]
    }
   ],
   "source": [
    "train = pd.read_csv(\"../dataset/train.csv\") # 각자 데이터셋의 폴더"
   ]
  },
  {
   "cell_type": "markdown",
   "metadata": {},
   "source": [
    "### data에 대한 기본적인 탐색"
   ]
  },
  {
   "cell_type": "markdown",
   "metadata": {},
   "source": [
    "- traing data의 row 수와 column 수"
   ]
  },
  {
   "cell_type": "code",
   "execution_count": null,
   "metadata": {},
   "outputs": [],
   "source": [
    "print(\"traing data의 row 수 : {}, column 수 : {}\".format(train.shape[0], train.shape[1]))"
   ]
  },
  {
   "cell_type": "code",
   "execution_count": null,
   "metadata": {},
   "outputs": [],
   "source": [
    "train.info()"
   ]
  },
  {
   "cell_type": "code",
   "execution_count": 3,
   "metadata": {
    "scrolled": true
   },
   "outputs": [
    {
     "ename": "NameError",
     "evalue": "name 'train' is not defined",
     "output_type": "error",
     "traceback": [
      "\u001b[0;31m---------------------------------------------------------------------------\u001b[0m",
      "\u001b[0;31mNameError\u001b[0m                                 Traceback (most recent call last)",
      "\u001b[0;32m<ipython-input-3-45389673d9a9>\u001b[0m in \u001b[0;36m<module>\u001b[0;34m()\u001b[0m\n\u001b[0;32m----> 1\u001b[0;31m \u001b[0mtrain\u001b[0m\u001b[0;34m.\u001b[0m\u001b[0mdescribe\u001b[0m\u001b[0;34m(\u001b[0m\u001b[0;34m)\u001b[0m\u001b[0;34m.\u001b[0m\u001b[0mround\u001b[0m\u001b[0;34m(\u001b[0m\u001b[0;36m2\u001b[0m\u001b[0;34m)\u001b[0m\u001b[0;34m\u001b[0m\u001b[0m\n\u001b[0m",
      "\u001b[0;31mNameError\u001b[0m: name 'train' is not defined"
     ]
    }
   ],
   "source": [
    "train.describe().round(2)"
   ]
  },
  {
   "cell_type": "code",
   "execution_count": 4,
   "metadata": {},
   "outputs": [],
   "source": [
    "# taxi['count'] = 1"
   ]
  },
  {
   "cell_type": "markdown",
   "metadata": {},
   "source": [
    "# 전처리\n",
    "\n",
    "- 아웃라이어 제거\n",
    "1. 시간\n",
    "    - pickup_datetime\n",
    "2. 위치\n",
    "3. 승객수"
   ]
  },
  {
   "cell_type": "markdown",
   "metadata": {},
   "source": [
    "### 아웃라이어 제거\n",
    "- 시간\n",
    "- 승객수\n",
    "- 위치"
   ]
  },
  {
   "cell_type": "code",
   "execution_count": 5,
   "metadata": {},
   "outputs": [],
   "source": [
    "# 운행 시간 0, 2시간 벗어나는 데이터 제거\n",
    "\n",
    "# taxi = taxi[taxi[\"trip_duration\"] >= 0]\n",
    "# taxi = taxi[taxi[\"trip_duration\"] <= 60*60*2]"
   ]
  },
  {
   "cell_type": "code",
   "execution_count": 6,
   "metadata": {},
   "outputs": [],
   "source": [
    "# 승객 수 0명 제거\n",
    "\n",
    "# taxi = taxi[taxi[\"passenger_count\"] != 0]"
   ]
  },
  {
   "cell_type": "markdown",
   "metadata": {},
   "source": [
    "## pickup_datetime 살피기"
   ]
  },
  {
   "cell_type": "code",
   "execution_count": 7,
   "metadata": {
    "scrolled": true
   },
   "outputs": [
    {
     "ename": "NameError",
     "evalue": "name 'train' is not defined",
     "output_type": "error",
     "traceback": [
      "\u001b[0;31m---------------------------------------------------------------------------\u001b[0m",
      "\u001b[0;31mNameError\u001b[0m                                 Traceback (most recent call last)",
      "\u001b[0;32m<ipython-input-7-688a93844fec>\u001b[0m in \u001b[0;36m<module>\u001b[0;34m()\u001b[0m\n\u001b[1;32m      1\u001b[0m \u001b[0;31m# pd.to_datetime을 해줘야 pickup_datetime coulmn의 data type이 datetime으로 됨\u001b[0m\u001b[0;34m\u001b[0m\u001b[0;34m\u001b[0m\u001b[0m\n\u001b[0;32m----> 2\u001b[0;31m \u001b[0mpickup_datetime_dt\u001b[0m \u001b[0;34m=\u001b[0m \u001b[0mpd\u001b[0m\u001b[0;34m.\u001b[0m\u001b[0mto_datetime\u001b[0m\u001b[0;34m(\u001b[0m\u001b[0mtrain\u001b[0m\u001b[0;34m[\u001b[0m\u001b[0;34m\"pickup_datetime\"\u001b[0m\u001b[0;34m]\u001b[0m\u001b[0;34m)\u001b[0m\u001b[0;34m\u001b[0m\u001b[0m\n\u001b[0m\u001b[1;32m      3\u001b[0m \u001b[0mdropoff_datetime_dt\u001b[0m \u001b[0;34m=\u001b[0m \u001b[0mpd\u001b[0m\u001b[0;34m.\u001b[0m\u001b[0mto_datetime\u001b[0m\u001b[0;34m(\u001b[0m\u001b[0mtrain\u001b[0m\u001b[0;34m[\u001b[0m\u001b[0;34m\"dropoff_datetime\"\u001b[0m\u001b[0;34m]\u001b[0m\u001b[0;34m)\u001b[0m\u001b[0;34m\u001b[0m\u001b[0m\n",
      "\u001b[0;31mNameError\u001b[0m: name 'train' is not defined"
     ]
    }
   ],
   "source": [
    "# pd.to_datetime을 해줘야 pickup_datetime coulmn의 data type이 datetime으로 됨\n",
    "pickup_datetime_dt = pd.to_datetime(train[\"pickup_datetime\"])\n",
    "dropoff_datetime_dt = pd.to_datetime(train[\"dropoff_datetime\"])"
   ]
  },
  {
   "cell_type": "code",
   "execution_count": 8,
   "metadata": {},
   "outputs": [
    {
     "ename": "NameError",
     "evalue": "name 'pickup_datetime_dt' is not defined",
     "output_type": "error",
     "traceback": [
      "\u001b[0;31m---------------------------------------------------------------------------\u001b[0m",
      "\u001b[0;31mNameError\u001b[0m                                 Traceback (most recent call last)",
      "\u001b[0;32m<ipython-input-8-e6311e55478d>\u001b[0m in \u001b[0;36m<module>\u001b[0;34m()\u001b[0m\n\u001b[0;32m----> 1\u001b[0;31m \u001b[0mtrain\u001b[0m\u001b[0;34m[\u001b[0m\u001b[0;34m\"pickup_datetime\"\u001b[0m\u001b[0;34m]\u001b[0m \u001b[0;34m=\u001b[0m \u001b[0mpickup_datetime_dt\u001b[0m\u001b[0;34m\u001b[0m\u001b[0m\n\u001b[0m\u001b[1;32m      2\u001b[0m \u001b[0mtrain\u001b[0m\u001b[0;34m[\u001b[0m\u001b[0;34m\"dropoff_datetime\"\u001b[0m\u001b[0;34m]\u001b[0m \u001b[0;34m=\u001b[0m \u001b[0mdropoff_datetime_dt\u001b[0m\u001b[0;34m\u001b[0m\u001b[0m\n\u001b[1;32m      3\u001b[0m \u001b[0;34m\u001b[0m\u001b[0m\n\u001b[1;32m      4\u001b[0m \u001b[0mtrain\u001b[0m\u001b[0;34m[\u001b[0m\u001b[0;34m\"pickup_date\"\u001b[0m\u001b[0;34m]\u001b[0m \u001b[0;34m=\u001b[0m \u001b[0mtrain\u001b[0m\u001b[0;34m[\u001b[0m\u001b[0;34m\"pickup_datetime\"\u001b[0m\u001b[0;34m]\u001b[0m\u001b[0;34m.\u001b[0m\u001b[0mdt\u001b[0m\u001b[0;34m.\u001b[0m\u001b[0mdate\u001b[0m\u001b[0;34m\u001b[0m\u001b[0m\n\u001b[1;32m      5\u001b[0m \u001b[0mtrain\u001b[0m\u001b[0;34m[\u001b[0m\u001b[0;34m\"dropoff_date\"\u001b[0m\u001b[0;34m]\u001b[0m \u001b[0;34m=\u001b[0m \u001b[0mtrain\u001b[0m\u001b[0;34m[\u001b[0m\u001b[0;34m\"dropoff_datetime\"\u001b[0m\u001b[0;34m]\u001b[0m\u001b[0;34m.\u001b[0m\u001b[0mdt\u001b[0m\u001b[0;34m.\u001b[0m\u001b[0mdate\u001b[0m\u001b[0;34m\u001b[0m\u001b[0m\n",
      "\u001b[0;31mNameError\u001b[0m: name 'pickup_datetime_dt' is not defined"
     ]
    }
   ],
   "source": [
    "train[\"pickup_datetime\"] = pickup_datetime_dt\n",
    "train[\"dropoff_datetime\"] = dropoff_datetime_dt\n",
    "\n",
    "train[\"pickup_date\"] = train[\"pickup_datetime\"].dt.date\n",
    "train[\"dropoff_date\"] = train[\"dropoff_datetime\"].dt.date\n",
    "\n",
    "train[\"pickup_month\"] = train[\"pickup_datetime\"].dt.month\n",
    "train[\"dropoff_month\"] = train[\"dropoff_datetime\"].dt.month\n",
    "\n",
    "train[\"pickup_weekday\"] = train[\"pickup_datetime\"].dt.weekday\n",
    "train[\"dropoff_weekday\"] = train[\"dropoff_datetime\"].dt.weekday\n",
    "\n",
    "train[\"pickup_hour\"] = train[\"pickup_datetime\"].dt.hour\n",
    "train[\"dropoff_hour\"] = train[\"dropoff_datetime\"].dt.hour"
   ]
  },
  {
   "cell_type": "code",
   "execution_count": 9,
   "metadata": {},
   "outputs": [
    {
     "ename": "NameError",
     "evalue": "name 'train' is not defined",
     "output_type": "error",
     "traceback": [
      "\u001b[0;31m---------------------------------------------------------------------------\u001b[0m",
      "\u001b[0;31mNameError\u001b[0m                                 Traceback (most recent call last)",
      "\u001b[0;32m<ipython-input-9-cdee5ac57152>\u001b[0m in \u001b[0;36m<module>\u001b[0;34m()\u001b[0m\n\u001b[0;32m----> 1\u001b[0;31m \u001b[0mtrain\u001b[0m\u001b[0;34m.\u001b[0m\u001b[0minfo\u001b[0m\u001b[0;34m(\u001b[0m\u001b[0;34m)\u001b[0m\u001b[0;34m\u001b[0m\u001b[0m\n\u001b[0m",
      "\u001b[0;31mNameError\u001b[0m: name 'train' is not defined"
     ]
    }
   ],
   "source": [
    "train.info()"
   ]
  },
  {
   "cell_type": "code",
   "execution_count": 10,
   "metadata": {
    "scrolled": false
   },
   "outputs": [
    {
     "ename": "NameError",
     "evalue": "name 'train' is not defined",
     "output_type": "error",
     "traceback": [
      "\u001b[0;31m---------------------------------------------------------------------------\u001b[0m",
      "\u001b[0;31mNameError\u001b[0m                                 Traceback (most recent call last)",
      "\u001b[0;32m<ipython-input-10-45389673d9a9>\u001b[0m in \u001b[0;36m<module>\u001b[0;34m()\u001b[0m\n\u001b[0;32m----> 1\u001b[0;31m \u001b[0mtrain\u001b[0m\u001b[0;34m.\u001b[0m\u001b[0mdescribe\u001b[0m\u001b[0;34m(\u001b[0m\u001b[0;34m)\u001b[0m\u001b[0;34m.\u001b[0m\u001b[0mround\u001b[0m\u001b[0;34m(\u001b[0m\u001b[0;36m2\u001b[0m\u001b[0;34m)\u001b[0m\u001b[0;34m\u001b[0m\u001b[0m\n\u001b[0m",
      "\u001b[0;31mNameError\u001b[0m: name 'train' is not defined"
     ]
    }
   ],
   "source": [
    "train.describe().round(2)"
   ]
  },
  {
   "cell_type": "markdown",
   "metadata": {},
   "source": [
    "### EDA of pickup_datetime in train data\n",
    "- year : 2016년 \n",
    "- month : 1~7월\n",
    "- hour : 0~23시\n",
    "- weekday : 월요일~일요일"
   ]
  },
  {
   "cell_type": "code",
   "execution_count": 11,
   "metadata": {},
   "outputs": [],
   "source": [
    "# # year\n",
    "# print(\"데이터가 기록된 연도\")\n",
    "# print(\"가장 오래된 데이터의 기록 연도: {}년\".format(taxi_df1[\"pickup_datetime\"].dt.year.min()))\n",
    "# print(\"가장 최신 데이터의 기록 연도: {}년\".format(taxi_df1[\"pickup_datetime\"].dt.year.max()))\n",
    "# print('')\n",
    "\n",
    "# # month\n",
    "# print(\"데이터가 기록된 달\")\n",
    "# print(\"가장 오래된 데이터의 기록된 달: {}월\".format(taxi_df1[\"pickup_month\"].min()))\n",
    "# print(\"가장 최신 데이터가 기록된 달: {}월\".format(taxi_df1[\"pickup_month\"].max()))"
   ]
  },
  {
   "cell_type": "code",
   "execution_count": 12,
   "metadata": {},
   "outputs": [
    {
     "ename": "NameError",
     "evalue": "name 'train' is not defined",
     "output_type": "error",
     "traceback": [
      "\u001b[0;31m---------------------------------------------------------------------------\u001b[0m",
      "\u001b[0;31mNameError\u001b[0m                                 Traceback (most recent call last)",
      "\u001b[0;32m<ipython-input-12-7fd91741f8f0>\u001b[0m in \u001b[0;36m<module>\u001b[0;34m()\u001b[0m\n\u001b[0;32m----> 1\u001b[0;31m \u001b[0mtrain\u001b[0m\u001b[0;34m[\u001b[0m\u001b[0mtrain\u001b[0m\u001b[0;34m[\u001b[0m\u001b[0;34m\"trip_duration\"\u001b[0m\u001b[0;34m]\u001b[0m \u001b[0;34m>=\u001b[0m \u001b[0;36m60\u001b[0m\u001b[0;34m*\u001b[0m\u001b[0;36m60\u001b[0m\u001b[0;34m*\u001b[0m\u001b[0;36m24\u001b[0m\u001b[0;34m]\u001b[0m\u001b[0;34m\u001b[0m\u001b[0m\n\u001b[0m",
      "\u001b[0;31mNameError\u001b[0m: name 'train' is not defined"
     ]
    }
   ],
   "source": [
    "train[train[\"trip_duration\"] >= 60*60*24]"
   ]
  },
  {
   "cell_type": "code",
   "execution_count": null,
   "metadata": {
    "collapsed": true
   },
   "outputs": [],
   "source": [
    "train = train[train[\"trip_duration\"] <= 60*60*24]"
   ]
  },
  {
   "cell_type": "code",
   "execution_count": null,
   "metadata": {},
   "outputs": [],
   "source": [
    "plt.figure(figsize=(7, 5))\n",
    "sns.distplot(train[\"trip_duration\"], color=\"r\")\n",
    "plt.xlabel(\"Trip Duration\")\n",
    "plt.show()"
   ]
  },
  {
   "cell_type": "code",
   "execution_count": null,
   "metadata": {},
   "outputs": [],
   "source": [
    "sns.set()\n",
    "plt.figure(figsize=(7, 5))\n",
    "sns.distplot(np.log(train['trip_duration']+1), color=\"r\")\n",
    "plt.xlabel(\"Log of Trip Duration\")\n",
    "plt.show()"
   ]
  },
  {
   "cell_type": "code",
   "execution_count": null,
   "metadata": {},
   "outputs": [],
   "source": [
    "plt.figure(figsize=(7, 4))\n",
    "sns.countplot(x=\"vendor_id\", data=train, palette=\"husl\")\n",
    "plt.title(\"Vendor Distribution\", fontsize=13)\n",
    "plt.xlabel(\"Vendor\")\n",
    "plt.ylabel(\"Number of Trips\")\n",
    "plt.show()"
   ]
  },
  {
   "cell_type": "code",
   "execution_count": null,
   "metadata": {},
   "outputs": [],
   "source": [
    "plt.figure(figsize=(7, 4))\n",
    "sns.countplot(x=\"store_and_fwd_flag\", data=train, palette=\"husl\")\n",
    "plt.title(\"Store & FWD Flag Distribution\", fontsize=13)\n",
    "plt.xlabel(\"Store & FWD Flag\")\n",
    "plt.ylabel(\"Number of Trips\")\n",
    "plt.show()"
   ]
  },
  {
   "cell_type": "code",
   "execution_count": null,
   "metadata": {},
   "outputs": [],
   "source": [
    "plt.figure(figsize=(13, 4))\n",
    "\n",
    "plt.subplot(121)\n",
    "sns.countplot(x=\"pickup_month\", data=train, palette=\"husl\")\n",
    "plt.title(\"Pickups Month Distribution\", fontsize=13)\n",
    "plt.xlabel(\"Pickup Months (January-June)\")\n",
    "plt.ylabel(\"Number of Trips\")\n",
    "\n",
    "plt.subplot(122)\n",
    "sns.countplot(x=\"pickup_month\", data=train, palette=\"husl\", hue=\"vendor_id\")\n",
    "plt.title(\"Pickups Month Distribution\", fontsize=13)\n",
    "plt.xlabel(\"Pickup Months (January-June)\")\n",
    "plt.ylabel(\"Number of Trips\")\n",
    "plt.legend(loc=(1.04,0))\n",
    "\n",
    "plt.show()"
   ]
  },
  {
   "cell_type": "code",
   "execution_count": null,
   "metadata": {},
   "outputs": [],
   "source": [
    "plt.figure(figsize=(13, 4))\n",
    "\n",
    "plt.subplot(121)\n",
    "sns.countplot(x=\"pickup_weekday\", data=train, palette=\"husl\")\n",
    "plt.title(\"Pickups Weekday Distribution\", fontsize=13)\n",
    "plt.xlabel(\"Pickup Weekday (Mon-Sun)\")\n",
    "plt.ylabel(\"Number of Trips\")\n",
    "\n",
    "plt.subplot(122)\n",
    "sns.countplot(x=\"pickup_weekday\", data=train, palette=\"husl\", hue=\"vendor_id\")\n",
    "plt.title(\"Pickups Weekday Distribution\", fontsize=13)\n",
    "plt.xlabel(\"Pickup Weekday (Mon-Sun)\")\n",
    "plt.ylabel(\"Number of Trips\")\n",
    "plt.legend(loc=(1.04,0))\n",
    "\n",
    "plt.show()"
   ]
  },
  {
   "cell_type": "code",
   "execution_count": null,
   "metadata": {},
   "outputs": [],
   "source": [
    "plt.figure(figsize=(8, 4))\n",
    "sns.countplot(x=\"pickup_hour\", data=train, palette=\"husl\")\n",
    "plt.title(\"Pickups Hour Distribution\", fontsize=13)\n",
    "plt.xlabel(\"Pickup Hours (0-23)\")\n",
    "plt.ylabel(\"Number of Trips\")\n",
    "plt.show()"
   ]
  },
  {
   "cell_type": "code",
   "execution_count": null,
   "metadata": {},
   "outputs": [],
   "source": [
    "# Trip Duration의 경우, 상위 4개의 값이 워낙 큼. mean이 아닌 mode로 하면 차이는 더 많이 남)\n",
    "# boxplot으로 보여주는 것도 좋을 것 같음 (단, log 처리하지 않으면 아웃라이어에 영향을 많이 받을 것)\n",
    "\n",
    "data = train.loc[:, [\"pickup_hour\", \"trip_duration\"]].groupby(\"pickup_hour\").mean()\n",
    "\n",
    "plt.figure(figsize=(17, 4))\n",
    "\n",
    "plt.subplot(121)\n",
    "sns.barplot(x=data.index, y=data.trip_duration, data=data, palette=\"husl\")\n",
    "plt.title(\"Pickups Hours & Trip Duration\", fontsize=13)\n",
    "plt.xlabel(\"Pickup Hours (0-23)\")\n",
    "plt.ylabel(\"Trip Duration\")\n",
    "\n",
    "\n",
    "plt.subplot(122)\n",
    "sns.barplot(x=data.index, y=np.log(data.trip_duration+1), data=data, palette=\"husl\")\n",
    "plt.title(\"Pickups Hours & Log Trip Duration\", fontsize=13)\n",
    "plt.xlabel(\"Pickup Hours (0-23)\")\n",
    "plt.ylabel(\"Log of Trip Duration\")\n",
    "\n",
    "plt.show()"
   ]
  },
  {
   "cell_type": "code",
   "execution_count": null,
   "metadata": {},
   "outputs": [],
   "source": [
    "data = train.loc[:, [\"pickup_weekday\", \"trip_duration\"]].groupby(\"pickup_weekday\").mean()\n",
    "\n",
    "plt.figure(figsize=(17, 4))\n",
    "\n",
    "plt.subplot(121)\n",
    "sns.barplot(x=data.index, y=data.trip_duration, data=data, palette=\"husl\")\n",
    "plt.title(\"Pickups Weekday & Trip Duration\", fontsize=13)\n",
    "plt.xlabel(\"Pickup Weekday (Mon-Sun)\")\n",
    "plt.ylabel(\"Trip Duration\")\n",
    "\n",
    "plt.subplot(122)\n",
    "sns.barplot(x=data.index, y=np.log(data.trip_duration+1), data=data, palette=\"husl\")\n",
    "plt.title(\"Pickups Weekday & Log Trip Duration\", fontsize=13)\n",
    "plt.xlabel(\"Pickup Weekday (Mon-Sun)\")\n",
    "plt.ylabel(\"Log of Trip Duration\")\n",
    "\n",
    "plt.show()"
   ]
  },
  {
   "cell_type": "code",
   "execution_count": null,
   "metadata": {},
   "outputs": [],
   "source": [
    "plt.figure(figsize=(7, 5))\n",
    "sns.boxplot(x=train[\"pickup_weekday\"], \n",
    "            y=train[\"trip_duration\"].apply(np.log1p), \n",
    "            data=train, palette=\"husl\")\n",
    "plt.title(\"Pickups Weekday & Log of Trip Duration\", fontsize=13)\n",
    "plt.xlabel(\"Pickup Weekday (Mon-Sun)\")\n",
    "plt.ylabel(\"Log of Trip Duration\")\n",
    "\n",
    "plt.show()"
   ]
  },
  {
   "cell_type": "code",
   "execution_count": null,
   "metadata": {},
   "outputs": [],
   "source": [
    "data = train.loc[:, [\"pickup_month\", \"trip_duration\"]].groupby(\"pickup_month\").mean()\n",
    "\n",
    "plt.figure(figsize=(17, 4))\n",
    "\n",
    "plt.subplot(121)\n",
    "sns.barplot(x=data.index, y=data.trip_duration, data=data, palette=\"husl\")\n",
    "plt.title(\"Pickups Months & Trip Duration\", fontsize=13)\n",
    "plt.xlabel(\"Pickup Months (January-June)\")\n",
    "plt.ylabel(\"Trip Duration\")\n",
    "\n",
    "plt.subplot(122)\n",
    "sns.barplot(x=data.index, y=np.log(data.trip_duration+1), data=data, palette=\"husl\")\n",
    "plt.title(\"Pickups Months & Log Trip Duration\", fontsize=13)\n",
    "plt.xlabel(\"Pickup Months (January-June)\")\n",
    "plt.ylabel(\"Log of Trip Duration\")\n",
    "\n",
    "plt.show()"
   ]
  },
  {
   "cell_type": "code",
   "execution_count": null,
   "metadata": {
    "scrolled": true
   },
   "outputs": [],
   "source": [
    "month = [\"January\", \"February\", \"March\", \"April\", \"May\", \"June\"]\n",
    "weekday = [\"Monday\", \"Tuesday\", \"Wednesday\", \"Thursday\", \"Friday\", \"Saturday\", \"Sunday\"]\n",
    "working_day = [0, 1, 2, 3, 4] # Mon-Fri\n",
    "\n",
    "wd = train.loc[:, [\"pickup_weekday\", \"pickup_month\", \"trip_duration\"]]\n",
    "wd[\"working_day\"] = wd[\"pickup_weekday\"].isin(working_day)\n",
    "\n",
    "plt.figure(figsize=(11, 5))\n",
    "sns.violinplot(x=wd[\"pickup_month\"], \n",
    "               y=wd[\"trip_duration\"].apply(np.log1p),\n",
    "               hue=\"working_day\",\n",
    "               data=wd, palette=\"husl\")\n",
    "plt.title(\"Pickups Month & Log of Trip Duration\", fontsize=13)\n",
    "plt.xlabel(\"Pickup Month\")\n",
    "plt.ylabel(\"Log of Trip Duration\")\n",
    "plt.xticks(range(0, 6), month)\n",
    "plt.show()"
   ]
  },
  {
   "cell_type": "code",
   "execution_count": null,
   "metadata": {},
   "outputs": [],
   "source": [
    "plt.figure(figsize=(11, 7))\n",
    "sns.countplot(x=\"pickup_weekday\", data=train, hue=\"pickup_hour\")\n",
    "plt.xlabel(\"Pickup Weekday (Mon-Sun)\")\n",
    "plt.ylabel(\"Number of Trips\")\n",
    "plt.xticks(range(0,7), weekday)\n",
    "plt.legend(loc=(1.04,0))\n",
    "plt.show()"
   ]
  },
  {
   "cell_type": "code",
   "execution_count": null,
   "metadata": {},
   "outputs": [],
   "source": [
    "plt.figure(figsize=(11,2))\n",
    "sns.heatmap(data=pd.crosstab(train[\"pickup_weekday\"], \n",
    "                             train[\"pickup_hour\"], \n",
    "                             values=train[\"vendor_id\"], \n",
    "                             aggfunc=\"count\",\n",
    "                             normalize=\"index\"), cmap=\"RdPu\")\n",
    "\n",
    "plt.title(\"Pickup Weekday vs. Hours\", fontsize=13)\n",
    "plt.xlabel(\"Pickup Hours (0-23)\")\n",
    "plt.ylabel(\"Pickup Weekday\")\n",
    "plt.yticks(range(0,7), weekday, rotation=\"horizontal\")\n",
    "plt.show()"
   ]
  },
  {
   "cell_type": "code",
   "execution_count": null,
   "metadata": {},
   "outputs": [],
   "source": [
    "plt.figure(figsize=(11,2))\n",
    "sns.heatmap(data=pd.crosstab(train[\"pickup_month\"], \n",
    "                             train[\"pickup_hour\"], \n",
    "                             values=train[\"vendor_id\"], \n",
    "                             aggfunc=\"count\",\n",
    "                             normalize=\"index\"), cmap=\"RdPu\")\n",
    "\n",
    "plt.title(\"Pickup Month vs. Hours\", fontsize=13)\n",
    "plt.xlabel(\"Pickup Hours (0-23)\")\n",
    "plt.ylabel(\"Pickup Month\")\n",
    "plt.yticks(range(0,6), month, rotation=\"horizontal\")\n",
    "plt.show()"
   ]
  },
  {
   "cell_type": "code",
   "execution_count": null,
   "metadata": {},
   "outputs": [],
   "source": [
    "plt.figure(figsize=(11,2))\n",
    "sns.heatmap(data=pd.crosstab(train[\"pickup_month\"], \n",
    "                             train[\"pickup_weekday\"], \n",
    "                             values=train[\"vendor_id\"], \n",
    "                             aggfunc=\"count\",\n",
    "                             normalize=\"index\"), cmap=\"RdPu\")\n",
    "\n",
    "plt.title(\"Pickup Month vs. Weekday\", fontsize=13)\n",
    "plt.xlabel(\"Pickup Weekday (Mon-Sun)\")\n",
    "plt.ylabel(\"Pickup Month\")\n",
    "plt.xticks(range(0,7), weekday, rotation=30)\n",
    "plt.yticks(range(0,6), month, rotation=\"horizontal\")\n",
    "plt.show()"
   ]
  },
  {
   "cell_type": "markdown",
   "metadata": {},
   "source": [
    "## 승객수"
   ]
  },
  {
   "cell_type": "code",
   "execution_count": null,
   "metadata": {},
   "outputs": [],
   "source": [
    "train['passenger_count'].value_counts()"
   ]
  },
  {
   "cell_type": "code",
   "execution_count": null,
   "metadata": {},
   "outputs": [],
   "source": [
    "print(\"가장 적은 탑승 인원: {}명\".format(train[\"passenger_count\"].min()))\n",
    "print(\"가장 많은 탑승 인원: {}명\".format(train[\"passenger_count\"].max()))"
   ]
  },
  {
   "cell_type": "code",
   "execution_count": null,
   "metadata": {
    "collapsed": true
   },
   "outputs": [],
   "source": [
    "# 승객 수 0명 제거\n",
    "\n",
    "# train = train[train[\"passenger_count\"] != 0]"
   ]
  },
  {
   "cell_type": "code",
   "execution_count": null,
   "metadata": {},
   "outputs": [],
   "source": [
    "plt.figure(figsize=(7, 5))\n",
    "sns.countplot(x='passenger_count', data=train, palette=\"husl\")\n",
    "plt.title(\"Passenger Count Distribution\", fontsize=13)\n",
    "plt.xlabel(\"Passenger Count\")\n",
    "plt.ylabel(\"Number of Trips\")\n",
    "plt.show()"
   ]
  },
  {
   "cell_type": "code",
   "execution_count": null,
   "metadata": {
    "scrolled": true
   },
   "outputs": [],
   "source": [
    "# 아웃라이어 아직 제거하지 않아서 아웃라이어에 영향을 많이 받음\n",
    "\n",
    "plt.figure(figsize=(17, 4))\n",
    "\n",
    "plt.subplot(121)\n",
    "sns.boxplot(x=\"passenger_count\", \n",
    "            y=train[\"trip_duration\"], \n",
    "            data=train,\n",
    "            palette=\"husl\")\n",
    "plt.title(\"Passenger Count & Trip Duration\", fontsize=13)\n",
    "plt.xlabel(\"Passenger Count\")\n",
    "plt.ylabel(\"Trip Duration\")\n",
    "\n",
    "plt.subplot(122)\n",
    "sns.boxplot(x=\"passenger_count\", \n",
    "            y=train[\"trip_duration\"].apply(np.log1p), \n",
    "            data=train,\n",
    "            palette=\"husl\")\n",
    "plt.title(\"Passenger Count & Log Trip Duration\", fontsize=13)\n",
    "plt.xlabel(\"Passenger Count\")\n",
    "plt.ylabel(\"Log of Trip Duration\")\n",
    "\n",
    "plt.show()"
   ]
  },
  {
   "cell_type": "code",
   "execution_count": null,
   "metadata": {},
   "outputs": [],
   "source": [
    "f, (ax1, ax2) = plt.subplots(ncols=2, sharey=True, figsize=(14, 4))\n",
    "\n",
    "sns.boxplot(x=\"passenger_count\", \n",
    "            y=train[\"trip_duration\"].apply(np.log1p), \n",
    "            hue=\"vendor_id\",\n",
    "            data=train,\n",
    "            palette=\"husl\", ax=ax1)\n",
    "\n",
    "ax1.set_xlabel(\"\"); ax1.set_ylabel(\"Log of Trip Duration\")\n",
    "\n",
    "sns.boxplot(x=\"passenger_count\", \n",
    "            y=train[\"trip_duration\"].apply(np.log1p), \n",
    "            hue=\"store_and_fwd_flag\",\n",
    "            data=train,\n",
    "            palette=\"husl\", ax=ax2)\n",
    "ax2.set_xlabel(\"\"); ax2.set_ylabel(\"\")\n",
    "\n",
    "plt.suptitle(\"Passenger Count & Log of Trip Duration\", y=1.05, fontsize=13)\n",
    "plt.tight_layout()\n",
    "f.text(0.5, -0.01, \"Passenger Count\", ha=\"center\")\n",
    "\n",
    "plt.show()"
   ]
  },
  {
   "cell_type": "code",
   "execution_count": null,
   "metadata": {},
   "outputs": [],
   "source": [
    "plt.figure(figsize=(11,3))\n",
    "sns.heatmap(data=pd.crosstab(train[\"passenger_count\"], \n",
    "                             train[\"pickup_hour\"], \n",
    "                             values=train[\"vendor_id\"], \n",
    "                             aggfunc=\"count\",\n",
    "                             normalize=False), cmap=\"RdPu\")\n",
    "plt.title(\"Passenger Count vs. Hours\", fontsize=13)\n",
    "plt.xlabel(\"Pickup Hours (0-23)\")\n",
    "plt.ylabel(\"Passenger Count\")\n",
    "plt.show()"
   ]
  },
  {
   "cell_type": "code",
   "execution_count": null,
   "metadata": {},
   "outputs": [],
   "source": [
    "plt.figure(figsize=(11,3))\n",
    "sns.heatmap(data=pd.crosstab(train[\"passenger_count\"], \n",
    "                             train[\"pickup_month\"], \n",
    "                             values=train[\"vendor_id\"], \n",
    "                             aggfunc=\"count\",\n",
    "                             normalize=False), cmap=\"RdPu\")\n",
    "plt.title(\"Passenger Count vs. Month\", fontsize=13)\n",
    "plt.xlabel(\"Pickup Month\")\n",
    "plt.ylabel(\"Passenger Count\")\n",
    "plt.xticks(range(0,6), month, rotation=30)\n",
    "plt.show()"
   ]
  },
  {
   "cell_type": "markdown",
   "metadata": {
    "collapsed": true
   },
   "source": [
    "### EDA 결과\n",
    "- 승객수 Max 9인, Min 0인 : 0인, 7인이상 삭제 검토 (총 65건)\n",
    "- 승객수 지표 : 1인 승차객이 전체 약 146만 건 중 103만 건의 비중, 2인 승차객 21만건 / 5인 / 3인 순\n",
    "- 승객수&승차시각 : 오전 8시 이후 1인 승차객 중심으로 전 시간대 고른 분포\n",
    "- 승객수&승차요일 : 전반적으로 고른 분포 , 전반적으로 주말보다 수~금 승차건수가 높음\n",
    "- 승객수&운행시간 : 1인 승객이 평균 1~2분정도 짧게 운행. 전반적으로 1000~1100초 (16분대), 탑승객 없는 택시 유일하게 30분 수준 (공항으로 이동?)"
   ]
  },
  {
   "cell_type": "code",
   "execution_count": null,
   "metadata": {
    "collapsed": true
   },
   "outputs": [],
   "source": [
    "import folium\n",
    "import json\n",
    "geo_path = '../dataset/geojson/state.geo.json'\n",
    "geo_str = json.load(open(geo_path, encoding='utf-8'))"
   ]
  },
  {
   "cell_type": "code",
   "execution_count": null,
   "metadata": {
    "collapsed": true
   },
   "outputs": [],
   "source": [
    "# 뉴욕 시 경계를 벗어나는 위/경도 제거\n",
    "\n",
    "# city_long_border = (-74.03, -73.75)\n",
    "# city_lat_border = (40.63, 40.85) \n",
    "\n",
    "train = train[train['pickup_longitude'] <= -73.75]\n",
    "train = train[train['pickup_longitude'] >= -74.03]\n",
    "train = train[train['pickup_latitude'] <= 40.85]\n",
    "train = train[train['pickup_latitude'] >= 40.63]\n",
    "train = train[train['dropoff_longitude'] <= -73.75]\n",
    "train = train[train['dropoff_longitude'] >= -74.03]\n",
    "train = train[train['dropoff_latitude'] <= 40.85]\n",
    "train = train[train['dropoff_latitude'] >= 40.63]"
   ]
  },
  {
   "cell_type": "code",
   "execution_count": null,
   "metadata": {},
   "outputs": [],
   "source": [
    "f, (ax1, ax2) = plt.subplots(1, 2, sharey=True, figsize=(13,8))\n",
    "\n",
    "train.plot(kind=\"scatter\", x=\"pickup_longitude\", y=\"pickup_latitude\",\n",
    "           color=\"yellow\", grid=False, s=.02, alpha=.6, subplots=True, ax=ax1)\n",
    "\n",
    "ax1.set_title(\"Pickups\")\n",
    "ax1.set_facecolor(\"black\")\n",
    "\n",
    "train.plot(kind=\"scatter\", x=\"dropoff_longitude\", y=\"dropoff_latitude\", \n",
    "           color=\"yellow\", grid=False, s=.02, alpha=.6, subplots=True, ax=ax2)\n",
    "\n",
    "ax2.set_title(\"Dropoffs\")\n",
    "ax2.set_facecolor(\"black\") "
   ]
  },
  {
   "cell_type": "code",
   "execution_count": null,
   "metadata": {
    "collapsed": true
   },
   "outputs": [],
   "source": [
    "pickup_lat = tuple(train[\"pickup_latitude\"])\n",
    "pickup_lng = tuple(train[\"pickup_longitude\"])\n",
    "dropoff_lat = tuple(train[\"dropoff_latitude\"])\n",
    "dropoff_lng = tuple(train[\"dropoff_longitude\"])"
   ]
  },
  {
   "cell_type": "code",
   "execution_count": null,
   "metadata": {
    "collapsed": true
   },
   "outputs": [],
   "source": [
    "pickup_loc = tuple(zip(pickup_lat, pickup_lng))\n",
    "dropoff_loc = tuple(zip(dropoff_lat, dropoff_lng))"
   ]
  },
  {
   "cell_type": "code",
   "execution_count": null,
   "metadata": {},
   "outputs": [],
   "source": [
    "print(len(pickup_loc))\n",
    "print(len(dropoff_loc))"
   ]
  },
  {
   "cell_type": "code",
   "execution_count": null,
   "metadata": {},
   "outputs": [],
   "source": [
    "# append가 아니라 전체 컬럼으로 바로 \n",
    "# vincenty distacne\n",
    "import geopy.distance\n",
    "from tqdm import tqdm_notebook\n",
    "\n",
    "vincenty_distance = []\n",
    "for i in tqdm_notebook(range(len(pickup_loc))):\n",
    "    vincenty_distance.append(geopy.distance.vincenty(pickup_loc[i], dropoff_loc[i]).km)"
   ]
  },
  {
   "cell_type": "code",
   "execution_count": null,
   "metadata": {},
   "outputs": [],
   "source": [
    "train.loc[:, \"vincenty_distance\"] = vincenty_distance\n",
    "train.loc[:, [\"id\", \"vincenty_distance\"]].tail()"
   ]
  },
  {
   "cell_type": "code",
   "execution_count": null,
   "metadata": {
    "collapsed": true
   },
   "outputs": [],
   "source": [
    "train[\"log_duration\"] = np.log1p(train[\"trip_duration\"])\n",
    "train[\"log_vincenty_distance\"] = np.log1p(train[\"vincenty_distance\"])"
   ]
  },
  {
   "cell_type": "code",
   "execution_count": null,
   "metadata": {},
   "outputs": [],
   "source": [
    "plt.figure(figsize=(7, 5))\n",
    "plt.scatter(train.log_vincenty_distance, train.log_duration, alpha=0.05)\n",
    "plt.ylabel(\"log(Trip Duration)\")\n",
    "plt.xlabel(\"log(Vincenty Distance)\")\n",
    "plt.title(\"log(Vincenty Distance) vs log(Trip Duration)\");"
   ]
  },
  {
   "cell_type": "code",
   "execution_count": null,
   "metadata": {},
   "outputs": [],
   "source": [
    "sns.jointplot(x=\"log_vincenty_distance\", y=\"log_duration\", data=train);"
   ]
  },
  {
   "cell_type": "code",
   "execution_count": null,
   "metadata": {
    "collapsed": true
   },
   "outputs": [],
   "source": [
    "# taxi[\"pickup_datetime\"] = pd.to_datetime(taxi.pickup_datetime)\n",
    "\n",
    "# taxi.loc[:, \"pickup_weekday\"] = taxi[\"pickup_datetime\"].dt.weekday\n",
    "# taxi.loc[:, \"pickup_hour_weekofyear\"] = taxi[\"pickup_datetime\"].dt.weekofyear\n",
    "# taxi.loc[:, \"pickup_hour\"] = taxi[\"pickup_datetime\"].dt.hour\n",
    "# taxi.loc[:, \"pickup_minute\"] = taxi[\"pickup_datetime\"].dt.minute\n",
    "# taxi.loc[:, \"pickup_dt\"] = (taxi[\"pickup_datetime\"] - taxi[\"pickup_datetime\"].min()).dt.total_seconds()\n"
   ]
  },
  {
   "cell_type": "code",
   "execution_count": null,
   "metadata": {},
   "outputs": [],
   "source": [
    "train.loc[:, \"pickup_week_hour\"] = train[\"pickup_weekday\"] * 24 + train[\"pickup_hour\"]\n",
    "train.loc[:, \"avg_speed_h\"] = 1000 * train[\"vincenty_distance\"] / train[\"trip_duration\"]\n",
    "\n",
    "fig, (ax1, ax2, ax3) = plt.subplots(ncols=3, sharey=True, figsize=(13, 6))\n",
    "\n",
    "ax1.plot(train.groupby(\"pickup_hour\").mean()[\"avg_speed_h\"], 'bo-', lw=2, alpha=0.7)\n",
    "ax2.plot(train.groupby(\"pickup_weekday\").mean()[\"avg_speed_h\"], 'go-', lw=2, alpha=0.7)\n",
    "ax3.plot(train.groupby(\"pickup_week_hour\").mean()[\"avg_speed_h\"], 'ro-', lw=2, alpha=0.7)\n",
    "\n",
    "ax1.set_xlabel(\"Hour\")\n",
    "ax2.set_xlabel(\"Weekday\")\n",
    "ax3.set_xlabel(\"Weekhour\")\n",
    "\n",
    "ax1.set_ylabel(\"Average Speed (km/h)\")\n",
    "fig.suptitle(\"Rush hour average traffic speed\")\n",
    "plt.show()"
   ]
  },
  {
   "cell_type": "markdown",
   "metadata": {},
   "source": [
    "파라미터\n",
    "\n",
    "- 이동 거리\n",
    "- 시간대별\n",
    "\n",
    "\n",
    "- 승/하차 위치 (맨하탄 내부 / 맨하탄 내외부(특히 공항))\n",
    "- 스피드\n",
    "- 승객 수\n",
    "\n",
    "- 가장 큰 영향을 미치는 변수 확인 (아직 안 배움)\n",
    "- 코드 깔끔히"
   ]
  },
  {
   "cell_type": "markdown",
   "metadata": {
    "collapsed": true
   },
   "source": [
    "### 속도와 duration간의 상관관계"
   ]
  },
  {
   "cell_type": "code",
   "execution_count": null,
   "metadata": {
    "scrolled": true
   },
   "outputs": [],
   "source": [
    "train_hour = train.loc[:, [\"pickup_hour\", \"avg_speed_h\", \"trip_duration\"]]\n",
    "train_hour[\"trip_duration\"] = train_hour[\"trip_duration\"] / 60\n",
    "train_hour = train_hour.groupby(\"pickup_hour\").mean()\n",
    "train_hour.tail()"
   ]
  },
  {
   "cell_type": "code",
   "execution_count": null,
   "metadata": {},
   "outputs": [],
   "source": [
    "train_hour.plot(figsize=(7, 5))\n",
    "plt.legend(loc='best')\n",
    "plt.show()"
   ]
  },
  {
   "cell_type": "code",
   "execution_count": null,
   "metadata": {},
   "outputs": [],
   "source": [
    "corr = train_hour.corr()\n",
    "sns.heatmap(corr, cmap=\"RdPu\");"
   ]
  },
  {
   "cell_type": "code",
   "execution_count": null,
   "metadata": {},
   "outputs": [],
   "source": [
    "np.corrcoef(train_hour.avg_speed_h, train_hour.trip_duration)"
   ]
  },
  {
   "cell_type": "code",
   "execution_count": null,
   "metadata": {
    "collapsed": true
   },
   "outputs": [],
   "source": [
    "corr_matt = train[[\"pickup_datetime\", \"pickup_hour\",\n",
    "                   \"pickup_month\", \"pickup_weekday\",\n",
    "                   \"log_vincenty_distance\", \"log_duration\"]]"
   ]
  },
  {
   "cell_type": "code",
   "execution_count": null,
   "metadata": {},
   "outputs": [],
   "source": [
    "corr_matt.head()"
   ]
  },
  {
   "cell_type": "code",
   "execution_count": null,
   "metadata": {
    "collapsed": true
   },
   "outputs": [],
   "source": [
    "corr_matt = corr_matt.corr()\n",
    "\n",
    "mask = np.array(corr_matt)\n",
    "mask[np.tril_indices_from(mask)] = False"
   ]
  },
  {
   "cell_type": "code",
   "execution_count": null,
   "metadata": {},
   "outputs": [],
   "source": [
    "corr_matt.head()"
   ]
  },
  {
   "cell_type": "code",
   "execution_count": null,
   "metadata": {},
   "outputs": [],
   "source": [
    "fig, ax = plt.subplots()\n",
    "fig.set_size_inches(14, 7)\n",
    "sns.heatmap(corr_matt, mask=mask, vmax=.8, annot=True, square=True, cmap=\"RdPu\")\n",
    "plt.show()"
   ]
  },
  {
   "cell_type": "code",
   "execution_count": null,
   "metadata": {
    "collapsed": true
   },
   "outputs": [],
   "source": [
    "tmp = train[[\"trip_duration\", \"pickup_datetime\"]]\n",
    "tmp.head()"
   ]
  }
 ],
 "metadata": {
  "kernelspec": {
   "display_name": "Python 3",
   "language": "python",
   "name": "python3"
  },
  "language_info": {
   "codemirror_mode": {
    "name": "ipython",
    "version": 3
   },
   "file_extension": ".py",
   "mimetype": "text/x-python",
   "name": "python",
   "nbconvert_exporter": "python",
   "pygments_lexer": "ipython3",
   "version": "3.6.3"
  }
 },
 "nbformat": 4,
 "nbformat_minor": 2
}

{
 "cells": [
  {
   "cell_type": "code",
   "execution_count": 1,
   "metadata": {},
   "outputs": [],
   "source": [
    "result_sets = pd.DataFrame(columns = [\"R square\", \"AIC\", \"BIC\", \"P_fstatics\", \"P_omnibus\", \"P_jb\", \"Cond_no\", \"changed\"])"
   ]
  },
  {
   "cell_type": "code",
   "execution_count": 2,
   "metadata": {},
   "outputs": [],
   "source": [
    "def storage(result, change) :\n",
    "    \"\"\"\n",
    "    회귀분석 결과 모음 \n",
    "    \n",
    "    전역변수로 아래 데이터 프레임 선언\n",
    "    result_sets = pd.DataFrame(columns = [\"R square\", \"AIC\", \"BIC\", \"P_fstatics\", \"P_omnibus\", \"P_jb\", \"Cond_no\", \"changed\"])\n",
    "\n",
    "    Variables_name.fit() 상태로 삽입\n",
    "    ex)result = model.fit() 이면\n",
    "    result를 삽입    \n",
    "    \n",
    "    \n",
    "    change = 이전 데이터 셋에서 무엇을 변화시켰는지 적을 것.\n",
    "    \"\"\"    \n",
    "    \n",
    "\n",
    "    summary = result.summary()\n",
    "    \n",
    "    t1 = summary.tables[0]\n",
    "    t2 = summary.tables[1]\n",
    "    t3 = summary.tables[2]\n",
    "\n",
    "    r_squared = float(t1.data[0][3])\n",
    "    p_fstatics = float(t1.data[3][3])\n",
    "    \n",
    "    p_omnibus = float(t3.data[1][1])\n",
    "    p_jb = float(t3.data[2][3])\n",
    "    con = float(t3.data[3][3])\n",
    "    \n",
    "    put = {\n",
    "        \"R square\" : r_squared,\n",
    "        \"AIC\" : result.aic,\n",
    "        \"BIC\" : result.bic,\n",
    "        \"P_fstatics\" : p_fstatics,\n",
    "        \"P_omnibus\" : p_omnibus,\n",
    "        \"P_jb\" : p_jb,\n",
    "        \"Cond_no\" : con, \n",
    "        \"changed\" : change,\n",
    "    }\n",
    "    \n",
    "    result_sets.loc[len(result_sets)] = put"
   ]
  },
  {
   "cell_type": "code",
   "execution_count": 3,
   "metadata": {},
   "outputs": [],
   "source": [
    "def total_features() :\n",
    "    return int(result.summary().tables[0].data[7][1])"
   ]
  },
  {
   "cell_type": "code",
   "execution_count": null,
   "metadata": {},
   "outputs": [],
   "source": []
  }
 ],
 "metadata": {
  "kernelspec": {
   "display_name": "Python 3",
   "language": "python",
   "name": "python3"
  },
  "language_info": {
   "codemirror_mode": {
    "name": "ipython",
    "version": 3
   },
   "file_extension": ".py",
   "mimetype": "text/x-python",
   "name": "python",
   "nbconvert_exporter": "python",
   "pygments_lexer": "ipython3",
   "version": "3.6.3"
  }
 },
 "nbformat": 4,
 "nbformat_minor": 2
}
